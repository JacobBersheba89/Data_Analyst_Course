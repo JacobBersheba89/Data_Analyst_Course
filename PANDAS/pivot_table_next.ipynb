{
 "cells": [
  {
   "cell_type": "markdown",
   "metadata": {},
   "source": [
    "<h1><span style=\"color:lightgreen\">Pivot table</h1></span>\n",
    "<h4><span style=\"color:lightgreen\">Instructions:</h4></span>\n",
    "Using the data from the <a>product_prices_cleaned.csv</a> file do the following:\n",
    "\n",
    "- Create a pivot table so that the rows hold years, and columns have names of goods. Use the average price of the product as the value.\n",
    "- Using lambda and pivot_table, recreate the view of the data discussed during the lecture. Analyse the result of the recreation. What can you say about what was passed to the function?\n",
    "- Using pivot_table, see how the mean and median prices in the product groups were shaped across years (many functions can be passed as a list).\n",
    "\n",
    "\n",
    "<h4>Subsection 2 hint:</h4>\n",
    "Code from the lecture:<br>\n",
    "<a>pd.pivot(data=df, index=['province', 'product'], columns=['date'], values=['value'])<a>\n",
    "\n"
   ]
  },
  {
   "cell_type": "code",
   "execution_count": 1,
   "metadata": {},
   "outputs": [
    {
     "name": "stdout",
     "output_type": "stream",
     "text": [
      "Requirement already satisfied: openpyxl in c:\\users\\martinpc\\anaconda3\\lib\\site-packages (3.1.2)\n",
      "Requirement already satisfied: et-xmlfile in c:\\users\\martinpc\\anaconda3\\lib\\site-packages (from openpyxl) (1.1.0)\n",
      "Note: you may need to restart the kernel to use updated packages.\n"
     ]
    }
   ],
   "source": [
    "pip install openpyxl" 
   ]
  },
  {
   "cell_type": "code",
   "execution_count": 4,
   "metadata": {},
   "outputs": [
    {
     "name": "stdout",
     "output_type": "stream",
     "text": [
      "            province product_types currency  product_group_id  \\\n",
      "0       SUBCARPATHIA           NaN      PLN                 2   \n",
      "1               ŁÓDŹ           NaN      PLN                 4   \n",
      "2  KUYAVIA-POMERANIA           NaN      PLN                 2   \n",
      "3      LOWER SILESIA           NaN      PLN                 2   \n",
      "4     WARMIA-MASURIA           NaN      PLN                 2   \n",
      "\n",
      "                      product_line  value     date  \\\n",
      "0        pork ham cooked - per 1kg  21.37   2013-3   \n",
      "1                  bread - per 1kg    NaN   2018-2   \n",
      "2  barley groats sausage - per 1kg   3.55  2019-12   \n",
      "3       dressed chickens - per 1kg   6.14   2019-2   \n",
      "4    Italian head cheese - per 1kg   5.63   2002-3   \n",
      "\n",
      "                           product  \n",
      "0        pork ham cooked - per 1kg  \n",
      "1                  bread - per 1kg  \n",
      "2  barley groats sausage - per 1kg  \n",
      "3       dressed chickens - per 1kg  \n",
      "4    Italian head cheese - per 1kg  \n"
     ]
    }
   ],
   "source": [
    "import pandas as pd\n",
    "\n",
    "data = pd.read_csv('C:\\\\Users\\\\MartinPC\\\\Desktop\\\\Kuba kurz\\\\01_Data\\\\product_prices_cleaned.csv', sep=';')\n",
    "\n",
    "print(data.head())"
   ]
  },
  {
   "cell_type": "code",
   "execution_count": 8,
   "metadata": {},
   "outputs": [
    {
     "name": "stdout",
     "output_type": "stream",
     "text": [
      "                 province  product_types currency  product_group_id  \\\n",
      "0            SUBCARPATHIA  Non available      PLN                 2   \n",
      "2       KUYAVIA-POMERANIA  Non available      PLN                 2   \n",
      "3           LOWER SILESIA  Non available      PLN                 2   \n",
      "4          WARMIA-MASURIA  Non available      PLN                 2   \n",
      "7                  POLAND  Non available      PLN                 2   \n",
      "...                   ...            ...      ...               ...   \n",
      "128497            MASOVIA  Non available      PLN                 2   \n",
      "128498            SILESIA  Non available      PLN                 2   \n",
      "128499            SILESIA  Non available      PLN                 2   \n",
      "128500  KUYAVIA-POMERANIA  Non available      PLN                 2   \n",
      "128502     WARMIA-MASURIA  Non available      PLN                 2   \n",
      "\n",
      "                                 product_line  value     date  \\\n",
      "0                   pork ham cooked - per 1kg  21.37   2013-3   \n",
      "2             barley groats sausage - per 1kg   3.55  2019-12   \n",
      "3                  dressed chickens - per 1kg   6.14   2019-2   \n",
      "4               Italian head cheese - per 1kg   5.63   2002-3   \n",
      "7                 pork belly cooked - per 1kg  19.62   2017-3   \n",
      "...                                       ...    ...      ...   \n",
      "128497  salted herring, non-dressed - per 1kg   0.00   2001-3   \n",
      "128498       smoked bacon with ribs - per 1kg  15.95   2015-9   \n",
      "128499        barley groats sausage - per 1kg   4.50   2004-8   \n",
      "128500       pork  meat (raw bacon) - per 1kg  12.15  2016-11   \n",
      "128502      boneless beef (sirloin) - per 1kg  11.87  2000-11   \n",
      "\n",
      "                                      product  \n",
      "0                   pork ham cooked - per 1kg  \n",
      "2             barley groats sausage - per 1kg  \n",
      "3                  dressed chickens - per 1kg  \n",
      "4               Italian head cheese - per 1kg  \n",
      "7                 pork belly cooked - per 1kg  \n",
      "...                                       ...  \n",
      "128497  salted herring, non-dressed - per 1kg  \n",
      "128498       smoked bacon with ribs - per 1kg  \n",
      "128499        barley groats sausage - per 1kg  \n",
      "128500       pork  meat (raw bacon) - per 1kg  \n",
      "128502      boneless beef (sirloin) - per 1kg  \n",
      "\n",
      "[85680 rows x 8 columns]\n"
     ]
    }
   ],
   "source": [
    "data = data.drop_duplicates()\n",
    "data['product_types'] = data['product_types'].fillna('Non available')\n",
    "data = data.dropna()\n",
    "print(data)\n"
   ]
  },
  {
   "cell_type": "code",
   "execution_count": null,
   "metadata": {},
   "outputs": [],
   "source": [
    "data = pd.read_csv('C:\\\\Users\\\\MartinPC\\\\Desktop\\\\Kuba kurz\\\\01_Data\\\\product_prices_cleaned.csv', sep=';')\n",
    "\n",
    "# Počet řádků před odstraněním duplicit a chybějících hodnot\n",
    "initial_row_count = len(data)\n",
    "\n",
    "# Odstranění duplicitních řádků\n",
    "data = data.drop_duplicates()\n",
    "\n",
    "# Počet řádků po úpravách\n",
    "final_row_count = len(data)\n",
    "\n",
    "# Spočítání, kolik řádků bylo odstraněno\n",
    "removed_rows = initial_row_count - final_row_count\n",
    "\n",
    "print(f\"Počet odstraněných řádků: {removed_rows}\")\n",
    "\n",
    "print(data)"
   ]
  },
  {
   "cell_type": "code",
   "execution_count": 13,
   "metadata": {},
   "outputs": [
    {
     "name": "stdout",
     "output_type": "stream",
     "text": [
      "['province', 'product_types', 'currency', 'product_group_id', 'product_line', 'value', 'date', 'product', 'year']\n"
     ]
    }
   ],
   "source": [
    "print(data.columns.tolist())"
   ]
  },
  {
   "cell_type": "code",
   "execution_count": 19,
   "metadata": {},
   "outputs": [
    {
     "name": "stdout",
     "output_type": "stream",
     "text": [
      "128503\n"
     ]
    }
   ],
   "source": [
    "# data['date].astype(str) - převede sloupec data na stringy.. \n",
    "# .str[0] - po rozdělení stringu na dvě hodnoty, které mohou být rozděleny '-' se vezme jen první hodnota\n",
    "data['year'] = data['date'].astype(str).str.split('-').str[0]\n",
    "\n",
    "# Vytvoření pivotní tabulky\n",
    "pivot_table = data.pivot_table(index='year', columns='product', values='value', aggfunc='mean')\n",
    "\n",
    "# Zobrazení pivotní tabulky\n",
    "print(len(data))"
   ]
  },
  {
   "cell_type": "markdown",
   "metadata": {},
   "source": [
    "***created pivot table with just year row and average value of name colmn 'value'***"
   ]
  },
  {
   "cell_type": "code",
   "execution_count": 25,
   "metadata": {},
   "outputs": [
    {
     "name": "stdout",
     "output_type": "stream",
     "text": [
      "    year     value\n",
      "0   1999  5.177460\n",
      "1   2000  5.539797\n",
      "2   2001  5.666311\n",
      "3   2002  5.376308\n",
      "4   2003  5.493392\n",
      "5   2004  5.960060\n",
      "6   2005  6.024055\n",
      "7   2006  6.126451\n",
      "8   2007  6.385495\n",
      "9   2008  6.832218\n",
      "10  2009  7.053836\n",
      "11  2010  7.158866\n",
      "12  2011  7.745051\n",
      "13  2012  8.247278\n",
      "14  2013  8.330380\n",
      "15  2014  8.220567\n",
      "16  2015  8.187792\n",
      "17  2016  8.423526\n",
      "18  2017  8.575474\n",
      "19  2018  8.760664\n",
      "20  2019  7.317223\n"
     ]
    }
   ],
   "source": [
    "data['year'] = data['date'].astype(str).str.split('-').str[0]\n",
    "\n",
    "# Skupina podle roku a výpočet průměrné hodnoty pro každý rok\n",
    "# Funkce mean() automaticky provádí výpočet průměru\n",
    "average_values_per_year = data.groupby('year')['value'].mean().reset_index()\n",
    "\n",
    "# Výpis průměrných hodnot pro každý rok\n",
    "print(average_values_per_year)"
   ]
  },
  {
   "cell_type": "code",
   "execution_count": 40,
   "metadata": {},
   "outputs": [
    {
     "data": {
      "image/png": "[encoded data removed]",
      "text/plain": [
       "<Figure size 600x300 with 1 Axes>"
      ]
     },
     "metadata": {},
     "output_type": "display_data"
    }
   ],
   "source": [
    "import matplotlib.pyplot as plt\n",
    "\n",
    "plt.figure(figsize=(6, 3))\n",
    "plt.bar(average_values_per_year['year'], average_values_per_year['value'], color='skyblue')\n",
    "\n",
    "# Přidání názvů a titulků\n",
    "plt.xlabel('Year')\n",
    "plt.ylabel('Average Value')\n",
    "plt.title('Average Product Prices per Year')\n",
    "plt.xticks(rotation=50)  # vyrotování osy X pro lepší čitelnost let\n",
    "plt.tight_layout()\n",
    "\n",
    "# Zobrazení grafu\n",
    "plt.show()"
   ]
  },
  {
   "cell_type": "code",
   "execution_count": null,
   "metadata": {},
   "outputs": [],
   "source": []
  }
 ],
 "metadata": {
  "kernelspec": {
   "display_name": "base",
   "language": "python",
   "name": "python3"
  },
  "language_info": {
   "codemirror_mode": {
    "name": "ipython",
    "version": 3
   },
   "file_extension": ".py",
   "mimetype": "text/x-python",
   "name": "python",
   "nbconvert_exporter": "python",
   "pygments_lexer": "ipython3",
   "version": "3.12.4"
  }
 },
 "nbformat": 4,
 "nbformat_minor": 2
}
