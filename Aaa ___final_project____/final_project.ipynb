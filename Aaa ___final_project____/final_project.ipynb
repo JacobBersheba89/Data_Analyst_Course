{
 "cells": [
  {
   "cell_type": "markdown",
   "metadata": {},
   "source": [
    "## FINAL PROJECT ##\n",
    "<h3><b><span style=\"color: #16a085 ;\">tasks are always written before individual python code. <br>\n",
    "please read carefully..</span>\n"
   ]
  },
  {
   "cell_type": "markdown",
   "metadata": {},
   "source": [
    "<h3><b><span style=\"color:rgb(156, 105, 38) ;\"> <<<< 0 >>>> <br>installation of all necessary libraries<br>\n",
    "at the beginning I had a big problem and I had to reinstall the whole VS studio and then also find the python kernel.. that didn't happen to me during the entire course.. wow, Marfi's law really does exist...</span>"
   ]
  },
  {
   "cell_type": "code",
   "execution_count": null,
   "metadata": {},
   "outputs": [
    {
     "name": "stdout",
     "output_type": "stream",
     "text": [
      "Requirement already satisfied: seaborn in c:\\users\\martinpc\\appdata\\local\\packages\\pythonsoftwarefoundation.python.3.11_qbz5n2kfra8p0\\localcache\\local-packages\\python311\\site-packages (0.13.2)\n",
      "Requirement already satisfied: numpy!=1.24.0,>=1.20 in c:\\users\\martinpc\\appdata\\local\\packages\\pythonsoftwarefoundation.python.3.11_qbz5n2kfra8p0\\localcache\\local-packages\\python311\\site-packages (from seaborn) (2.2.2)\n",
      "Requirement already satisfied: pandas>=1.2 in c:\\users\\martinpc\\appdata\\local\\packages\\pythonsoftwarefoundation.python.3.11_qbz5n2kfra8p0\\localcache\\local-packages\\python311\\site-packages (from seaborn) (2.2.3)\n",
      "Requirement already satisfied: matplotlib!=3.6.1,>=3.4 in c:\\users\\martinpc\\appdata\\local\\packages\\pythonsoftwarefoundation.python.3.11_qbz5n2kfra8p0\\localcache\\local-packages\\python311\\site-packages (from seaborn) (3.10.0)\n",
      "Requirement already satisfied: contourpy>=1.0.1 in c:\\users\\martinpc\\appdata\\local\\packages\\pythonsoftwarefoundation.python.3.11_qbz5n2kfra8p0\\localcache\\local-packages\\python311\\site-packages (from matplotlib!=3.6.1,>=3.4->seaborn) (1.3.1)\n",
      "Requirement already satisfied: cycler>=0.10 in c:\\users\\martinpc\\appdata\\local\\packages\\pythonsoftwarefoundation.python.3.11_qbz5n2kfra8p0\\localcache\\local-packages\\python311\\site-packages (from matplotlib!=3.6.1,>=3.4->seaborn) (0.12.1)\n",
      "Requirement already satisfied: fonttools>=4.22.0 in c:\\users\\martinpc\\appdata\\local\\packages\\pythonsoftwarefoundation.python.3.11_qbz5n2kfra8p0\\localcache\\local-packages\\python311\\site-packages (from matplotlib!=3.6.1,>=3.4->seaborn) (4.55.8)\n",
      "Requirement already satisfied: kiwisolver>=1.3.1 in c:\\users\\martinpc\\appdata\\local\\packages\\pythonsoftwarefoundation.python.3.11_qbz5n2kfra8p0\\localcache\\local-packages\\python311\\site-packages (from matplotlib!=3.6.1,>=3.4->seaborn) (1.4.8)\n",
      "Requirement already satisfied: packaging>=20.0 in c:\\users\\martinpc\\appdata\\local\\packages\\pythonsoftwarefoundation.python.3.11_qbz5n2kfra8p0\\localcache\\local-packages\\python311\\site-packages (from matplotlib!=3.6.1,>=3.4->seaborn) (24.2)\n",
      "Requirement already satisfied: pillow>=8 in c:\\users\\martinpc\\appdata\\local\\packages\\pythonsoftwarefoundation.python.3.11_qbz5n2kfra8p0\\localcache\\local-packages\\python311\\site-packages (from matplotlib!=3.6.1,>=3.4->seaborn) (11.1.0)\n",
      "Requirement already satisfied: pyparsing>=2.3.1 in c:\\users\\martinpc\\appdata\\local\\packages\\pythonsoftwarefoundation.python.3.11_qbz5n2kfra8p0\\localcache\\local-packages\\python311\\site-packages (from matplotlib!=3.6.1,>=3.4->seaborn) (3.2.1)\n",
      "Requirement already satisfied: python-dateutil>=2.7 in c:\\users\\martinpc\\appdata\\local\\packages\\pythonsoftwarefoundation.python.3.11_qbz5n2kfra8p0\\localcache\\local-packages\\python311\\site-packages (from matplotlib!=3.6.1,>=3.4->seaborn) (2.9.0.post0)\n",
      "Requirement already satisfied: pytz>=2020.1 in c:\\users\\martinpc\\appdata\\local\\packages\\pythonsoftwarefoundation.python.3.11_qbz5n2kfra8p0\\localcache\\local-packages\\python311\\site-packages (from pandas>=1.2->seaborn) (2025.1)\n",
      "Requirement already satisfied: tzdata>=2022.7 in c:\\users\\martinpc\\appdata\\local\\packages\\pythonsoftwarefoundation.python.3.11_qbz5n2kfra8p0\\localcache\\local-packages\\python311\\site-packages (from pandas>=1.2->seaborn) (2025.1)\n",
      "Requirement already satisfied: six>=1.5 in c:\\users\\martinpc\\appdata\\local\\packages\\pythonsoftwarefoundation.python.3.11_qbz5n2kfra8p0\\localcache\\local-packages\\python311\\site-packages (from python-dateutil>=2.7->matplotlib!=3.6.1,>=3.4->seaborn) (1.17.0)\n",
      "Note: you may need to restart the kernel to use updated packages.\n"
     ]
    },
    {
     "name": "stderr",
     "output_type": "stream",
     "text": [
      "\n",
      "[notice] A new release of pip is available: 24.0 -> 25.0\n",
      "[notice] To update, run: C:\\Users\\MartinPC\\AppData\\Local\\Microsoft\\WindowsApps\\PythonSoftwareFoundation.Python.3.11_qbz5n2kfra8p0\\python.exe -m pip install --upgrade pip\n"
     ]
    }
   ],
   "source": [
    "pip install seaborn"
   ]
  },
  {
   "cell_type": "code",
   "execution_count": 24,
   "metadata": {},
   "outputs": [
    {
     "name": "stdout",
     "output_type": "stream",
     "text": [
      "Requirement already satisfied: matplotlib in c:\\users\\martinpc\\appdata\\local\\packages\\pythonsoftwarefoundation.python.3.11_qbz5n2kfra8p0\\localcache\\local-packages\\python311\\site-packages (3.10.0)\n",
      "Requirement already satisfied: contourpy>=1.0.1 in c:\\users\\martinpc\\appdata\\local\\packages\\pythonsoftwarefoundation.python.3.11_qbz5n2kfra8p0\\localcache\\local-packages\\python311\\site-packages (from matplotlib) (1.3.1)\n",
      "Requirement already satisfied: cycler>=0.10 in c:\\users\\martinpc\\appdata\\local\\packages\\pythonsoftwarefoundation.python.3.11_qbz5n2kfra8p0\\localcache\\local-packages\\python311\\site-packages (from matplotlib) (0.12.1)\n",
      "Requirement already satisfied: fonttools>=4.22.0 in c:\\users\\martinpc\\appdata\\local\\packages\\pythonsoftwarefoundation.python.3.11_qbz5n2kfra8p0\\localcache\\local-packages\\python311\\site-packages (from matplotlib) (4.55.8)\n",
      "Requirement already satisfied: kiwisolver>=1.3.1 in c:\\users\\martinpc\\appdata\\local\\packages\\pythonsoftwarefoundation.python.3.11_qbz5n2kfra8p0\\localcache\\local-packages\\python311\\site-packages (from matplotlib) (1.4.8)\n",
      "Requirement already satisfied: numpy>=1.23 in c:\\users\\martinpc\\appdata\\local\\packages\\pythonsoftwarefoundation.python.3.11_qbz5n2kfra8p0\\localcache\\local-packages\\python311\\site-packages (from matplotlib) (2.2.2)\n",
      "Requirement already satisfied: packaging>=20.0 in c:\\users\\martinpc\\appdata\\local\\packages\\pythonsoftwarefoundation.python.3.11_qbz5n2kfra8p0\\localcache\\local-packages\\python311\\site-packages (from matplotlib) (24.2)\n",
      "Requirement already satisfied: pillow>=8 in c:\\users\\martinpc\\appdata\\local\\packages\\pythonsoftwarefoundation.python.3.11_qbz5n2kfra8p0\\localcache\\local-packages\\python311\\site-packages (from matplotlib) (11.1.0)\n",
      "Requirement already satisfied: pyparsing>=2.3.1 in c:\\users\\martinpc\\appdata\\local\\packages\\pythonsoftwarefoundation.python.3.11_qbz5n2kfra8p0\\localcache\\local-packages\\python311\\site-packages (from matplotlib) (3.2.1)\n",
      "Requirement already satisfied: python-dateutil>=2.7 in c:\\users\\martinpc\\appdata\\local\\packages\\pythonsoftwarefoundation.python.3.11_qbz5n2kfra8p0\\localcache\\local-packages\\python311\\site-packages (from matplotlib) (2.9.0.post0)\n",
      "Requirement already satisfied: six>=1.5 in c:\\users\\martinpc\\appdata\\local\\packages\\pythonsoftwarefoundation.python.3.11_qbz5n2kfra8p0\\localcache\\local-packages\\python311\\site-packages (from python-dateutil>=2.7->matplotlib) (1.17.0)\n",
      "Note: you may need to restart the kernel to use updated packages.\n"
     ]
    },
    {
     "name": "stderr",
     "output_type": "stream",
     "text": [
      "\n",
      "[notice] A new release of pip is available: 24.0 -> 25.0\n",
      "[notice] To update, run: C:\\Users\\MartinPC\\AppData\\Local\\Microsoft\\WindowsApps\\PythonSoftwareFoundation.Python.3.11_qbz5n2kfra8p0\\python.exe -m pip install --upgrade pip\n"
     ]
    }
   ],
   "source": [
    "pip install matplotlib"
   ]
  },
  {
   "cell_type": "code",
   "execution_count": 4,
   "metadata": {},
   "outputs": [
    {
     "name": "stdout",
     "output_type": "stream",
     "text": [
      "Collecting plotly\n",
      "  Downloading plotly-6.0.0-py3-none-any.whl.metadata (5.6 kB)\n",
      "Collecting narwhals>=1.15.1 (from plotly)\n",
      "  Downloading narwhals-1.24.2-py3-none-any.whl.metadata (10 kB)\n",
      "Requirement already satisfied: packaging in c:\\users\\martinpc\\appdata\\local\\packages\\pythonsoftwarefoundation.python.3.11_qbz5n2kfra8p0\\localcache\\local-packages\\python311\\site-packages (from plotly) (24.2)\n",
      "Downloading plotly-6.0.0-py3-none-any.whl (14.8 MB)\n",
      "   ---------------------------------------- 0.0/14.8 MB ? eta -:--:--\n",
      "   ---------------------------------------- 0.0/14.8 MB ? eta -:--:--\n",
      "   ---------------------------------------- 0.1/14.8 MB 656.4 kB/s eta 0:00:23\n",
      "   ---------------------------------------- 0.1/14.8 MB 563.7 kB/s eta 0:00:27\n",
      "   ---------------------------------------- 0.1/14.8 MB 654.9 kB/s eta 0:00:23\n",
      "    --------------------------------------- 0.2/14.8 MB 908.0 kB/s eta 0:00:17\n",
      "    --------------------------------------- 0.3/14.8 MB 983.0 kB/s eta 0:00:15\n",
      "    --------------------------------------- 0.3/14.8 MB 999.9 kB/s eta 0:00:15\n",
      "    --------------------------------------- 0.3/14.8 MB 999.0 kB/s eta 0:00:15\n",
      "   - -------------------------------------- 0.4/14.8 MB 1.0 MB/s eta 0:00:15\n",
      "   - -------------------------------------- 0.5/14.8 MB 1.0 MB/s eta 0:00:15\n",
      "   - -------------------------------------- 0.6/14.8 MB 1.1 MB/s eta 0:00:14\n",
      "   - -------------------------------------- 0.6/14.8 MB 1.0 MB/s eta 0:00:14\n",
      "   - -------------------------------------- 0.6/14.8 MB 1.0 MB/s eta 0:00:14\n",
      "   - -------------------------------------- 0.7/14.8 MB 1.0 MB/s eta 0:00:14\n",
      "   - -------------------------------------- 0.7/14.8 MB 1.0 MB/s eta 0:00:14\n",
      "   -- ------------------------------------- 0.8/14.8 MB 1.0 MB/s eta 0:00:14\n",
      "   -- ------------------------------------- 0.8/14.8 MB 1.0 MB/s eta 0:00:14\n",
      "   -- ------------------------------------- 0.9/14.8 MB 1.0 MB/s eta 0:00:14\n",
      "   -- ------------------------------------- 0.9/14.8 MB 1.0 MB/s eta 0:00:14\n",
      "   -- ------------------------------------- 1.0/14.8 MB 1.0 MB/s eta 0:00:14\n",
      "   -- ------------------------------------- 1.0/14.8 MB 1.0 MB/s eta 0:00:14\n",
      "   -- ------------------------------------- 1.1/14.8 MB 997.6 kB/s eta 0:00:14\n",
      "   -- ------------------------------------- 1.1/14.8 MB 1.0 MB/s eta 0:00:14\n",
      "   --- ------------------------------------ 1.1/14.8 MB 1.0 MB/s eta 0:00:14\n",
      "   --- ------------------------------------ 1.2/14.8 MB 1.0 MB/s eta 0:00:14\n",
      "   --- ------------------------------------ 1.3/14.8 MB 1.0 MB/s eta 0:00:14\n",
      "   --- ------------------------------------ 1.3/14.8 MB 1.0 MB/s eta 0:00:14\n",
      "   --- ------------------------------------ 1.4/14.8 MB 1.0 MB/s eta 0:00:14\n",
      "   --- ------------------------------------ 1.4/14.8 MB 1.0 MB/s eta 0:00:13\n",
      "   --- ------------------------------------ 1.5/14.8 MB 1.0 MB/s eta 0:00:14\n",
      "   ---- ----------------------------------- 1.5/14.8 MB 1.0 MB/s eta 0:00:13\n",
      "   ---- ----------------------------------- 1.5/14.8 MB 1.0 MB/s eta 0:00:13\n",
      "   ---- ----------------------------------- 1.6/14.8 MB 1.0 MB/s eta 0:00:13\n",
      "   ---- ----------------------------------- 1.7/14.8 MB 1.0 MB/s eta 0:00:13\n",
      "   ---- ----------------------------------- 1.7/14.8 MB 1.0 MB/s eta 0:00:13\n",
      "   ---- ----------------------------------- 1.8/14.8 MB 1.0 MB/s eta 0:00:13\n",
      "   ---- ----------------------------------- 1.8/14.8 MB 1.1 MB/s eta 0:00:13\n",
      "   ----- ---------------------------------- 1.9/14.8 MB 1.1 MB/s eta 0:00:13\n",
      "   ----- ---------------------------------- 2.0/14.8 MB 1.1 MB/s eta 0:00:13\n",
      "   ----- ---------------------------------- 2.0/14.8 MB 1.1 MB/s eta 0:00:12\n",
      "   ----- ---------------------------------- 2.1/14.8 MB 1.1 MB/s eta 0:00:12\n",
      "   ----- ---------------------------------- 2.2/14.8 MB 1.1 MB/s eta 0:00:12\n",
      "   ----- ---------------------------------- 2.2/14.8 MB 1.1 MB/s eta 0:00:12\n",
      "   ------ --------------------------------- 2.3/14.8 MB 1.1 MB/s eta 0:00:12\n",
      "   ------ --------------------------------- 2.3/14.8 MB 1.1 MB/s eta 0:00:12\n",
      "   ------ --------------------------------- 2.4/14.8 MB 1.1 MB/s eta 0:00:12\n",
      "   ------ --------------------------------- 2.4/14.8 MB 1.1 MB/s eta 0:00:12\n",
      "   ------ --------------------------------- 2.5/14.8 MB 1.1 MB/s eta 0:00:12\n",
      "   ------ --------------------------------- 2.6/14.8 MB 1.1 MB/s eta 0:00:12\n",
      "   ------ --------------------------------- 2.6/14.8 MB 1.1 MB/s eta 0:00:12\n",
      "   ------- -------------------------------- 2.7/14.8 MB 1.1 MB/s eta 0:00:12\n",
      "   ------- -------------------------------- 2.7/14.8 MB 1.1 MB/s eta 0:00:11\n",
      "   ------- -------------------------------- 2.8/14.8 MB 1.1 MB/s eta 0:00:11\n",
      "   ------- -------------------------------- 2.8/14.8 MB 1.1 MB/s eta 0:00:11\n",
      "   -------- ------------------------------- 3.1/14.8 MB 1.1 MB/s eta 0:00:11\n",
      "   -------- ------------------------------- 3.2/14.8 MB 1.1 MB/s eta 0:00:11\n",
      "   -------- ------------------------------- 3.3/14.8 MB 1.1 MB/s eta 0:00:11\n",
      "   --------- ------------------------------ 3.4/14.8 MB 1.1 MB/s eta 0:00:11\n",
      "   --------- ------------------------------ 3.6/14.8 MB 1.1 MB/s eta 0:00:11\n",
      "   --------- ------------------------------ 3.6/14.8 MB 1.1 MB/s eta 0:00:11\n",
      "   ---------- ----------------------------- 3.7/14.8 MB 1.1 MB/s eta 0:00:11\n",
      "   ---------- ----------------------------- 3.8/14.8 MB 1.1 MB/s eta 0:00:11\n",
      "   ---------- ----------------------------- 3.8/14.8 MB 1.1 MB/s eta 0:00:10\n",
      "   ---------- ----------------------------- 3.9/14.8 MB 1.1 MB/s eta 0:00:10\n",
      "   ---------- ----------------------------- 4.0/14.8 MB 1.1 MB/s eta 0:00:10\n",
      "   ---------- ----------------------------- 4.0/14.8 MB 1.1 MB/s eta 0:00:10\n",
      "   ---------- ----------------------------- 4.0/14.8 MB 1.1 MB/s eta 0:00:10\n",
      "   ---------- ----------------------------- 4.1/14.8 MB 1.1 MB/s eta 0:00:10\n",
      "   ----------- ---------------------------- 4.1/14.8 MB 1.1 MB/s eta 0:00:10\n",
      "   ----------- ---------------------------- 4.2/14.8 MB 1.1 MB/s eta 0:00:10\n",
      "   ----------- ---------------------------- 4.3/14.8 MB 1.1 MB/s eta 0:00:10\n",
      "   ----------- ---------------------------- 4.3/14.8 MB 1.1 MB/s eta 0:00:10\n",
      "   ----------- ---------------------------- 4.4/14.8 MB 1.1 MB/s eta 0:00:10\n",
      "   ----------- ---------------------------- 4.4/14.8 MB 1.1 MB/s eta 0:00:10\n",
      "   ----------- ---------------------------- 4.4/14.8 MB 1.1 MB/s eta 0:00:10\n",
      "   ------------ --------------------------- 4.5/14.8 MB 1.1 MB/s eta 0:00:10\n",
      "   ------------ --------------------------- 4.5/14.8 MB 1.1 MB/s eta 0:00:10\n",
      "   ------------ --------------------------- 4.6/14.8 MB 1.1 MB/s eta 0:00:10\n",
      "   ------------ --------------------------- 4.6/14.8 MB 1.1 MB/s eta 0:00:10\n",
      "   ------------ --------------------------- 4.7/14.8 MB 1.1 MB/s eta 0:00:10\n",
      "   ------------ --------------------------- 4.8/14.8 MB 1.1 MB/s eta 0:00:10\n",
      "   ------------ --------------------------- 4.8/14.8 MB 1.1 MB/s eta 0:00:10\n",
      "   ------------- -------------------------- 4.9/14.8 MB 1.1 MB/s eta 0:00:10\n",
      "   ------------- -------------------------- 4.9/14.8 MB 1.1 MB/s eta 0:00:09\n",
      "   ------------- -------------------------- 5.0/14.8 MB 1.1 MB/s eta 0:00:09\n",
      "   ------------- -------------------------- 5.0/14.8 MB 1.1 MB/s eta 0:00:09\n",
      "   ------------- -------------------------- 5.1/14.8 MB 1.1 MB/s eta 0:00:09\n",
      "   -------------- ------------------------- 5.2/14.8 MB 1.1 MB/s eta 0:00:09\n",
      "   -------------- ------------------------- 5.3/14.8 MB 1.1 MB/s eta 0:00:09\n",
      "   -------------- ------------------------- 5.3/14.8 MB 1.1 MB/s eta 0:00:09\n",
      "   -------------- ------------------------- 5.4/14.8 MB 1.1 MB/s eta 0:00:09\n",
      "   -------------- ------------------------- 5.5/14.8 MB 1.1 MB/s eta 0:00:09\n",
      "   -------------- ------------------------- 5.5/14.8 MB 1.1 MB/s eta 0:00:09\n",
      "   --------------- ------------------------ 5.6/14.8 MB 1.1 MB/s eta 0:00:09\n",
      "   --------------- ------------------------ 5.7/14.8 MB 1.1 MB/s eta 0:00:09\n",
      "   --------------- ------------------------ 5.7/14.8 MB 1.1 MB/s eta 0:00:08\n",
      "   --------------- ------------------------ 5.8/14.8 MB 1.1 MB/s eta 0:00:08\n",
      "   --------------- ------------------------ 5.9/14.8 MB 1.2 MB/s eta 0:00:08\n",
      "   ---------------- ----------------------- 6.0/14.8 MB 1.2 MB/s eta 0:00:08\n",
      "   ---------------- ----------------------- 6.0/14.8 MB 1.2 MB/s eta 0:00:08\n",
      "   ---------------- ----------------------- 6.1/14.8 MB 1.2 MB/s eta 0:00:08\n",
      "   ---------------- ----------------------- 6.2/14.8 MB 1.2 MB/s eta 0:00:08\n",
      "   ---------------- ----------------------- 6.3/14.8 MB 1.2 MB/s eta 0:00:08\n",
      "   ----------------- ---------------------- 6.3/14.8 MB 1.2 MB/s eta 0:00:08\n",
      "   ----------------- ---------------------- 6.4/14.8 MB 1.2 MB/s eta 0:00:08\n",
      "   ----------------- ---------------------- 6.5/14.8 MB 1.2 MB/s eta 0:00:08\n",
      "   ----------------- ---------------------- 6.5/14.8 MB 1.2 MB/s eta 0:00:08\n",
      "   ----------------- ---------------------- 6.6/14.8 MB 1.2 MB/s eta 0:00:07\n",
      "   ----------------- ---------------------- 6.6/14.8 MB 1.2 MB/s eta 0:00:07\n",
      "   ------------------ --------------------- 6.7/14.8 MB 1.2 MB/s eta 0:00:07\n",
      "   ------------------ --------------------- 6.8/14.8 MB 1.2 MB/s eta 0:00:07\n",
      "   ------------------ --------------------- 6.9/14.8 MB 1.2 MB/s eta 0:00:07\n",
      "   ------------------ --------------------- 6.9/14.8 MB 1.2 MB/s eta 0:00:07\n",
      "   ------------------ --------------------- 7.0/14.8 MB 1.2 MB/s eta 0:00:07\n",
      "   ------------------- -------------------- 7.1/14.8 MB 1.2 MB/s eta 0:00:07\n",
      "   ------------------- -------------------- 7.1/14.8 MB 1.2 MB/s eta 0:00:07\n",
      "   ------------------- -------------------- 7.2/14.8 MB 1.2 MB/s eta 0:00:07\n",
      "   ------------------- -------------------- 7.2/14.8 MB 1.2 MB/s eta 0:00:07\n",
      "   ------------------- -------------------- 7.3/14.8 MB 1.2 MB/s eta 0:00:07\n",
      "   ------------------- -------------------- 7.4/14.8 MB 1.2 MB/s eta 0:00:07\n",
      "   -------------------- ------------------- 7.4/14.8 MB 1.2 MB/s eta 0:00:07\n",
      "   -------------------- ------------------- 7.5/14.8 MB 1.2 MB/s eta 0:00:07\n",
      "   -------------------- ------------------- 7.5/14.8 MB 1.2 MB/s eta 0:00:07\n",
      "   -------------------- ------------------- 7.6/14.8 MB 1.2 MB/s eta 0:00:06\n",
      "   -------------------- ------------------- 7.7/14.8 MB 1.2 MB/s eta 0:00:06\n",
      "   -------------------- ------------------- 7.8/14.8 MB 1.2 MB/s eta 0:00:06\n",
      "   --------------------- ------------------ 7.8/14.8 MB 1.2 MB/s eta 0:00:06\n",
      "   --------------------- ------------------ 7.9/14.8 MB 1.2 MB/s eta 0:00:06\n",
      "   --------------------- ------------------ 8.0/14.8 MB 1.2 MB/s eta 0:00:06\n",
      "   --------------------- ------------------ 8.1/14.8 MB 1.2 MB/s eta 0:00:06\n",
      "   --------------------- ------------------ 8.1/14.8 MB 1.2 MB/s eta 0:00:06\n",
      "   ---------------------- ----------------- 8.2/14.8 MB 1.2 MB/s eta 0:00:06\n",
      "   ---------------------- ----------------- 8.3/14.8 MB 1.2 MB/s eta 0:00:06\n",
      "   ---------------------- ----------------- 8.4/14.8 MB 1.2 MB/s eta 0:00:06\n",
      "   ---------------------- ----------------- 8.4/14.8 MB 1.2 MB/s eta 0:00:06\n",
      "   ---------------------- ----------------- 8.5/14.8 MB 1.2 MB/s eta 0:00:06\n",
      "   ----------------------- ---------------- 8.6/14.8 MB 1.2 MB/s eta 0:00:06\n",
      "   ----------------------- ---------------- 8.6/14.8 MB 1.2 MB/s eta 0:00:05\n",
      "   ----------------------- ---------------- 8.7/14.8 MB 1.2 MB/s eta 0:00:05\n",
      "   ----------------------- ---------------- 8.8/14.8 MB 1.2 MB/s eta 0:00:05\n",
      "   ----------------------- ---------------- 8.9/14.8 MB 1.2 MB/s eta 0:00:05\n",
      "   ------------------------ --------------- 8.9/14.8 MB 1.2 MB/s eta 0:00:05\n",
      "   ------------------------ --------------- 8.9/14.8 MB 1.2 MB/s eta 0:00:05\n",
      "   ------------------------ --------------- 9.0/14.8 MB 1.2 MB/s eta 0:00:05\n",
      "   ------------------------ --------------- 9.0/14.8 MB 1.2 MB/s eta 0:00:05\n",
      "   ------------------------ --------------- 9.1/14.8 MB 1.2 MB/s eta 0:00:05\n",
      "   ------------------------ --------------- 9.1/14.8 MB 1.2 MB/s eta 0:00:05\n",
      "   ------------------------ --------------- 9.2/14.8 MB 1.2 MB/s eta 0:00:05\n",
      "   ------------------------- -------------- 9.3/14.8 MB 1.2 MB/s eta 0:00:05\n",
      "   ------------------------- -------------- 9.3/14.8 MB 1.2 MB/s eta 0:00:05\n",
      "   ------------------------- -------------- 9.4/14.8 MB 1.2 MB/s eta 0:00:05\n",
      "   ------------------------- -------------- 9.4/14.8 MB 1.2 MB/s eta 0:00:05\n",
      "   ------------------------- -------------- 9.5/14.8 MB 1.2 MB/s eta 0:00:05\n",
      "   ------------------------- -------------- 9.5/14.8 MB 1.2 MB/s eta 0:00:05\n",
      "   ------------------------- -------------- 9.6/14.8 MB 1.2 MB/s eta 0:00:05\n",
      "   -------------------------- ------------- 9.6/14.8 MB 1.2 MB/s eta 0:00:05\n",
      "   -------------------------- ------------- 9.7/14.8 MB 1.2 MB/s eta 0:00:05\n",
      "   -------------------------- ------------- 9.7/14.8 MB 1.2 MB/s eta 0:00:05\n",
      "   -------------------------- ------------- 9.8/14.8 MB 1.2 MB/s eta 0:00:05\n",
      "   -------------------------- ------------- 9.9/14.8 MB 1.2 MB/s eta 0:00:05\n",
      "   -------------------------- ------------- 9.9/14.8 MB 1.2 MB/s eta 0:00:04\n",
      "   -------------------------- ------------- 10.0/14.8 MB 1.2 MB/s eta 0:00:04\n",
      "   --------------------------- ------------ 10.0/14.8 MB 1.2 MB/s eta 0:00:04\n",
      "   --------------------------- ------------ 10.1/14.8 MB 1.2 MB/s eta 0:00:04\n",
      "   --------------------------- ------------ 10.1/14.8 MB 1.2 MB/s eta 0:00:04\n",
      "   --------------------------- ------------ 10.2/14.8 MB 1.2 MB/s eta 0:00:04\n",
      "   --------------------------- ------------ 10.3/14.8 MB 1.2 MB/s eta 0:00:04\n",
      "   --------------------------- ------------ 10.4/14.8 MB 1.2 MB/s eta 0:00:04\n",
      "   ---------------------------- ----------- 10.4/14.8 MB 1.2 MB/s eta 0:00:04\n",
      "   ---------------------------- ----------- 10.5/14.8 MB 1.2 MB/s eta 0:00:04\n",
      "   ---------------------------- ----------- 10.6/14.8 MB 1.3 MB/s eta 0:00:04\n",
      "   ---------------------------- ----------- 10.6/14.8 MB 1.3 MB/s eta 0:00:04\n",
      "   ---------------------------- ----------- 10.7/14.8 MB 1.3 MB/s eta 0:00:04\n",
      "   ----------------------------- ---------- 10.8/14.8 MB 1.3 MB/s eta 0:00:04\n",
      "   ----------------------------- ---------- 10.8/14.8 MB 1.3 MB/s eta 0:00:04\n",
      "   ----------------------------- ---------- 10.9/14.8 MB 1.3 MB/s eta 0:00:04\n",
      "   ----------------------------- ---------- 11.0/14.8 MB 1.3 MB/s eta 0:00:04\n",
      "   ----------------------------- ---------- 11.0/14.8 MB 1.3 MB/s eta 0:00:03\n",
      "   ----------------------------- ---------- 11.1/14.8 MB 1.3 MB/s eta 0:00:03\n",
      "   ------------------------------ --------- 11.2/14.8 MB 1.3 MB/s eta 0:00:03\n",
      "   ------------------------------ --------- 11.2/14.8 MB 1.3 MB/s eta 0:00:03\n",
      "   ------------------------------ --------- 11.3/14.8 MB 1.3 MB/s eta 0:00:03\n",
      "   ------------------------------ --------- 11.4/14.8 MB 1.3 MB/s eta 0:00:03\n",
      "   ------------------------------ --------- 11.4/14.8 MB 1.3 MB/s eta 0:00:03\n",
      "   ------------------------------- -------- 11.5/14.8 MB 1.3 MB/s eta 0:00:03\n",
      "   ------------------------------- -------- 11.6/14.8 MB 1.3 MB/s eta 0:00:03\n",
      "   ------------------------------- -------- 11.7/14.8 MB 1.3 MB/s eta 0:00:03\n",
      "   ------------------------------- -------- 11.7/14.8 MB 1.3 MB/s eta 0:00:03\n",
      "   ------------------------------- -------- 11.8/14.8 MB 1.3 MB/s eta 0:00:03\n",
      "   -------------------------------- ------- 11.9/14.8 MB 1.3 MB/s eta 0:00:03\n",
      "   -------------------------------- ------- 12.0/14.8 MB 1.3 MB/s eta 0:00:03\n",
      "   -------------------------------- ------- 12.0/14.8 MB 1.3 MB/s eta 0:00:03\n",
      "   -------------------------------- ------- 12.1/14.8 MB 1.3 MB/s eta 0:00:03\n",
      "   -------------------------------- ------- 12.2/14.8 MB 1.3 MB/s eta 0:00:02\n",
      "   --------------------------------- ------ 12.2/14.8 MB 1.3 MB/s eta 0:00:02\n",
      "   --------------------------------- ------ 12.3/14.8 MB 1.3 MB/s eta 0:00:02\n",
      "   --------------------------------- ------ 12.3/14.8 MB 1.3 MB/s eta 0:00:02\n",
      "   --------------------------------- ------ 12.4/14.8 MB 1.3 MB/s eta 0:00:02\n",
      "   --------------------------------- ------ 12.5/14.8 MB 1.3 MB/s eta 0:00:02\n",
      "   --------------------------------- ------ 12.5/14.8 MB 1.3 MB/s eta 0:00:02\n",
      "   ---------------------------------- ----- 12.6/14.8 MB 1.3 MB/s eta 0:00:02\n",
      "   ---------------------------------- ----- 12.7/14.8 MB 1.3 MB/s eta 0:00:02\n",
      "   ---------------------------------- ----- 12.8/14.8 MB 1.3 MB/s eta 0:00:02\n",
      "   ---------------------------------- ----- 12.8/14.8 MB 1.3 MB/s eta 0:00:02\n",
      "   ---------------------------------- ----- 12.9/14.8 MB 1.3 MB/s eta 0:00:02\n",
      "   ----------------------------------- ---- 13.0/14.8 MB 1.3 MB/s eta 0:00:02\n",
      "   ----------------------------------- ---- 13.0/14.8 MB 1.3 MB/s eta 0:00:02\n",
      "   ----------------------------------- ---- 13.1/14.8 MB 1.3 MB/s eta 0:00:02\n",
      "   ----------------------------------- ---- 13.2/14.8 MB 1.3 MB/s eta 0:00:02\n",
      "   ----------------------------------- ---- 13.2/14.8 MB 1.3 MB/s eta 0:00:02\n",
      "   ----------------------------------- ---- 13.3/14.8 MB 1.3 MB/s eta 0:00:02\n",
      "   ------------------------------------ --- 13.3/14.8 MB 1.3 MB/s eta 0:00:02\n",
      "   ------------------------------------ --- 13.4/14.8 MB 1.3 MB/s eta 0:00:02\n",
      "   ------------------------------------ --- 13.4/14.8 MB 1.3 MB/s eta 0:00:02\n",
      "   ------------------------------------ --- 13.5/14.8 MB 1.4 MB/s eta 0:00:01\n",
      "   ------------------------------------ --- 13.6/14.8 MB 1.4 MB/s eta 0:00:01\n",
      "   ------------------------------------ --- 13.6/14.8 MB 1.4 MB/s eta 0:00:01\n",
      "   ------------------------------------ --- 13.7/14.8 MB 1.3 MB/s eta 0:00:01\n",
      "   ------------------------------------- -- 13.7/14.8 MB 1.4 MB/s eta 0:00:01\n",
      "   ------------------------------------- -- 13.7/14.8 MB 1.3 MB/s eta 0:00:01\n",
      "   ------------------------------------- -- 13.8/14.8 MB 1.3 MB/s eta 0:00:01\n",
      "   ------------------------------------- -- 13.9/14.8 MB 1.4 MB/s eta 0:00:01\n",
      "   ------------------------------------- -- 13.9/14.8 MB 1.4 MB/s eta 0:00:01\n",
      "   ------------------------------------- -- 14.0/14.8 MB 1.4 MB/s eta 0:00:01\n",
      "   ------------------------------------- -- 14.0/14.8 MB 1.4 MB/s eta 0:00:01\n",
      "   -------------------------------------- - 14.1/14.8 MB 1.4 MB/s eta 0:00:01\n",
      "   -------------------------------------- - 14.1/14.8 MB 1.4 MB/s eta 0:00:01\n",
      "   -------------------------------------- - 14.2/14.8 MB 1.3 MB/s eta 0:00:01\n",
      "   -------------------------------------- - 14.2/14.8 MB 1.3 MB/s eta 0:00:01\n",
      "   -------------------------------------- - 14.2/14.8 MB 1.3 MB/s eta 0:00:01\n",
      "   -------------------------------------- - 14.3/14.8 MB 1.3 MB/s eta 0:00:01\n",
      "   -------------------------------------- - 14.3/14.8 MB 1.3 MB/s eta 0:00:01\n",
      "   -------------------------------------- - 14.3/14.8 MB 1.3 MB/s eta 0:00:01\n",
      "   -------------------------------------- - 14.4/14.8 MB 1.3 MB/s eta 0:00:01\n",
      "   ---------------------------------------  14.5/14.8 MB 1.3 MB/s eta 0:00:01\n",
      "   ---------------------------------------  14.5/14.8 MB 1.3 MB/s eta 0:00:01\n",
      "   ---------------------------------------  14.6/14.8 MB 1.3 MB/s eta 0:00:01\n",
      "   ---------------------------------------  14.6/14.8 MB 1.4 MB/s eta 0:00:01\n",
      "   ---------------------------------------  14.7/14.8 MB 1.3 MB/s eta 0:00:01\n",
      "   ---------------------------------------  14.7/14.8 MB 1.3 MB/s eta 0:00:01\n",
      "   ---------------------------------------  14.8/14.8 MB 1.3 MB/s eta 0:00:01\n",
      "   ---------------------------------------  14.8/14.8 MB 1.3 MB/s eta 0:00:01\n",
      "   ---------------------------------------- 14.8/14.8 MB 1.3 MB/s eta 0:00:00\n",
      "Downloading narwhals-1.24.2-py3-none-any.whl (312 kB)\n",
      "   ---------------------------------------- 0.0/312.8 kB ? eta -:--:--\n",
      "   --------- ------------------------------ 71.7/312.8 kB 2.0 MB/s eta 0:00:01\n",
      "   --------------- ------------------------ 122.9/312.8 kB 1.2 MB/s eta 0:00:01\n",
      "   ------------------- -------------------- 153.6/312.8 kB 1.1 MB/s eta 0:00:01\n",
      "   ---------------------------- ----------- 225.3/312.8 kB 1.3 MB/s eta 0:00:01\n",
      "   ---------------------------- ----------- 225.3/312.8 kB 1.3 MB/s eta 0:00:01\n",
      "   ------------------------------------ --- 286.7/312.8 kB 1.0 MB/s eta 0:00:01\n",
      "   -------------------------------------- 312.8/312.8 kB 966.6 kB/s eta 0:00:00\n",
      "Installing collected packages: narwhals, plotly\n",
      "Successfully installed narwhals-1.24.2 plotly-6.0.0\n",
      "Note: you may need to restart the kernel to use updated packages.\n"
     ]
    },
    {
     "name": "stderr",
     "output_type": "stream",
     "text": [
      "\n",
      "[notice] A new release of pip is available: 24.0 -> 25.0\n",
      "[notice] To update, run: C:\\Users\\MartinPC\\AppData\\Local\\Microsoft\\WindowsApps\\PythonSoftwareFoundation.Python.3.11_qbz5n2kfra8p0\\python.exe -m pip install --upgrade pip\n"
     ]
    }
   ],
   "source": [
    "pip install plotly"
   ]
  },
  {
   "cell_type": "code",
   "execution_count": 6,
   "metadata": {},
   "outputs": [
    {
     "name": "stdout",
     "output_type": "stream",
     "text": [
      "Collecting dash\n",
      "  Using cached dash-2.18.2-py3-none-any.whl.metadata (10 kB)\n",
      "Collecting Flask<3.1,>=1.0.4 (from dash)\n",
      "  Downloading flask-3.0.3-py3-none-any.whl.metadata (3.2 kB)\n",
      "Collecting Werkzeug<3.1 (from dash)\n",
      "  Downloading werkzeug-3.0.6-py3-none-any.whl.metadata (3.7 kB)\n",
      "Requirement already satisfied: plotly>=5.0.0 in c:\\users\\martinpc\\appdata\\local\\packages\\pythonsoftwarefoundation.python.3.11_qbz5n2kfra8p0\\localcache\\local-packages\\python311\\site-packages (from dash) (6.0.0)\n",
      "Collecting dash-html-components==2.0.0 (from dash)\n",
      "  Using cached dash_html_components-2.0.0-py3-none-any.whl.metadata (3.8 kB)\n",
      "Collecting dash-core-components==2.0.0 (from dash)\n",
      "  Using cached dash_core_components-2.0.0-py3-none-any.whl.metadata (2.9 kB)\n",
      "Collecting dash-table==5.0.0 (from dash)\n",
      "  Using cached dash_table-5.0.0-py3-none-any.whl.metadata (2.4 kB)\n",
      "Collecting importlib-metadata (from dash)\n",
      "  Downloading importlib_metadata-8.6.1-py3-none-any.whl.metadata (4.7 kB)\n",
      "Requirement already satisfied: typing-extensions>=4.1.1 in c:\\users\\martinpc\\appdata\\local\\packages\\pythonsoftwarefoundation.python.3.11_qbz5n2kfra8p0\\localcache\\local-packages\\python311\\site-packages (from dash) (4.12.2)\n",
      "Collecting requests (from dash)\n",
      "  Using cached requests-2.32.3-py3-none-any.whl.metadata (4.6 kB)\n",
      "Collecting retrying (from dash)\n",
      "  Using cached retrying-1.3.4-py3-none-any.whl.metadata (6.9 kB)\n",
      "Requirement already satisfied: nest-asyncio in c:\\users\\martinpc\\appdata\\local\\packages\\pythonsoftwarefoundation.python.3.11_qbz5n2kfra8p0\\localcache\\local-packages\\python311\\site-packages (from dash) (1.6.0)\n",
      "Requirement already satisfied: setuptools in c:\\program files\\windowsapps\\pythonsoftwarefoundation.python.3.11_3.11.2544.0_x64__qbz5n2kfra8p0\\lib\\site-packages (from dash) (65.5.0)\n",
      "Collecting Jinja2>=3.1.2 (from Flask<3.1,>=1.0.4->dash)\n",
      "  Downloading jinja2-3.1.5-py3-none-any.whl.metadata (2.6 kB)\n",
      "Collecting itsdangerous>=2.1.2 (from Flask<3.1,>=1.0.4->dash)\n",
      "  Downloading itsdangerous-2.2.0-py3-none-any.whl.metadata (1.9 kB)\n",
      "Collecting click>=8.1.3 (from Flask<3.1,>=1.0.4->dash)\n",
      "  Downloading click-8.1.8-py3-none-any.whl.metadata (2.3 kB)\n",
      "Collecting blinker>=1.6.2 (from Flask<3.1,>=1.0.4->dash)\n",
      "  Downloading blinker-1.9.0-py3-none-any.whl.metadata (1.6 kB)\n",
      "Requirement already satisfied: narwhals>=1.15.1 in c:\\users\\martinpc\\appdata\\local\\packages\\pythonsoftwarefoundation.python.3.11_qbz5n2kfra8p0\\localcache\\local-packages\\python311\\site-packages (from plotly>=5.0.0->dash) (1.24.2)\n",
      "Requirement already satisfied: packaging in c:\\users\\martinpc\\appdata\\local\\packages\\pythonsoftwarefoundation.python.3.11_qbz5n2kfra8p0\\localcache\\local-packages\\python311\\site-packages (from plotly>=5.0.0->dash) (24.2)\n",
      "Collecting MarkupSafe>=2.1.1 (from Werkzeug<3.1->dash)\n",
      "  Downloading MarkupSafe-3.0.2-cp311-cp311-win_amd64.whl.metadata (4.1 kB)\n",
      "Collecting zipp>=3.20 (from importlib-metadata->dash)\n",
      "  Downloading zipp-3.21.0-py3-none-any.whl.metadata (3.7 kB)\n",
      "Collecting charset-normalizer<4,>=2 (from requests->dash)\n",
      "  Downloading charset_normalizer-3.4.1-cp311-cp311-win_amd64.whl.metadata (36 kB)\n",
      "Collecting idna<4,>=2.5 (from requests->dash)\n",
      "  Downloading idna-3.10-py3-none-any.whl.metadata (10 kB)\n",
      "Collecting urllib3<3,>=1.21.1 (from requests->dash)\n",
      "  Downloading urllib3-2.3.0-py3-none-any.whl.metadata (6.5 kB)\n",
      "Collecting certifi>=2017.4.17 (from requests->dash)\n",
      "  Downloading certifi-2025.1.31-py3-none-any.whl.metadata (2.5 kB)\n",
      "Requirement already satisfied: six>=1.7.0 in c:\\users\\martinpc\\appdata\\local\\packages\\pythonsoftwarefoundation.python.3.11_qbz5n2kfra8p0\\localcache\\local-packages\\python311\\site-packages (from retrying->dash) (1.17.0)\n",
      "Requirement already satisfied: colorama in c:\\users\\martinpc\\appdata\\local\\packages\\pythonsoftwarefoundation.python.3.11_qbz5n2kfra8p0\\localcache\\local-packages\\python311\\site-packages (from click>=8.1.3->Flask<3.1,>=1.0.4->dash) (0.4.6)\n",
      "Using cached dash-2.18.2-py3-none-any.whl (7.8 MB)\n",
      "Using cached dash_core_components-2.0.0-py3-none-any.whl (3.8 kB)\n",
      "Using cached dash_html_components-2.0.0-py3-none-any.whl (4.1 kB)\n",
      "Using cached dash_table-5.0.0-py3-none-any.whl (3.9 kB)\n",
      "Downloading flask-3.0.3-py3-none-any.whl (101 kB)\n",
      "   ---------------------------------------- 0.0/101.7 kB ? eta -:--:--\n",
      "   ------------------------ --------------- 61.4/101.7 kB 1.6 MB/s eta 0:00:01\n",
      "   ---------------------------------------- 101.7/101.7 kB 1.5 MB/s eta 0:00:00\n",
      "Downloading werkzeug-3.0.6-py3-none-any.whl (227 kB)\n",
      "   ---------------------------------------- 0.0/228.0 kB ? eta -:--:--\n",
      "   -------------- ------------------------- 81.9/228.0 kB 2.3 MB/s eta 0:00:01\n",
      "   -------------- ------------------------- 81.9/228.0 kB 2.3 MB/s eta 0:00:01\n",
      "   ------------------------- -------------- 143.4/228.0 kB 1.1 MB/s eta 0:00:01\n",
      "   ----------------------------------- ---- 204.8/228.0 kB 1.1 MB/s eta 0:00:01\n",
      "   ---------------------------------------- 228.0/228.0 kB 1.1 MB/s eta 0:00:00\n",
      "Downloading importlib_metadata-8.6.1-py3-none-any.whl (26 kB)\n",
      "Using cached requests-2.32.3-py3-none-any.whl (64 kB)\n",
      "Using cached retrying-1.3.4-py3-none-any.whl (11 kB)\n",
      "Downloading blinker-1.9.0-py3-none-any.whl (8.5 kB)\n",
      "Downloading certifi-2025.1.31-py3-none-any.whl (166 kB)\n",
      "   ---------------------------------------- 0.0/166.4 kB ? eta -:--:--\n",
      "   -------------- ------------------------- 61.4/166.4 kB 1.1 MB/s eta 0:00:01\n",
      "   --------------------------- ------------ 112.6/166.4 kB 1.6 MB/s eta 0:00:01\n",
      "   ---------------------------------------- 166.4/166.4 kB 1.1 MB/s eta 0:00:00\n",
      "Downloading charset_normalizer-3.4.1-cp311-cp311-win_amd64.whl (102 kB)\n",
      "   ---------------------------------------- 0.0/102.4 kB ? eta -:--:--\n",
      "   ----------------------- ---------------- 61.4/102.4 kB 1.7 MB/s eta 0:00:01\n",
      "   ---------------------------------------- 102.4/102.4 kB 1.2 MB/s eta 0:00:00\n",
      "Downloading click-8.1.8-py3-none-any.whl (98 kB)\n",
      "   ---------------------------------------- 0.0/98.2 kB ? eta -:--:--\n",
      "   ---------------- ----------------------- 41.0/98.2 kB 960.0 kB/s eta 0:00:01\n",
      "   ---------------------------------------- 98.2/98.2 kB 1.1 MB/s eta 0:00:00\n",
      "Downloading idna-3.10-py3-none-any.whl (70 kB)\n",
      "   ---------------------------------------- 0.0/70.4 kB ? eta -:--:--\n",
      "   ----------------------- ---------------- 41.0/70.4 kB 1.9 MB/s eta 0:00:01\n",
      "   ---------------------------------------- 70.4/70.4 kB 1.3 MB/s eta 0:00:00\n",
      "Downloading itsdangerous-2.2.0-py3-none-any.whl (16 kB)\n",
      "Downloading jinja2-3.1.5-py3-none-any.whl (134 kB)\n",
      "   ---------------------------------------- 0.0/134.6 kB ? eta -:--:--\n",
      "   ------------------ --------------------- 61.4/134.6 kB 1.7 MB/s eta 0:00:01\n",
      "   ------------------------------------ --- 122.9/134.6 kB 1.8 MB/s eta 0:00:01\n",
      "   ---------------------------------------- 134.6/134.6 kB 1.1 MB/s eta 0:00:00\n",
      "Downloading MarkupSafe-3.0.2-cp311-cp311-win_amd64.whl (15 kB)\n",
      "Downloading urllib3-2.3.0-py3-none-any.whl (128 kB)\n",
      "   ---------------------------------------- 0.0/128.4 kB ? eta -:--:--\n",
      "   ---------------------- ----------------- 71.7/128.4 kB 1.9 MB/s eta 0:00:01\n",
      "   -------------------------------------- - 122.9/128.4 kB 1.8 MB/s eta 0:00:01\n",
      "   ---------------------------------------- 128.4/128.4 kB 1.5 MB/s eta 0:00:00\n",
      "Downloading zipp-3.21.0-py3-none-any.whl (9.6 kB)\n",
      "Installing collected packages: dash-table, dash-html-components, dash-core-components, zipp, urllib3, retrying, MarkupSafe, itsdangerous, idna, click, charset-normalizer, certifi, blinker, Werkzeug, requests, Jinja2, importlib-metadata, Flask, dash\n",
      "Successfully installed Flask-3.0.3 Jinja2-3.1.5 MarkupSafe-3.0.2 Werkzeug-3.0.6 blinker-1.9.0 certifi-2025.1.31 charset-normalizer-3.4.1 click-8.1.8 dash-2.18.2 dash-core-components-2.0.0 dash-html-components-2.0.0 dash-table-5.0.0 idna-3.10 importlib-metadata-8.6.1 itsdangerous-2.2.0 requests-2.32.3 retrying-1.3.4 urllib3-2.3.0 zipp-3.21.0\n",
      "Note: you may need to restart the kernel to use updated packages.\n"
     ]
    },
    {
     "name": "stderr",
     "output_type": "stream",
     "text": [
      "\n",
      "[notice] A new release of pip is available: 24.0 -> 25.0\n",
      "[notice] To update, run: C:\\Users\\MartinPC\\AppData\\Local\\Microsoft\\WindowsApps\\PythonSoftwareFoundation.Python.3.11_qbz5n2kfra8p0\\python.exe -m pip install --upgrade pip\n"
     ]
    }
   ],
   "source": [
    "pip install dash"
   ]
  },
  {
   "cell_type": "code",
   "execution_count": 5,
   "metadata": {},
   "outputs": [
    {
     "name": "stdout",
     "output_type": "stream",
     "text": [
      "Requirement already satisfied: pandas in c:\\users\\martinpc\\appdata\\local\\packages\\pythonsoftwarefoundation.python.3.11_qbz5n2kfra8p0\\localcache\\local-packages\\python311\\site-packages (2.2.3)Note: you may need to restart the kernel to use updated packages.\n",
      "\n",
      "Requirement already satisfied: numpy>=1.23.2 in c:\\users\\martinpc\\appdata\\local\\packages\\pythonsoftwarefoundation.python.3.11_qbz5n2kfra8p0\\localcache\\local-packages\\python311\\site-packages (from pandas) (2.2.2)\n",
      "Requirement already satisfied: python-dateutil>=2.8.2 in c:\\users\\martinpc\\appdata\\local\\packages\\pythonsoftwarefoundation.python.3.11_qbz5n2kfra8p0\\localcache\\local-packages\\python311\\site-packages (from pandas) (2.9.0.post0)\n",
      "Requirement already satisfied: pytz>=2020.1 in c:\\users\\martinpc\\appdata\\local\\packages\\pythonsoftwarefoundation.python.3.11_qbz5n2kfra8p0\\localcache\\local-packages\\python311\\site-packages (from pandas) (2025.1)\n",
      "Requirement already satisfied: tzdata>=2022.7 in c:\\users\\martinpc\\appdata\\local\\packages\\pythonsoftwarefoundation.python.3.11_qbz5n2kfra8p0\\localcache\\local-packages\\python311\\site-packages (from pandas) (2025.1)\n",
      "Requirement already satisfied: six>=1.5 in c:\\users\\martinpc\\appdata\\local\\packages\\pythonsoftwarefoundation.python.3.11_qbz5n2kfra8p0\\localcache\\local-packages\\python311\\site-packages (from python-dateutil>=2.8.2->pandas) (1.17.0)\n"
     ]
    },
    {
     "name": "stderr",
     "output_type": "stream",
     "text": [
      "\n",
      "[notice] A new release of pip is available: 24.0 -> 25.0\n",
      "[notice] To update, run: C:\\Users\\MartinPC\\AppData\\Local\\Microsoft\\WindowsApps\\PythonSoftwareFoundation.Python.3.11_qbz5n2kfra8p0\\python.exe -m pip install --upgrade pip\n"
     ]
    }
   ],
   "source": [
    "pip install pandas"
   ]
  },
  {
   "cell_type": "code",
   "execution_count": 4,
   "metadata": {},
   "outputs": [],
   "source": [
    "import seaborn\n",
    "import plotly as pl\n",
    "import dash\n",
    "import threading\n"
   ]
  },
  {
   "cell_type": "code",
   "execution_count": 9,
   "metadata": {},
   "outputs": [
    {
     "name": "stdout",
     "output_type": "stream",
     "text": [
      "   index iso_code continent     location        date  total_cases  new_cases  \\\n",
      "0      0      AFG      Asia  Afghanistan  2020-02-24          5.0        5.0   \n",
      "1      1      AFG      Asia  Afghanistan  2020-02-25          5.0        0.0   \n",
      "2      2      AFG      Asia  Afghanistan  2020-02-26          5.0        0.0   \n",
      "3      3      AFG      Asia  Afghanistan  2020-02-27          5.0        0.0   \n",
      "4      4      AFG      Asia  Afghanistan  2020-02-28          5.0        0.0   \n",
      "\n",
      "   total_deaths  new_deaths  hosp_patients  ...  people_vaccinated  \\\n",
      "0           NaN         NaN            NaN  ...                NaN   \n",
      "1           NaN         NaN            NaN  ...                NaN   \n",
      "2           NaN         NaN            NaN  ...                NaN   \n",
      "3           NaN         NaN            NaN  ...                NaN   \n",
      "4           NaN         NaN            NaN  ...                NaN   \n",
      "\n",
      "   people_fully_vaccinated  total_boosters  new_vaccinations  population  \\\n",
      "0                      NaN             NaN               NaN  39835428.0   \n",
      "1                      NaN             NaN               NaN  39835428.0   \n",
      "2                      NaN             NaN               NaN  39835428.0   \n",
      "3                      NaN             NaN               NaN  39835428.0   \n",
      "4                      NaN             NaN               NaN  39835428.0   \n",
      "\n",
      "   median_age  gdp_per_capita  life_expectancy  latitude  longitude  \n",
      "0        18.6        1803.987            64.83      33.0       65.0  \n",
      "1        18.6        1803.987            64.83      33.0       65.0  \n",
      "2        18.6        1803.987            64.83      33.0       65.0  \n",
      "3        18.6        1803.987            64.83      33.0       65.0  \n",
      "4        18.6        1803.987            64.83      33.0       65.0  \n",
      "\n",
      "[5 rows x 24 columns]\n",
      "\n",
      "Missing values per column:\n",
      " index                           0\n",
      "iso_code                        0\n",
      "continent                       0\n",
      "location                        0\n",
      "date                            0\n",
      "total_cases                  6984\n",
      "new_cases                    7265\n",
      "total_deaths                25154\n",
      "new_deaths                  25382\n",
      "hosp_patients              153325\n",
      "total_tests                102151\n",
      "new_tests                  105968\n",
      "tests_per_case              87877\n",
      "total_vaccinations         134111\n",
      "people_vaccinated          136626\n",
      "people_fully_vaccinated    138953\n",
      "total_boosters             160611\n",
      "new_vaccinations           143537\n",
      "population                      0\n",
      "median_age                  21151\n",
      "gdp_per_capita              22483\n",
      "life_expectancy              1051\n",
      "latitude                        0\n",
      "longitude                       0\n",
      "dtype: int64\n"
     ]
    }
   ],
   "source": [
    "import pandas as pd\n",
    "\n",
    "file_path = r\"C:\\Users\\MartinPC\\Desktop\\project_1_python.csv\"\n",
    "df = pd.read_csv(file_path)\n",
    "\n",
    "print(df.head())\n",
    "print(\"\\nMissing values per column:\\n\", df.isnull().sum())\n"
   ]
  },
  {
   "cell_type": "markdown",
   "metadata": {},
   "source": [
    "<h3><b><span style=\"color: #16a085 ;\"> <<<< 1 >>>> <br>Using your data frame and the seaborn library, create a ranking that shows 10 countries with the largest populations in the set. Which country among the selected 10 has the largest population and which has the smallest one?\n",
    "Adjust the visualization appearance:\n",
    "Make the chart more readable by increasing the size of the figure.\n",
    "Use the whitegrid style.\n",
    "X-axis labels should be rotated so that they do not overlap. Hint: use the .set_xticklabels() method.</span>"
   ]
  },
  {
   "cell_type": "code",
   "execution_count": 19,
   "metadata": {},
   "outputs": [
    {
     "name": "stderr",
     "output_type": "stream",
     "text": [
      "C:\\Users\\MartinPC\\AppData\\Local\\Temp\\ipykernel_11396\\739660063.py:10: FutureWarning: \n",
      "\n",
      "Passing `palette` without assigning `hue` is deprecated and will be removed in v0.14.0. Assign the `x` variable to `hue` and set `legend=False` for the same effect.\n",
      "\n",
      "  ax = sns.barplot(data=top_countries, x=\"location\", y=\"population\", palette=\"Blues_r\")\n",
      "C:\\Users\\MartinPC\\AppData\\Local\\Temp\\ipykernel_11396\\739660063.py:18: UserWarning: set_ticklabels() should only be used with a fixed number of ticks, i.e. after set_ticks() or using a FixedLocator.\n",
      "  ax.set_xticklabels(ax.get_xticklabels(), rotation=45, ha=\"right\")\n"
     ]
    },
    {
     "data": {
      "image/png": "[encoded data removed]",
      "text/plain": [
       "<Figure size 1200x600 with 1 Axes>"
      ]
     },
     "metadata": {},
     "output_type": "display_data"
    },
    {
     "name": "stdout",
     "output_type": "stream",
     "text": [
      "\n",
      "Country with the largest population: China - 1444216102.0\n",
      "Country with the smallest population: Mexico - 130262220.0\n"
     ]
    }
   ],
   "source": [
    "import matplotlib.pyplot as plt\n",
    "import seaborn as sns\n",
    "\n",
    "if \"population\" in df.columns:\n",
    "    # Nastavení stylu dle zadání >>>>>> whitegrid\n",
    "    top_countries = df.groupby(\"location\")[\"population\"].max().nlargest(10).reset_index()\n",
    "    sns.set_style(\"whitegrid\")\n",
    "\n",
    "    plt.figure(figsize=(12, 6))\n",
    "    ax = sns.barplot(data=top_countries, x=\"location\", y=\"population\", palette=\"Blues_r\")\n",
    "\n",
    "    # nastavení grafu >>>> titulky\n",
    "    plt.xlabel(\"Jednotlivé země\")\n",
    "    plt.ylabel(\"Populace\")\n",
    "    plt.title(\"10 zemí seřazených dle velikosti populace\")\n",
    "\n",
    "    \n",
    "    ax.set_xticklabels(ax.get_xticklabels(), rotation=45, ha=\"right\")\n",
    "    plt.show()\n",
    "\n",
    "    # pořadí populace\n",
    "    largest_population_country = top_countries.iloc[0]\n",
    "    smallest_population_country = top_countries.iloc[-1]\n",
    "\n",
    "    print(\"\\nCountry with the largest population:\", largest_population_country[\"location\"], \"-\", largest_population_country[\"population\"])\n",
    "    print(\"Country with the smallest population:\", smallest_population_country[\"location\"], \"-\", smallest_population_country[\"population\"])\n",
    "else:\n",
    "    print(\"Ve datasetu chybí sloupec 'population', nelze provést analýzu.\")\n"
   ]
  },
  {
   "cell_type": "markdown",
   "metadata": {},
   "source": [
    "<h3><b><span style=\"color: #d68910  ;\"> <<<< 2 >>>> <br>Using your data frame and the plotly library, create a visualization that shows the relationship between population and life expectancy in a country. Do people live longer in countries that have larger populations?\n",
    "Adjust the visualization appearance:\n",
    "Set the X axis to use the logarithmic scale.\n",
    "Set the color of the marker according to the continent where the country is located. Use a different color palette than the default one. You can use the palettes defined in Plotly or define your own palette as a list of colors.\n",
    "Set an appropriate title for the chart.</span>\n"
   ]
  },
  {
   "cell_type": "code",
   "execution_count": 50,
   "metadata": {},
   "outputs": [
    {
     "data": {
      "application/vnd.plotly.v1+json": {
       "config": {
        "plotlyServerURL": "https://plot.ly"
       },
       "data": [
        {
         "hovertemplate": "<b>%{hovertext}</b><br><br>location=China<br>=%{x}<br>Life expectancy=%{y}<extra></extra>",
         "hovertext": [
          "China"
         ],
         "legendgroup": "China",
         "marker": {
          "color": "#636efa",
          "symbol": "circle"
         },
         "mode": "markers",
         "name": "China",
         "orientation": "v",
         "showlegend": true,
         "type": "scatter",
         "x": [
          1444216102
         ],
         "xaxis": "x",
         "y": [
          76.91
         ],
         "yaxis": "y"
        },
        {
         "hovertemplate": "<b>%{hovertext}</b><br><br>location=India<br>=%{x}<br>Life expectancy=%{y}<extra></extra>",
         "hovertext": [
          "India"
         ],
         "legendgroup": "India",
         "marker": {
          "color": "#EF553B",
          "symbol": "circle"
         },
         "mode": "markers",
         "name": "India",
         "orientation": "v",
         "showlegend": true,
         "type": "scatter",
         "x": [
          1393409033
         ],
         "xaxis": "x",
         "y": [
          69.66
         ],
         "yaxis": "y"
        },
        {
         "hovertemplate": "<b>%{hovertext}</b><br><br>location=United States<br>=%{x}<br>Life expectancy=%{y}<extra></extra>",
         "hovertext": [
          "United States"
         ],
         "legendgroup": "United States",
         "marker": {
          "color": "#00cc96",
          "symbol": "circle"
         },
         "mode": "markers",
         "name": "United States",
         "orientation": "v",
         "showlegend": true,
         "type": "scatter",
         "x": [
          332915074
         ],
         "xaxis": "x",
         "y": [
          78.86
         ],
         "yaxis": "y"
        },
        {
         "hovertemplate": "<b>%{hovertext}</b><br><br>location=Indonesia<br>=%{x}<br>Life expectancy=%{y}<extra></extra>",
         "hovertext": [
          "Indonesia"
         ],
         "legendgroup": "Indonesia",
         "marker": {
          "color": "#ab63fa",
          "symbol": "circle"
         },
         "mode": "markers",
         "name": "Indonesia",
         "orientation": "v",
         "showlegend": true,
         "type": "scatter",
         "x": [
          276361788
         ],
         "xaxis": "x",
         "y": [
          71.72
         ],
         "yaxis": "y"
        },
        {
         "hovertemplate": "<b>%{hovertext}</b><br><br>location=Pakistan<br>=%{x}<br>Life expectancy=%{y}<extra></extra>",
         "hovertext": [
          "Pakistan"
         ],
         "legendgroup": "Pakistan",
         "marker": {
          "color": "#FFA15A",
          "symbol": "circle"
         },
         "mode": "markers",
         "name": "Pakistan",
         "orientation": "v",
         "showlegend": true,
         "type": "scatter",
         "x": [
          225199929
         ],
         "xaxis": "x",
         "y": [
          67.27
         ],
         "yaxis": "y"
        },
        {
         "hovertemplate": "<b>%{hovertext}</b><br><br>location=Brazil<br>=%{x}<br>Life expectancy=%{y}<extra></extra>",
         "hovertext": [
          "Brazil"
         ],
         "legendgroup": "Brazil",
         "marker": {
          "color": "#19d3f3",
          "symbol": "circle"
         },
         "mode": "markers",
         "name": "Brazil",
         "orientation": "v",
         "showlegend": true,
         "type": "scatter",
         "x": [
          213993441
         ],
         "xaxis": "x",
         "y": [
          75.88
         ],
         "yaxis": "y"
        },
        {
         "hovertemplate": "<b>%{hovertext}</b><br><br>location=Nigeria<br>=%{x}<br>Life expectancy=%{y}<extra></extra>",
         "hovertext": [
          "Nigeria"
         ],
         "legendgroup": "Nigeria",
         "marker": {
          "color": "#FF6692",
          "symbol": "circle"
         },
         "mode": "markers",
         "name": "Nigeria",
         "orientation": "v",
         "showlegend": true,
         "type": "scatter",
         "x": [
          211400704
         ],
         "xaxis": "x",
         "y": [
          54.69
         ],
         "yaxis": "y"
        },
        {
         "hovertemplate": "<b>%{hovertext}</b><br><br>location=Bangladesh<br>=%{x}<br>Life expectancy=%{y}<extra></extra>",
         "hovertext": [
          "Bangladesh"
         ],
         "legendgroup": "Bangladesh",
         "marker": {
          "color": "#B6E880",
          "symbol": "circle"
         },
         "mode": "markers",
         "name": "Bangladesh",
         "orientation": "v",
         "showlegend": true,
         "type": "scatter",
         "x": [
          166303494
         ],
         "xaxis": "x",
         "y": [
          72.59
         ],
         "yaxis": "y"
        },
        {
         "hovertemplate": "<b>%{hovertext}</b><br><br>location=Russia<br>=%{x}<br>Life expectancy=%{y}<extra></extra>",
         "hovertext": [
          "Russia"
         ],
         "legendgroup": "Russia",
         "marker": {
          "color": "#FF97FF",
          "symbol": "circle"
         },
         "mode": "markers",
         "name": "Russia",
         "orientation": "v",
         "showlegend": true,
         "type": "scatter",
         "x": [
          145912022
         ],
         "xaxis": "x",
         "y": [
          72.58
         ],
         "yaxis": "y"
        },
        {
         "hovertemplate": "<b>%{hovertext}</b><br><br>location=Mexico<br>=%{x}<br>Life expectancy=%{y}<extra></extra>",
         "hovertext": [
          "Mexico"
         ],
         "legendgroup": "Mexico",
         "marker": {
          "color": "#FECB52",
          "symbol": "circle"
         },
         "mode": "markers",
         "name": "Mexico",
         "orientation": "v",
         "showlegend": true,
         "type": "scatter",
         "x": [
          130262220
         ],
         "xaxis": "x",
         "y": [
          75.05
         ],
         "yaxis": "y"
        },
        {
         "hovertemplate": "<b>%{hovertext}</b><br><br>location=Japan<br>=%{x}<br>Life expectancy=%{y}<extra></extra>",
         "hovertext": [
          "Japan"
         ],
         "legendgroup": "Japan",
         "marker": {
          "color": "#636efa",
          "symbol": "circle"
         },
         "mode": "markers",
         "name": "Japan",
         "orientation": "v",
         "showlegend": true,
         "type": "scatter",
         "x": [
          126050796
         ],
         "xaxis": "x",
         "y": [
          84.63
         ],
         "yaxis": "y"
        },
        {
         "hovertemplate": "<b>%{hovertext}</b><br><br>location=Ethiopia<br>=%{x}<br>Life expectancy=%{y}<extra></extra>",
         "hovertext": [
          "Ethiopia"
         ],
         "legendgroup": "Ethiopia",
         "marker": {
          "color": "#EF553B",
          "symbol": "circle"
         },
         "mode": "markers",
         "name": "Ethiopia",
         "orientation": "v",
         "showlegend": true,
         "type": "scatter",
         "x": [
          117876226
         ],
         "xaxis": "x",
         "y": [
          66.6
         ],
         "yaxis": "y"
        },
        {
         "hovertemplate": "<b>%{hovertext}</b><br><br>location=Philippines<br>=%{x}<br>Life expectancy=%{y}<extra></extra>",
         "hovertext": [
          "Philippines"
         ],
         "legendgroup": "Philippines",
         "marker": {
          "color": "#00cc96",
          "symbol": "circle"
         },
         "mode": "markers",
         "name": "Philippines",
         "orientation": "v",
         "showlegend": true,
         "type": "scatter",
         "x": [
          111046910
         ],
         "xaxis": "x",
         "y": [
          71.23
         ],
         "yaxis": "y"
        },
        {
         "hovertemplate": "<b>%{hovertext}</b><br><br>location=Egypt<br>=%{x}<br>Life expectancy=%{y}<extra></extra>",
         "hovertext": [
          "Egypt"
         ],
         "legendgroup": "Egypt",
         "marker": {
          "color": "#ab63fa",
          "symbol": "circle"
         },
         "mode": "markers",
         "name": "Egypt",
         "orientation": "v",
         "showlegend": true,
         "type": "scatter",
         "x": [
          104258327
         ],
         "xaxis": "x",
         "y": [
          71.99
         ],
         "yaxis": "y"
        },
        {
         "hovertemplate": "<b>%{hovertext}</b><br><br>location=Vietnam<br>=%{x}<br>Life expectancy=%{y}<extra></extra>",
         "hovertext": [
          "Vietnam"
         ],
         "legendgroup": "Vietnam",
         "marker": {
          "color": "#FFA15A",
          "symbol": "circle"
         },
         "mode": "markers",
         "name": "Vietnam",
         "orientation": "v",
         "showlegend": true,
         "type": "scatter",
         "x": [
          98168829
         ],
         "xaxis": "x",
         "y": [
          75.4
         ],
         "yaxis": "y"
        },
        {
         "hovertemplate": "<b>%{hovertext}</b><br><br>location=Democratic Republic of Congo<br>=%{x}<br>Life expectancy=%{y}<extra></extra>",
         "hovertext": [
          "Democratic Republic of Congo"
         ],
         "legendgroup": "Democratic Republic of Congo",
         "marker": {
          "color": "#19d3f3",
          "symbol": "circle"
         },
         "mode": "markers",
         "name": "Democratic Republic of Congo",
         "orientation": "v",
         "showlegend": true,
         "type": "scatter",
         "x": [
          92377986
         ],
         "xaxis": "x",
         "y": [
          60.68
         ],
         "yaxis": "y"
        },
        {
         "hovertemplate": "<b>%{hovertext}</b><br><br>location=Turkey<br>=%{x}<br>Life expectancy=%{y}<extra></extra>",
         "hovertext": [
          "Turkey"
         ],
         "legendgroup": "Turkey",
         "marker": {
          "color": "#FF6692",
          "symbol": "circle"
         },
         "mode": "markers",
         "name": "Turkey",
         "orientation": "v",
         "showlegend": true,
         "type": "scatter",
         "x": [
          85042736
         ],
         "xaxis": "x",
         "y": [
          77.69
         ],
         "yaxis": "y"
        },
        {
         "hovertemplate": "<b>%{hovertext}</b><br><br>location=Iran<br>=%{x}<br>Life expectancy=%{y}<extra></extra>",
         "hovertext": [
          "Iran"
         ],
         "legendgroup": "Iran",
         "marker": {
          "color": "#B6E880",
          "symbol": "circle"
         },
         "mode": "markers",
         "name": "Iran",
         "orientation": "v",
         "showlegend": true,
         "type": "scatter",
         "x": [
          85028760
         ],
         "xaxis": "x",
         "y": [
          76.68
         ],
         "yaxis": "y"
        },
        {
         "hovertemplate": "<b>%{hovertext}</b><br><br>location=Germany<br>=%{x}<br>Life expectancy=%{y}<extra></extra>",
         "hovertext": [
          "Germany"
         ],
         "legendgroup": "Germany",
         "marker": {
          "color": "#FF97FF",
          "symbol": "circle"
         },
         "mode": "markers",
         "name": "Germany",
         "orientation": "v",
         "showlegend": true,
         "type": "scatter",
         "x": [
          83900471
         ],
         "xaxis": "x",
         "y": [
          81.33
         ],
         "yaxis": "y"
        },
        {
         "hovertemplate": "<b>%{hovertext}</b><br><br>location=Thailand<br>=%{x}<br>Life expectancy=%{y}<extra></extra>",
         "hovertext": [
          "Thailand"
         ],
         "legendgroup": "Thailand",
         "marker": {
          "color": "#FECB52",
          "symbol": "circle"
         },
         "mode": "markers",
         "name": "Thailand",
         "orientation": "v",
         "showlegend": true,
         "type": "scatter",
         "x": [
          69950844
         ],
         "xaxis": "x",
         "y": [
          77.15
         ],
         "yaxis": "y"
        },
        {
         "hovertemplate": "<b>%{hovertext}</b><br><br>location=United Kingdom<br>=%{x}<br>Life expectancy=%{y}<extra></extra>",
         "hovertext": [
          "United Kingdom"
         ],
         "legendgroup": "United Kingdom",
         "marker": {
          "color": "#636efa",
          "symbol": "circle"
         },
         "mode": "markers",
         "name": "United Kingdom",
         "orientation": "v",
         "showlegend": true,
         "type": "scatter",
         "x": [
          68207114
         ],
         "xaxis": "x",
         "y": [
          81.32
         ],
         "yaxis": "y"
        },
        {
         "hovertemplate": "<b>%{hovertext}</b><br><br>location=France<br>=%{x}<br>Life expectancy=%{y}<extra></extra>",
         "hovertext": [
          "France"
         ],
         "legendgroup": "France",
         "marker": {
          "color": "#EF553B",
          "symbol": "circle"
         },
         "mode": "markers",
         "name": "France",
         "orientation": "v",
         "showlegend": true,
         "type": "scatter",
         "x": [
          67422000
         ],
         "xaxis": "x",
         "y": [
          82.66
         ],
         "yaxis": "y"
        },
        {
         "hovertemplate": "<b>%{hovertext}</b><br><br>location=Tanzania<br>=%{x}<br>Life expectancy=%{y}<extra></extra>",
         "hovertext": [
          "Tanzania"
         ],
         "legendgroup": "Tanzania",
         "marker": {
          "color": "#00cc96",
          "symbol": "circle"
         },
         "mode": "markers",
         "name": "Tanzania",
         "orientation": "v",
         "showlegend": true,
         "type": "scatter",
         "x": [
          61498438
         ],
         "xaxis": "x",
         "y": [
          65.46
         ],
         "yaxis": "y"
        },
        {
         "hovertemplate": "<b>%{hovertext}</b><br><br>location=Italy<br>=%{x}<br>Life expectancy=%{y}<extra></extra>",
         "hovertext": [
          "Italy"
         ],
         "legendgroup": "Italy",
         "marker": {
          "color": "#ab63fa",
          "symbol": "circle"
         },
         "mode": "markers",
         "name": "Italy",
         "orientation": "v",
         "showlegend": true,
         "type": "scatter",
         "x": [
          60367471
         ],
         "xaxis": "x",
         "y": [
          83.51
         ],
         "yaxis": "y"
        },
        {
         "hovertemplate": "<b>%{hovertext}</b><br><br>location=South Africa<br>=%{x}<br>Life expectancy=%{y}<extra></extra>",
         "hovertext": [
          "South Africa"
         ],
         "legendgroup": "South Africa",
         "marker": {
          "color": "#FFA15A",
          "symbol": "circle"
         },
         "mode": "markers",
         "name": "South Africa",
         "orientation": "v",
         "showlegend": true,
         "type": "scatter",
         "x": [
          60041996
         ],
         "xaxis": "x",
         "y": [
          64.13
         ],
         "yaxis": "y"
        },
        {
         "hovertemplate": "<b>%{hovertext}</b><br><br>location=Kenya<br>=%{x}<br>Life expectancy=%{y}<extra></extra>",
         "hovertext": [
          "Kenya"
         ],
         "legendgroup": "Kenya",
         "marker": {
          "color": "#19d3f3",
          "symbol": "circle"
         },
         "mode": "markers",
         "name": "Kenya",
         "orientation": "v",
         "showlegend": true,
         "type": "scatter",
         "x": [
          54985702
         ],
         "xaxis": "x",
         "y": [
          66.7
         ],
         "yaxis": "y"
        },
        {
         "hovertemplate": "<b>%{hovertext}</b><br><br>location=Myanmar<br>=%{x}<br>Life expectancy=%{y}<extra></extra>",
         "hovertext": [
          "Myanmar"
         ],
         "legendgroup": "Myanmar",
         "marker": {
          "color": "#FF6692",
          "symbol": "circle"
         },
         "mode": "markers",
         "name": "Myanmar",
         "orientation": "v",
         "showlegend": true,
         "type": "scatter",
         "x": [
          54806014
         ],
         "xaxis": "x",
         "y": [
          67.13
         ],
         "yaxis": "y"
        },
        {
         "hovertemplate": "<b>%{hovertext}</b><br><br>location=South Korea<br>=%{x}<br>Life expectancy=%{y}<extra></extra>",
         "hovertext": [
          "South Korea"
         ],
         "legendgroup": "South Korea",
         "marker": {
          "color": "#B6E880",
          "symbol": "circle"
         },
         "mode": "markers",
         "name": "South Korea",
         "orientation": "v",
         "showlegend": true,
         "type": "scatter",
         "x": [
          51305184
         ],
         "xaxis": "x",
         "y": [
          83.03
         ],
         "yaxis": "y"
        },
        {
         "hovertemplate": "<b>%{hovertext}</b><br><br>location=Colombia<br>=%{x}<br>Life expectancy=%{y}<extra></extra>",
         "hovertext": [
          "Colombia"
         ],
         "legendgroup": "Colombia",
         "marker": {
          "color": "#FF97FF",
          "symbol": "circle"
         },
         "mode": "markers",
         "name": "Colombia",
         "orientation": "v",
         "showlegend": true,
         "type": "scatter",
         "x": [
          51265841
         ],
         "xaxis": "x",
         "y": [
          77.29
         ],
         "yaxis": "y"
        },
        {
         "hovertemplate": "<b>%{hovertext}</b><br><br>location=Uganda<br>=%{x}<br>Life expectancy=%{y}<extra></extra>",
         "hovertext": [
          "Uganda"
         ],
         "legendgroup": "Uganda",
         "marker": {
          "color": "#FECB52",
          "symbol": "circle"
         },
         "mode": "markers",
         "name": "Uganda",
         "orientation": "v",
         "showlegend": true,
         "type": "scatter",
         "x": [
          47123533
         ],
         "xaxis": "x",
         "y": [
          63.37
         ],
         "yaxis": "y"
        },
        {
         "hovertemplate": "<b>%{hovertext}</b><br><br>location=Spain<br>=%{x}<br>Life expectancy=%{y}<extra></extra>",
         "hovertext": [
          "Spain"
         ],
         "legendgroup": "Spain",
         "marker": {
          "color": "#636efa",
          "symbol": "circle"
         },
         "mode": "markers",
         "name": "Spain",
         "orientation": "v",
         "showlegend": true,
         "type": "scatter",
         "x": [
          46745211
         ],
         "xaxis": "x",
         "y": [
          83.56
         ],
         "yaxis": "y"
        },
        {
         "hovertemplate": "<b>%{hovertext}</b><br><br>location=Argentina<br>=%{x}<br>Life expectancy=%{y}<extra></extra>",
         "hovertext": [
          "Argentina"
         ],
         "legendgroup": "Argentina",
         "marker": {
          "color": "#EF553B",
          "symbol": "circle"
         },
         "mode": "markers",
         "name": "Argentina",
         "orientation": "v",
         "showlegend": true,
         "type": "scatter",
         "x": [
          45605823
         ],
         "xaxis": "x",
         "y": [
          76.67
         ],
         "yaxis": "y"
        },
        {
         "hovertemplate": "<b>%{hovertext}</b><br><br>location=Sudan<br>=%{x}<br>Life expectancy=%{y}<extra></extra>",
         "hovertext": [
          "Sudan"
         ],
         "legendgroup": "Sudan",
         "marker": {
          "color": "#00cc96",
          "symbol": "circle"
         },
         "mode": "markers",
         "name": "Sudan",
         "orientation": "v",
         "showlegend": true,
         "type": "scatter",
         "x": [
          44909351
         ],
         "xaxis": "x",
         "y": [
          65.31
         ],
         "yaxis": "y"
        },
        {
         "hovertemplate": "<b>%{hovertext}</b><br><br>location=Algeria<br>=%{x}<br>Life expectancy=%{y}<extra></extra>",
         "hovertext": [
          "Algeria"
         ],
         "legendgroup": "Algeria",
         "marker": {
          "color": "#ab63fa",
          "symbol": "circle"
         },
         "mode": "markers",
         "name": "Algeria",
         "orientation": "v",
         "showlegend": true,
         "type": "scatter",
         "x": [
          44616626
         ],
         "xaxis": "x",
         "y": [
          76.88
         ],
         "yaxis": "y"
        },
        {
         "hovertemplate": "<b>%{hovertext}</b><br><br>location=Ukraine<br>=%{x}<br>Life expectancy=%{y}<extra></extra>",
         "hovertext": [
          "Ukraine"
         ],
         "legendgroup": "Ukraine",
         "marker": {
          "color": "#FFA15A",
          "symbol": "circle"
         },
         "mode": "markers",
         "name": "Ukraine",
         "orientation": "v",
         "showlegend": true,
         "type": "scatter",
         "x": [
          43466822
         ],
         "xaxis": "x",
         "y": [
          72.06
         ],
         "yaxis": "y"
        },
        {
         "hovertemplate": "<b>%{hovertext}</b><br><br>location=Iraq<br>=%{x}<br>Life expectancy=%{y}<extra></extra>",
         "hovertext": [
          "Iraq"
         ],
         "legendgroup": "Iraq",
         "marker": {
          "color": "#19d3f3",
          "symbol": "circle"
         },
         "mode": "markers",
         "name": "Iraq",
         "orientation": "v",
         "showlegend": true,
         "type": "scatter",
         "x": [
          41179351
         ],
         "xaxis": "x",
         "y": [
          70.6
         ],
         "yaxis": "y"
        },
        {
         "hovertemplate": "<b>%{hovertext}</b><br><br>location=Afghanistan<br>=%{x}<br>Life expectancy=%{y}<extra></extra>",
         "hovertext": [
          "Afghanistan"
         ],
         "legendgroup": "Afghanistan",
         "marker": {
          "color": "#FF6692",
          "symbol": "circle"
         },
         "mode": "markers",
         "name": "Afghanistan",
         "orientation": "v",
         "showlegend": true,
         "type": "scatter",
         "x": [
          39835428
         ],
         "xaxis": "x",
         "y": [
          64.83
         ],
         "yaxis": "y"
        },
        {
         "hovertemplate": "<b>%{hovertext}</b><br><br>location=Canada<br>=%{x}<br>Life expectancy=%{y}<extra></extra>",
         "hovertext": [
          "Canada"
         ],
         "legendgroup": "Canada",
         "marker": {
          "color": "#B6E880",
          "symbol": "circle"
         },
         "mode": "markers",
         "name": "Canada",
         "orientation": "v",
         "showlegend": true,
         "type": "scatter",
         "x": [
          38067913
         ],
         "xaxis": "x",
         "y": [
          82.43
         ],
         "yaxis": "y"
        },
        {
         "hovertemplate": "<b>%{hovertext}</b><br><br>location=Poland<br>=%{x}<br>Life expectancy=%{y}<extra></extra>",
         "hovertext": [
          "Poland"
         ],
         "legendgroup": "Poland",
         "marker": {
          "color": "#FF97FF",
          "symbol": "circle"
         },
         "mode": "markers",
         "name": "Poland",
         "orientation": "v",
         "showlegend": true,
         "type": "scatter",
         "x": [
          37797000
         ],
         "xaxis": "x",
         "y": [
          78.73
         ],
         "yaxis": "y"
        },
        {
         "hovertemplate": "<b>%{hovertext}</b><br><br>location=Morocco<br>=%{x}<br>Life expectancy=%{y}<extra></extra>",
         "hovertext": [
          "Morocco"
         ],
         "legendgroup": "Morocco",
         "marker": {
          "color": "#FECB52",
          "symbol": "circle"
         },
         "mode": "markers",
         "name": "Morocco",
         "orientation": "v",
         "showlegend": true,
         "type": "scatter",
         "x": [
          37344787
         ],
         "xaxis": "x",
         "y": [
          76.68
         ],
         "yaxis": "y"
        },
        {
         "hovertemplate": "<b>%{hovertext}</b><br><br>location=Saudi Arabia<br>=%{x}<br>Life expectancy=%{y}<extra></extra>",
         "hovertext": [
          "Saudi Arabia"
         ],
         "legendgroup": "Saudi Arabia",
         "marker": {
          "color": "#636efa",
          "symbol": "circle"
         },
         "mode": "markers",
         "name": "Saudi Arabia",
         "orientation": "v",
         "showlegend": true,
         "type": "scatter",
         "x": [
          35340680
         ],
         "xaxis": "x",
         "y": [
          75.13
         ],
         "yaxis": "y"
        },
        {
         "hovertemplate": "<b>%{hovertext}</b><br><br>location=Uzbekistan<br>=%{x}<br>Life expectancy=%{y}<extra></extra>",
         "hovertext": [
          "Uzbekistan"
         ],
         "legendgroup": "Uzbekistan",
         "marker": {
          "color": "#EF553B",
          "symbol": "circle"
         },
         "mode": "markers",
         "name": "Uzbekistan",
         "orientation": "v",
         "showlegend": true,
         "type": "scatter",
         "x": [
          33935765
         ],
         "xaxis": "x",
         "y": [
          71.72
         ],
         "yaxis": "y"
        },
        {
         "hovertemplate": "<b>%{hovertext}</b><br><br>location=Angola<br>=%{x}<br>Life expectancy=%{y}<extra></extra>",
         "hovertext": [
          "Angola"
         ],
         "legendgroup": "Angola",
         "marker": {
          "color": "#00cc96",
          "symbol": "circle"
         },
         "mode": "markers",
         "name": "Angola",
         "orientation": "v",
         "showlegend": true,
         "type": "scatter",
         "x": [
          33933611
         ],
         "xaxis": "x",
         "y": [
          61.15
         ],
         "yaxis": "y"
        },
        {
         "hovertemplate": "<b>%{hovertext}</b><br><br>location=Peru<br>=%{x}<br>Life expectancy=%{y}<extra></extra>",
         "hovertext": [
          "Peru"
         ],
         "legendgroup": "Peru",
         "marker": {
          "color": "#ab63fa",
          "symbol": "circle"
         },
         "mode": "markers",
         "name": "Peru",
         "orientation": "v",
         "showlegend": true,
         "type": "scatter",
         "x": [
          33359415
         ],
         "xaxis": "x",
         "y": [
          76.74
         ],
         "yaxis": "y"
        },
        {
         "hovertemplate": "<b>%{hovertext}</b><br><br>location=Malaysia<br>=%{x}<br>Life expectancy=%{y}<extra></extra>",
         "hovertext": [
          "Malaysia"
         ],
         "legendgroup": "Malaysia",
         "marker": {
          "color": "#FFA15A",
          "symbol": "circle"
         },
         "mode": "markers",
         "name": "Malaysia",
         "orientation": "v",
         "showlegend": true,
         "type": "scatter",
         "x": [
          32776195
         ],
         "xaxis": "x",
         "y": [
          76.16
         ],
         "yaxis": "y"
        },
        {
         "hovertemplate": "<b>%{hovertext}</b><br><br>location=Mozambique<br>=%{x}<br>Life expectancy=%{y}<extra></extra>",
         "hovertext": [
          "Mozambique"
         ],
         "legendgroup": "Mozambique",
         "marker": {
          "color": "#19d3f3",
          "symbol": "circle"
         },
         "mode": "markers",
         "name": "Mozambique",
         "orientation": "v",
         "showlegend": true,
         "type": "scatter",
         "x": [
          32163045
         ],
         "xaxis": "x",
         "y": [
          60.85
         ],
         "yaxis": "y"
        },
        {
         "hovertemplate": "<b>%{hovertext}</b><br><br>location=Ghana<br>=%{x}<br>Life expectancy=%{y}<extra></extra>",
         "hovertext": [
          "Ghana"
         ],
         "legendgroup": "Ghana",
         "marker": {
          "color": "#FF6692",
          "symbol": "circle"
         },
         "mode": "markers",
         "name": "Ghana",
         "orientation": "v",
         "showlegend": true,
         "type": "scatter",
         "x": [
          31732128
         ],
         "xaxis": "x",
         "y": [
          64.07
         ],
         "yaxis": "y"
        },
        {
         "hovertemplate": "<b>%{hovertext}</b><br><br>location=Yemen<br>=%{x}<br>Life expectancy=%{y}<extra></extra>",
         "hovertext": [
          "Yemen"
         ],
         "legendgroup": "Yemen",
         "marker": {
          "color": "#B6E880",
          "symbol": "circle"
         },
         "mode": "markers",
         "name": "Yemen",
         "orientation": "v",
         "showlegend": true,
         "type": "scatter",
         "x": [
          30490639
         ],
         "xaxis": "x",
         "y": [
          66.12
         ],
         "yaxis": "y"
        },
        {
         "hovertemplate": "<b>%{hovertext}</b><br><br>location=Nepal<br>=%{x}<br>Life expectancy=%{y}<extra></extra>",
         "hovertext": [
          "Nepal"
         ],
         "legendgroup": "Nepal",
         "marker": {
          "color": "#FF97FF",
          "symbol": "circle"
         },
         "mode": "markers",
         "name": "Nepal",
         "orientation": "v",
         "showlegend": true,
         "type": "scatter",
         "x": [
          29674920
         ],
         "xaxis": "x",
         "y": [
          70.78
         ],
         "yaxis": "y"
        },
        {
         "hovertemplate": "<b>%{hovertext}</b><br><br>location=Venezuela<br>=%{x}<br>Life expectancy=%{y}<extra></extra>",
         "hovertext": [
          "Venezuela"
         ],
         "legendgroup": "Venezuela",
         "marker": {
          "color": "#FECB52",
          "symbol": "circle"
         },
         "mode": "markers",
         "name": "Venezuela",
         "orientation": "v",
         "showlegend": true,
         "type": "scatter",
         "x": [
          28704947
         ],
         "xaxis": "x",
         "y": [
          72.06
         ],
         "yaxis": "y"
        },
        {
         "hovertemplate": "<b>%{hovertext}</b><br><br>location=Madagascar<br>=%{x}<br>Life expectancy=%{y}<extra></extra>",
         "hovertext": [
          "Madagascar"
         ],
         "legendgroup": "Madagascar",
         "marker": {
          "color": "#636efa",
          "symbol": "circle"
         },
         "mode": "markers",
         "name": "Madagascar",
         "orientation": "v",
         "showlegend": true,
         "type": "scatter",
         "x": [
          28427333
         ],
         "xaxis": "x",
         "y": [
          67.04
         ],
         "yaxis": "y"
        },
        {
         "hovertemplate": "<b>%{hovertext}</b><br><br>location=Cameroon<br>=%{x}<br>Life expectancy=%{y}<extra></extra>",
         "hovertext": [
          "Cameroon"
         ],
         "legendgroup": "Cameroon",
         "marker": {
          "color": "#EF553B",
          "symbol": "circle"
         },
         "mode": "markers",
         "name": "Cameroon",
         "orientation": "v",
         "showlegend": true,
         "type": "scatter",
         "x": [
          27224262
         ],
         "xaxis": "x",
         "y": [
          59.29
         ],
         "yaxis": "y"
        },
        {
         "hovertemplate": "<b>%{hovertext}</b><br><br>location=Cote d'Ivoire<br>=%{x}<br>Life expectancy=%{y}<extra></extra>",
         "hovertext": [
          "Cote d'Ivoire"
         ],
         "legendgroup": "Cote d'Ivoire",
         "marker": {
          "color": "#00cc96",
          "symbol": "circle"
         },
         "mode": "markers",
         "name": "Cote d'Ivoire",
         "orientation": "v",
         "showlegend": true,
         "type": "scatter",
         "x": [
          27053629
         ],
         "xaxis": "x",
         "y": [
          57.78
         ],
         "yaxis": "y"
        },
        {
         "hovertemplate": "<b>%{hovertext}</b><br><br>location=North Korea<br>=%{x}<br>Life expectancy=%{y}<extra></extra>",
         "hovertext": [
          "North Korea"
         ],
         "legendgroup": "North Korea",
         "marker": {
          "color": "#ab63fa",
          "symbol": "circle"
         },
         "mode": "markers",
         "name": "North Korea",
         "orientation": "v",
         "showlegend": true,
         "type": "scatter",
         "x": [
          25887045
         ],
         "xaxis": "x",
         "y": [
          72.27
         ],
         "yaxis": "y"
        },
        {
         "hovertemplate": "<b>%{hovertext}</b><br><br>location=Australia<br>=%{x}<br>Life expectancy=%{y}<extra></extra>",
         "hovertext": [
          "Australia"
         ],
         "legendgroup": "Australia",
         "marker": {
          "color": "#FFA15A",
          "symbol": "circle"
         },
         "mode": "markers",
         "name": "Australia",
         "orientation": "v",
         "showlegend": true,
         "type": "scatter",
         "x": [
          25788217
         ],
         "xaxis": "x",
         "y": [
          83.44
         ],
         "yaxis": "y"
        },
        {
         "hovertemplate": "<b>%{hovertext}</b><br><br>location=Niger<br>=%{x}<br>Life expectancy=%{y}<extra></extra>",
         "hovertext": [
          "Niger"
         ],
         "legendgroup": "Niger",
         "marker": {
          "color": "#19d3f3",
          "symbol": "circle"
         },
         "mode": "markers",
         "name": "Niger",
         "orientation": "v",
         "showlegend": true,
         "type": "scatter",
         "x": [
          25130810
         ],
         "xaxis": "x",
         "y": [
          62.42
         ],
         "yaxis": "y"
        },
        {
         "hovertemplate": "<b>%{hovertext}</b><br><br>location=Taiwan<br>=%{x}<br>Life expectancy=%{y}<extra></extra>",
         "hovertext": [
          "Taiwan"
         ],
         "legendgroup": "Taiwan",
         "marker": {
          "color": "#FF6692",
          "symbol": "circle"
         },
         "mode": "markers",
         "name": "Taiwan",
         "orientation": "v",
         "showlegend": true,
         "type": "scatter",
         "x": [
          23855008
         ],
         "xaxis": "x",
         "y": [
          80.46
         ],
         "yaxis": "y"
        },
        {
         "hovertemplate": "<b>%{hovertext}</b><br><br>location=Sri Lanka<br>=%{x}<br>Life expectancy=%{y}<extra></extra>",
         "hovertext": [
          "Sri Lanka"
         ],
         "legendgroup": "Sri Lanka",
         "marker": {
          "color": "#B6E880",
          "symbol": "circle"
         },
         "mode": "markers",
         "name": "Sri Lanka",
         "orientation": "v",
         "showlegend": true,
         "type": "scatter",
         "x": [
          21497306
         ],
         "xaxis": "x",
         "y": [
          76.98
         ],
         "yaxis": "y"
        },
        {
         "hovertemplate": "<b>%{hovertext}</b><br><br>location=Burkina Faso<br>=%{x}<br>Life expectancy=%{y}<extra></extra>",
         "hovertext": [
          "Burkina Faso"
         ],
         "legendgroup": "Burkina Faso",
         "marker": {
          "color": "#FF97FF",
          "symbol": "circle"
         },
         "mode": "markers",
         "name": "Burkina Faso",
         "orientation": "v",
         "showlegend": true,
         "type": "scatter",
         "x": [
          21497097
         ],
         "xaxis": "x",
         "y": [
          61.58
         ],
         "yaxis": "y"
        },
        {
         "hovertemplate": "<b>%{hovertext}</b><br><br>location=Mali<br>=%{x}<br>Life expectancy=%{y}<extra></extra>",
         "hovertext": [
          "Mali"
         ],
         "legendgroup": "Mali",
         "marker": {
          "color": "#FECB52",
          "symbol": "circle"
         },
         "mode": "markers",
         "name": "Mali",
         "orientation": "v",
         "showlegend": true,
         "type": "scatter",
         "x": [
          20855724
         ],
         "xaxis": "x",
         "y": [
          59.31
         ],
         "yaxis": "y"
        },
        {
         "hovertemplate": "<b>%{hovertext}</b><br><br>location=Malawi<br>=%{x}<br>Life expectancy=%{y}<extra></extra>",
         "hovertext": [
          "Malawi"
         ],
         "legendgroup": "Malawi",
         "marker": {
          "color": "#636efa",
          "symbol": "circle"
         },
         "mode": "markers",
         "name": "Malawi",
         "orientation": "v",
         "showlegend": true,
         "type": "scatter",
         "x": [
          19647681
         ],
         "xaxis": "x",
         "y": [
          64.26
         ],
         "yaxis": "y"
        },
        {
         "hovertemplate": "<b>%{hovertext}</b><br><br>location=Chile<br>=%{x}<br>Life expectancy=%{y}<extra></extra>",
         "hovertext": [
          "Chile"
         ],
         "legendgroup": "Chile",
         "marker": {
          "color": "#EF553B",
          "symbol": "circle"
         },
         "mode": "markers",
         "name": "Chile",
         "orientation": "v",
         "showlegend": true,
         "type": "scatter",
         "x": [
          19212362
         ],
         "xaxis": "x",
         "y": [
          80.18
         ],
         "yaxis": "y"
        },
        {
         "hovertemplate": "<b>%{hovertext}</b><br><br>location=Romania<br>=%{x}<br>Life expectancy=%{y}<extra></extra>",
         "hovertext": [
          "Romania"
         ],
         "legendgroup": "Romania",
         "marker": {
          "color": "#00cc96",
          "symbol": "circle"
         },
         "mode": "markers",
         "name": "Romania",
         "orientation": "v",
         "showlegend": true,
         "type": "scatter",
         "x": [
          19127772
         ],
         "xaxis": "x",
         "y": [
          76.05
         ],
         "yaxis": "y"
        },
        {
         "hovertemplate": "<b>%{hovertext}</b><br><br>location=Kazakhstan<br>=%{x}<br>Life expectancy=%{y}<extra></extra>",
         "hovertext": [
          "Kazakhstan"
         ],
         "legendgroup": "Kazakhstan",
         "marker": {
          "color": "#ab63fa",
          "symbol": "circle"
         },
         "mode": "markers",
         "name": "Kazakhstan",
         "orientation": "v",
         "showlegend": true,
         "type": "scatter",
         "x": [
          18994958
         ],
         "xaxis": "x",
         "y": [
          73.6
         ],
         "yaxis": "y"
        },
        {
         "hovertemplate": "<b>%{hovertext}</b><br><br>location=Zambia<br>=%{x}<br>Life expectancy=%{y}<extra></extra>",
         "hovertext": [
          "Zambia"
         ],
         "legendgroup": "Zambia",
         "marker": {
          "color": "#FFA15A",
          "symbol": "circle"
         },
         "mode": "markers",
         "name": "Zambia",
         "orientation": "v",
         "showlegend": true,
         "type": "scatter",
         "x": [
          18920657
         ],
         "xaxis": "x",
         "y": [
          63.89
         ],
         "yaxis": "y"
        },
        {
         "hovertemplate": "<b>%{hovertext}</b><br><br>location=Syria<br>=%{x}<br>Life expectancy=%{y}<extra></extra>",
         "hovertext": [
          "Syria"
         ],
         "legendgroup": "Syria",
         "marker": {
          "color": "#19d3f3",
          "symbol": "circle"
         },
         "mode": "markers",
         "name": "Syria",
         "orientation": "v",
         "showlegend": true,
         "type": "scatter",
         "x": [
          18275704
         ],
         "xaxis": "x",
         "y": [
          72.7
         ],
         "yaxis": "y"
        },
        {
         "hovertemplate": "<b>%{hovertext}</b><br><br>location=Guatemala<br>=%{x}<br>Life expectancy=%{y}<extra></extra>",
         "hovertext": [
          "Guatemala"
         ],
         "legendgroup": "Guatemala",
         "marker": {
          "color": "#FF6692",
          "symbol": "circle"
         },
         "mode": "markers",
         "name": "Guatemala",
         "orientation": "v",
         "showlegend": true,
         "type": "scatter",
         "x": [
          18249868
         ],
         "xaxis": "x",
         "y": [
          74.3
         ],
         "yaxis": "y"
        },
        {
         "hovertemplate": "<b>%{hovertext}</b><br><br>location=Ecuador<br>=%{x}<br>Life expectancy=%{y}<extra></extra>",
         "hovertext": [
          "Ecuador"
         ],
         "legendgroup": "Ecuador",
         "marker": {
          "color": "#B6E880",
          "symbol": "circle"
         },
         "mode": "markers",
         "name": "Ecuador",
         "orientation": "v",
         "showlegend": true,
         "type": "scatter",
         "x": [
          17888474
         ],
         "xaxis": "x",
         "y": [
          77.01
         ],
         "yaxis": "y"
        },
        {
         "hovertemplate": "<b>%{hovertext}</b><br><br>location=Senegal<br>=%{x}<br>Life expectancy=%{y}<extra></extra>",
         "hovertext": [
          "Senegal"
         ],
         "legendgroup": "Senegal",
         "marker": {
          "color": "#FF97FF",
          "symbol": "circle"
         },
         "mode": "markers",
         "name": "Senegal",
         "orientation": "v",
         "showlegend": true,
         "type": "scatter",
         "x": [
          17196308
         ],
         "xaxis": "x",
         "y": [
          67.94
         ],
         "yaxis": "y"
        },
        {
         "hovertemplate": "<b>%{hovertext}</b><br><br>location=Netherlands<br>=%{x}<br>Life expectancy=%{y}<extra></extra>",
         "hovertext": [
          "Netherlands"
         ],
         "legendgroup": "Netherlands",
         "marker": {
          "color": "#FECB52",
          "symbol": "circle"
         },
         "mode": "markers",
         "name": "Netherlands",
         "orientation": "v",
         "showlegend": true,
         "type": "scatter",
         "x": [
          17173094
         ],
         "xaxis": "x",
         "y": [
          82.28
         ],
         "yaxis": "y"
        },
        {
         "hovertemplate": "<b>%{hovertext}</b><br><br>location=Cambodia<br>=%{x}<br>Life expectancy=%{y}<extra></extra>",
         "hovertext": [
          "Cambodia"
         ],
         "legendgroup": "Cambodia",
         "marker": {
          "color": "#636efa",
          "symbol": "circle"
         },
         "mode": "markers",
         "name": "Cambodia",
         "orientation": "v",
         "showlegend": true,
         "type": "scatter",
         "x": [
          16946446
         ],
         "xaxis": "x",
         "y": [
          69.82
         ],
         "yaxis": "y"
        },
        {
         "hovertemplate": "<b>%{hovertext}</b><br><br>location=Chad<br>=%{x}<br>Life expectancy=%{y}<extra></extra>",
         "hovertext": [
          "Chad"
         ],
         "legendgroup": "Chad",
         "marker": {
          "color": "#EF553B",
          "symbol": "circle"
         },
         "mode": "markers",
         "name": "Chad",
         "orientation": "v",
         "showlegend": true,
         "type": "scatter",
         "x": [
          16914985
         ],
         "xaxis": "x",
         "y": [
          54.24
         ],
         "yaxis": "y"
        },
        {
         "hovertemplate": "<b>%{hovertext}</b><br><br>location=Somalia<br>=%{x}<br>Life expectancy=%{y}<extra></extra>",
         "hovertext": [
          "Somalia"
         ],
         "legendgroup": "Somalia",
         "marker": {
          "color": "#00cc96",
          "symbol": "circle"
         },
         "mode": "markers",
         "name": "Somalia",
         "orientation": "v",
         "showlegend": true,
         "type": "scatter",
         "x": [
          16359500
         ],
         "xaxis": "x",
         "y": [
          57.4
         ],
         "yaxis": "y"
        },
        {
         "hovertemplate": "<b>%{hovertext}</b><br><br>location=Zimbabwe<br>=%{x}<br>Life expectancy=%{y}<extra></extra>",
         "hovertext": [
          "Zimbabwe"
         ],
         "legendgroup": "Zimbabwe",
         "marker": {
          "color": "#ab63fa",
          "symbol": "circle"
         },
         "mode": "markers",
         "name": "Zimbabwe",
         "orientation": "v",
         "showlegend": true,
         "type": "scatter",
         "x": [
          15092171
         ],
         "xaxis": "x",
         "y": [
          61.49
         ],
         "yaxis": "y"
        },
        {
         "hovertemplate": "<b>%{hovertext}</b><br><br>location=Guinea<br>=%{x}<br>Life expectancy=%{y}<extra></extra>",
         "hovertext": [
          "Guinea"
         ],
         "legendgroup": "Guinea",
         "marker": {
          "color": "#FFA15A",
          "symbol": "circle"
         },
         "mode": "markers",
         "name": "Guinea",
         "orientation": "v",
         "showlegend": true,
         "type": "scatter",
         "x": [
          13497237
         ],
         "xaxis": "x",
         "y": [
          61.6
         ],
         "yaxis": "y"
        },
        {
         "hovertemplate": "<b>%{hovertext}</b><br><br>location=Rwanda<br>=%{x}<br>Life expectancy=%{y}<extra></extra>",
         "hovertext": [
          "Rwanda"
         ],
         "legendgroup": "Rwanda",
         "marker": {
          "color": "#19d3f3",
          "symbol": "circle"
         },
         "mode": "markers",
         "name": "Rwanda",
         "orientation": "v",
         "showlegend": true,
         "type": "scatter",
         "x": [
          13276517
         ],
         "xaxis": "x",
         "y": [
          69.02
         ],
         "yaxis": "y"
        },
        {
         "hovertemplate": "<b>%{hovertext}</b><br><br>location=Benin<br>=%{x}<br>Life expectancy=%{y}<extra></extra>",
         "hovertext": [
          "Benin"
         ],
         "legendgroup": "Benin",
         "marker": {
          "color": "#FF6692",
          "symbol": "circle"
         },
         "mode": "markers",
         "name": "Benin",
         "orientation": "v",
         "showlegend": true,
         "type": "scatter",
         "x": [
          12451031
         ],
         "xaxis": "x",
         "y": [
          61.77
         ],
         "yaxis": "y"
        },
        {
         "hovertemplate": "<b>%{hovertext}</b><br><br>location=Burundi<br>=%{x}<br>Life expectancy=%{y}<extra></extra>",
         "hovertext": [
          "Burundi"
         ],
         "legendgroup": "Burundi",
         "marker": {
          "color": "#B6E880",
          "symbol": "circle"
         },
         "mode": "markers",
         "name": "Burundi",
         "orientation": "v",
         "showlegend": true,
         "type": "scatter",
         "x": [
          12255429
         ],
         "xaxis": "x",
         "y": [
          61.58
         ],
         "yaxis": "y"
        },
        {
         "hovertemplate": "<b>%{hovertext}</b><br><br>location=Tunisia<br>=%{x}<br>Life expectancy=%{y}<extra></extra>",
         "hovertext": [
          "Tunisia"
         ],
         "legendgroup": "Tunisia",
         "marker": {
          "color": "#FF97FF",
          "symbol": "circle"
         },
         "mode": "markers",
         "name": "Tunisia",
         "orientation": "v",
         "showlegend": true,
         "type": "scatter",
         "x": [
          11935764
         ],
         "xaxis": "x",
         "y": [
          76.7
         ],
         "yaxis": "y"
        },
        {
         "hovertemplate": "<b>%{hovertext}</b><br><br>location=Bolivia<br>=%{x}<br>Life expectancy=%{y}<extra></extra>",
         "hovertext": [
          "Bolivia"
         ],
         "legendgroup": "Bolivia",
         "marker": {
          "color": "#FECB52",
          "symbol": "circle"
         },
         "mode": "markers",
         "name": "Bolivia",
         "orientation": "v",
         "showlegend": true,
         "type": "scatter",
         "x": [
          11832936
         ],
         "xaxis": "x",
         "y": [
          71.51
         ],
         "yaxis": "y"
        },
        {
         "hovertemplate": "<b>%{hovertext}</b><br><br>location=Belgium<br>=%{x}<br>Life expectancy=%{y}<extra></extra>",
         "hovertext": [
          "Belgium"
         ],
         "legendgroup": "Belgium",
         "marker": {
          "color": "#636efa",
          "symbol": "circle"
         },
         "mode": "markers",
         "name": "Belgium",
         "orientation": "v",
         "showlegend": true,
         "type": "scatter",
         "x": [
          11632334
         ],
         "xaxis": "x",
         "y": [
          81.63
         ],
         "yaxis": "y"
        },
        {
         "hovertemplate": "<b>%{hovertext}</b><br><br>location=Haiti<br>=%{x}<br>Life expectancy=%{y}<extra></extra>",
         "hovertext": [
          "Haiti"
         ],
         "legendgroup": "Haiti",
         "marker": {
          "color": "#EF553B",
          "symbol": "circle"
         },
         "mode": "markers",
         "name": "Haiti",
         "orientation": "v",
         "showlegend": true,
         "type": "scatter",
         "x": [
          11541683
         ],
         "xaxis": "x",
         "y": [
          64
         ],
         "yaxis": "y"
        },
        {
         "hovertemplate": "<b>%{hovertext}</b><br><br>location=South Sudan<br>=%{x}<br>Life expectancy=%{y}<extra></extra>",
         "hovertext": [
          "South Sudan"
         ],
         "legendgroup": "South Sudan",
         "marker": {
          "color": "#00cc96",
          "symbol": "circle"
         },
         "mode": "markers",
         "name": "South Sudan",
         "orientation": "v",
         "showlegend": true,
         "type": "scatter",
         "x": [
          11381377
         ],
         "xaxis": "x",
         "y": [
          57.85
         ],
         "yaxis": "y"
        },
        {
         "hovertemplate": "<b>%{hovertext}</b><br><br>location=Cuba<br>=%{x}<br>Life expectancy=%{y}<extra></extra>",
         "hovertext": [
          "Cuba"
         ],
         "legendgroup": "Cuba",
         "marker": {
          "color": "#ab63fa",
          "symbol": "circle"
         },
         "mode": "markers",
         "name": "Cuba",
         "orientation": "v",
         "showlegend": true,
         "type": "scatter",
         "x": [
          11317498
         ],
         "xaxis": "x",
         "y": [
          78.8
         ],
         "yaxis": "y"
        },
        {
         "hovertemplate": "<b>%{hovertext}</b><br><br>location=Dominican Republic<br>=%{x}<br>Life expectancy=%{y}<extra></extra>",
         "hovertext": [
          "Dominican Republic"
         ],
         "legendgroup": "Dominican Republic",
         "marker": {
          "color": "#FFA15A",
          "symbol": "circle"
         },
         "mode": "markers",
         "name": "Dominican Republic",
         "orientation": "v",
         "showlegend": true,
         "type": "scatter",
         "x": [
          10953714
         ],
         "xaxis": "x",
         "y": [
          74.08
         ],
         "yaxis": "y"
        },
        {
         "hovertemplate": "<b>%{hovertext}</b><br><br>location=Czechia<br>=%{x}<br>Life expectancy=%{y}<extra></extra>",
         "hovertext": [
          "Czechia"
         ],
         "legendgroup": "Czechia",
         "marker": {
          "color": "#19d3f3",
          "symbol": "circle"
         },
         "mode": "markers",
         "name": "Czechia",
         "orientation": "v",
         "showlegend": true,
         "type": "scatter",
         "x": [
          10724553
         ],
         "xaxis": "x",
         "y": [
          79.38
         ],
         "yaxis": "y"
        },
        {
         "hovertemplate": "<b>%{hovertext}</b><br><br>location=Greece<br>=%{x}<br>Life expectancy=%{y}<extra></extra>",
         "hovertext": [
          "Greece"
         ],
         "legendgroup": "Greece",
         "marker": {
          "color": "#FF6692",
          "symbol": "circle"
         },
         "mode": "markers",
         "name": "Greece",
         "orientation": "v",
         "showlegend": true,
         "type": "scatter",
         "x": [
          10370747
         ],
         "xaxis": "x",
         "y": [
          82.24
         ],
         "yaxis": "y"
        },
        {
         "hovertemplate": "<b>%{hovertext}</b><br><br>location=Jordan<br>=%{x}<br>Life expectancy=%{y}<extra></extra>",
         "hovertext": [
          "Jordan"
         ],
         "legendgroup": "Jordan",
         "marker": {
          "color": "#B6E880",
          "symbol": "circle"
         },
         "mode": "markers",
         "name": "Jordan",
         "orientation": "v",
         "showlegend": true,
         "type": "scatter",
         "x": [
          10269022
         ],
         "xaxis": "x",
         "y": [
          74.53
         ],
         "yaxis": "y"
        },
        {
         "hovertemplate": "<b>%{hovertext}</b><br><br>location=Azerbaijan<br>=%{x}<br>Life expectancy=%{y}<extra></extra>",
         "hovertext": [
          "Azerbaijan"
         ],
         "legendgroup": "Azerbaijan",
         "marker": {
          "color": "#FF97FF",
          "symbol": "circle"
         },
         "mode": "markers",
         "name": "Azerbaijan",
         "orientation": "v",
         "showlegend": true,
         "type": "scatter",
         "x": [
          10223344
         ],
         "xaxis": "x",
         "y": [
          73
         ],
         "yaxis": "y"
        },
        {
         "hovertemplate": "<b>%{hovertext}</b><br><br>location=Portugal<br>=%{x}<br>Life expectancy=%{y}<extra></extra>",
         "hovertext": [
          "Portugal"
         ],
         "legendgroup": "Portugal",
         "marker": {
          "color": "#FECB52",
          "symbol": "circle"
         },
         "mode": "markers",
         "name": "Portugal",
         "orientation": "v",
         "showlegend": true,
         "type": "scatter",
         "x": [
          10167923
         ],
         "xaxis": "x",
         "y": [
          82.05
         ],
         "yaxis": "y"
        },
        {
         "hovertemplate": "<b>%{hovertext}</b><br><br>location=Sweden<br>=%{x}<br>Life expectancy=%{y}<extra></extra>",
         "hovertext": [
          "Sweden"
         ],
         "legendgroup": "Sweden",
         "marker": {
          "color": "#636efa",
          "symbol": "circle"
         },
         "mode": "markers",
         "name": "Sweden",
         "orientation": "v",
         "showlegend": true,
         "type": "scatter",
         "x": [
          10160159
         ],
         "xaxis": "x",
         "y": [
          82.8
         ],
         "yaxis": "y"
        },
        {
         "hovertemplate": "<b>%{hovertext}</b><br><br>location=Honduras<br>=%{x}<br>Life expectancy=%{y}<extra></extra>",
         "hovertext": [
          "Honduras"
         ],
         "legendgroup": "Honduras",
         "marker": {
          "color": "#EF553B",
          "symbol": "circle"
         },
         "mode": "markers",
         "name": "Honduras",
         "orientation": "v",
         "showlegend": true,
         "type": "scatter",
         "x": [
          10062994
         ],
         "xaxis": "x",
         "y": [
          75.27
         ],
         "yaxis": "y"
        },
        {
         "hovertemplate": "<b>%{hovertext}</b><br><br>location=United Arab Emirates<br>=%{x}<br>Life expectancy=%{y}<extra></extra>",
         "hovertext": [
          "United Arab Emirates"
         ],
         "legendgroup": "United Arab Emirates",
         "marker": {
          "color": "#00cc96",
          "symbol": "circle"
         },
         "mode": "markers",
         "name": "United Arab Emirates",
         "orientation": "v",
         "showlegend": true,
         "type": "scatter",
         "x": [
          9991083
         ],
         "xaxis": "x",
         "y": [
          77.97
         ],
         "yaxis": "y"
        },
        {
         "hovertemplate": "<b>%{hovertext}</b><br><br>location=Tajikistan<br>=%{x}<br>Life expectancy=%{y}<extra></extra>",
         "hovertext": [
          "Tajikistan"
         ],
         "legendgroup": "Tajikistan",
         "marker": {
          "color": "#ab63fa",
          "symbol": "circle"
         },
         "mode": "markers",
         "name": "Tajikistan",
         "orientation": "v",
         "showlegend": true,
         "type": "scatter",
         "x": [
          9749625
         ],
         "xaxis": "x",
         "y": [
          71.1
         ],
         "yaxis": "y"
        },
        {
         "hovertemplate": "<b>%{hovertext}</b><br><br>location=Hungary<br>=%{x}<br>Life expectancy=%{y}<extra></extra>",
         "hovertext": [
          "Hungary"
         ],
         "legendgroup": "Hungary",
         "marker": {
          "color": "#FFA15A",
          "symbol": "circle"
         },
         "mode": "markers",
         "name": "Hungary",
         "orientation": "v",
         "showlegend": true,
         "type": "scatter",
         "x": [
          9634162
         ],
         "xaxis": "x",
         "y": [
          76.88
         ],
         "yaxis": "y"
        },
        {
         "hovertemplate": "<b>%{hovertext}</b><br><br>location=Belarus<br>=%{x}<br>Life expectancy=%{y}<extra></extra>",
         "hovertext": [
          "Belarus"
         ],
         "legendgroup": "Belarus",
         "marker": {
          "color": "#19d3f3",
          "symbol": "circle"
         },
         "mode": "markers",
         "name": "Belarus",
         "orientation": "v",
         "showlegend": true,
         "type": "scatter",
         "x": [
          9442867
         ],
         "xaxis": "x",
         "y": [
          74.79
         ],
         "yaxis": "y"
        },
        {
         "hovertemplate": "<b>%{hovertext}</b><br><br>location=Israel<br>=%{x}<br>Life expectancy=%{y}<extra></extra>",
         "hovertext": [
          "Israel"
         ],
         "legendgroup": "Israel",
         "marker": {
          "color": "#FF6692",
          "symbol": "circle"
         },
         "mode": "markers",
         "name": "Israel",
         "orientation": "v",
         "showlegend": true,
         "type": "scatter",
         "x": [
          9291000
         ],
         "xaxis": "x",
         "y": [
          82.97
         ],
         "yaxis": "y"
        },
        {
         "hovertemplate": "<b>%{hovertext}</b><br><br>location=Papua New Guinea<br>=%{x}<br>Life expectancy=%{y}<extra></extra>",
         "hovertext": [
          "Papua New Guinea"
         ],
         "legendgroup": "Papua New Guinea",
         "marker": {
          "color": "#B6E880",
          "symbol": "circle"
         },
         "mode": "markers",
         "name": "Papua New Guinea",
         "orientation": "v",
         "showlegend": true,
         "type": "scatter",
         "x": [
          9119005
         ],
         "xaxis": "x",
         "y": [
          64.5
         ],
         "yaxis": "y"
        },
        {
         "hovertemplate": "<b>%{hovertext}</b><br><br>location=Austria<br>=%{x}<br>Life expectancy=%{y}<extra></extra>",
         "hovertext": [
          "Austria"
         ],
         "legendgroup": "Austria",
         "marker": {
          "color": "#FF97FF",
          "symbol": "circle"
         },
         "mode": "markers",
         "name": "Austria",
         "orientation": "v",
         "showlegend": true,
         "type": "scatter",
         "x": [
          9043072
         ],
         "xaxis": "x",
         "y": [
          81.54
         ],
         "yaxis": "y"
        },
        {
         "hovertemplate": "<b>%{hovertext}</b><br><br>location=Switzerland<br>=%{x}<br>Life expectancy=%{y}<extra></extra>",
         "hovertext": [
          "Switzerland"
         ],
         "legendgroup": "Switzerland",
         "marker": {
          "color": "#FECB52",
          "symbol": "circle"
         },
         "mode": "markers",
         "name": "Switzerland",
         "orientation": "v",
         "showlegend": true,
         "type": "scatter",
         "x": [
          8715494
         ],
         "xaxis": "x",
         "y": [
          83.78
         ],
         "yaxis": "y"
        },
        {
         "hovertemplate": "<b>%{hovertext}</b><br><br>location=Togo<br>=%{x}<br>Life expectancy=%{y}<extra></extra>",
         "hovertext": [
          "Togo"
         ],
         "legendgroup": "Togo",
         "marker": {
          "color": "#636efa",
          "symbol": "circle"
         },
         "mode": "markers",
         "name": "Togo",
         "orientation": "v",
         "showlegend": true,
         "type": "scatter",
         "x": [
          8478242
         ],
         "xaxis": "x",
         "y": [
          61.04
         ],
         "yaxis": "y"
        },
        {
         "hovertemplate": "<b>%{hovertext}</b><br><br>location=Sierra Leone<br>=%{x}<br>Life expectancy=%{y}<extra></extra>",
         "hovertext": [
          "Sierra Leone"
         ],
         "legendgroup": "Sierra Leone",
         "marker": {
          "color": "#EF553B",
          "symbol": "circle"
         },
         "mode": "markers",
         "name": "Sierra Leone",
         "orientation": "v",
         "showlegend": true,
         "type": "scatter",
         "x": [
          8141343
         ],
         "xaxis": "x",
         "y": [
          54.7
         ],
         "yaxis": "y"
        },
        {
         "hovertemplate": "<b>%{hovertext}</b><br><br>location=Hong Kong<br>=%{x}<br>Life expectancy=%{y}<extra></extra>",
         "hovertext": [
          "Hong Kong"
         ],
         "legendgroup": "Hong Kong",
         "marker": {
          "color": "#00cc96",
          "symbol": "circle"
         },
         "mode": "markers",
         "name": "Hong Kong",
         "orientation": "v",
         "showlegend": true,
         "type": "scatter",
         "x": [
          7552800
         ],
         "xaxis": "x",
         "y": [
          84.86
         ],
         "yaxis": "y"
        },
        {
         "hovertemplate": "<b>%{hovertext}</b><br><br>location=Laos<br>=%{x}<br>Life expectancy=%{y}<extra></extra>",
         "hovertext": [
          "Laos"
         ],
         "legendgroup": "Laos",
         "marker": {
          "color": "#ab63fa",
          "symbol": "circle"
         },
         "mode": "markers",
         "name": "Laos",
         "orientation": "v",
         "showlegend": true,
         "type": "scatter",
         "x": [
          7379358
         ],
         "xaxis": "x",
         "y": [
          67.92
         ],
         "yaxis": "y"
        },
        {
         "hovertemplate": "<b>%{hovertext}</b><br><br>location=Paraguay<br>=%{x}<br>Life expectancy=%{y}<extra></extra>",
         "hovertext": [
          "Paraguay"
         ],
         "legendgroup": "Paraguay",
         "marker": {
          "color": "#FFA15A",
          "symbol": "circle"
         },
         "mode": "markers",
         "name": "Paraguay",
         "orientation": "v",
         "showlegend": true,
         "type": "scatter",
         "x": [
          7219641
         ],
         "xaxis": "x",
         "y": [
          74.25
         ],
         "yaxis": "y"
        },
        {
         "hovertemplate": "<b>%{hovertext}</b><br><br>location=Libya<br>=%{x}<br>Life expectancy=%{y}<extra></extra>",
         "hovertext": [
          "Libya"
         ],
         "legendgroup": "Libya",
         "marker": {
          "color": "#19d3f3",
          "symbol": "circle"
         },
         "mode": "markers",
         "name": "Libya",
         "orientation": "v",
         "showlegend": true,
         "type": "scatter",
         "x": [
          6958538
         ],
         "xaxis": "x",
         "y": [
          72.91
         ],
         "yaxis": "y"
        },
        {
         "hovertemplate": "<b>%{hovertext}</b><br><br>location=Bulgaria<br>=%{x}<br>Life expectancy=%{y}<extra></extra>",
         "hovertext": [
          "Bulgaria"
         ],
         "legendgroup": "Bulgaria",
         "marker": {
          "color": "#FF6692",
          "symbol": "circle"
         },
         "mode": "markers",
         "name": "Bulgaria",
         "orientation": "v",
         "showlegend": true,
         "type": "scatter",
         "x": [
          6896655
         ],
         "xaxis": "x",
         "y": [
          75.05
         ],
         "yaxis": "y"
        },
        {
         "hovertemplate": "<b>%{hovertext}</b><br><br>location=Serbia<br>=%{x}<br>Life expectancy=%{y}<extra></extra>",
         "hovertext": [
          "Serbia"
         ],
         "legendgroup": "Serbia",
         "marker": {
          "color": "#B6E880",
          "symbol": "circle"
         },
         "mode": "markers",
         "name": "Serbia",
         "orientation": "v",
         "showlegend": true,
         "type": "scatter",
         "x": [
          6871547
         ],
         "xaxis": "x",
         "y": [
          76
         ],
         "yaxis": "y"
        },
        {
         "hovertemplate": "<b>%{hovertext}</b><br><br>location=Lebanon<br>=%{x}<br>Life expectancy=%{y}<extra></extra>",
         "hovertext": [
          "Lebanon"
         ],
         "legendgroup": "Lebanon",
         "marker": {
          "color": "#FF97FF",
          "symbol": "circle"
         },
         "mode": "markers",
         "name": "Lebanon",
         "orientation": "v",
         "showlegend": true,
         "type": "scatter",
         "x": [
          6769151
         ],
         "xaxis": "x",
         "y": [
          78.93
         ],
         "yaxis": "y"
        },
        {
         "hovertemplate": "<b>%{hovertext}</b><br><br>location=Nicaragua<br>=%{x}<br>Life expectancy=%{y}<extra></extra>",
         "hovertext": [
          "Nicaragua"
         ],
         "legendgroup": "Nicaragua",
         "marker": {
          "color": "#FECB52",
          "symbol": "circle"
         },
         "mode": "markers",
         "name": "Nicaragua",
         "orientation": "v",
         "showlegend": true,
         "type": "scatter",
         "x": [
          6702379
         ],
         "xaxis": "x",
         "y": [
          74.48
         ],
         "yaxis": "y"
        },
        {
         "hovertemplate": "<b>%{hovertext}</b><br><br>location=Kyrgyzstan<br>=%{x}<br>Life expectancy=%{y}<extra></extra>",
         "hovertext": [
          "Kyrgyzstan"
         ],
         "legendgroup": "Kyrgyzstan",
         "marker": {
          "color": "#636efa",
          "symbol": "circle"
         },
         "mode": "markers",
         "name": "Kyrgyzstan",
         "orientation": "v",
         "showlegend": true,
         "type": "scatter",
         "x": [
          6628347
         ],
         "xaxis": "x",
         "y": [
          71.45
         ],
         "yaxis": "y"
        },
        {
         "hovertemplate": "<b>%{hovertext}</b><br><br>location=El Salvador<br>=%{x}<br>Life expectancy=%{y}<extra></extra>",
         "hovertext": [
          "El Salvador"
         ],
         "legendgroup": "El Salvador",
         "marker": {
          "color": "#EF553B",
          "symbol": "circle"
         },
         "mode": "markers",
         "name": "El Salvador",
         "orientation": "v",
         "showlegend": true,
         "type": "scatter",
         "x": [
          6518500
         ],
         "xaxis": "x",
         "y": [
          73.32
         ],
         "yaxis": "y"
        },
        {
         "hovertemplate": "<b>%{hovertext}</b><br><br>location=Turkmenistan<br>=%{x}<br>Life expectancy=%{y}<extra></extra>",
         "hovertext": [
          "Turkmenistan"
         ],
         "legendgroup": "Turkmenistan",
         "marker": {
          "color": "#00cc96",
          "symbol": "circle"
         },
         "mode": "markers",
         "name": "Turkmenistan",
         "orientation": "v",
         "showlegend": true,
         "type": "scatter",
         "x": [
          6117933
         ],
         "xaxis": "x",
         "y": [
          68.19
         ],
         "yaxis": "y"
        },
        {
         "hovertemplate": "<b>%{hovertext}</b><br><br>location=Denmark<br>=%{x}<br>Life expectancy=%{y}<extra></extra>",
         "hovertext": [
          "Denmark"
         ],
         "legendgroup": "Denmark",
         "marker": {
          "color": "#ab63fa",
          "symbol": "circle"
         },
         "mode": "markers",
         "name": "Denmark",
         "orientation": "v",
         "showlegend": true,
         "type": "scatter",
         "x": [
          5813302
         ],
         "xaxis": "x",
         "y": [
          80.9
         ],
         "yaxis": "y"
        },
        {
         "hovertemplate": "<b>%{hovertext}</b><br><br>location=Congo<br>=%{x}<br>Life expectancy=%{y}<extra></extra>",
         "hovertext": [
          "Congo"
         ],
         "legendgroup": "Congo",
         "marker": {
          "color": "#FFA15A",
          "symbol": "circle"
         },
         "mode": "markers",
         "name": "Congo",
         "orientation": "v",
         "showlegend": true,
         "type": "scatter",
         "x": [
          5657017
         ],
         "xaxis": "x",
         "y": [
          64.57
         ],
         "yaxis": "y"
        },
        {
         "hovertemplate": "<b>%{hovertext}</b><br><br>location=Finland<br>=%{x}<br>Life expectancy=%{y}<extra></extra>",
         "hovertext": [
          "Finland"
         ],
         "legendgroup": "Finland",
         "marker": {
          "color": "#19d3f3",
          "symbol": "circle"
         },
         "mode": "markers",
         "name": "Finland",
         "orientation": "v",
         "showlegend": true,
         "type": "scatter",
         "x": [
          5548361
         ],
         "xaxis": "x",
         "y": [
          81.91
         ],
         "yaxis": "y"
        },
        {
         "hovertemplate": "<b>%{hovertext}</b><br><br>location=Norway<br>=%{x}<br>Life expectancy=%{y}<extra></extra>",
         "hovertext": [
          "Norway"
         ],
         "legendgroup": "Norway",
         "marker": {
          "color": "#FF6692",
          "symbol": "circle"
         },
         "mode": "markers",
         "name": "Norway",
         "orientation": "v",
         "showlegend": true,
         "type": "scatter",
         "x": [
          5465629
         ],
         "xaxis": "x",
         "y": [
          82.4
         ],
         "yaxis": "y"
        },
        {
         "hovertemplate": "<b>%{hovertext}</b><br><br>location=Singapore<br>=%{x}<br>Life expectancy=%{y}<extra></extra>",
         "hovertext": [
          "Singapore"
         ],
         "legendgroup": "Singapore",
         "marker": {
          "color": "#B6E880",
          "symbol": "circle"
         },
         "mode": "markers",
         "name": "Singapore",
         "orientation": "v",
         "showlegend": true,
         "type": "scatter",
         "x": [
          5453600
         ],
         "xaxis": "x",
         "y": [
          83.62
         ],
         "yaxis": "y"
        },
        {
         "hovertemplate": "<b>%{hovertext}</b><br><br>location=Slovakia<br>=%{x}<br>Life expectancy=%{y}<extra></extra>",
         "hovertext": [
          "Slovakia"
         ],
         "legendgroup": "Slovakia",
         "marker": {
          "color": "#FF97FF",
          "symbol": "circle"
         },
         "mode": "markers",
         "name": "Slovakia",
         "orientation": "v",
         "showlegend": true,
         "type": "scatter",
         "x": [
          5449270
         ],
         "xaxis": "x",
         "y": [
          77.54
         ],
         "yaxis": "y"
        },
        {
         "hovertemplate": "<b>%{hovertext}</b><br><br>location=Oman<br>=%{x}<br>Life expectancy=%{y}<extra></extra>",
         "hovertext": [
          "Oman"
         ],
         "legendgroup": "Oman",
         "marker": {
          "color": "#FECB52",
          "symbol": "circle"
         },
         "mode": "markers",
         "name": "Oman",
         "orientation": "v",
         "showlegend": true,
         "type": "scatter",
         "x": [
          5223376
         ],
         "xaxis": "x",
         "y": [
          77.86
         ],
         "yaxis": "y"
        },
        {
         "hovertemplate": "<b>%{hovertext}</b><br><br>location=Palestine<br>=%{x}<br>Life expectancy=%{y}<extra></extra>",
         "hovertext": [
          "Palestine"
         ],
         "legendgroup": "Palestine",
         "marker": {
          "color": "#636efa",
          "symbol": "circle"
         },
         "mode": "markers",
         "name": "Palestine",
         "orientation": "v",
         "showlegend": true,
         "type": "scatter",
         "x": [
          5222756
         ],
         "xaxis": "x",
         "y": [
          74.05
         ],
         "yaxis": "y"
        },
        {
         "hovertemplate": "<b>%{hovertext}</b><br><br>location=Liberia<br>=%{x}<br>Life expectancy=%{y}<extra></extra>",
         "hovertext": [
          "Liberia"
         ],
         "legendgroup": "Liberia",
         "marker": {
          "color": "#EF553B",
          "symbol": "circle"
         },
         "mode": "markers",
         "name": "Liberia",
         "orientation": "v",
         "showlegend": true,
         "type": "scatter",
         "x": [
          5180208
         ],
         "xaxis": "x",
         "y": [
          64.1
         ],
         "yaxis": "y"
        },
        {
         "hovertemplate": "<b>%{hovertext}</b><br><br>location=Costa Rica<br>=%{x}<br>Life expectancy=%{y}<extra></extra>",
         "hovertext": [
          "Costa Rica"
         ],
         "legendgroup": "Costa Rica",
         "marker": {
          "color": "#00cc96",
          "symbol": "circle"
         },
         "mode": "markers",
         "name": "Costa Rica",
         "orientation": "v",
         "showlegend": true,
         "type": "scatter",
         "x": [
          5139053
         ],
         "xaxis": "x",
         "y": [
          80.28
         ],
         "yaxis": "y"
        },
        {
         "hovertemplate": "<b>%{hovertext}</b><br><br>location=New Zealand<br>=%{x}<br>Life expectancy=%{y}<extra></extra>",
         "hovertext": [
          "New Zealand"
         ],
         "legendgroup": "New Zealand",
         "marker": {
          "color": "#ab63fa",
          "symbol": "circle"
         },
         "mode": "markers",
         "name": "New Zealand",
         "orientation": "v",
         "showlegend": true,
         "type": "scatter",
         "x": [
          5126300
         ],
         "xaxis": "x",
         "y": [
          82.29
         ],
         "yaxis": "y"
        },
        {
         "hovertemplate": "<b>%{hovertext}</b><br><br>location=Ireland<br>=%{x}<br>Life expectancy=%{y}<extra></extra>",
         "hovertext": [
          "Ireland"
         ],
         "legendgroup": "Ireland",
         "marker": {
          "color": "#FFA15A",
          "symbol": "circle"
         },
         "mode": "markers",
         "name": "Ireland",
         "orientation": "v",
         "showlegend": true,
         "type": "scatter",
         "x": [
          4982904
         ],
         "xaxis": "x",
         "y": [
          82.3
         ],
         "yaxis": "y"
        },
        {
         "hovertemplate": "<b>%{hovertext}</b><br><br>location=Central African Republic<br>=%{x}<br>Life expectancy=%{y}<extra></extra>",
         "hovertext": [
          "Central African Republic"
         ],
         "legendgroup": "Central African Republic",
         "marker": {
          "color": "#19d3f3",
          "symbol": "circle"
         },
         "mode": "markers",
         "name": "Central African Republic",
         "orientation": "v",
         "showlegend": true,
         "type": "scatter",
         "x": [
          4919987
         ],
         "xaxis": "x",
         "y": [
          53.28
         ],
         "yaxis": "y"
        },
        {
         "hovertemplate": "<b>%{hovertext}</b><br><br>location=Mauritania<br>=%{x}<br>Life expectancy=%{y}<extra></extra>",
         "hovertext": [
          "Mauritania"
         ],
         "legendgroup": "Mauritania",
         "marker": {
          "color": "#FF6692",
          "symbol": "circle"
         },
         "mode": "markers",
         "name": "Mauritania",
         "orientation": "v",
         "showlegend": true,
         "type": "scatter",
         "x": [
          4775110
         ],
         "xaxis": "x",
         "y": [
          64.92
         ],
         "yaxis": "y"
        },
        {
         "hovertemplate": "<b>%{hovertext}</b><br><br>location=Panama<br>=%{x}<br>Life expectancy=%{y}<extra></extra>",
         "hovertext": [
          "Panama"
         ],
         "legendgroup": "Panama",
         "marker": {
          "color": "#B6E880",
          "symbol": "circle"
         },
         "mode": "markers",
         "name": "Panama",
         "orientation": "v",
         "showlegend": true,
         "type": "scatter",
         "x": [
          4381583
         ],
         "xaxis": "x",
         "y": [
          78.51
         ],
         "yaxis": "y"
        },
        {
         "hovertemplate": "<b>%{hovertext}</b><br><br>location=Kuwait<br>=%{x}<br>Life expectancy=%{y}<extra></extra>",
         "hovertext": [
          "Kuwait"
         ],
         "legendgroup": "Kuwait",
         "marker": {
          "color": "#FF97FF",
          "symbol": "circle"
         },
         "mode": "markers",
         "name": "Kuwait",
         "orientation": "v",
         "showlegend": true,
         "type": "scatter",
         "x": [
          4328553
         ],
         "xaxis": "x",
         "y": [
          75.49
         ],
         "yaxis": "y"
        },
        {
         "hovertemplate": "<b>%{hovertext}</b><br><br>location=Croatia<br>=%{x}<br>Life expectancy=%{y}<extra></extra>",
         "hovertext": [
          "Croatia"
         ],
         "legendgroup": "Croatia",
         "marker": {
          "color": "#FECB52",
          "symbol": "circle"
         },
         "mode": "markers",
         "name": "Croatia",
         "orientation": "v",
         "showlegend": true,
         "type": "scatter",
         "x": [
          4081657
         ],
         "xaxis": "x",
         "y": [
          78.49
         ],
         "yaxis": "y"
        },
        {
         "hovertemplate": "<b>%{hovertext}</b><br><br>location=Moldova<br>=%{x}<br>Life expectancy=%{y}<extra></extra>",
         "hovertext": [
          "Moldova"
         ],
         "legendgroup": "Moldova",
         "marker": {
          "color": "#636efa",
          "symbol": "circle"
         },
         "mode": "markers",
         "name": "Moldova",
         "orientation": "v",
         "showlegend": true,
         "type": "scatter",
         "x": [
          4024025
         ],
         "xaxis": "x",
         "y": [
          71.9
         ],
         "yaxis": "y"
        },
        {
         "hovertemplate": "<b>%{hovertext}</b><br><br>location=Georgia<br>=%{x}<br>Life expectancy=%{y}<extra></extra>",
         "hovertext": [
          "Georgia"
         ],
         "legendgroup": "Georgia",
         "marker": {
          "color": "#EF553B",
          "symbol": "circle"
         },
         "mode": "markers",
         "name": "Georgia",
         "orientation": "v",
         "showlegend": true,
         "type": "scatter",
         "x": [
          3979773
         ],
         "xaxis": "x",
         "y": [
          73.77
         ],
         "yaxis": "y"
        },
        {
         "hovertemplate": "<b>%{hovertext}</b><br><br>location=Eritrea<br>=%{x}<br>Life expectancy=%{y}<extra></extra>",
         "hovertext": [
          "Eritrea"
         ],
         "legendgroup": "Eritrea",
         "marker": {
          "color": "#00cc96",
          "symbol": "circle"
         },
         "mode": "markers",
         "name": "Eritrea",
         "orientation": "v",
         "showlegend": true,
         "type": "scatter",
         "x": [
          3601462
         ],
         "xaxis": "x",
         "y": [
          66.32
         ],
         "yaxis": "y"
        },
        {
         "hovertemplate": "<b>%{hovertext}</b><br><br>location=Uruguay<br>=%{x}<br>Life expectancy=%{y}<extra></extra>",
         "hovertext": [
          "Uruguay"
         ],
         "legendgroup": "Uruguay",
         "marker": {
          "color": "#ab63fa",
          "symbol": "circle"
         },
         "mode": "markers",
         "name": "Uruguay",
         "orientation": "v",
         "showlegend": true,
         "type": "scatter",
         "x": [
          3485152
         ],
         "xaxis": "x",
         "y": [
          77.91
         ],
         "yaxis": "y"
        },
        {
         "hovertemplate": "<b>%{hovertext}</b><br><br>location=Mongolia<br>=%{x}<br>Life expectancy=%{y}<extra></extra>",
         "hovertext": [
          "Mongolia"
         ],
         "legendgroup": "Mongolia",
         "marker": {
          "color": "#FFA15A",
          "symbol": "circle"
         },
         "mode": "markers",
         "name": "Mongolia",
         "orientation": "v",
         "showlegend": true,
         "type": "scatter",
         "x": [
          3329282
         ],
         "xaxis": "x",
         "y": [
          69.87
         ],
         "yaxis": "y"
        },
        {
         "hovertemplate": "<b>%{hovertext}</b><br><br>location=Bosnia and Herzegovina<br>=%{x}<br>Life expectancy=%{y}<extra></extra>",
         "hovertext": [
          "Bosnia and Herzegovina"
         ],
         "legendgroup": "Bosnia and Herzegovina",
         "marker": {
          "color": "#19d3f3",
          "symbol": "circle"
         },
         "mode": "markers",
         "name": "Bosnia and Herzegovina",
         "orientation": "v",
         "showlegend": true,
         "type": "scatter",
         "x": [
          3263459
         ],
         "xaxis": "x",
         "y": [
          77.4
         ],
         "yaxis": "y"
        },
        {
         "hovertemplate": "<b>%{hovertext}</b><br><br>location=Jamaica<br>=%{x}<br>Life expectancy=%{y}<extra></extra>",
         "hovertext": [
          "Jamaica"
         ],
         "legendgroup": "Jamaica",
         "marker": {
          "color": "#FF6692",
          "symbol": "circle"
         },
         "mode": "markers",
         "name": "Jamaica",
         "orientation": "v",
         "showlegend": true,
         "type": "scatter",
         "x": [
          2973462
         ],
         "xaxis": "x",
         "y": [
          74.47
         ],
         "yaxis": "y"
        },
        {
         "hovertemplate": "<b>%{hovertext}</b><br><br>location=Armenia<br>=%{x}<br>Life expectancy=%{y}<extra></extra>",
         "hovertext": [
          "Armenia"
         ],
         "legendgroup": "Armenia",
         "marker": {
          "color": "#B6E880",
          "symbol": "circle"
         },
         "mode": "markers",
         "name": "Armenia",
         "orientation": "v",
         "showlegend": true,
         "type": "scatter",
         "x": [
          2968128
         ],
         "xaxis": "x",
         "y": [
          75.09
         ],
         "yaxis": "y"
        },
        {
         "hovertemplate": "<b>%{hovertext}</b><br><br>location=Qatar<br>=%{x}<br>Life expectancy=%{y}<extra></extra>",
         "hovertext": [
          "Qatar"
         ],
         "legendgroup": "Qatar",
         "marker": {
          "color": "#FF97FF",
          "symbol": "circle"
         },
         "mode": "markers",
         "name": "Qatar",
         "orientation": "v",
         "showlegend": true,
         "type": "scatter",
         "x": [
          2930524
         ],
         "xaxis": "x",
         "y": [
          80.23
         ],
         "yaxis": "y"
        },
        {
         "hovertemplate": "<b>%{hovertext}</b><br><br>location=Albania<br>=%{x}<br>Life expectancy=%{y}<extra></extra>",
         "hovertext": [
          "Albania"
         ],
         "legendgroup": "Albania",
         "marker": {
          "color": "#FECB52",
          "symbol": "circle"
         },
         "mode": "markers",
         "name": "Albania",
         "orientation": "v",
         "showlegend": true,
         "type": "scatter",
         "x": [
          2872934
         ],
         "xaxis": "x",
         "y": [
          78.57
         ],
         "yaxis": "y"
        },
        {
         "hovertemplate": "<b>%{hovertext}</b><br><br>location=Puerto Rico<br>=%{x}<br>Life expectancy=%{y}<extra></extra>",
         "hovertext": [
          "Puerto Rico"
         ],
         "legendgroup": "Puerto Rico",
         "marker": {
          "color": "#636efa",
          "symbol": "circle"
         },
         "mode": "markers",
         "name": "Puerto Rico",
         "orientation": "v",
         "showlegend": true,
         "type": "scatter",
         "x": [
          2828246
         ],
         "xaxis": "x",
         "y": [
          80.1
         ],
         "yaxis": "y"
        },
        {
         "hovertemplate": "<b>%{hovertext}</b><br><br>location=Lithuania<br>=%{x}<br>Life expectancy=%{y}<extra></extra>",
         "hovertext": [
          "Lithuania"
         ],
         "legendgroup": "Lithuania",
         "marker": {
          "color": "#EF553B",
          "symbol": "circle"
         },
         "mode": "markers",
         "name": "Lithuania",
         "orientation": "v",
         "showlegend": true,
         "type": "scatter",
         "x": [
          2689862
         ],
         "xaxis": "x",
         "y": [
          75.93
         ],
         "yaxis": "y"
        },
        {
         "hovertemplate": "<b>%{hovertext}</b><br><br>location=Namibia<br>=%{x}<br>Life expectancy=%{y}<extra></extra>",
         "hovertext": [
          "Namibia"
         ],
         "legendgroup": "Namibia",
         "marker": {
          "color": "#00cc96",
          "symbol": "circle"
         },
         "mode": "markers",
         "name": "Namibia",
         "orientation": "v",
         "showlegend": true,
         "type": "scatter",
         "x": [
          2587344
         ],
         "xaxis": "x",
         "y": [
          63.71
         ],
         "yaxis": "y"
        },
        {
         "hovertemplate": "<b>%{hovertext}</b><br><br>location=Gambia<br>=%{x}<br>Life expectancy=%{y}<extra></extra>",
         "hovertext": [
          "Gambia"
         ],
         "legendgroup": "Gambia",
         "marker": {
          "color": "#ab63fa",
          "symbol": "circle"
         },
         "mode": "markers",
         "name": "Gambia",
         "orientation": "v",
         "showlegend": true,
         "type": "scatter",
         "x": [
          2486937
         ],
         "xaxis": "x",
         "y": [
          62.05
         ],
         "yaxis": "y"
        },
        {
         "hovertemplate": "<b>%{hovertext}</b><br><br>location=Botswana<br>=%{x}<br>Life expectancy=%{y}<extra></extra>",
         "hovertext": [
          "Botswana"
         ],
         "legendgroup": "Botswana",
         "marker": {
          "color": "#FFA15A",
          "symbol": "circle"
         },
         "mode": "markers",
         "name": "Botswana",
         "orientation": "v",
         "showlegend": true,
         "type": "scatter",
         "x": [
          2397240
         ],
         "xaxis": "x",
         "y": [
          69.59
         ],
         "yaxis": "y"
        },
        {
         "hovertemplate": "<b>%{hovertext}</b><br><br>location=Gabon<br>=%{x}<br>Life expectancy=%{y}<extra></extra>",
         "hovertext": [
          "Gabon"
         ],
         "legendgroup": "Gabon",
         "marker": {
          "color": "#19d3f3",
          "symbol": "circle"
         },
         "mode": "markers",
         "name": "Gabon",
         "orientation": "v",
         "showlegend": true,
         "type": "scatter",
         "x": [
          2278829
         ],
         "xaxis": "x",
         "y": [
          66.47
         ],
         "yaxis": "y"
        },
        {
         "hovertemplate": "<b>%{hovertext}</b><br><br>location=Lesotho<br>=%{x}<br>Life expectancy=%{y}<extra></extra>",
         "hovertext": [
          "Lesotho"
         ],
         "legendgroup": "Lesotho",
         "marker": {
          "color": "#FF6692",
          "symbol": "circle"
         },
         "mode": "markers",
         "name": "Lesotho",
         "orientation": "v",
         "showlegend": true,
         "type": "scatter",
         "x": [
          2159067
         ],
         "xaxis": "x",
         "y": [
          54.33
         ],
         "yaxis": "y"
        },
        {
         "hovertemplate": "<b>%{hovertext}</b><br><br>location=North Macedonia<br>=%{x}<br>Life expectancy=%{y}<extra></extra>",
         "hovertext": [
          "North Macedonia"
         ],
         "legendgroup": "North Macedonia",
         "marker": {
          "color": "#B6E880",
          "symbol": "circle"
         },
         "mode": "markers",
         "name": "North Macedonia",
         "orientation": "v",
         "showlegend": true,
         "type": "scatter",
         "x": [
          2082661
         ],
         "xaxis": "x",
         "y": [
          75.8
         ],
         "yaxis": "y"
        },
        {
         "hovertemplate": "<b>%{hovertext}</b><br><br>location=Slovenia<br>=%{x}<br>Life expectancy=%{y}<extra></extra>",
         "hovertext": [
          "Slovenia"
         ],
         "legendgroup": "Slovenia",
         "marker": {
          "color": "#FF97FF",
          "symbol": "circle"
         },
         "mode": "markers",
         "name": "Slovenia",
         "orientation": "v",
         "showlegend": true,
         "type": "scatter",
         "x": [
          2078723
         ],
         "xaxis": "x",
         "y": [
          81.32
         ],
         "yaxis": "y"
        },
        {
         "hovertemplate": "<b>%{hovertext}</b><br><br>location=Guinea-Bissau<br>=%{x}<br>Life expectancy=%{y}<extra></extra>",
         "hovertext": [
          "Guinea-Bissau"
         ],
         "legendgroup": "Guinea-Bissau",
         "marker": {
          "color": "#FECB52",
          "symbol": "circle"
         },
         "mode": "markers",
         "name": "Guinea-Bissau",
         "orientation": "v",
         "showlegend": true,
         "type": "scatter",
         "x": [
          2015490
         ],
         "xaxis": "x",
         "y": [
          58.32
         ],
         "yaxis": "y"
        },
        {
         "hovertemplate": "<b>%{hovertext}</b><br><br>location=Latvia<br>=%{x}<br>Life expectancy=%{y}<extra></extra>",
         "hovertext": [
          "Latvia"
         ],
         "legendgroup": "Latvia",
         "marker": {
          "color": "#636efa",
          "symbol": "circle"
         },
         "mode": "markers",
         "name": "Latvia",
         "orientation": "v",
         "showlegend": true,
         "type": "scatter",
         "x": [
          1866934
         ],
         "xaxis": "x",
         "y": [
          75.29
         ],
         "yaxis": "y"
        },
        {
         "hovertemplate": "<b>%{hovertext}</b><br><br>location=Bahrain<br>=%{x}<br>Life expectancy=%{y}<extra></extra>",
         "hovertext": [
          "Bahrain"
         ],
         "legendgroup": "Bahrain",
         "marker": {
          "color": "#EF553B",
          "symbol": "circle"
         },
         "mode": "markers",
         "name": "Bahrain",
         "orientation": "v",
         "showlegend": true,
         "type": "scatter",
         "x": [
          1748295
         ],
         "xaxis": "x",
         "y": [
          77.29
         ],
         "yaxis": "y"
        },
        {
         "hovertemplate": "<b>%{hovertext}</b><br><br>location=Equatorial Guinea<br>=%{x}<br>Life expectancy=%{y}<extra></extra>",
         "hovertext": [
          "Equatorial Guinea"
         ],
         "legendgroup": "Equatorial Guinea",
         "marker": {
          "color": "#00cc96",
          "symbol": "circle"
         },
         "mode": "markers",
         "name": "Equatorial Guinea",
         "orientation": "v",
         "showlegend": true,
         "type": "scatter",
         "x": [
          1449891
         ],
         "xaxis": "x",
         "y": [
          58.74
         ],
         "yaxis": "y"
        },
        {
         "hovertemplate": "<b>%{hovertext}</b><br><br>location=Trinidad and Tobago<br>=%{x}<br>Life expectancy=%{y}<extra></extra>",
         "hovertext": [
          "Trinidad and Tobago"
         ],
         "legendgroup": "Trinidad and Tobago",
         "marker": {
          "color": "#ab63fa",
          "symbol": "circle"
         },
         "mode": "markers",
         "name": "Trinidad and Tobago",
         "orientation": "v",
         "showlegend": true,
         "type": "scatter",
         "x": [
          1403374
         ],
         "xaxis": "x",
         "y": [
          73.51
         ],
         "yaxis": "y"
        },
        {
         "hovertemplate": "<b>%{hovertext}</b><br><br>location=Timor<br>=%{x}<br>Life expectancy=%{y}<extra></extra>",
         "hovertext": [
          "Timor"
         ],
         "legendgroup": "Timor",
         "marker": {
          "color": "#FFA15A",
          "symbol": "circle"
         },
         "mode": "markers",
         "name": "Timor",
         "orientation": "v",
         "showlegend": true,
         "type": "scatter",
         "x": [
          1343875
         ],
         "xaxis": "x",
         "y": [
          69.5
         ],
         "yaxis": "y"
        },
        {
         "hovertemplate": "<b>%{hovertext}</b><br><br>location=Estonia<br>=%{x}<br>Life expectancy=%{y}<extra></extra>",
         "hovertext": [
          "Estonia"
         ],
         "legendgroup": "Estonia",
         "marker": {
          "color": "#19d3f3",
          "symbol": "circle"
         },
         "mode": "markers",
         "name": "Estonia",
         "orientation": "v",
         "showlegend": true,
         "type": "scatter",
         "x": [
          1325188
         ],
         "xaxis": "x",
         "y": [
          78.74
         ],
         "yaxis": "y"
        },
        {
         "hovertemplate": "<b>%{hovertext}</b><br><br>location=Mauritius<br>=%{x}<br>Life expectancy=%{y}<extra></extra>",
         "hovertext": [
          "Mauritius"
         ],
         "legendgroup": "Mauritius",
         "marker": {
          "color": "#FF6692",
          "symbol": "circle"
         },
         "mode": "markers",
         "name": "Mauritius",
         "orientation": "v",
         "showlegend": true,
         "type": "scatter",
         "x": [
          1273428
         ],
         "xaxis": "x",
         "y": [
          74.99
         ],
         "yaxis": "y"
        },
        {
         "hovertemplate": "<b>%{hovertext}</b><br><br>location=Eswatini<br>=%{x}<br>Life expectancy=%{y}<extra></extra>",
         "hovertext": [
          "Eswatini"
         ],
         "legendgroup": "Eswatini",
         "marker": {
          "color": "#B6E880",
          "symbol": "circle"
         },
         "mode": "markers",
         "name": "Eswatini",
         "orientation": "v",
         "showlegend": true,
         "type": "scatter",
         "x": [
          1172369
         ],
         "xaxis": "x",
         "y": [
          60.19
         ],
         "yaxis": "y"
        },
        {
         "hovertemplate": "<b>%{hovertext}</b><br><br>location=Djibouti<br>=%{x}<br>Life expectancy=%{y}<extra></extra>",
         "hovertext": [
          "Djibouti"
         ],
         "legendgroup": "Djibouti",
         "marker": {
          "color": "#FF97FF",
          "symbol": "circle"
         },
         "mode": "markers",
         "name": "Djibouti",
         "orientation": "v",
         "showlegend": true,
         "type": "scatter",
         "x": [
          1002197
         ],
         "xaxis": "x",
         "y": [
          67.11
         ],
         "yaxis": "y"
        },
        {
         "hovertemplate": "<b>%{hovertext}</b><br><br>location=Fiji<br>=%{x}<br>Life expectancy=%{y}<extra></extra>",
         "hovertext": [
          "Fiji"
         ],
         "legendgroup": "Fiji",
         "marker": {
          "color": "#FECB52",
          "symbol": "circle"
         },
         "mode": "markers",
         "name": "Fiji",
         "orientation": "v",
         "showlegend": true,
         "type": "scatter",
         "x": [
          902899
         ],
         "xaxis": "x",
         "y": [
          67.44
         ],
         "yaxis": "y"
        },
        {
         "hovertemplate": "<b>%{hovertext}</b><br><br>location=Cyprus<br>=%{x}<br>Life expectancy=%{y}<extra></extra>",
         "hovertext": [
          "Cyprus"
         ],
         "legendgroup": "Cyprus",
         "marker": {
          "color": "#636efa",
          "symbol": "circle"
         },
         "mode": "markers",
         "name": "Cyprus",
         "orientation": "v",
         "showlegend": true,
         "type": "scatter",
         "x": [
          896005
         ],
         "xaxis": "x",
         "y": [
          80.98
         ],
         "yaxis": "y"
        },
        {
         "hovertemplate": "<b>%{hovertext}</b><br><br>location=Comoros<br>=%{x}<br>Life expectancy=%{y}<extra></extra>",
         "hovertext": [
          "Comoros"
         ],
         "legendgroup": "Comoros",
         "marker": {
          "color": "#EF553B",
          "symbol": "circle"
         },
         "mode": "markers",
         "name": "Comoros",
         "orientation": "v",
         "showlegend": true,
         "type": "scatter",
         "x": [
          888456
         ],
         "xaxis": "x",
         "y": [
          64.32
         ],
         "yaxis": "y"
        },
        {
         "hovertemplate": "<b>%{hovertext}</b><br><br>location=Guyana<br>=%{x}<br>Life expectancy=%{y}<extra></extra>",
         "hovertext": [
          "Guyana"
         ],
         "legendgroup": "Guyana",
         "marker": {
          "color": "#00cc96",
          "symbol": "circle"
         },
         "mode": "markers",
         "name": "Guyana",
         "orientation": "v",
         "showlegend": true,
         "type": "scatter",
         "x": [
          790329
         ],
         "xaxis": "x",
         "y": [
          69.91
         ],
         "yaxis": "y"
        },
        {
         "hovertemplate": "<b>%{hovertext}</b><br><br>location=Bhutan<br>=%{x}<br>Life expectancy=%{y}<extra></extra>",
         "hovertext": [
          "Bhutan"
         ],
         "legendgroup": "Bhutan",
         "marker": {
          "color": "#ab63fa",
          "symbol": "circle"
         },
         "mode": "markers",
         "name": "Bhutan",
         "orientation": "v",
         "showlegend": true,
         "type": "scatter",
         "x": [
          779900
         ],
         "xaxis": "x",
         "y": [
          71.78
         ],
         "yaxis": "y"
        },
        {
         "hovertemplate": "<b>%{hovertext}</b><br><br>location=Solomon Islands<br>=%{x}<br>Life expectancy=%{y}<extra></extra>",
         "hovertext": [
          "Solomon Islands"
         ],
         "legendgroup": "Solomon Islands",
         "marker": {
          "color": "#FFA15A",
          "symbol": "circle"
         },
         "mode": "markers",
         "name": "Solomon Islands",
         "orientation": "v",
         "showlegend": true,
         "type": "scatter",
         "x": [
          703995
         ],
         "xaxis": "x",
         "y": [
          73
         ],
         "yaxis": "y"
        },
        {
         "hovertemplate": "<b>%{hovertext}</b><br><br>location=Macao<br>=%{x}<br>Life expectancy=%{y}<extra></extra>",
         "hovertext": [
          "Macao"
         ],
         "legendgroup": "Macao",
         "marker": {
          "color": "#19d3f3",
          "symbol": "circle"
         },
         "mode": "markers",
         "name": "Macao",
         "orientation": "v",
         "showlegend": true,
         "type": "scatter",
         "x": [
          658391
         ],
         "xaxis": "x",
         "y": [
          84.24
         ],
         "yaxis": "y"
        },
        {
         "hovertemplate": "<b>%{hovertext}</b><br><br>location=Luxembourg<br>=%{x}<br>Life expectancy=%{y}<extra></extra>",
         "hovertext": [
          "Luxembourg"
         ],
         "legendgroup": "Luxembourg",
         "marker": {
          "color": "#FF6692",
          "symbol": "circle"
         },
         "mode": "markers",
         "name": "Luxembourg",
         "orientation": "v",
         "showlegend": true,
         "type": "scatter",
         "x": [
          634814
         ],
         "xaxis": "x",
         "y": [
          82.25
         ],
         "yaxis": "y"
        },
        {
         "hovertemplate": "<b>%{hovertext}</b><br><br>location=Montenegro<br>=%{x}<br>Life expectancy=%{y}<extra></extra>",
         "hovertext": [
          "Montenegro"
         ],
         "legendgroup": "Montenegro",
         "marker": {
          "color": "#B6E880",
          "symbol": "circle"
         },
         "mode": "markers",
         "name": "Montenegro",
         "orientation": "v",
         "showlegend": true,
         "type": "scatter",
         "x": [
          628051
         ],
         "xaxis": "x",
         "y": [
          76.88
         ],
         "yaxis": "y"
        },
        {
         "hovertemplate": "<b>%{hovertext}</b><br><br>location=Western Sahara<br>=%{x}<br>Life expectancy=%{y}<extra></extra>",
         "hovertext": [
          "Western Sahara"
         ],
         "legendgroup": "Western Sahara",
         "marker": {
          "color": "#FF97FF",
          "symbol": "circle"
         },
         "mode": "markers",
         "name": "Western Sahara",
         "orientation": "v",
         "showlegend": true,
         "type": "scatter",
         "x": [
          611872
         ],
         "xaxis": "x",
         "y": [
          70.26
         ],
         "yaxis": "y"
        },
        {
         "hovertemplate": "<b>%{hovertext}</b><br><br>location=Suriname<br>=%{x}<br>Life expectancy=%{y}<extra></extra>",
         "hovertext": [
          "Suriname"
         ],
         "legendgroup": "Suriname",
         "marker": {
          "color": "#FECB52",
          "symbol": "circle"
         },
         "mode": "markers",
         "name": "Suriname",
         "orientation": "v",
         "showlegend": true,
         "type": "scatter",
         "x": [
          591798
         ],
         "xaxis": "x",
         "y": [
          71.68
         ],
         "yaxis": "y"
        },
        {
         "hovertemplate": "<b>%{hovertext}</b><br><br>location=Cape Verde<br>=%{x}<br>Life expectancy=%{y}<extra></extra>",
         "hovertext": [
          "Cape Verde"
         ],
         "legendgroup": "Cape Verde",
         "marker": {
          "color": "#636efa",
          "symbol": "circle"
         },
         "mode": "markers",
         "name": "Cape Verde",
         "orientation": "v",
         "showlegend": true,
         "type": "scatter",
         "x": [
          561901
         ],
         "xaxis": "x",
         "y": [
          72.98
         ],
         "yaxis": "y"
        },
        {
         "hovertemplate": "<b>%{hovertext}</b><br><br>location=Maldives<br>=%{x}<br>Life expectancy=%{y}<extra></extra>",
         "hovertext": [
          "Maldives"
         ],
         "legendgroup": "Maldives",
         "marker": {
          "color": "#EF553B",
          "symbol": "circle"
         },
         "mode": "markers",
         "name": "Maldives",
         "orientation": "v",
         "showlegend": true,
         "type": "scatter",
         "x": [
          543620
         ],
         "xaxis": "x",
         "y": [
          78.92
         ],
         "yaxis": "y"
        },
        {
         "hovertemplate": "<b>%{hovertext}</b><br><br>location=Malta<br>=%{x}<br>Life expectancy=%{y}<extra></extra>",
         "hovertext": [
          "Malta"
         ],
         "legendgroup": "Malta",
         "marker": {
          "color": "#00cc96",
          "symbol": "circle"
         },
         "mode": "markers",
         "name": "Malta",
         "orientation": "v",
         "showlegend": true,
         "type": "scatter",
         "x": [
          516100
         ],
         "xaxis": "x",
         "y": [
          82.53
         ],
         "yaxis": "y"
        },
        {
         "hovertemplate": "<b>%{hovertext}</b><br><br>location=Brunei<br>=%{x}<br>Life expectancy=%{y}<extra></extra>",
         "hovertext": [
          "Brunei"
         ],
         "legendgroup": "Brunei",
         "marker": {
          "color": "#ab63fa",
          "symbol": "circle"
         },
         "mode": "markers",
         "name": "Brunei",
         "orientation": "v",
         "showlegend": true,
         "type": "scatter",
         "x": [
          441532
         ],
         "xaxis": "x",
         "y": [
          75.86
         ],
         "yaxis": "y"
        },
        {
         "hovertemplate": "<b>%{hovertext}</b><br><br>location=Belize<br>=%{x}<br>Life expectancy=%{y}<extra></extra>",
         "hovertext": [
          "Belize"
         ],
         "legendgroup": "Belize",
         "marker": {
          "color": "#FFA15A",
          "symbol": "circle"
         },
         "mode": "markers",
         "name": "Belize",
         "orientation": "v",
         "showlegend": true,
         "type": "scatter",
         "x": [
          404915
         ],
         "xaxis": "x",
         "y": [
          74.62
         ],
         "yaxis": "y"
        },
        {
         "hovertemplate": "<b>%{hovertext}</b><br><br>location=Bahamas<br>=%{x}<br>Life expectancy=%{y}<extra></extra>",
         "hovertext": [
          "Bahamas"
         ],
         "legendgroup": "Bahamas",
         "marker": {
          "color": "#19d3f3",
          "symbol": "circle"
         },
         "mode": "markers",
         "name": "Bahamas",
         "orientation": "v",
         "showlegend": true,
         "type": "scatter",
         "x": [
          396914
         ],
         "xaxis": "x",
         "y": [
          73.92
         ],
         "yaxis": "y"
        },
        {
         "hovertemplate": "<b>%{hovertext}</b><br><br>location=Iceland<br>=%{x}<br>Life expectancy=%{y}<extra></extra>",
         "hovertext": [
          "Iceland"
         ],
         "legendgroup": "Iceland",
         "marker": {
          "color": "#FF6692",
          "symbol": "circle"
         },
         "mode": "markers",
         "name": "Iceland",
         "orientation": "v",
         "showlegend": true,
         "type": "scatter",
         "x": [
          368792
         ],
         "xaxis": "x",
         "y": [
          82.99
         ],
         "yaxis": "y"
        },
        {
         "hovertemplate": "<b>%{hovertext}</b><br><br>location=Vanuatu<br>=%{x}<br>Life expectancy=%{y}<extra></extra>",
         "hovertext": [
          "Vanuatu"
         ],
         "legendgroup": "Vanuatu",
         "marker": {
          "color": "#B6E880",
          "symbol": "circle"
         },
         "mode": "markers",
         "name": "Vanuatu",
         "orientation": "v",
         "showlegend": true,
         "type": "scatter",
         "x": [
          314464
         ],
         "xaxis": "x",
         "y": [
          70.47
         ],
         "yaxis": "y"
        },
        {
         "hovertemplate": "<b>%{hovertext}</b><br><br>location=New Caledonia<br>=%{x}<br>Life expectancy=%{y}<extra></extra>",
         "hovertext": [
          "New Caledonia"
         ],
         "legendgroup": "New Caledonia",
         "marker": {
          "color": "#FF97FF",
          "symbol": "circle"
         },
         "mode": "markers",
         "name": "New Caledonia",
         "orientation": "v",
         "showlegend": true,
         "type": "scatter",
         "x": [
          288217
         ],
         "xaxis": "x",
         "y": [
          77.55
         ],
         "yaxis": "y"
        },
        {
         "hovertemplate": "<b>%{hovertext}</b><br><br>location=Barbados<br>=%{x}<br>Life expectancy=%{y}<extra></extra>",
         "hovertext": [
          "Barbados"
         ],
         "legendgroup": "Barbados",
         "marker": {
          "color": "#FECB52",
          "symbol": "circle"
         },
         "mode": "markers",
         "name": "Barbados",
         "orientation": "v",
         "showlegend": true,
         "type": "scatter",
         "x": [
          287708
         ],
         "xaxis": "x",
         "y": [
          79.19
         ],
         "yaxis": "y"
        },
        {
         "hovertemplate": "<b>%{hovertext}</b><br><br>location=French Polynesia<br>=%{x}<br>Life expectancy=%{y}<extra></extra>",
         "hovertext": [
          "French Polynesia"
         ],
         "legendgroup": "French Polynesia",
         "marker": {
          "color": "#636efa",
          "symbol": "circle"
         },
         "mode": "markers",
         "name": "French Polynesia",
         "orientation": "v",
         "showlegend": true,
         "type": "scatter",
         "x": [
          282534
         ],
         "xaxis": "x",
         "y": [
          77.66
         ],
         "yaxis": "y"
        },
        {
         "hovertemplate": "<b>%{hovertext}</b><br><br>location=Sao Tome and Principe<br>=%{x}<br>Life expectancy=%{y}<extra></extra>",
         "hovertext": [
          "Sao Tome and Principe"
         ],
         "legendgroup": "Sao Tome and Principe",
         "marker": {
          "color": "#EF553B",
          "symbol": "circle"
         },
         "mode": "markers",
         "name": "Sao Tome and Principe",
         "orientation": "v",
         "showlegend": true,
         "type": "scatter",
         "x": [
          223364
         ],
         "xaxis": "x",
         "y": [
          70.39
         ],
         "yaxis": "y"
        },
        {
         "hovertemplate": "<b>%{hovertext}</b><br><br>location=Samoa<br>=%{x}<br>Life expectancy=%{y}<extra></extra>",
         "hovertext": [
          "Samoa"
         ],
         "legendgroup": "Samoa",
         "marker": {
          "color": "#00cc96",
          "symbol": "circle"
         },
         "mode": "markers",
         "name": "Samoa",
         "orientation": "v",
         "showlegend": true,
         "type": "scatter",
         "x": [
          200144
         ],
         "xaxis": "x",
         "y": [
          73.32
         ],
         "yaxis": "y"
        },
        {
         "hovertemplate": "<b>%{hovertext}</b><br><br>location=Saint Lucia<br>=%{x}<br>Life expectancy=%{y}<extra></extra>",
         "hovertext": [
          "Saint Lucia"
         ],
         "legendgroup": "Saint Lucia",
         "marker": {
          "color": "#ab63fa",
          "symbol": "circle"
         },
         "mode": "markers",
         "name": "Saint Lucia",
         "orientation": "v",
         "showlegend": true,
         "type": "scatter",
         "x": [
          184401
         ],
         "xaxis": "x",
         "y": [
          76.2
         ],
         "yaxis": "y"
        },
        {
         "hovertemplate": "<b>%{hovertext}</b><br><br>location=Guam<br>=%{x}<br>Life expectancy=%{y}<extra></extra>",
         "hovertext": [
          "Guam"
         ],
         "legendgroup": "Guam",
         "marker": {
          "color": "#FFA15A",
          "symbol": "circle"
         },
         "mode": "markers",
         "name": "Guam",
         "orientation": "v",
         "showlegend": true,
         "type": "scatter",
         "x": [
          170184
         ],
         "xaxis": "x",
         "y": [
          80.07
         ],
         "yaxis": "y"
        },
        {
         "hovertemplate": "<b>%{hovertext}</b><br><br>location=Kiribati<br>=%{x}<br>Life expectancy=%{y}<extra></extra>",
         "hovertext": [
          "Kiribati"
         ],
         "legendgroup": "Kiribati",
         "marker": {
          "color": "#19d3f3",
          "symbol": "circle"
         },
         "mode": "markers",
         "name": "Kiribati",
         "orientation": "v",
         "showlegend": true,
         "type": "scatter",
         "x": [
          121388
         ],
         "xaxis": "x",
         "y": [
          68.37
         ],
         "yaxis": "y"
        },
        {
         "hovertemplate": "<b>%{hovertext}</b><br><br>location=Micronesia (country)<br>=%{x}<br>Life expectancy=%{y}<extra></extra>",
         "hovertext": [
          "Micronesia (country)"
         ],
         "legendgroup": "Micronesia (country)",
         "marker": {
          "color": "#FF6692",
          "symbol": "circle"
         },
         "mode": "markers",
         "name": "Micronesia (country)",
         "orientation": "v",
         "showlegend": true,
         "type": "scatter",
         "x": [
          116255
         ],
         "xaxis": "x",
         "y": [
          67.88
         ],
         "yaxis": "y"
        },
        {
         "hovertemplate": "<b>%{hovertext}</b><br><br>location=Grenada<br>=%{x}<br>Life expectancy=%{y}<extra></extra>",
         "hovertext": [
          "Grenada"
         ],
         "legendgroup": "Grenada",
         "marker": {
          "color": "#B6E880",
          "symbol": "circle"
         },
         "mode": "markers",
         "name": "Grenada",
         "orientation": "v",
         "showlegend": true,
         "type": "scatter",
         "x": [
          113015
         ],
         "xaxis": "x",
         "y": [
          72.4
         ],
         "yaxis": "y"
        },
        {
         "hovertemplate": "<b>%{hovertext}</b><br><br>location=Saint Vincent and the Grenadines<br>=%{x}<br>Life expectancy=%{y}<extra></extra>",
         "hovertext": [
          "Saint Vincent and the Grenadines"
         ],
         "legendgroup": "Saint Vincent and the Grenadines",
         "marker": {
          "color": "#FF97FF",
          "symbol": "circle"
         },
         "mode": "markers",
         "name": "Saint Vincent and the Grenadines",
         "orientation": "v",
         "showlegend": true,
         "type": "scatter",
         "x": [
          111269
         ],
         "xaxis": "x",
         "y": [
          72.53
         ],
         "yaxis": "y"
        },
        {
         "hovertemplate": "<b>%{hovertext}</b><br><br>location=Aruba<br>=%{x}<br>Life expectancy=%{y}<extra></extra>",
         "hovertext": [
          "Aruba"
         ],
         "legendgroup": "Aruba",
         "marker": {
          "color": "#FECB52",
          "symbol": "circle"
         },
         "mode": "markers",
         "name": "Aruba",
         "orientation": "v",
         "showlegend": true,
         "type": "scatter",
         "x": [
          107195
         ],
         "xaxis": "x",
         "y": [
          76.29
         ],
         "yaxis": "y"
        },
        {
         "hovertemplate": "<b>%{hovertext}</b><br><br>location=Tonga<br>=%{x}<br>Life expectancy=%{y}<extra></extra>",
         "hovertext": [
          "Tonga"
         ],
         "legendgroup": "Tonga",
         "marker": {
          "color": "#636efa",
          "symbol": "circle"
         },
         "mode": "markers",
         "name": "Tonga",
         "orientation": "v",
         "showlegend": true,
         "type": "scatter",
         "x": [
          106759
         ],
         "xaxis": "x",
         "y": [
          70.91
         ],
         "yaxis": "y"
        },
        {
         "hovertemplate": "<b>%{hovertext}</b><br><br>location=United States Virgin Islands<br>=%{x}<br>Life expectancy=%{y}<extra></extra>",
         "hovertext": [
          "United States Virgin Islands"
         ],
         "legendgroup": "United States Virgin Islands",
         "marker": {
          "color": "#EF553B",
          "symbol": "circle"
         },
         "mode": "markers",
         "name": "United States Virgin Islands",
         "orientation": "v",
         "showlegend": true,
         "type": "scatter",
         "x": [
          104218
         ],
         "xaxis": "x",
         "y": [
          80.58
         ],
         "yaxis": "y"
        },
        {
         "hovertemplate": "<b>%{hovertext}</b><br><br>location=Jersey<br>=%{x}<br>Life expectancy=%{y}<extra></extra>",
         "hovertext": [
          "Jersey"
         ],
         "legendgroup": "Jersey",
         "marker": {
          "color": "#00cc96",
          "symbol": "circle"
         },
         "mode": "markers",
         "name": "Jersey",
         "orientation": "v",
         "showlegend": true,
         "type": "scatter",
         "x": [
          101073
         ],
         "xaxis": "x",
         "y": [
          null
         ],
         "yaxis": "y"
        },
        {
         "hovertemplate": "<b>%{hovertext}</b><br><br>location=Seychelles<br>=%{x}<br>Life expectancy=%{y}<extra></extra>",
         "hovertext": [
          "Seychelles"
         ],
         "legendgroup": "Seychelles",
         "marker": {
          "color": "#ab63fa",
          "symbol": "circle"
         },
         "mode": "markers",
         "name": "Seychelles",
         "orientation": "v",
         "showlegend": true,
         "type": "scatter",
         "x": [
          98910
         ],
         "xaxis": "x",
         "y": [
          73.4
         ],
         "yaxis": "y"
        },
        {
         "hovertemplate": "<b>%{hovertext}</b><br><br>location=Antigua and Barbuda<br>=%{x}<br>Life expectancy=%{y}<extra></extra>",
         "hovertext": [
          "Antigua and Barbuda"
         ],
         "legendgroup": "Antigua and Barbuda",
         "marker": {
          "color": "#FFA15A",
          "symbol": "circle"
         },
         "mode": "markers",
         "name": "Antigua and Barbuda",
         "orientation": "v",
         "showlegend": true,
         "type": "scatter",
         "x": [
          98728
         ],
         "xaxis": "x",
         "y": [
          77.02
         ],
         "yaxis": "y"
        },
        {
         "hovertemplate": "<b>%{hovertext}</b><br><br>location=Isle of Man<br>=%{x}<br>Life expectancy=%{y}<extra></extra>",
         "hovertext": [
          "Isle of Man"
         ],
         "legendgroup": "Isle of Man",
         "marker": {
          "color": "#19d3f3",
          "symbol": "circle"
         },
         "mode": "markers",
         "name": "Isle of Man",
         "orientation": "v",
         "showlegend": true,
         "type": "scatter",
         "x": [
          85410
         ],
         "xaxis": "x",
         "y": [
          81.4
         ],
         "yaxis": "y"
        },
        {
         "hovertemplate": "<b>%{hovertext}</b><br><br>location=Andorra<br>=%{x}<br>Life expectancy=%{y}<extra></extra>",
         "hovertext": [
          "Andorra"
         ],
         "legendgroup": "Andorra",
         "marker": {
          "color": "#FF6692",
          "symbol": "circle"
         },
         "mode": "markers",
         "name": "Andorra",
         "orientation": "v",
         "showlegend": true,
         "type": "scatter",
         "x": [
          77354
         ],
         "xaxis": "x",
         "y": [
          83.73
         ],
         "yaxis": "y"
        },
        {
         "hovertemplate": "<b>%{hovertext}</b><br><br>location=Dominica<br>=%{x}<br>Life expectancy=%{y}<extra></extra>",
         "hovertext": [
          "Dominica"
         ],
         "legendgroup": "Dominica",
         "marker": {
          "color": "#B6E880",
          "symbol": "circle"
         },
         "mode": "markers",
         "name": "Dominica",
         "orientation": "v",
         "showlegend": true,
         "type": "scatter",
         "x": [
          72172
         ],
         "xaxis": "x",
         "y": [
          75
         ],
         "yaxis": "y"
        },
        {
         "hovertemplate": "<b>%{hovertext}</b><br><br>location=Cayman Islands<br>=%{x}<br>Life expectancy=%{y}<extra></extra>",
         "hovertext": [
          "Cayman Islands"
         ],
         "legendgroup": "Cayman Islands",
         "marker": {
          "color": "#FF97FF",
          "symbol": "circle"
         },
         "mode": "markers",
         "name": "Cayman Islands",
         "orientation": "v",
         "showlegend": true,
         "type": "scatter",
         "x": [
          66498
         ],
         "xaxis": "x",
         "y": [
          83.92
         ],
         "yaxis": "y"
        },
        {
         "hovertemplate": "<b>%{hovertext}</b><br><br>location=Guernsey<br>=%{x}<br>Life expectancy=%{y}<extra></extra>",
         "hovertext": [
          "Guernsey"
         ],
         "legendgroup": "Guernsey",
         "marker": {
          "color": "#FECB52",
          "symbol": "circle"
         },
         "mode": "markers",
         "name": "Guernsey",
         "orientation": "v",
         "showlegend": true,
         "type": "scatter",
         "x": [
          63385
         ],
         "xaxis": "x",
         "y": [
          null
         ],
         "yaxis": "y"
        },
        {
         "hovertemplate": "<b>%{hovertext}</b><br><br>location=Bermuda<br>=%{x}<br>Life expectancy=%{y}<extra></extra>",
         "hovertext": [
          "Bermuda"
         ],
         "legendgroup": "Bermuda",
         "marker": {
          "color": "#636efa",
          "symbol": "circle"
         },
         "mode": "markers",
         "name": "Bermuda",
         "orientation": "v",
         "showlegend": true,
         "type": "scatter",
         "x": [
          62092
         ],
         "xaxis": "x",
         "y": [
          82.59
         ],
         "yaxis": "y"
        },
        {
         "hovertemplate": "<b>%{hovertext}</b><br><br>location=Marshall Islands<br>=%{x}<br>Life expectancy=%{y}<extra></extra>",
         "hovertext": [
          "Marshall Islands"
         ],
         "legendgroup": "Marshall Islands",
         "marker": {
          "color": "#EF553B",
          "symbol": "circle"
         },
         "mode": "markers",
         "name": "Marshall Islands",
         "orientation": "v",
         "showlegend": true,
         "type": "scatter",
         "x": [
          59618
         ],
         "xaxis": "x",
         "y": [
          73.7
         ],
         "yaxis": "y"
        },
        {
         "hovertemplate": "<b>%{hovertext}</b><br><br>location=Northern Mariana Islands<br>=%{x}<br>Life expectancy=%{y}<extra></extra>",
         "hovertext": [
          "Northern Mariana Islands"
         ],
         "legendgroup": "Northern Mariana Islands",
         "marker": {
          "color": "#00cc96",
          "symbol": "circle"
         },
         "mode": "markers",
         "name": "Northern Mariana Islands",
         "orientation": "v",
         "showlegend": true,
         "type": "scatter",
         "x": [
          57910
         ],
         "xaxis": "x",
         "y": [
          76.74
         ],
         "yaxis": "y"
        },
        {
         "hovertemplate": "<b>%{hovertext}</b><br><br>location=Greenland<br>=%{x}<br>Life expectancy=%{y}<extra></extra>",
         "hovertext": [
          "Greenland"
         ],
         "legendgroup": "Greenland",
         "marker": {
          "color": "#ab63fa",
          "symbol": "circle"
         },
         "mode": "markers",
         "name": "Greenland",
         "orientation": "v",
         "showlegend": true,
         "type": "scatter",
         "x": [
          56868
         ],
         "xaxis": "x",
         "y": [
          71.7
         ],
         "yaxis": "y"
        },
        {
         "hovertemplate": "<b>%{hovertext}</b><br><br>location=Saint Kitts and Nevis<br>=%{x}<br>Life expectancy=%{y}<extra></extra>",
         "hovertext": [
          "Saint Kitts and Nevis"
         ],
         "legendgroup": "Saint Kitts and Nevis",
         "marker": {
          "color": "#FFA15A",
          "symbol": "circle"
         },
         "mode": "markers",
         "name": "Saint Kitts and Nevis",
         "orientation": "v",
         "showlegend": true,
         "type": "scatter",
         "x": [
          53546
         ],
         "xaxis": "x",
         "y": [
          76.23
         ],
         "yaxis": "y"
        },
        {
         "hovertemplate": "<b>%{hovertext}</b><br><br>location=Faeroe Islands<br>=%{x}<br>Life expectancy=%{y}<extra></extra>",
         "hovertext": [
          "Faeroe Islands"
         ],
         "legendgroup": "Faeroe Islands",
         "marker": {
          "color": "#19d3f3",
          "symbol": "circle"
         },
         "mode": "markers",
         "name": "Faeroe Islands",
         "orientation": "v",
         "showlegend": true,
         "type": "scatter",
         "x": [
          49053
         ],
         "xaxis": "x",
         "y": [
          80.67
         ],
         "yaxis": "y"
        },
        {
         "hovertemplate": "<b>%{hovertext}</b><br><br>location=Monaco<br>=%{x}<br>Life expectancy=%{y}<extra></extra>",
         "hovertext": [
          "Monaco"
         ],
         "legendgroup": "Monaco",
         "marker": {
          "color": "#FF6692",
          "symbol": "circle"
         },
         "mode": "markers",
         "name": "Monaco",
         "orientation": "v",
         "showlegend": true,
         "type": "scatter",
         "x": [
          39520
         ],
         "xaxis": "x",
         "y": [
          86.75
         ],
         "yaxis": "y"
        },
        {
         "hovertemplate": "<b>%{hovertext}</b><br><br>location=Turks and Caicos Islands<br>=%{x}<br>Life expectancy=%{y}<extra></extra>",
         "hovertext": [
          "Turks and Caicos Islands"
         ],
         "legendgroup": "Turks and Caicos Islands",
         "marker": {
          "color": "#B6E880",
          "symbol": "circle"
         },
         "mode": "markers",
         "name": "Turks and Caicos Islands",
         "orientation": "v",
         "showlegend": true,
         "type": "scatter",
         "x": [
          39226
         ],
         "xaxis": "x",
         "y": [
          80.22
         ],
         "yaxis": "y"
        },
        {
         "hovertemplate": "<b>%{hovertext}</b><br><br>location=Liechtenstein<br>=%{x}<br>Life expectancy=%{y}<extra></extra>",
         "hovertext": [
          "Liechtenstein"
         ],
         "legendgroup": "Liechtenstein",
         "marker": {
          "color": "#FF97FF",
          "symbol": "circle"
         },
         "mode": "markers",
         "name": "Liechtenstein",
         "orientation": "v",
         "showlegend": true,
         "type": "scatter",
         "x": [
          38254
         ],
         "xaxis": "x",
         "y": [
          82.49
         ],
         "yaxis": "y"
        },
        {
         "hovertemplate": "<b>%{hovertext}</b><br><br>location=San Marino<br>=%{x}<br>Life expectancy=%{y}<extra></extra>",
         "hovertext": [
          "San Marino"
         ],
         "legendgroup": "San Marino",
         "marker": {
          "color": "#FECB52",
          "symbol": "circle"
         },
         "mode": "markers",
         "name": "San Marino",
         "orientation": "v",
         "showlegend": true,
         "type": "scatter",
         "x": [
          34010
         ],
         "xaxis": "x",
         "y": [
          84.97
         ],
         "yaxis": "y"
        },
        {
         "hovertemplate": "<b>%{hovertext}</b><br><br>location=Gibraltar<br>=%{x}<br>Life expectancy=%{y}<extra></extra>",
         "hovertext": [
          "Gibraltar"
         ],
         "legendgroup": "Gibraltar",
         "marker": {
          "color": "#636efa",
          "symbol": "circle"
         },
         "mode": "markers",
         "name": "Gibraltar",
         "orientation": "v",
         "showlegend": true,
         "type": "scatter",
         "x": [
          33691
         ],
         "xaxis": "x",
         "y": [
          79.93
         ],
         "yaxis": "y"
        },
        {
         "hovertemplate": "<b>%{hovertext}</b><br><br>location=British Virgin Islands<br>=%{x}<br>Life expectancy=%{y}<extra></extra>",
         "hovertext": [
          "British Virgin Islands"
         ],
         "legendgroup": "British Virgin Islands",
         "marker": {
          "color": "#EF553B",
          "symbol": "circle"
         },
         "mode": "markers",
         "name": "British Virgin Islands",
         "orientation": "v",
         "showlegend": true,
         "type": "scatter",
         "x": [
          30423
         ],
         "xaxis": "x",
         "y": [
          79.07
         ],
         "yaxis": "y"
        },
        {
         "hovertemplate": "<b>%{hovertext}</b><br><br>location=Palau<br>=%{x}<br>Life expectancy=%{y}<extra></extra>",
         "hovertext": [
          "Palau"
         ],
         "legendgroup": "Palau",
         "marker": {
          "color": "#00cc96",
          "symbol": "circle"
         },
         "mode": "markers",
         "name": "Palau",
         "orientation": "v",
         "showlegend": true,
         "type": "scatter",
         "x": [
          18174
         ],
         "xaxis": "x",
         "y": [
          73.7
         ],
         "yaxis": "y"
        },
        {
         "hovertemplate": "<b>%{hovertext}</b><br><br>location=Cook Islands<br>=%{x}<br>Life expectancy=%{y}<extra></extra>",
         "hovertext": [
          "Cook Islands"
         ],
         "legendgroup": "Cook Islands",
         "marker": {
          "color": "#ab63fa",
          "symbol": "circle"
         },
         "mode": "markers",
         "name": "Cook Islands",
         "orientation": "v",
         "showlegend": true,
         "type": "scatter",
         "x": [
          17572
         ],
         "xaxis": "x",
         "y": [
          76.25
         ],
         "yaxis": "y"
        },
        {
         "hovertemplate": "<b>%{hovertext}</b><br><br>location=Anguilla<br>=%{x}<br>Life expectancy=%{y}<extra></extra>",
         "hovertext": [
          "Anguilla"
         ],
         "legendgroup": "Anguilla",
         "marker": {
          "color": "#FFA15A",
          "symbol": "circle"
         },
         "mode": "markers",
         "name": "Anguilla",
         "orientation": "v",
         "showlegend": true,
         "type": "scatter",
         "x": [
          15125
         ],
         "xaxis": "x",
         "y": [
          81.88
         ],
         "yaxis": "y"
        },
        {
         "hovertemplate": "<b>%{hovertext}</b><br><br>location=Tuvalu<br>=%{x}<br>Life expectancy=%{y}<extra></extra>",
         "hovertext": [
          "Tuvalu"
         ],
         "legendgroup": "Tuvalu",
         "marker": {
          "color": "#19d3f3",
          "symbol": "circle"
         },
         "mode": "markers",
         "name": "Tuvalu",
         "orientation": "v",
         "showlegend": true,
         "type": "scatter",
         "x": [
          11925
         ],
         "xaxis": "x",
         "y": [
          67.57
         ],
         "yaxis": "y"
        },
        {
         "hovertemplate": "<b>%{hovertext}</b><br><br>location=Wallis and Futuna<br>=%{x}<br>Life expectancy=%{y}<extra></extra>",
         "hovertext": [
          "Wallis and Futuna"
         ],
         "legendgroup": "Wallis and Futuna",
         "marker": {
          "color": "#FF6692",
          "symbol": "circle"
         },
         "mode": "markers",
         "name": "Wallis and Futuna",
         "orientation": "v",
         "showlegend": true,
         "type": "scatter",
         "x": [
          11094
         ],
         "xaxis": "x",
         "y": [
          79.94
         ],
         "yaxis": "y"
        },
        {
         "hovertemplate": "<b>%{hovertext}</b><br><br>location=Nauru<br>=%{x}<br>Life expectancy=%{y}<extra></extra>",
         "hovertext": [
          "Nauru"
         ],
         "legendgroup": "Nauru",
         "marker": {
          "color": "#B6E880",
          "symbol": "circle"
         },
         "mode": "markers",
         "name": "Nauru",
         "orientation": "v",
         "showlegend": true,
         "type": "scatter",
         "x": [
          10873
         ],
         "xaxis": "x",
         "y": [
          59.96
         ],
         "yaxis": "y"
        },
        {
         "hovertemplate": "<b>%{hovertext}</b><br><br>location=Saint Helena<br>=%{x}<br>Life expectancy=%{y}<extra></extra>",
         "hovertext": [
          "Saint Helena"
         ],
         "legendgroup": "Saint Helena",
         "marker": {
          "color": "#FF97FF",
          "symbol": "circle"
         },
         "mode": "markers",
         "name": "Saint Helena",
         "orientation": "v",
         "showlegend": true,
         "type": "scatter",
         "x": [
          6095
         ],
         "xaxis": "x",
         "y": [
          80.56
         ],
         "yaxis": "y"
        },
        {
         "hovertemplate": "<b>%{hovertext}</b><br><br>location=Saint Pierre and Miquelon<br>=%{x}<br>Life expectancy=%{y}<extra></extra>",
         "hovertext": [
          "Saint Pierre and Miquelon"
         ],
         "legendgroup": "Saint Pierre and Miquelon",
         "marker": {
          "color": "#FECB52",
          "symbol": "circle"
         },
         "mode": "markers",
         "name": "Saint Pierre and Miquelon",
         "orientation": "v",
         "showlegend": true,
         "type": "scatter",
         "x": [
          5771
         ],
         "xaxis": "x",
         "y": [
          81.07
         ],
         "yaxis": "y"
        },
        {
         "hovertemplate": "<b>%{hovertext}</b><br><br>location=Montserrat<br>=%{x}<br>Life expectancy=%{y}<extra></extra>",
         "hovertext": [
          "Montserrat"
         ],
         "legendgroup": "Montserrat",
         "marker": {
          "color": "#636efa",
          "symbol": "circle"
         },
         "mode": "markers",
         "name": "Montserrat",
         "orientation": "v",
         "showlegend": true,
         "type": "scatter",
         "x": [
          4981
         ],
         "xaxis": "x",
         "y": [
          74.16
         ],
         "yaxis": "y"
        },
        {
         "hovertemplate": "<b>%{hovertext}</b><br><br>location=Falkland Islands<br>=%{x}<br>Life expectancy=%{y}<extra></extra>",
         "hovertext": [
          "Falkland Islands"
         ],
         "legendgroup": "Falkland Islands",
         "marker": {
          "color": "#EF553B",
          "symbol": "circle"
         },
         "mode": "markers",
         "name": "Falkland Islands",
         "orientation": "v",
         "showlegend": true,
         "type": "scatter",
         "x": [
          3528
         ],
         "xaxis": "x",
         "y": [
          81.44
         ],
         "yaxis": "y"
        },
        {
         "hovertemplate": "<b>%{hovertext}</b><br><br>location=Niue<br>=%{x}<br>Life expectancy=%{y}<extra></extra>",
         "hovertext": [
          "Niue"
         ],
         "legendgroup": "Niue",
         "marker": {
          "color": "#00cc96",
          "symbol": "circle"
         },
         "mode": "markers",
         "name": "Niue",
         "orientation": "v",
         "showlegend": true,
         "type": "scatter",
         "x": [
          1614
         ],
         "xaxis": "x",
         "y": [
          73.71
         ],
         "yaxis": "y"
        },
        {
         "hovertemplate": "<b>%{hovertext}</b><br><br>location=Tokelau<br>=%{x}<br>Life expectancy=%{y}<extra></extra>",
         "hovertext": [
          "Tokelau"
         ],
         "legendgroup": "Tokelau",
         "marker": {
          "color": "#ab63fa",
          "symbol": "circle"
         },
         "mode": "markers",
         "name": "Tokelau",
         "orientation": "v",
         "showlegend": true,
         "type": "scatter",
         "x": [
          1368
         ],
         "xaxis": "x",
         "y": [
          81.86
         ],
         "yaxis": "y"
        },
        {
         "hovertemplate": "<b>%{hovertext}</b><br><br>location=Vatican<br>=%{x}<br>Life expectancy=%{y}<extra></extra>",
         "hovertext": [
          "Vatican"
         ],
         "legendgroup": "Vatican",
         "marker": {
          "color": "#FFA15A",
          "symbol": "circle"
         },
         "mode": "markers",
         "name": "Vatican",
         "orientation": "v",
         "showlegend": true,
         "type": "scatter",
         "x": [
          812
         ],
         "xaxis": "x",
         "y": [
          75.12
         ],
         "yaxis": "y"
        },
        {
         "hovertemplate": "<b>%{hovertext}</b><br><br>location=Pitcairn<br>=%{x}<br>Life expectancy=%{y}<extra></extra>",
         "hovertext": [
          "Pitcairn"
         ],
         "legendgroup": "Pitcairn",
         "marker": {
          "color": "#19d3f3",
          "symbol": "circle"
         },
         "mode": "markers",
         "name": "Pitcairn",
         "orientation": "v",
         "showlegend": true,
         "type": "scatter",
         "x": [
          47
         ],
         "xaxis": "x",
         "y": [
          null
         ],
         "yaxis": "y"
        }
       ],
       "layout": {
        "annotations": [
         {
          "align": "left",
          "font": {
           "size": 12
          },
          "showarrow": false,
          "text": "The question was whether people in countries with a larger population live longer. The graph shows that this is not the case. Larger populations usually have a lower life expectancy.<br>Probably due to poorer availability of medical care. In general, countries with large populations have a lower standard of living.",
          "x": 0,
          "xref": "paper",
          "y": -0.2,
          "yref": "paper"
         }
        ],
        "legend": {
         "title": {
          "text": "location"
         },
         "tracegroupgap": 0
        },
        "template": {
         "data": {
          "bar": [
           {
            "error_x": {
             "color": "#2a3f5f"
            },
            "error_y": {
             "color": "#2a3f5f"
            },
            "marker": {
             "line": {
              "color": "#E5ECF6",
              "width": 0.5
             },
             "pattern": {
              "fillmode": "overlay",
              "size": 10,
              "solidity": 0.2
             }
            },
            "type": "bar"
           }
          ],
          "barpolar": [
           {
            "marker": {
             "line": {
              "color": "#E5ECF6",
              "width": 0.5
             },
             "pattern": {
              "fillmode": "overlay",
              "size": 10,
              "solidity": 0.2
             }
            },
            "type": "barpolar"
           }
          ],
          "carpet": [
           {
            "aaxis": {
             "endlinecolor": "#2a3f5f",
             "gridcolor": "white",
             "linecolor": "white",
             "minorgridcolor": "white",
             "startlinecolor": "#2a3f5f"
            },
            "baxis": {
             "endlinecolor": "#2a3f5f",
             "gridcolor": "white",
             "linecolor": "white",
             "minorgridcolor": "white",
             "startlinecolor": "#2a3f5f"
            },
            "type": "carpet"
           }
          ],
          "choropleth": [
           {
            "colorbar": {
             "outlinewidth": 0,
             "ticks": ""
            },
            "type": "choropleth"
           }
          ],
          "contour": [
           {
            "colorbar": {
             "outlinewidth": 0,
             "ticks": ""
            },
            "colorscale": [
             [
              0,
              "#0d0887"
             ],
             [
              0.1111111111111111,
              "#46039f"
             ],
             [
              0.2222222222222222,
              "#7201a8"
             ],
             [
              0.3333333333333333,
              "#9c179e"
             ],
             [
              0.4444444444444444,
              "#bd3786"
             ],
             [
              0.5555555555555556,
              "#d8576b"
             ],
             [
              0.6666666666666666,
              "#ed7953"
             ],
             [
              0.7777777777777778,
              "#fb9f3a"
             ],
             [
              0.8888888888888888,
              "#fdca26"
             ],
             [
              1,
              "#f0f921"
             ]
            ],
            "type": "contour"
           }
          ],
          "contourcarpet": [
           {
            "colorbar": {
             "outlinewidth": 0,
             "ticks": ""
            },
            "type": "contourcarpet"
           }
          ],
          "heatmap": [
           {
            "colorbar": {
             "outlinewidth": 0,
             "ticks": ""
            },
            "colorscale": [
             [
              0,
              "#0d0887"
             ],
             [
              0.1111111111111111,
              "#46039f"
             ],
             [
              0.2222222222222222,
              "#7201a8"
             ],
             [
              0.3333333333333333,
              "#9c179e"
             ],
             [
              0.4444444444444444,
              "#bd3786"
             ],
             [
              0.5555555555555556,
              "#d8576b"
             ],
             [
              0.6666666666666666,
              "#ed7953"
             ],
             [
              0.7777777777777778,
              "#fb9f3a"
             ],
             [
              0.8888888888888888,
              "#fdca26"
             ],
             [
              1,
              "#f0f921"
             ]
            ],
            "type": "heatmap"
           }
          ],
          "heatmapgl": [
           {
            "colorbar": {
             "outlinewidth": 0,
             "ticks": ""
            },
            "colorscale": [
             [
              0,
              "#0d0887"
             ],
             [
              0.1111111111111111,
              "#46039f"
             ],
             [
              0.2222222222222222,
              "#7201a8"
             ],
             [
              0.3333333333333333,
              "#9c179e"
             ],
             [
              0.4444444444444444,
              "#bd3786"
             ],
             [
              0.5555555555555556,
              "#d8576b"
             ],
             [
              0.6666666666666666,
              "#ed7953"
             ],
             [
              0.7777777777777778,
              "#fb9f3a"
             ],
             [
              0.8888888888888888,
              "#fdca26"
             ],
             [
              1,
              "#f0f921"
             ]
            ],
            "type": "heatmapgl"
           }
          ],
          "histogram": [
           {
            "marker": {
             "pattern": {
              "fillmode": "overlay",
              "size": 10,
              "solidity": 0.2
             }
            },
            "type": "histogram"
           }
          ],
          "histogram2d": [
           {
            "colorbar": {
             "outlinewidth": 0,
             "ticks": ""
            },
            "colorscale": [
             [
              0,
              "#0d0887"
             ],
             [
              0.1111111111111111,
              "#46039f"
             ],
             [
              0.2222222222222222,
              "#7201a8"
             ],
             [
              0.3333333333333333,
              "#9c179e"
             ],
             [
              0.4444444444444444,
              "#bd3786"
             ],
             [
              0.5555555555555556,
              "#d8576b"
             ],
             [
              0.6666666666666666,
              "#ed7953"
             ],
             [
              0.7777777777777778,
              "#fb9f3a"
             ],
             [
              0.8888888888888888,
              "#fdca26"
             ],
             [
              1,
              "#f0f921"
             ]
            ],
            "type": "histogram2d"
           }
          ],
          "histogram2dcontour": [
           {
            "colorbar": {
             "outlinewidth": 0,
             "ticks": ""
            },
            "colorscale": [
             [
              0,
              "#0d0887"
             ],
             [
              0.1111111111111111,
              "#46039f"
             ],
             [
              0.2222222222222222,
              "#7201a8"
             ],
             [
              0.3333333333333333,
              "#9c179e"
             ],
             [
              0.4444444444444444,
              "#bd3786"
             ],
             [
              0.5555555555555556,
              "#d8576b"
             ],
             [
              0.6666666666666666,
              "#ed7953"
             ],
             [
              0.7777777777777778,
              "#fb9f3a"
             ],
             [
              0.8888888888888888,
              "#fdca26"
             ],
             [
              1,
              "#f0f921"
             ]
            ],
            "type": "histogram2dcontour"
           }
          ],
          "mesh3d": [
           {
            "colorbar": {
             "outlinewidth": 0,
             "ticks": ""
            },
            "type": "mesh3d"
           }
          ],
          "parcoords": [
           {
            "line": {
             "colorbar": {
              "outlinewidth": 0,
              "ticks": ""
             }
            },
            "type": "parcoords"
           }
          ],
          "pie": [
           {
            "automargin": true,
            "type": "pie"
           }
          ],
          "scatter": [
           {
            "fillpattern": {
             "fillmode": "overlay",
             "size": 10,
             "solidity": 0.2
            },
            "type": "scatter"
           }
          ],
          "scatter3d": [
           {
            "line": {
             "colorbar": {
              "outlinewidth": 0,
              "ticks": ""
             }
            },
            "marker": {
             "colorbar": {
              "outlinewidth": 0,
              "ticks": ""
             }
            },
            "type": "scatter3d"
           }
          ],
          "scattercarpet": [
           {
            "marker": {
             "colorbar": {
              "outlinewidth": 0,
              "ticks": ""
             }
            },
            "type": "scattercarpet"
           }
          ],
          "scattergeo": [
           {
            "marker": {
             "colorbar": {
              "outlinewidth": 0,
              "ticks": ""
             }
            },
            "type": "scattergeo"
           }
          ],
          "scattergl": [
           {
            "marker": {
             "colorbar": {
              "outlinewidth": 0,
              "ticks": ""
             }
            },
            "type": "scattergl"
           }
          ],
          "scattermapbox": [
           {
            "marker": {
             "colorbar": {
              "outlinewidth": 0,
              "ticks": ""
             }
            },
            "type": "scattermapbox"
           }
          ],
          "scatterpolar": [
           {
            "marker": {
             "colorbar": {
              "outlinewidth": 0,
              "ticks": ""
             }
            },
            "type": "scatterpolar"
           }
          ],
          "scatterpolargl": [
           {
            "marker": {
             "colorbar": {
              "outlinewidth": 0,
              "ticks": ""
             }
            },
            "type": "scatterpolargl"
           }
          ],
          "scatterternary": [
           {
            "marker": {
             "colorbar": {
              "outlinewidth": 0,
              "ticks": ""
             }
            },
            "type": "scatterternary"
           }
          ],
          "surface": [
           {
            "colorbar": {
             "outlinewidth": 0,
             "ticks": ""
            },
            "colorscale": [
             [
              0,
              "#0d0887"
             ],
             [
              0.1111111111111111,
              "#46039f"
             ],
             [
              0.2222222222222222,
              "#7201a8"
             ],
             [
              0.3333333333333333,
              "#9c179e"
             ],
             [
              0.4444444444444444,
              "#bd3786"
             ],
             [
              0.5555555555555556,
              "#d8576b"
             ],
             [
              0.6666666666666666,
              "#ed7953"
             ],
             [
              0.7777777777777778,
              "#fb9f3a"
             ],
             [
              0.8888888888888888,
              "#fdca26"
             ],
             [
              1,
              "#f0f921"
             ]
            ],
            "type": "surface"
           }
          ],
          "table": [
           {
            "cells": {
             "fill": {
              "color": "#EBF0F8"
             },
             "line": {
              "color": "white"
             }
            },
            "header": {
             "fill": {
              "color": "#C8D4E3"
             },
             "line": {
              "color": "white"
             }
            },
            "type": "table"
           }
          ]
         },
         "layout": {
          "annotationdefaults": {
           "arrowcolor": "#2a3f5f",
           "arrowhead": 0,
           "arrowwidth": 1
          },
          "autotypenumbers": "strict",
          "coloraxis": {
           "colorbar": {
            "outlinewidth": 0,
            "ticks": ""
           }
          },
          "colorscale": {
           "diverging": [
            [
             0,
             "#8e0152"
            ],
            [
             0.1,
             "#c51b7d"
            ],
            [
             0.2,
             "#de77ae"
            ],
            [
             0.3,
             "#f1b6da"
            ],
            [
             0.4,
             "#fde0ef"
            ],
            [
             0.5,
             "#f7f7f7"
            ],
            [
             0.6,
             "#e6f5d0"
            ],
            [
             0.7,
             "#b8e186"
            ],
            [
             0.8,
             "#7fbc41"
            ],
            [
             0.9,
             "#4d9221"
            ],
            [
             1,
             "#276419"
            ]
           ],
           "sequential": [
            [
             0,
             "#0d0887"
            ],
            [
             0.1111111111111111,
             "#46039f"
            ],
            [
             0.2222222222222222,
             "#7201a8"
            ],
            [
             0.3333333333333333,
             "#9c179e"
            ],
            [
             0.4444444444444444,
             "#bd3786"
            ],
            [
             0.5555555555555556,
             "#d8576b"
            ],
            [
             0.6666666666666666,
             "#ed7953"
            ],
            [
             0.7777777777777778,
             "#fb9f3a"
            ],
            [
             0.8888888888888888,
             "#fdca26"
            ],
            [
             1,
             "#f0f921"
            ]
           ],
           "sequentialminus": [
            [
             0,
             "#0d0887"
            ],
            [
             0.1111111111111111,
             "#46039f"
            ],
            [
             0.2222222222222222,
             "#7201a8"
            ],
            [
             0.3333333333333333,
             "#9c179e"
            ],
            [
             0.4444444444444444,
             "#bd3786"
            ],
            [
             0.5555555555555556,
             "#d8576b"
            ],
            [
             0.6666666666666666,
             "#ed7953"
            ],
            [
             0.7777777777777778,
             "#fb9f3a"
            ],
            [
             0.8888888888888888,
             "#fdca26"
            ],
            [
             1,
             "#f0f921"
            ]
           ]
          },
          "colorway": [
           "#636efa",
           "#EF553B",
           "#00cc96",
           "#ab63fa",
           "#FFA15A",
           "#19d3f3",
           "#FF6692",
           "#B6E880",
           "#FF97FF",
           "#FECB52"
          ],
          "font": {
           "color": "#2a3f5f"
          },
          "geo": {
           "bgcolor": "white",
           "lakecolor": "white",
           "landcolor": "#E5ECF6",
           "showlakes": true,
           "showland": true,
           "subunitcolor": "white"
          },
          "hoverlabel": {
           "align": "left"
          },
          "hovermode": "closest",
          "mapbox": {
           "style": "light"
          },
          "paper_bgcolor": "white",
          "plot_bgcolor": "#E5ECF6",
          "polar": {
           "angularaxis": {
            "gridcolor": "white",
            "linecolor": "white",
            "ticks": ""
           },
           "bgcolor": "#E5ECF6",
           "radialaxis": {
            "gridcolor": "white",
            "linecolor": "white",
            "ticks": ""
           }
          },
          "scene": {
           "xaxis": {
            "backgroundcolor": "#E5ECF6",
            "gridcolor": "white",
            "gridwidth": 2,
            "linecolor": "white",
            "showbackground": true,
            "ticks": "",
            "zerolinecolor": "white"
           },
           "yaxis": {
            "backgroundcolor": "#E5ECF6",
            "gridcolor": "white",
            "gridwidth": 2,
            "linecolor": "white",
            "showbackground": true,
            "ticks": "",
            "zerolinecolor": "white"
           },
           "zaxis": {
            "backgroundcolor": "#E5ECF6",
            "gridcolor": "white",
            "gridwidth": 2,
            "linecolor": "white",
            "showbackground": true,
            "ticks": "",
            "zerolinecolor": "white"
           }
          },
          "shapedefaults": {
           "line": {
            "color": "#2a3f5f"
           }
          },
          "ternary": {
           "aaxis": {
            "gridcolor": "white",
            "linecolor": "white",
            "ticks": ""
           },
           "baxis": {
            "gridcolor": "white",
            "linecolor": "white",
            "ticks": ""
           },
           "bgcolor": "#E5ECF6",
           "caxis": {
            "gridcolor": "white",
            "linecolor": "white",
            "ticks": ""
           }
          },
          "title": {
           "x": 0.05
          },
          "xaxis": {
           "automargin": true,
           "gridcolor": "white",
           "linecolor": "white",
           "ticks": "",
           "title": {
            "standoff": 15
           },
           "zerolinecolor": "white",
           "zerolinewidth": 2
          },
          "yaxis": {
           "automargin": true,
           "gridcolor": "white",
           "linecolor": "white",
           "ticks": "",
           "title": {
            "standoff": 15
           },
           "zerolinecolor": "white",
           "zerolinewidth": 2
          }
         }
        },
        "title": {
         "text": "The relationship between population size and life expectancy"
        },
        "xaxis": {
         "anchor": "y",
         "domain": [
          0,
          1
         ],
         "title": {
          "text": ""
         }
        },
        "yaxis": {
         "anchor": "x",
         "domain": [
          0,
          1
         ],
         "title": {
          "text": "Life expectancy"
         }
        }
       }
      }
     },
     "metadata": {},
     "output_type": "display_data"
    }
   ],
   "source": [
    "import plotly.express as px\n",
    "import pandas as pd\n",
    "\n",
    "file_path = r\"C:\\Users\\MartinPC\\Desktop\\project_1_python.csv\"\n",
    "df = pd.read_csv(file_path)\n",
    "\n",
    "# Kontrola sloupců (chatGPT corection)\n",
    "if \"population\" in df.columns and \"life_expectancy\" in df.columns:\n",
    "    df_unique = df.sort_values(\"population\", ascending=False).drop_duplicates(subset=[\"location\"])\n",
    "\n",
    "    #  scatter plotu vith subscription >>>>\n",
    "    fig = px.scatter(\n",
    "        df_unique,\n",
    "        x=\"population\",\n",
    "        y=\"life_expectancy\",\n",
    "        color=\"location\",\n",
    "        hover_name=\"location\",\n",
    "        title=\"The relationship between population size and life expectancy\",\n",
    "        labels={\"population\": \"\", \"life_expectancy\": \"Life expectancy\"},\n",
    "        size_max=20,\n",
    "    )\n",
    "\n",
    "    # subtitle >>>>>>\n",
    "    fig.update_layout(\n",
    "        annotations=[\n",
    "            dict(\n",
    "                text=\"The question was whether people in countries with a larger population live longer. The graph shows that this is not the case. Larger populations usually have a lower life expectancy.<br>\"\n",
    "                     \"Probably due to poorer availability of medical care. In general, countries with large populations have a lower standard of living.\",\n",
    "                x=0.0,  # center\n",
    "                y=-0.2, \n",
    "                xref=\"paper\",\n",
    "                yref=\"paper\",\n",
    "                showarrow=False,\n",
    "                font=dict(size=12),\n",
    "                align=\"left\"\n",
    "            )\n",
    "        ]\n",
    "    )\n",
    "    \n",
    "    fig.show()\n",
    "else:\n",
    "    print(\"Dataset neobsahuje sloupce 'population' nebo 'life_expectancy'.\")"
   ]
  },
  {
   "cell_type": "markdown",
   "metadata": {},
   "source": [
    "<h4><b><span style=\"color:rgb(191, 75, 226)  ;\"> <<<< 3 >>>> <br>Using your data frame and the plotly library, create a visualization that shows how the number of new COVID-19 cases is distributed over time. Compare two countries of your choice.\n",
    "Adjust the visualization appearance:\n",
    "Make the color of the markers (markers = columns, lines, points - depending on which type of chart you apply to the defined problem) depend on the country where the number of cases was recorded.\n",
    "Use a different color palette than the default one. You can use the palettes defined in Plotly or define your own palette as a list of colors.\n",
    "Set an appropriate title for the chart.</span>"
   ]
  },
  {
   "cell_type": "markdown",
   "metadata": {},
   "source": []
  },
  {
   "cell_type": "code",
   "execution_count": 11,
   "metadata": {},
   "outputs": [
    {
     "name": "stdout",
     "output_type": "stream",
     "text": [
      "Requirement already satisfied: nbformat in c:\\users\\martinpc\\appdata\\local\\packages\\pythonsoftwarefoundation.python.3.11_qbz5n2kfra8p0\\localcache\\local-packages\\python311\\site-packages (5.10.4)\n",
      "Requirement already satisfied: fastjsonschema>=2.15 in c:\\users\\martinpc\\appdata\\local\\packages\\pythonsoftwarefoundation.python.3.11_qbz5n2kfra8p0\\localcache\\local-packages\\python311\\site-packages (from nbformat) (2.21.1)\n",
      "Requirement already satisfied: jsonschema>=2.6 in c:\\users\\martinpc\\appdata\\local\\packages\\pythonsoftwarefoundation.python.3.11_qbz5n2kfra8p0\\localcache\\local-packages\\python311\\site-packages (from nbformat) (4.23.0)\n",
      "Requirement already satisfied: jupyter-core!=5.0.*,>=4.12 in c:\\users\\martinpc\\appdata\\local\\packages\\pythonsoftwarefoundation.python.3.11_qbz5n2kfra8p0\\localcache\\local-packages\\python311\\site-packages (from nbformat) (5.7.2)\n",
      "Requirement already satisfied: traitlets>=5.1 in c:\\users\\martinpc\\appdata\\local\\packages\\pythonsoftwarefoundation.python.3.11_qbz5n2kfra8p0\\localcache\\local-packages\\python311\\site-packages (from nbformat) (5.14.3)\n",
      "Requirement already satisfied: attrs>=22.2.0 in c:\\users\\martinpc\\appdata\\local\\packages\\pythonsoftwarefoundation.python.3.11_qbz5n2kfra8p0\\localcache\\local-packages\\python311\\site-packages (from jsonschema>=2.6->nbformat) (25.1.0)\n",
      "Requirement already satisfied: jsonschema-specifications>=2023.03.6 in c:\\users\\martinpc\\appdata\\local\\packages\\pythonsoftwarefoundation.python.3.11_qbz5n2kfra8p0\\localcache\\local-packages\\python311\\site-packages (from jsonschema>=2.6->nbformat) (2024.10.1)\n",
      "Requirement already satisfied: referencing>=0.28.4 in c:\\users\\martinpc\\appdata\\local\\packages\\pythonsoftwarefoundation.python.3.11_qbz5n2kfra8p0\\localcache\\local-packages\\python311\\site-packages (from jsonschema>=2.6->nbformat) (0.36.2)\n",
      "Requirement already satisfied: rpds-py>=0.7.1 in c:\\users\\martinpc\\appdata\\local\\packages\\pythonsoftwarefoundation.python.3.11_qbz5n2kfra8p0\\localcache\\local-packages\\python311\\site-packages (from jsonschema>=2.6->nbformat) (0.22.3)\n",
      "Requirement already satisfied: platformdirs>=2.5 in c:\\users\\martinpc\\appdata\\local\\packages\\pythonsoftwarefoundation.python.3.11_qbz5n2kfra8p0\\localcache\\local-packages\\python311\\site-packages (from jupyter-core!=5.0.*,>=4.12->nbformat) (4.3.6)\n",
      "Requirement already satisfied: pywin32>=300 in c:\\users\\martinpc\\appdata\\local\\packages\\pythonsoftwarefoundation.python.3.11_qbz5n2kfra8p0\\localcache\\local-packages\\python311\\site-packages (from jupyter-core!=5.0.*,>=4.12->nbformat) (308)\n",
      "Requirement already satisfied: typing-extensions>=4.4.0 in c:\\users\\martinpc\\appdata\\local\\packages\\pythonsoftwarefoundation.python.3.11_qbz5n2kfra8p0\\localcache\\local-packages\\python311\\site-packages (from referencing>=0.28.4->jsonschema>=2.6->nbformat) (4.12.2)\n",
      "Note: you may need to restart the kernel to use updated packages.\n"
     ]
    },
    {
     "name": "stderr",
     "output_type": "stream",
     "text": [
      "\n",
      "[notice] A new release of pip is available: 24.0 -> 25.0\n",
      "[notice] To update, run: C:\\Users\\MartinPC\\AppData\\Local\\Microsoft\\WindowsApps\\PythonSoftwareFoundation.Python.3.11_qbz5n2kfra8p0\\python.exe -m pip install --upgrade pip\n"
     ]
    }
   ],
   "source": [
    "pip install nbformat"
   ]
  },
  {
   "cell_type": "code",
   "execution_count": null,
   "metadata": {},
   "outputs": [
    {
     "data": {
      "application/vnd.plotly.v1+json": {
       "config": {
        "plotlyServerURL": "https://plot.ly"
       },
       "data": [
        {
         "hovertemplate": "Country=Belgium<br>Date=%{x}<br>New cases=%{y}<extra></extra>",
         "legendgroup": "Belgium",
         "line": {
          "color": "rgb(102,194,165)",
          "dash": "solid"
         },
         "marker": {
          "symbol": "circle"
         },
         "mode": "lines",
         "name": "Belgium",
         "showlegend": true,
         "type": "scattergl",
         "x": [
          "2020-02-04T00:00:00",
          "2020-02-05T00:00:00",
          "2020-02-06T00:00:00",
          "2020-02-07T00:00:00",
          "2020-02-08T00:00:00",
          "2020-02-09T00:00:00",
          "2020-02-10T00:00:00",
          "2020-02-11T00:00:00",
          "2020-02-12T00:00:00",
          "2020-02-13T00:00:00",
          "2020-02-14T00:00:00",
          "2020-02-15T00:00:00",
          "2020-02-16T00:00:00",
          "2020-02-17T00:00:00",
          "2020-02-18T00:00:00",
          "2020-02-19T00:00:00",
          "2020-02-20T00:00:00",
          "2020-02-21T00:00:00",
          "2020-02-22T00:00:00",
          "2020-02-23T00:00:00",
          "2020-02-24T00:00:00",
          "2020-02-25T00:00:00",
          "2020-02-26T00:00:00",
          "2020-02-27T00:00:00",
          "2020-02-28T00:00:00",
          "2020-02-29T00:00:00",
          "2020-03-01T00:00:00",
          "2020-03-02T00:00:00",
          "2020-03-03T00:00:00",
          "2020-03-04T00:00:00",
          "2020-03-05T00:00:00",
          "2020-03-06T00:00:00",
          "2020-03-07T00:00:00",
          "2020-03-08T00:00:00",
          "2020-03-09T00:00:00",
          "2020-03-10T00:00:00",
          "2020-03-11T00:00:00",
          "2020-03-12T00:00:00",
          "2020-03-13T00:00:00",
          "2020-03-14T00:00:00",
          "2020-03-15T00:00:00",
          "2020-03-16T00:00:00",
          "2020-03-17T00:00:00",
          "2020-03-18T00:00:00",
          "2020-03-19T00:00:00",
          "2020-03-20T00:00:00",
          "2020-03-21T00:00:00",
          "2020-03-22T00:00:00",
          "2020-03-23T00:00:00",
          "2020-03-24T00:00:00",
          "2020-03-25T00:00:00",
          "2020-03-26T00:00:00",
          "2020-03-27T00:00:00",
          "2020-03-28T00:00:00",
          "2020-03-29T00:00:00",
          "2020-03-30T00:00:00",
          "2020-03-31T00:00:00",
          "2020-04-01T00:00:00",
          "2020-04-02T00:00:00",
          "2020-04-03T00:00:00",
          "2020-04-04T00:00:00",
          "2020-04-05T00:00:00",
          "2020-04-06T00:00:00",
          "2020-04-07T00:00:00",
          "2020-04-08T00:00:00",
          "2020-04-09T00:00:00",
          "2020-04-10T00:00:00",
          "2020-04-11T00:00:00",
          "2020-04-12T00:00:00",
          "2020-04-13T00:00:00",
          "2020-04-14T00:00:00",
          "2020-04-15T00:00:00",
          "2020-04-16T00:00:00",
          "2020-04-17T00:00:00",
          "2020-04-18T00:00:00",
          "2020-04-19T00:00:00",
          "2020-04-20T00:00:00",
          "2020-04-21T00:00:00",
          "2020-04-22T00:00:00",
          "2020-04-23T00:00:00",
          "2020-04-24T00:00:00",
          "2020-04-25T00:00:00",
          "2020-04-26T00:00:00",
          "2020-04-27T00:00:00",
          "2020-04-28T00:00:00",
          "2020-04-29T00:00:00",
          "2020-04-30T00:00:00",
          "2020-05-01T00:00:00",
          "2020-05-02T00:00:00",
          "2020-05-03T00:00:00",
          "2020-05-04T00:00:00",
          "2020-05-05T00:00:00",
          "2020-05-06T00:00:00",
          "2020-05-07T00:00:00",
          "2020-05-08T00:00:00",
          "2020-05-09T00:00:00",
          "2020-05-10T00:00:00",
          "2020-05-11T00:00:00",
          "2020-05-12T00:00:00",
          "2020-05-13T00:00:00",
          "2020-05-14T00:00:00",
          "2020-05-15T00:00:00",
          "2020-05-16T00:00:00",
          "2020-05-17T00:00:00",
          "2020-05-18T00:00:00",
          "2020-05-19T00:00:00",
          "2020-05-20T00:00:00",
          "2020-05-21T00:00:00",
          "2020-05-22T00:00:00",
          "2020-05-23T00:00:00",
          "2020-05-24T00:00:00",
          "2020-05-25T00:00:00",
          "2020-05-26T00:00:00",
          "2020-05-27T00:00:00",
          "2020-05-28T00:00:00",
          "2020-05-29T00:00:00",
          "2020-05-30T00:00:00",
          "2020-05-31T00:00:00",
          "2020-06-01T00:00:00",
          "2020-06-02T00:00:00",
          "2020-06-03T00:00:00",
          "2020-06-04T00:00:00",
          "2020-06-05T00:00:00",
          "2020-06-06T00:00:00",
          "2020-06-07T00:00:00",
          "2020-06-08T00:00:00",
          "2020-06-09T00:00:00",
          "2020-06-10T00:00:00",
          "2020-06-11T00:00:00",
          "2020-06-12T00:00:00",
          "2020-06-13T00:00:00",
          "2020-06-14T00:00:00",
          "2020-06-15T00:00:00",
          "2020-06-16T00:00:00",
          "2020-06-17T00:00:00",
          "2020-06-18T00:00:00",
          "2020-06-19T00:00:00",
          "2020-06-20T00:00:00",
          "2020-06-21T00:00:00",
          "2020-06-22T00:00:00",
          "2020-06-23T00:00:00",
          "2020-06-24T00:00:00",
          "2020-06-25T00:00:00",
          "2020-06-26T00:00:00",
          "2020-06-27T00:00:00",
          "2020-06-28T00:00:00",
          "2020-06-29T00:00:00",
          "2020-06-30T00:00:00",
          "2020-07-01T00:00:00",
          "2020-07-02T00:00:00",
          "2020-07-03T00:00:00",
          "2020-07-04T00:00:00",
          "2020-07-05T00:00:00",
          "2020-07-06T00:00:00",
          "2020-07-07T00:00:00",
          "2020-07-08T00:00:00",
          "2020-07-09T00:00:00",
          "2020-07-10T00:00:00",
          "2020-07-11T00:00:00",
          "2020-07-12T00:00:00",
          "2020-07-13T00:00:00",
          "2020-07-14T00:00:00",
          "2020-07-15T00:00:00",
          "2020-07-16T00:00:00",
          "2020-07-17T00:00:00",
          "2020-07-18T00:00:00",
          "2020-07-19T00:00:00",
          "2020-07-20T00:00:00",
          "2020-07-21T00:00:00",
          "2020-07-22T00:00:00",
          "2020-07-23T00:00:00",
          "2020-07-24T00:00:00",
          "2020-07-25T00:00:00",
          "2020-07-26T00:00:00",
          "2020-07-27T00:00:00",
          "2020-07-28T00:00:00",
          "2020-07-29T00:00:00",
          "2020-07-30T00:00:00",
          "2020-07-31T00:00:00",
          "2020-08-01T00:00:00",
          "2020-08-02T00:00:00",
          "2020-08-03T00:00:00",
          "2020-08-04T00:00:00",
          "2020-08-05T00:00:00",
          "2020-08-06T00:00:00",
          "2020-08-07T00:00:00",
          "2020-08-08T00:00:00",
          "2020-08-09T00:00:00",
          "2020-08-10T00:00:00",
          "2020-08-11T00:00:00",
          "2020-08-12T00:00:00",
          "2020-08-13T00:00:00",
          "2020-08-14T00:00:00",
          "2020-08-15T00:00:00",
          "2020-08-16T00:00:00",
          "2020-08-17T00:00:00",
          "2020-08-18T00:00:00",
          "2020-08-19T00:00:00",
          "2020-08-20T00:00:00",
          "2020-08-21T00:00:00",
          "2020-08-22T00:00:00",
          "2020-08-23T00:00:00",
          "2020-08-24T00:00:00",
          "2020-08-25T00:00:00",
          "2020-08-26T00:00:00",
          "2020-08-27T00:00:00",
          "2020-08-28T00:00:00",
          "2020-08-29T00:00:00",
          "2020-08-30T00:00:00",
          "2020-08-31T00:00:00",
          "2020-09-01T00:00:00",
          "2020-09-02T00:00:00",
          "2020-09-03T00:00:00",
          "2020-09-04T00:00:00",
          "2020-09-05T00:00:00",
          "2020-09-06T00:00:00",
          "2020-09-07T00:00:00",
          "2020-09-08T00:00:00",
          "2020-09-09T00:00:00",
          "2020-09-10T00:00:00",
          "2020-09-11T00:00:00",
          "2020-09-12T00:00:00",
          "2020-09-13T00:00:00",
          "2020-09-14T00:00:00",
          "2020-09-15T00:00:00",
          "2020-09-16T00:00:00",
          "2020-09-17T00:00:00",
          "2020-09-18T00:00:00",
          "2020-09-19T00:00:00",
          "2020-09-20T00:00:00",
          "2020-09-21T00:00:00",
          "2020-09-22T00:00:00",
          "2020-09-23T00:00:00",
          "2020-09-24T00:00:00",
          "2020-09-25T00:00:00",
          "2020-09-26T00:00:00",
          "2020-09-27T00:00:00",
          "2020-09-28T00:00:00",
          "2020-09-29T00:00:00",
          "2020-09-30T00:00:00",
          "2020-10-01T00:00:00",
          "2020-10-02T00:00:00",
          "2020-10-03T00:00:00",
          "2020-10-04T00:00:00",
          "2020-10-05T00:00:00",
          "2020-10-06T00:00:00",
          "2020-10-07T00:00:00",
          "2020-10-08T00:00:00",
          "2020-10-09T00:00:00",
          "2020-10-10T00:00:00",
          "2020-10-11T00:00:00",
          "2020-10-12T00:00:00",
          "2020-10-13T00:00:00",
          "2020-10-14T00:00:00",
          "2020-10-15T00:00:00",
          "2020-10-16T00:00:00",
          "2020-10-17T00:00:00",
          "2020-10-18T00:00:00",
          "2020-10-19T00:00:00",
          "2020-10-20T00:00:00",
          "2020-10-21T00:00:00",
          "2020-10-22T00:00:00",
          "2020-10-23T00:00:00",
          "2020-10-24T00:00:00",
          "2020-10-25T00:00:00",
          "2020-10-26T00:00:00",
          "2020-10-27T00:00:00",
          "2020-10-28T00:00:00",
          "2020-10-29T00:00:00",
          "2020-10-30T00:00:00",
          "2020-10-31T00:00:00",
          "2020-11-01T00:00:00",
          "2020-11-02T00:00:00",
          "2020-11-03T00:00:00",
          "2020-11-04T00:00:00",
          "2020-11-05T00:00:00",
          "2020-11-06T00:00:00",
          "2020-11-07T00:00:00",
          "2020-11-08T00:00:00",
          "2020-11-09T00:00:00",
          "2020-11-10T00:00:00",
          "2020-11-11T00:00:00",
          "2020-11-12T00:00:00",
          "2020-11-13T00:00:00",
          "2020-11-14T00:00:00",
          "2020-11-15T00:00:00",
          "2020-11-16T00:00:00",
          "2020-11-17T00:00:00",
          "2020-11-18T00:00:00",
          "2020-11-19T00:00:00",
          "2020-11-20T00:00:00",
          "2020-11-21T00:00:00",
          "2020-11-22T00:00:00",
          "2020-11-23T00:00:00",
          "2020-11-24T00:00:00",
          "2020-11-25T00:00:00",
          "2020-11-26T00:00:00",
          "2020-11-27T00:00:00",
          "2020-11-28T00:00:00",
          "2020-11-29T00:00:00",
          "2020-11-30T00:00:00",
          "2020-12-01T00:00:00",
          "2020-12-02T00:00:00",
          "2020-12-03T00:00:00",
          "2020-12-04T00:00:00",
          "2020-12-05T00:00:00",
          "2020-12-06T00:00:00",
          "2020-12-07T00:00:00",
          "2020-12-08T00:00:00",
          "2020-12-09T00:00:00",
          "2020-12-10T00:00:00",
          "2020-12-11T00:00:00",
          "2020-12-12T00:00:00",
          "2020-12-13T00:00:00",
          "2020-12-14T00:00:00",
          "2020-12-15T00:00:00",
          "2020-12-16T00:00:00",
          "2020-12-17T00:00:00",
          "2020-12-18T00:00:00",
          "2020-12-19T00:00:00",
          "2020-12-20T00:00:00",
          "2020-12-21T00:00:00",
          "2020-12-22T00:00:00",
          "2020-12-23T00:00:00",
          "2020-12-24T00:00:00",
          "2020-12-25T00:00:00",
          "2020-12-26T00:00:00",
          "2020-12-27T00:00:00",
          "2020-12-28T00:00:00",
          "2020-12-29T00:00:00",
          "2020-12-30T00:00:00",
          "2020-12-31T00:00:00",
          "2021-01-01T00:00:00",
          "2021-01-02T00:00:00",
          "2021-01-03T00:00:00",
          "2021-01-04T00:00:00",
          "2021-01-05T00:00:00",
          "2021-01-06T00:00:00",
          "2021-01-07T00:00:00",
          "2021-01-08T00:00:00",
          "2021-01-09T00:00:00",
          "2021-01-10T00:00:00",
          "2021-01-11T00:00:00",
          "2021-01-12T00:00:00",
          "2021-01-13T00:00:00",
          "2021-01-14T00:00:00",
          "2021-01-15T00:00:00",
          "2021-01-16T00:00:00",
          "2021-01-17T00:00:00",
          "2021-01-18T00:00:00",
          "2021-01-19T00:00:00",
          "2021-01-20T00:00:00",
          "2021-01-21T00:00:00",
          "2021-01-22T00:00:00",
          "2021-01-23T00:00:00",
          "2021-01-24T00:00:00",
          "2021-01-25T00:00:00",
          "2021-01-26T00:00:00",
          "2021-01-27T00:00:00",
          "2021-01-28T00:00:00",
          "2021-01-29T00:00:00",
          "2021-01-30T00:00:00",
          "2021-01-31T00:00:00",
          "2021-02-01T00:00:00",
          "2021-02-02T00:00:00",
          "2021-02-03T00:00:00",
          "2021-02-04T00:00:00",
          "2021-02-05T00:00:00",
          "2021-02-06T00:00:00",
          "2021-02-07T00:00:00",
          "2021-02-08T00:00:00",
          "2021-02-09T00:00:00",
          "2021-02-10T00:00:00",
          "2021-02-11T00:00:00",
          "2021-02-12T00:00:00",
          "2021-02-13T00:00:00",
          "2021-02-14T00:00:00",
          "2021-02-15T00:00:00",
          "2021-02-16T00:00:00",
          "2021-02-17T00:00:00",
          "2021-02-18T00:00:00",
          "2021-02-19T00:00:00",
          "2021-02-20T00:00:00",
          "2021-02-21T00:00:00",
          "2021-02-22T00:00:00",
          "2021-02-23T00:00:00",
          "2021-02-24T00:00:00",
          "2021-02-25T00:00:00",
          "2021-02-26T00:00:00",
          "2021-02-27T00:00:00",
          "2021-02-28T00:00:00",
          "2021-03-01T00:00:00",
          "2021-03-02T00:00:00",
          "2021-03-03T00:00:00",
          "2021-03-04T00:00:00",
          "2021-03-05T00:00:00",
          "2021-03-06T00:00:00",
          "2021-03-07T00:00:00",
          "2021-03-08T00:00:00",
          "2021-03-09T00:00:00",
          "2021-03-10T00:00:00",
          "2021-03-11T00:00:00",
          "2021-03-12T00:00:00",
          "2021-03-13T00:00:00",
          "2021-03-14T00:00:00",
          "2021-03-15T00:00:00",
          "2021-03-16T00:00:00",
          "2021-03-17T00:00:00",
          "2021-03-18T00:00:00",
          "2021-03-19T00:00:00",
          "2021-03-20T00:00:00",
          "2021-03-21T00:00:00",
          "2021-03-22T00:00:00",
          "2021-03-23T00:00:00",
          "2021-03-24T00:00:00",
          "2021-03-25T00:00:00",
          "2021-03-26T00:00:00",
          "2021-03-27T00:00:00",
          "2021-03-28T00:00:00",
          "2021-03-29T00:00:00",
          "2021-03-30T00:00:00",
          "2021-03-31T00:00:00",
          "2021-04-01T00:00:00",
          "2021-04-02T00:00:00",
          "2021-04-03T00:00:00",
          "2021-04-04T00:00:00",
          "2021-04-05T00:00:00",
          "2021-04-06T00:00:00",
          "2021-04-07T00:00:00",
          "2021-04-08T00:00:00",
          "2021-04-09T00:00:00",
          "2021-04-10T00:00:00",
          "2021-04-11T00:00:00",
          "2021-04-12T00:00:00",
          "2021-04-13T00:00:00",
          "2021-04-14T00:00:00",
          "2021-04-15T00:00:00",
          "2021-04-16T00:00:00",
          "2021-04-17T00:00:00",
          "2021-04-18T00:00:00",
          "2021-04-19T00:00:00",
          "2021-04-20T00:00:00",
          "2021-04-21T00:00:00",
          "2021-04-22T00:00:00",
          "2021-04-23T00:00:00",
          "2021-04-24T00:00:00",
          "2021-04-25T00:00:00",
          "2021-04-26T00:00:00",
          "2021-04-27T00:00:00",
          "2021-04-28T00:00:00",
          "2021-04-29T00:00:00",
          "2021-04-30T00:00:00",
          "2021-05-01T00:00:00",
          "2021-05-02T00:00:00",
          "2021-05-03T00:00:00",
          "2021-05-04T00:00:00",
          "2021-05-05T00:00:00",
          "2021-05-06T00:00:00",
          "2021-05-07T00:00:00",
          "2021-05-08T00:00:00",
          "2021-05-09T00:00:00",
          "2021-05-10T00:00:00",
          "2021-05-11T00:00:00",
          "2021-05-12T00:00:00",
          "2021-05-13T00:00:00",
          "2021-05-14T00:00:00",
          "2021-05-15T00:00:00",
          "2021-05-16T00:00:00",
          "2021-05-17T00:00:00",
          "2021-05-18T00:00:00",
          "2021-05-19T00:00:00",
          "2021-05-20T00:00:00",
          "2021-05-21T00:00:00",
          "2021-05-22T00:00:00",
          "2021-05-23T00:00:00",
          "2021-05-24T00:00:00",
          "2021-05-25T00:00:00",
          "2021-05-26T00:00:00",
          "2021-05-27T00:00:00",
          "2021-05-28T00:00:00",
          "2021-05-29T00:00:00",
          "2021-05-30T00:00:00",
          "2021-05-31T00:00:00",
          "2021-06-01T00:00:00",
          "2021-06-02T00:00:00",
          "2021-06-03T00:00:00",
          "2021-06-04T00:00:00",
          "2021-06-05T00:00:00",
          "2021-06-06T00:00:00",
          "2021-06-07T00:00:00",
          "2021-06-08T00:00:00",
          "2021-06-09T00:00:00",
          "2021-06-10T00:00:00",
          "2021-06-11T00:00:00",
          "2021-06-12T00:00:00",
          "2021-06-13T00:00:00",
          "2021-06-14T00:00:00",
          "2021-06-15T00:00:00",
          "2021-06-16T00:00:00",
          "2021-06-17T00:00:00",
          "2021-06-18T00:00:00",
          "2021-06-19T00:00:00",
          "2021-06-20T00:00:00",
          "2021-06-21T00:00:00",
          "2021-06-22T00:00:00",
          "2021-06-23T00:00:00",
          "2021-06-24T00:00:00",
          "2021-06-25T00:00:00",
          "2021-06-26T00:00:00",
          "2021-06-27T00:00:00",
          "2021-06-28T00:00:00",
          "2021-06-29T00:00:00",
          "2021-06-30T00:00:00",
          "2021-07-01T00:00:00",
          "2021-07-02T00:00:00",
          "2021-07-03T00:00:00",
          "2021-07-04T00:00:00",
          "2021-07-05T00:00:00",
          "2021-07-06T00:00:00",
          "2021-07-07T00:00:00",
          "2021-07-08T00:00:00",
          "2021-07-09T00:00:00",
          "2021-07-10T00:00:00",
          "2021-07-11T00:00:00",
          "2021-07-12T00:00:00",
          "2021-07-13T00:00:00",
          "2021-07-14T00:00:00",
          "2021-07-15T00:00:00",
          "2021-07-16T00:00:00",
          "2021-07-17T00:00:00",
          "2021-07-18T00:00:00",
          "2021-07-19T00:00:00",
          "2021-07-20T00:00:00",
          "2021-07-21T00:00:00",
          "2021-07-22T00:00:00",
          "2021-07-23T00:00:00",
          "2021-07-24T00:00:00",
          "2021-07-25T00:00:00",
          "2021-07-26T00:00:00",
          "2021-07-27T00:00:00",
          "2021-07-28T00:00:00",
          "2021-07-29T00:00:00",
          "2021-07-30T00:00:00",
          "2021-07-31T00:00:00",
          "2021-08-01T00:00:00",
          "2021-08-02T00:00:00",
          "2021-08-03T00:00:00",
          "2021-08-04T00:00:00",
          "2021-08-05T00:00:00",
          "2021-08-06T00:00:00",
          "2021-08-07T00:00:00",
          "2021-08-08T00:00:00",
          "2021-08-09T00:00:00",
          "2021-08-10T00:00:00",
          "2021-08-11T00:00:00",
          "2021-08-12T00:00:00",
          "2021-08-13T00:00:00",
          "2021-08-14T00:00:00",
          "2021-08-15T00:00:00",
          "2021-08-16T00:00:00",
          "2021-08-17T00:00:00",
          "2021-08-18T00:00:00",
          "2021-08-19T00:00:00",
          "2021-08-20T00:00:00",
          "2021-08-21T00:00:00",
          "2021-08-22T00:00:00",
          "2021-08-23T00:00:00",
          "2021-08-24T00:00:00",
          "2021-08-25T00:00:00",
          "2021-08-26T00:00:00",
          "2021-08-27T00:00:00",
          "2021-08-28T00:00:00",
          "2021-08-29T00:00:00",
          "2021-08-30T00:00:00",
          "2021-08-31T00:00:00",
          "2021-09-01T00:00:00",
          "2021-09-02T00:00:00",
          "2021-09-03T00:00:00",
          "2021-09-04T00:00:00",
          "2021-09-05T00:00:00",
          "2021-09-06T00:00:00",
          "2021-09-07T00:00:00",
          "2021-09-08T00:00:00",
          "2021-09-09T00:00:00",
          "2021-09-10T00:00:00",
          "2021-09-11T00:00:00",
          "2021-09-12T00:00:00",
          "2021-09-13T00:00:00",
          "2021-09-14T00:00:00",
          "2021-09-15T00:00:00",
          "2021-09-16T00:00:00",
          "2021-09-17T00:00:00",
          "2021-09-18T00:00:00",
          "2021-09-19T00:00:00",
          "2021-09-20T00:00:00",
          "2021-09-21T00:00:00",
          "2021-09-22T00:00:00",
          "2021-09-23T00:00:00",
          "2021-09-24T00:00:00",
          "2021-09-25T00:00:00",
          "2021-09-26T00:00:00",
          "2021-09-27T00:00:00",
          "2021-09-28T00:00:00",
          "2021-09-29T00:00:00",
          "2021-09-30T00:00:00",
          "2021-10-01T00:00:00",
          "2021-10-02T00:00:00",
          "2021-10-03T00:00:00",
          "2021-10-04T00:00:00",
          "2021-10-05T00:00:00",
          "2021-10-06T00:00:00",
          "2021-10-07T00:00:00",
          "2021-10-08T00:00:00",
          "2021-10-09T00:00:00",
          "2021-10-10T00:00:00",
          "2021-10-11T00:00:00",
          "2021-10-12T00:00:00",
          "2021-10-13T00:00:00",
          "2021-10-14T00:00:00",
          "2021-10-15T00:00:00",
          "2021-10-16T00:00:00",
          "2021-10-17T00:00:00",
          "2021-10-18T00:00:00",
          "2021-10-19T00:00:00",
          "2021-10-20T00:00:00",
          "2021-10-21T00:00:00",
          "2021-10-22T00:00:00",
          "2021-10-23T00:00:00",
          "2021-10-24T00:00:00",
          "2021-10-25T00:00:00",
          "2021-10-26T00:00:00",
          "2021-10-27T00:00:00",
          "2021-10-28T00:00:00",
          "2021-10-29T00:00:00",
          "2021-10-30T00:00:00",
          "2021-10-31T00:00:00",
          "2021-11-01T00:00:00",
          "2021-11-02T00:00:00",
          "2021-11-03T00:00:00",
          "2021-11-04T00:00:00",
          "2021-11-05T00:00:00",
          "2021-11-06T00:00:00",
          "2021-11-07T00:00:00",
          "2021-11-08T00:00:00",
          "2021-11-09T00:00:00",
          "2021-11-10T00:00:00",
          "2021-11-11T00:00:00",
          "2021-11-12T00:00:00",
          "2021-11-13T00:00:00",
          "2021-11-14T00:00:00",
          "2021-11-15T00:00:00",
          "2021-11-16T00:00:00",
          "2021-11-17T00:00:00",
          "2021-11-18T00:00:00",
          "2021-11-19T00:00:00",
          "2021-11-20T00:00:00",
          "2021-11-21T00:00:00",
          "2021-11-22T00:00:00",
          "2021-11-23T00:00:00",
          "2021-11-24T00:00:00",
          "2021-11-25T00:00:00",
          "2021-11-26T00:00:00",
          "2021-11-27T00:00:00",
          "2021-11-28T00:00:00",
          "2021-11-29T00:00:00",
          "2021-11-30T00:00:00",
          "2021-12-01T00:00:00",
          "2021-12-02T00:00:00",
          "2021-12-03T00:00:00",
          "2021-12-04T00:00:00",
          "2021-12-05T00:00:00",
          "2021-12-06T00:00:00",
          "2021-12-07T00:00:00",
          "2021-12-08T00:00:00",
          "2021-12-09T00:00:00",
          "2021-12-10T00:00:00",
          "2021-12-11T00:00:00",
          "2021-12-12T00:00:00",
          "2021-12-13T00:00:00",
          "2021-12-14T00:00:00",
          "2021-12-15T00:00:00",
          "2021-12-16T00:00:00",
          "2021-12-17T00:00:00",
          "2021-12-18T00:00:00",
          "2021-12-19T00:00:00",
          "2021-12-20T00:00:00",
          "2021-12-21T00:00:00",
          "2021-12-22T00:00:00",
          "2021-12-23T00:00:00",
          "2021-12-24T00:00:00",
          "2021-12-25T00:00:00",
          "2021-12-26T00:00:00",
          "2021-12-27T00:00:00",
          "2021-12-28T00:00:00",
          "2021-12-29T00:00:00",
          "2021-12-30T00:00:00",
          "2021-12-31T00:00:00",
          "2022-01-01T00:00:00",
          "2022-01-02T00:00:00",
          "2022-01-03T00:00:00",
          "2022-01-04T00:00:00",
          "2022-01-05T00:00:00",
          "2022-01-06T00:00:00",
          "2022-01-07T00:00:00",
          "2022-01-08T00:00:00",
          "2022-01-09T00:00:00",
          "2022-01-10T00:00:00",
          "2022-01-11T00:00:00",
          "2022-01-12T00:00:00",
          "2022-01-13T00:00:00",
          "2022-01-14T00:00:00",
          "2022-01-15T00:00:00",
          "2022-01-16T00:00:00",
          "2022-01-17T00:00:00",
          "2022-01-18T00:00:00",
          "2022-01-19T00:00:00",
          "2022-01-20T00:00:00",
          "2022-01-21T00:00:00",
          "2022-01-22T00:00:00",
          "2022-01-23T00:00:00",
          "2022-01-24T00:00:00",
          "2022-01-25T00:00:00",
          "2022-01-26T00:00:00",
          "2022-01-27T00:00:00",
          "2022-01-28T00:00:00",
          "2022-01-29T00:00:00",
          "2022-01-30T00:00:00",
          "2022-01-31T00:00:00",
          "2022-02-01T00:00:00",
          "2022-02-02T00:00:00",
          "2022-02-03T00:00:00",
          "2022-02-04T00:00:00",
          "2022-02-05T00:00:00",
          "2022-02-06T00:00:00",
          "2022-02-07T00:00:00",
          "2022-02-08T00:00:00",
          "2022-02-09T00:00:00",
          "2022-02-10T00:00:00",
          "2022-02-11T00:00:00",
          "2022-02-12T00:00:00",
          "2022-02-13T00:00:00",
          "2022-02-14T00:00:00",
          "2022-02-15T00:00:00",
          "2022-02-16T00:00:00",
          "2022-02-17T00:00:00",
          "2022-02-18T00:00:00",
          "2022-02-19T00:00:00",
          "2022-02-20T00:00:00",
          "2022-02-21T00:00:00",
          "2022-02-22T00:00:00",
          "2022-02-23T00:00:00",
          "2022-02-24T00:00:00",
          "2022-02-25T00:00:00",
          "2022-02-26T00:00:00",
          "2022-02-27T00:00:00",
          "2022-02-28T00:00:00",
          "2022-03-01T00:00:00",
          "2022-03-02T00:00:00",
          "2022-03-03T00:00:00",
          "2022-03-04T00:00:00",
          "2022-03-05T00:00:00",
          "2022-03-06T00:00:00",
          "2022-03-07T00:00:00",
          "2022-03-08T00:00:00",
          "2022-03-09T00:00:00",
          "2022-03-10T00:00:00",
          "2022-03-11T00:00:00",
          "2022-03-12T00:00:00",
          "2022-03-13T00:00:00",
          "2022-03-14T00:00:00",
          "2022-03-15T00:00:00",
          "2022-03-16T00:00:00",
          "2022-03-17T00:00:00",
          "2022-03-18T00:00:00",
          "2022-03-19T00:00:00",
          "2022-03-20T00:00:00",
          "2022-03-21T00:00:00",
          "2022-03-22T00:00:00",
          "2022-03-23T00:00:00",
          "2022-03-24T00:00:00",
          "2022-03-25T00:00:00",
          "2022-03-26T00:00:00",
          "2022-03-27T00:00:00",
          "2022-03-28T00:00:00",
          "2022-03-29T00:00:00",
          "2022-03-30T00:00:00",
          "2022-03-31T00:00:00",
          "2022-04-01T00:00:00",
          "2022-04-02T00:00:00",
          "2022-04-03T00:00:00",
          "2022-04-04T00:00:00",
          "2022-04-05T00:00:00",
          "2022-04-06T00:00:00",
          "2022-04-07T00:00:00",
          "2022-04-08T00:00:00",
          "2022-04-09T00:00:00",
          "2022-04-10T00:00:00",
          "2022-04-11T00:00:00",
          "2022-04-12T00:00:00",
          "2022-04-13T00:00:00",
          "2022-04-14T00:00:00",
          "2022-04-15T00:00:00",
          "2022-04-16T00:00:00",
          "2022-04-17T00:00:00",
          "2022-04-18T00:00:00",
          "2022-04-19T00:00:00",
          "2022-04-20T00:00:00",
          "2022-04-21T00:00:00",
          "2022-04-22T00:00:00",
          "2022-04-23T00:00:00",
          "2022-04-24T00:00:00",
          "2022-04-25T00:00:00",
          "2022-04-26T00:00:00",
          "2022-04-27T00:00:00",
          "2022-04-28T00:00:00",
          "2022-04-29T00:00:00",
          "2022-04-30T00:00:00",
          "2022-05-01T00:00:00",
          "2022-05-02T00:00:00",
          "2022-05-03T00:00:00",
          "2022-05-04T00:00:00",
          "2022-05-05T00:00:00",
          "2022-05-06T00:00:00",
          "2022-05-07T00:00:00",
          "2022-05-08T00:00:00",
          "2022-05-09T00:00:00",
          "2022-05-10T00:00:00",
          "2022-05-11T00:00:00",
          "2022-05-12T00:00:00",
          "2022-05-13T00:00:00",
          "2022-05-14T00:00:00",
          "2022-05-15T00:00:00",
          "2022-05-16T00:00:00",
          "2022-05-17T00:00:00",
          "2022-05-18T00:00:00",
          "2022-05-19T00:00:00",
          "2022-05-20T00:00:00",
          "2022-05-21T00:00:00",
          "2022-05-22T00:00:00",
          "2022-05-23T00:00:00",
          "2022-05-24T00:00:00",
          "2022-05-25T00:00:00",
          "2022-05-26T00:00:00",
          "2022-05-27T00:00:00",
          "2022-05-28T00:00:00",
          "2022-05-29T00:00:00",
          "2022-05-30T00:00:00",
          "2022-05-31T00:00:00",
          "2022-06-01T00:00:00",
          "2022-06-02T00:00:00",
          "2022-06-03T00:00:00",
          "2022-06-04T00:00:00",
          "2022-06-05T00:00:00",
          "2022-06-06T00:00:00",
          "2022-06-07T00:00:00",
          "2022-06-08T00:00:00",
          "2022-06-09T00:00:00",
          "2022-06-10T00:00:00",
          "2022-06-11T00:00:00",
          "2022-06-12T00:00:00",
          "2022-06-13T00:00:00",
          "2022-06-14T00:00:00",
          "2022-06-15T00:00:00",
          "2022-06-16T00:00:00",
          "2022-06-17T00:00:00",
          "2022-06-18T00:00:00"
         ],
         "xaxis": "x",
         "y": {
          "bdata": "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",
          "dtype": "f8"
         },
         "yaxis": "y"
        },
        {
         "hovertemplate": "Country=Czechia<br>Date=%{x}<br>New cases=%{y}<extra></extra>",
         "legendgroup": "Czechia",
         "line": {
          "color": "rgb(252,141,98)",
          "dash": "solid"
         },
         "marker": {
          "symbol": "circle"
         },
         "mode": "lines",
         "name": "Czechia",
         "showlegend": true,
         "type": "scattergl",
         "x": [
          "2020-03-01T00:00:00",
          "2020-03-02T00:00:00",
          "2020-03-03T00:00:00",
          "2020-03-04T00:00:00",
          "2020-03-05T00:00:00",
          "2020-03-06T00:00:00",
          "2020-03-07T00:00:00",
          "2020-03-08T00:00:00",
          "2020-03-09T00:00:00",
          "2020-03-10T00:00:00",
          "2020-03-11T00:00:00",
          "2020-03-12T00:00:00",
          "2020-03-13T00:00:00",
          "2020-03-14T00:00:00",
          "2020-03-15T00:00:00",
          "2020-03-16T00:00:00",
          "2020-03-17T00:00:00",
          "2020-03-18T00:00:00",
          "2020-03-19T00:00:00",
          "2020-03-20T00:00:00",
          "2020-03-21T00:00:00",
          "2020-03-22T00:00:00",
          "2020-03-23T00:00:00",
          "2020-03-24T00:00:00",
          "2020-03-25T00:00:00",
          "2020-03-26T00:00:00",
          "2020-03-27T00:00:00",
          "2020-03-28T00:00:00",
          "2020-03-29T00:00:00",
          "2020-03-30T00:00:00",
          "2020-03-31T00:00:00",
          "2020-04-01T00:00:00",
          "2020-04-02T00:00:00",
          "2020-04-03T00:00:00",
          "2020-04-04T00:00:00",
          "2020-04-05T00:00:00",
          "2020-04-06T00:00:00",
          "2020-04-07T00:00:00",
          "2020-04-08T00:00:00",
          "2020-04-09T00:00:00",
          "2020-04-10T00:00:00",
          "2020-04-11T00:00:00",
          "2020-04-12T00:00:00",
          "2020-04-13T00:00:00",
          "2020-04-14T00:00:00",
          "2020-04-15T00:00:00",
          "2020-04-16T00:00:00",
          "2020-04-17T00:00:00",
          "2020-04-18T00:00:00",
          "2020-04-19T00:00:00",
          "2020-04-20T00:00:00",
          "2020-04-21T00:00:00",
          "2020-04-22T00:00:00",
          "2020-04-23T00:00:00",
          "2020-04-24T00:00:00",
          "2020-04-25T00:00:00",
          "2020-04-26T00:00:00",
          "2020-04-27T00:00:00",
          "2020-04-28T00:00:00",
          "2020-04-29T00:00:00",
          "2020-04-30T00:00:00",
          "2020-05-01T00:00:00",
          "2020-05-02T00:00:00",
          "2020-05-03T00:00:00",
          "2020-05-04T00:00:00",
          "2020-05-05T00:00:00",
          "2020-05-06T00:00:00",
          "2020-05-07T00:00:00",
          "2020-05-08T00:00:00",
          "2020-05-09T00:00:00",
          "2020-05-10T00:00:00",
          "2020-05-11T00:00:00",
          "2020-05-12T00:00:00",
          "2020-05-13T00:00:00",
          "2020-05-14T00:00:00",
          "2020-05-15T00:00:00",
          "2020-05-16T00:00:00",
          "2020-05-17T00:00:00",
          "2020-05-18T00:00:00",
          "2020-05-19T00:00:00",
          "2020-05-20T00:00:00",
          "2020-05-21T00:00:00",
          "2020-05-22T00:00:00",
          "2020-05-23T00:00:00",
          "2020-05-24T00:00:00",
          "2020-05-25T00:00:00",
          "2020-05-26T00:00:00",
          "2020-05-27T00:00:00",
          "2020-05-28T00:00:00",
          "2020-05-29T00:00:00",
          "2020-05-30T00:00:00",
          "2020-05-31T00:00:00",
          "2020-06-01T00:00:00",
          "2020-06-02T00:00:00",
          "2020-06-03T00:00:00",
          "2020-06-04T00:00:00",
          "2020-06-05T00:00:00",
          "2020-06-06T00:00:00",
          "2020-06-07T00:00:00",
          "2020-06-08T00:00:00",
          "2020-06-09T00:00:00",
          "2020-06-10T00:00:00",
          "2020-06-11T00:00:00",
          "2020-06-12T00:00:00",
          "2020-06-13T00:00:00",
          "2020-06-14T00:00:00",
          "2020-06-15T00:00:00",
          "2020-06-16T00:00:00",
          "2020-06-17T00:00:00",
          "2020-06-18T00:00:00",
          "2020-06-19T00:00:00",
          "2020-06-20T00:00:00",
          "2020-06-21T00:00:00",
          "2020-06-22T00:00:00",
          "2020-06-23T00:00:00",
          "2020-06-24T00:00:00",
          "2020-06-25T00:00:00",
          "2020-06-26T00:00:00",
          "2020-06-27T00:00:00",
          "2020-06-28T00:00:00",
          "2020-06-29T00:00:00",
          "2020-06-30T00:00:00",
          "2020-07-01T00:00:00",
          "2020-07-02T00:00:00",
          "2020-07-03T00:00:00",
          "2020-07-04T00:00:00",
          "2020-07-05T00:00:00",
          "2020-07-06T00:00:00",
          "2020-07-07T00:00:00",
          "2020-07-08T00:00:00",
          "2020-07-09T00:00:00",
          "2020-07-10T00:00:00",
          "2020-07-11T00:00:00",
          "2020-07-12T00:00:00",
          "2020-07-13T00:00:00",
          "2020-07-14T00:00:00",
          "2020-07-15T00:00:00",
          "2020-07-16T00:00:00",
          "2020-07-17T00:00:00",
          "2020-07-18T00:00:00",
          "2020-07-19T00:00:00",
          "2020-07-20T00:00:00",
          "2020-07-21T00:00:00",
          "2020-07-22T00:00:00",
          "2020-07-23T00:00:00",
          "2020-07-24T00:00:00",
          "2020-07-25T00:00:00",
          "2020-07-26T00:00:00",
          "2020-07-27T00:00:00",
          "2020-07-28T00:00:00",
          "2020-07-29T00:00:00",
          "2020-07-30T00:00:00",
          "2020-07-31T00:00:00",
          "2020-08-01T00:00:00",
          "2020-08-02T00:00:00",
          "2020-08-03T00:00:00",
          "2020-08-04T00:00:00",
          "2020-08-05T00:00:00",
          "2020-08-06T00:00:00",
          "2020-08-07T00:00:00",
          "2020-08-08T00:00:00",
          "2020-08-09T00:00:00",
          "2020-08-10T00:00:00",
          "2020-08-11T00:00:00",
          "2020-08-12T00:00:00",
          "2020-08-13T00:00:00",
          "2020-08-14T00:00:00",
          "2020-08-15T00:00:00",
          "2020-08-16T00:00:00",
          "2020-08-17T00:00:00",
          "2020-08-18T00:00:00",
          "2020-08-19T00:00:00",
          "2020-08-20T00:00:00",
          "2020-08-21T00:00:00",
          "2020-08-22T00:00:00",
          "2020-08-23T00:00:00",
          "2020-08-24T00:00:00",
          "2020-08-25T00:00:00",
          "2020-08-26T00:00:00",
          "2020-08-27T00:00:00",
          "2020-08-28T00:00:00",
          "2020-08-29T00:00:00",
          "2020-08-30T00:00:00",
          "2020-08-31T00:00:00",
          "2020-09-01T00:00:00",
          "2020-09-02T00:00:00",
          "2020-09-03T00:00:00",
          "2020-09-04T00:00:00",
          "2020-09-05T00:00:00",
          "2020-09-06T00:00:00",
          "2020-09-07T00:00:00",
          "2020-09-08T00:00:00",
          "2020-09-09T00:00:00",
          "2020-09-10T00:00:00",
          "2020-09-11T00:00:00",
          "2020-09-12T00:00:00",
          "2020-09-13T00:00:00",
          "2020-09-14T00:00:00",
          "2020-09-15T00:00:00",
          "2020-09-16T00:00:00",
          "2020-09-17T00:00:00",
          "2020-09-18T00:00:00",
          "2020-09-19T00:00:00",
          "2020-09-20T00:00:00",
          "2020-09-21T00:00:00",
          "2020-09-22T00:00:00",
          "2020-09-23T00:00:00",
          "2020-09-24T00:00:00",
          "2020-09-25T00:00:00",
          "2020-09-26T00:00:00",
          "2020-09-27T00:00:00",
          "2020-09-28T00:00:00",
          "2020-09-29T00:00:00",
          "2020-09-30T00:00:00",
          "2020-10-01T00:00:00",
          "2020-10-02T00:00:00",
          "2020-10-03T00:00:00",
          "2020-10-04T00:00:00",
          "2020-10-05T00:00:00",
          "2020-10-06T00:00:00",
          "2020-10-07T00:00:00",
          "2020-10-08T00:00:00",
          "2020-10-09T00:00:00",
          "2020-10-10T00:00:00",
          "2020-10-11T00:00:00",
          "2020-10-12T00:00:00",
          "2020-10-13T00:00:00",
          "2020-10-14T00:00:00",
          "2020-10-15T00:00:00",
          "2020-10-16T00:00:00",
          "2020-10-17T00:00:00",
          "2020-10-18T00:00:00",
          "2020-10-19T00:00:00",
          "2020-10-20T00:00:00",
          "2020-10-21T00:00:00",
          "2020-10-22T00:00:00",
          "2020-10-23T00:00:00",
          "2020-10-24T00:00:00",
          "2020-10-25T00:00:00",
          "2020-10-26T00:00:00",
          "2020-10-27T00:00:00",
          "2020-10-28T00:00:00",
          "2020-10-29T00:00:00",
          "2020-10-30T00:00:00",
          "2020-10-31T00:00:00",
          "2020-11-01T00:00:00",
          "2020-11-02T00:00:00",
          "2020-11-03T00:00:00",
          "2020-11-04T00:00:00",
          "2020-11-05T00:00:00",
          "2020-11-06T00:00:00",
          "2020-11-07T00:00:00",
          "2020-11-08T00:00:00",
          "2020-11-09T00:00:00",
          "2020-11-10T00:00:00",
          "2020-11-11T00:00:00",
          "2020-11-12T00:00:00",
          "2020-11-13T00:00:00",
          "2020-11-14T00:00:00",
          "2020-11-15T00:00:00",
          "2020-11-16T00:00:00",
          "2020-11-17T00:00:00",
          "2020-11-18T00:00:00",
          "2020-11-19T00:00:00",
          "2020-11-20T00:00:00",
          "2020-11-21T00:00:00",
          "2020-11-22T00:00:00",
          "2020-11-23T00:00:00",
          "2020-11-24T00:00:00",
          "2020-11-25T00:00:00",
          "2020-11-26T00:00:00",
          "2020-11-27T00:00:00",
          "2020-11-28T00:00:00",
          "2020-11-29T00:00:00",
          "2020-11-30T00:00:00",
          "2020-12-01T00:00:00",
          "2020-12-02T00:00:00",
          "2020-12-03T00:00:00",
          "2020-12-04T00:00:00",
          "2020-12-05T00:00:00",
          "2020-12-06T00:00:00",
          "2020-12-07T00:00:00",
          "2020-12-08T00:00:00",
          "2020-12-09T00:00:00",
          "2020-12-10T00:00:00",
          "2020-12-11T00:00:00",
          "2020-12-12T00:00:00",
          "2020-12-13T00:00:00",
          "2020-12-14T00:00:00",
          "2020-12-15T00:00:00",
          "2020-12-16T00:00:00",
          "2020-12-17T00:00:00",
          "2020-12-18T00:00:00",
          "2020-12-19T00:00:00",
          "2020-12-20T00:00:00",
          "2020-12-21T00:00:00",
          "2020-12-22T00:00:00",
          "2020-12-23T00:00:00",
          "2020-12-24T00:00:00",
          "2020-12-25T00:00:00",
          "2020-12-26T00:00:00",
          "2020-12-27T00:00:00",
          "2020-12-28T00:00:00",
          "2020-12-29T00:00:00",
          "2020-12-30T00:00:00",
          "2020-12-31T00:00:00",
          "2021-01-01T00:00:00",
          "2021-01-02T00:00:00",
          "2021-01-03T00:00:00",
          "2021-01-04T00:00:00",
          "2021-01-05T00:00:00",
          "2021-01-06T00:00:00",
          "2021-01-07T00:00:00",
          "2021-01-08T00:00:00",
          "2021-01-09T00:00:00",
          "2021-01-10T00:00:00",
          "2021-01-11T00:00:00",
          "2021-01-12T00:00:00",
          "2021-01-13T00:00:00",
          "2021-01-14T00:00:00",
          "2021-01-15T00:00:00",
          "2021-01-16T00:00:00",
          "2021-01-17T00:00:00",
          "2021-01-18T00:00:00",
          "2021-01-19T00:00:00",
          "2021-01-20T00:00:00",
          "2021-01-21T00:00:00",
          "2021-01-22T00:00:00",
          "2021-01-23T00:00:00",
          "2021-01-24T00:00:00",
          "2021-01-25T00:00:00",
          "2021-01-26T00:00:00",
          "2021-01-27T00:00:00",
          "2021-01-28T00:00:00",
          "2021-01-29T00:00:00",
          "2021-01-30T00:00:00",
          "2021-01-31T00:00:00",
          "2021-02-01T00:00:00",
          "2021-02-02T00:00:00",
          "2021-02-03T00:00:00",
          "2021-02-04T00:00:00",
          "2021-02-05T00:00:00",
          "2021-02-06T00:00:00",
          "2021-02-07T00:00:00",
          "2021-02-08T00:00:00",
          "2021-02-09T00:00:00",
          "2021-02-10T00:00:00",
          "2021-02-11T00:00:00",
          "2021-02-12T00:00:00",
          "2021-02-13T00:00:00",
          "2021-02-14T00:00:00",
          "2021-02-15T00:00:00",
          "2021-02-16T00:00:00",
          "2021-02-17T00:00:00",
          "2021-02-18T00:00:00",
          "2021-02-19T00:00:00",
          "2021-02-20T00:00:00",
          "2021-02-21T00:00:00",
          "2021-02-22T00:00:00",
          "2021-02-23T00:00:00",
          "2021-02-24T00:00:00",
          "2021-02-25T00:00:00",
          "2021-02-26T00:00:00",
          "2021-02-27T00:00:00",
          "2021-02-28T00:00:00",
          "2021-03-01T00:00:00",
          "2021-03-02T00:00:00",
          "2021-03-03T00:00:00",
          "2021-03-04T00:00:00",
          "2021-03-05T00:00:00",
          "2021-03-06T00:00:00",
          "2021-03-07T00:00:00",
          "2021-03-08T00:00:00",
          "2021-03-09T00:00:00",
          "2021-03-10T00:00:00",
          "2021-03-11T00:00:00",
          "2021-03-12T00:00:00",
          "2021-03-13T00:00:00",
          "2021-03-14T00:00:00",
          "2021-03-15T00:00:00",
          "2021-03-16T00:00:00",
          "2021-03-17T00:00:00",
          "2021-03-18T00:00:00",
          "2021-03-19T00:00:00",
          "2021-03-20T00:00:00",
          "2021-03-21T00:00:00",
          "2021-03-22T00:00:00",
          "2021-03-23T00:00:00",
          "2021-03-24T00:00:00",
          "2021-03-25T00:00:00",
          "2021-03-26T00:00:00",
          "2021-03-27T00:00:00",
          "2021-03-28T00:00:00",
          "2021-03-29T00:00:00",
          "2021-03-30T00:00:00",
          "2021-03-31T00:00:00",
          "2021-04-01T00:00:00",
          "2021-04-02T00:00:00",
          "2021-04-03T00:00:00",
          "2021-04-04T00:00:00",
          "2021-04-05T00:00:00",
          "2021-04-06T00:00:00",
          "2021-04-07T00:00:00",
          "2021-04-08T00:00:00",
          "2021-04-09T00:00:00",
          "2021-04-10T00:00:00",
          "2021-04-11T00:00:00",
          "2021-04-12T00:00:00",
          "2021-04-13T00:00:00",
          "2021-04-14T00:00:00",
          "2021-04-15T00:00:00",
          "2021-04-16T00:00:00",
          "2021-04-17T00:00:00",
          "2021-04-18T00:00:00",
          "2021-04-19T00:00:00",
          "2021-04-20T00:00:00",
          "2021-04-21T00:00:00",
          "2021-04-22T00:00:00",
          "2021-04-23T00:00:00",
          "2021-04-24T00:00:00",
          "2021-04-25T00:00:00",
          "2021-04-26T00:00:00",
          "2021-04-27T00:00:00",
          "2021-04-28T00:00:00",
          "2021-04-29T00:00:00",
          "2021-04-30T00:00:00",
          "2021-05-01T00:00:00",
          "2021-05-02T00:00:00",
          "2021-05-03T00:00:00",
          "2021-05-04T00:00:00",
          "2021-05-05T00:00:00",
          "2021-05-06T00:00:00",
          "2021-05-07T00:00:00",
          "2021-05-08T00:00:00",
          "2021-05-09T00:00:00",
          "2021-05-10T00:00:00",
          "2021-05-11T00:00:00",
          "2021-05-12T00:00:00",
          "2021-05-13T00:00:00",
          "2021-05-14T00:00:00",
          "2021-05-15T00:00:00",
          "2021-05-16T00:00:00",
          "2021-05-17T00:00:00",
          "2021-05-18T00:00:00",
          "2021-05-19T00:00:00",
          "2021-05-20T00:00:00",
          "2021-05-21T00:00:00",
          "2021-05-22T00:00:00",
          "2021-05-23T00:00:00",
          "2021-05-24T00:00:00",
          "2021-05-25T00:00:00",
          "2021-05-26T00:00:00",
          "2021-05-27T00:00:00",
          "2021-05-28T00:00:00",
          "2021-05-29T00:00:00",
          "2021-05-30T00:00:00",
          "2021-05-31T00:00:00",
          "2021-06-01T00:00:00",
          "2021-06-02T00:00:00",
          "2021-06-03T00:00:00",
          "2021-06-04T00:00:00",
          "2021-06-05T00:00:00",
          "2021-06-06T00:00:00",
          "2021-06-07T00:00:00",
          "2021-06-08T00:00:00",
          "2021-06-09T00:00:00",
          "2021-06-10T00:00:00",
          "2021-06-11T00:00:00",
          "2021-06-12T00:00:00",
          "2021-06-13T00:00:00",
          "2021-06-14T00:00:00",
          "2021-06-15T00:00:00",
          "2021-06-16T00:00:00",
          "2021-06-17T00:00:00",
          "2021-06-18T00:00:00",
          "2021-06-19T00:00:00",
          "2021-06-20T00:00:00",
          "2021-06-21T00:00:00",
          "2021-06-22T00:00:00",
          "2021-06-23T00:00:00",
          "2021-06-24T00:00:00",
          "2021-06-25T00:00:00",
          "2021-06-26T00:00:00",
          "2021-06-27T00:00:00",
          "2021-06-28T00:00:00",
          "2021-06-29T00:00:00",
          "2021-06-30T00:00:00",
          "2021-07-01T00:00:00",
          "2021-07-02T00:00:00",
          "2021-07-03T00:00:00",
          "2021-07-04T00:00:00",
          "2021-07-05T00:00:00",
          "2021-07-06T00:00:00",
          "2021-07-07T00:00:00",
          "2021-07-08T00:00:00",
          "2021-07-09T00:00:00",
          "2021-07-10T00:00:00",
          "2021-07-11T00:00:00",
          "2021-07-12T00:00:00",
          "2021-07-13T00:00:00",
          "2021-07-14T00:00:00",
          "2021-07-15T00:00:00",
          "2021-07-16T00:00:00",
          "2021-07-17T00:00:00",
          "2021-07-18T00:00:00",
          "2021-07-19T00:00:00",
          "2021-07-20T00:00:00",
          "2021-07-21T00:00:00",
          "2021-07-22T00:00:00",
          "2021-07-23T00:00:00",
          "2021-07-24T00:00:00",
          "2021-07-25T00:00:00",
          "2021-07-26T00:00:00",
          "2021-07-27T00:00:00",
          "2021-07-28T00:00:00",
          "2021-07-29T00:00:00",
          "2021-07-30T00:00:00",
          "2021-07-31T00:00:00",
          "2021-08-01T00:00:00",
          "2021-08-02T00:00:00",
          "2021-08-03T00:00:00",
          "2021-08-04T00:00:00",
          "2021-08-05T00:00:00",
          "2021-08-06T00:00:00",
          "2021-08-07T00:00:00",
          "2021-08-08T00:00:00",
          "2021-08-09T00:00:00",
          "2021-08-10T00:00:00",
          "2021-08-11T00:00:00",
          "2021-08-12T00:00:00",
          "2021-08-13T00:00:00",
          "2021-08-14T00:00:00",
          "2021-08-15T00:00:00",
          "2021-08-16T00:00:00",
          "2021-08-17T00:00:00",
          "2021-08-18T00:00:00",
          "2021-08-19T00:00:00",
          "2021-08-20T00:00:00",
          "2021-08-21T00:00:00",
          "2021-08-22T00:00:00",
          "2021-08-23T00:00:00",
          "2021-08-24T00:00:00",
          "2021-08-25T00:00:00",
          "2021-08-26T00:00:00",
          "2021-08-27T00:00:00",
          "2021-08-28T00:00:00",
          "2021-08-29T00:00:00",
          "2021-08-30T00:00:00",
          "2021-08-31T00:00:00",
          "2021-09-01T00:00:00",
          "2021-09-02T00:00:00",
          "2021-09-03T00:00:00",
          "2021-09-04T00:00:00",
          "2021-09-05T00:00:00",
          "2021-09-06T00:00:00",
          "2021-09-07T00:00:00",
          "2021-09-08T00:00:00",
          "2021-09-09T00:00:00",
          "2021-09-10T00:00:00",
          "2021-09-11T00:00:00",
          "2021-09-12T00:00:00",
          "2021-09-13T00:00:00",
          "2021-09-14T00:00:00",
          "2021-09-15T00:00:00",
          "2021-09-16T00:00:00",
          "2021-09-17T00:00:00",
          "2021-09-18T00:00:00",
          "2021-09-19T00:00:00",
          "2021-09-20T00:00:00",
          "2021-09-21T00:00:00",
          "2021-09-22T00:00:00",
          "2021-09-23T00:00:00",
          "2021-09-24T00:00:00",
          "2021-09-25T00:00:00",
          "2021-09-26T00:00:00",
          "2021-09-27T00:00:00",
          "2021-09-28T00:00:00",
          "2021-09-29T00:00:00",
          "2021-09-30T00:00:00",
          "2021-10-01T00:00:00",
          "2021-10-02T00:00:00",
          "2021-10-03T00:00:00",
          "2021-10-04T00:00:00",
          "2021-10-05T00:00:00",
          "2021-10-06T00:00:00",
          "2021-10-07T00:00:00",
          "2021-10-08T00:00:00",
          "2021-10-09T00:00:00",
          "2021-10-10T00:00:00",
          "2021-10-11T00:00:00",
          "2021-10-12T00:00:00",
          "2021-10-13T00:00:00",
          "2021-10-14T00:00:00",
          "2021-10-15T00:00:00",
          "2021-10-16T00:00:00",
          "2021-10-17T00:00:00",
          "2021-10-18T00:00:00",
          "2021-10-19T00:00:00",
          "2021-10-20T00:00:00",
          "2021-10-21T00:00:00",
          "2021-10-22T00:00:00",
          "2021-10-23T00:00:00",
          "2021-10-24T00:00:00",
          "2021-10-25T00:00:00",
          "2021-10-26T00:00:00",
          "2021-10-27T00:00:00",
          "2021-10-28T00:00:00",
          "2021-10-29T00:00:00",
          "2021-10-30T00:00:00",
          "2021-10-31T00:00:00",
          "2021-11-01T00:00:00",
          "2021-11-02T00:00:00",
          "2021-11-03T00:00:00",
          "2021-11-04T00:00:00",
          "2021-11-05T00:00:00",
          "2021-11-06T00:00:00",
          "2021-11-07T00:00:00",
          "2021-11-08T00:00:00",
          "2021-11-09T00:00:00",
          "2021-11-10T00:00:00",
          "2021-11-11T00:00:00",
          "2021-11-12T00:00:00",
          "2021-11-13T00:00:00",
          "2021-11-14T00:00:00",
          "2021-11-15T00:00:00",
          "2021-11-16T00:00:00",
          "2021-11-17T00:00:00",
          "2021-11-18T00:00:00",
          "2021-11-19T00:00:00",
          "2021-11-20T00:00:00",
          "2021-11-21T00:00:00",
          "2021-11-22T00:00:00",
          "2021-11-23T00:00:00",
          "2021-11-24T00:00:00",
          "2021-11-25T00:00:00",
          "2021-11-26T00:00:00",
          "2021-11-27T00:00:00",
          "2021-11-28T00:00:00",
          "2021-11-29T00:00:00",
          "2021-11-30T00:00:00",
          "2021-12-01T00:00:00",
          "2021-12-02T00:00:00",
          "2021-12-03T00:00:00",
          "2021-12-04T00:00:00",
          "2021-12-05T00:00:00",
          "2021-12-06T00:00:00",
          "2021-12-07T00:00:00",
          "2021-12-08T00:00:00",
          "2021-12-09T00:00:00",
          "2021-12-10T00:00:00",
          "2021-12-11T00:00:00",
          "2021-12-12T00:00:00",
          "2021-12-13T00:00:00",
          "2021-12-14T00:00:00",
          "2021-12-15T00:00:00",
          "2021-12-16T00:00:00",
          "2021-12-17T00:00:00",
          "2021-12-18T00:00:00",
          "2021-12-19T00:00:00",
          "2021-12-20T00:00:00",
          "2021-12-21T00:00:00",
          "2021-12-22T00:00:00",
          "2021-12-23T00:00:00",
          "2021-12-24T00:00:00",
          "2021-12-25T00:00:00",
          "2021-12-26T00:00:00",
          "2021-12-27T00:00:00",
          "2021-12-28T00:00:00",
          "2021-12-29T00:00:00",
          "2021-12-30T00:00:00",
          "2021-12-31T00:00:00",
          "2022-01-01T00:00:00",
          "2022-01-02T00:00:00",
          "2022-01-03T00:00:00",
          "2022-01-04T00:00:00",
          "2022-01-05T00:00:00",
          "2022-01-06T00:00:00",
          "2022-01-07T00:00:00",
          "2022-01-08T00:00:00",
          "2022-01-09T00:00:00",
          "2022-01-10T00:00:00",
          "2022-01-11T00:00:00",
          "2022-01-12T00:00:00",
          "2022-01-13T00:00:00",
          "2022-01-14T00:00:00",
          "2022-01-15T00:00:00",
          "2022-01-16T00:00:00",
          "2022-01-17T00:00:00",
          "2022-01-18T00:00:00",
          "2022-01-19T00:00:00",
          "2022-01-20T00:00:00",
          "2022-01-21T00:00:00",
          "2022-01-22T00:00:00",
          "2022-01-23T00:00:00",
          "2022-01-24T00:00:00",
          "2022-01-25T00:00:00",
          "2022-01-26T00:00:00",
          "2022-01-27T00:00:00",
          "2022-01-28T00:00:00",
          "2022-01-29T00:00:00",
          "2022-01-30T00:00:00",
          "2022-01-31T00:00:00",
          "2022-02-01T00:00:00",
          "2022-02-02T00:00:00",
          "2022-02-03T00:00:00",
          "2022-02-04T00:00:00",
          "2022-02-05T00:00:00",
          "2022-02-06T00:00:00",
          "2022-02-07T00:00:00",
          "2022-02-08T00:00:00",
          "2022-02-09T00:00:00",
          "2022-02-10T00:00:00",
          "2022-02-11T00:00:00",
          "2022-02-12T00:00:00",
          "2022-02-13T00:00:00",
          "2022-02-14T00:00:00",
          "2022-02-15T00:00:00",
          "2022-02-16T00:00:00",
          "2022-02-17T00:00:00",
          "2022-02-18T00:00:00",
          "2022-02-19T00:00:00",
          "2022-02-20T00:00:00",
          "2022-02-21T00:00:00",
          "2022-02-22T00:00:00",
          "2022-02-23T00:00:00",
          "2022-02-24T00:00:00",
          "2022-02-25T00:00:00",
          "2022-02-26T00:00:00",
          "2022-02-27T00:00:00",
          "2022-02-28T00:00:00",
          "2022-03-01T00:00:00",
          "2022-03-02T00:00:00",
          "2022-03-03T00:00:00",
          "2022-03-04T00:00:00",
          "2022-03-05T00:00:00",
          "2022-03-06T00:00:00",
          "2022-03-07T00:00:00",
          "2022-03-08T00:00:00",
          "2022-03-09T00:00:00",
          "2022-03-10T00:00:00",
          "2022-03-11T00:00:00",
          "2022-03-12T00:00:00",
          "2022-03-13T00:00:00",
          "2022-03-14T00:00:00",
          "2022-03-15T00:00:00",
          "2022-03-16T00:00:00",
          "2022-03-17T00:00:00",
          "2022-03-18T00:00:00",
          "2022-03-19T00:00:00",
          "2022-03-20T00:00:00",
          "2022-03-21T00:00:00",
          "2022-03-22T00:00:00",
          "2022-03-23T00:00:00",
          "2022-03-24T00:00:00",
          "2022-03-25T00:00:00",
          "2022-03-26T00:00:00",
          "2022-03-27T00:00:00",
          "2022-03-28T00:00:00",
          "2022-03-29T00:00:00",
          "2022-03-30T00:00:00",
          "2022-03-31T00:00:00",
          "2022-04-01T00:00:00",
          "2022-04-02T00:00:00",
          "2022-04-03T00:00:00",
          "2022-04-04T00:00:00",
          "2022-04-05T00:00:00",
          "2022-04-06T00:00:00",
          "2022-04-07T00:00:00",
          "2022-04-08T00:00:00",
          "2022-04-09T00:00:00",
          "2022-04-10T00:00:00",
          "2022-04-11T00:00:00",
          "2022-04-12T00:00:00",
          "2022-04-13T00:00:00",
          "2022-04-14T00:00:00",
          "2022-04-15T00:00:00",
          "2022-04-16T00:00:00",
          "2022-04-17T00:00:00",
          "2022-04-18T00:00:00",
          "2022-04-19T00:00:00",
          "2022-04-20T00:00:00",
          "2022-04-21T00:00:00",
          "2022-04-22T00:00:00",
          "2022-04-23T00:00:00",
          "2022-04-24T00:00:00",
          "2022-04-25T00:00:00",
          "2022-04-26T00:00:00",
          "2022-04-27T00:00:00",
          "2022-04-28T00:00:00",
          "2022-04-29T00:00:00",
          "2022-04-30T00:00:00",
          "2022-05-01T00:00:00",
          "2022-05-02T00:00:00",
          "2022-05-03T00:00:00",
          "2022-05-04T00:00:00",
          "2022-05-05T00:00:00",
          "2022-05-06T00:00:00",
          "2022-05-07T00:00:00",
          "2022-05-08T00:00:00",
          "2022-05-09T00:00:00",
          "2022-05-10T00:00:00",
          "2022-05-11T00:00:00",
          "2022-05-12T00:00:00",
          "2022-05-13T00:00:00",
          "2022-05-14T00:00:00",
          "2022-05-15T00:00:00",
          "2022-05-16T00:00:00",
          "2022-05-17T00:00:00",
          "2022-05-18T00:00:00",
          "2022-05-19T00:00:00",
          "2022-05-20T00:00:00",
          "2022-05-21T00:00:00",
          "2022-05-22T00:00:00",
          "2022-05-23T00:00:00",
          "2022-05-24T00:00:00",
          "2022-05-25T00:00:00",
          "2022-05-26T00:00:00",
          "2022-05-27T00:00:00",
          "2022-05-28T00:00:00",
          "2022-05-29T00:00:00",
          "2022-05-30T00:00:00",
          "2022-05-31T00:00:00",
          "2022-06-01T00:00:00",
          "2022-06-02T00:00:00",
          "2022-06-03T00:00:00",
          "2022-06-04T00:00:00",
          "2022-06-05T00:00:00",
          "2022-06-06T00:00:00",
          "2022-06-07T00:00:00",
          "2022-06-08T00:00:00",
          "2022-06-09T00:00:00",
          "2022-06-10T00:00:00",
          "2022-06-11T00:00:00",
          "2022-06-12T00:00:00",
          "2022-06-13T00:00:00",
          "2022-06-14T00:00:00",
          "2022-06-15T00:00:00",
          "2022-06-16T00:00:00",
          "2022-06-17T00:00:00",
          "2022-06-18T00:00:00"
         ],
         "xaxis": "x",
         "y": {
          "bdata": "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",
          "dtype": "f8"
         },
         "yaxis": "y"
        },
        {
         "hovertemplate": "Country=Germany<br>Date=%{x}<br>New cases=%{y}<extra></extra>",
         "legendgroup": "Germany",
         "line": {
          "color": "rgb(141,160,203)",
          "dash": "solid"
         },
         "marker": {
          "symbol": "circle"
         },
         "mode": "lines",
         "name": "Germany",
         "showlegend": true,
         "type": "scattergl",
         "x": [
          "2020-01-27T00:00:00",
          "2020-01-28T00:00:00",
          "2020-01-29T00:00:00",
          "2020-01-30T00:00:00",
          "2020-01-31T00:00:00",
          "2020-02-01T00:00:00",
          "2020-02-02T00:00:00",
          "2020-02-03T00:00:00",
          "2020-02-04T00:00:00",
          "2020-02-05T00:00:00",
          "2020-02-06T00:00:00",
          "2020-02-07T00:00:00",
          "2020-02-08T00:00:00",
          "2020-02-09T00:00:00",
          "2020-02-10T00:00:00",
          "2020-02-11T00:00:00",
          "2020-02-12T00:00:00",
          "2020-02-13T00:00:00",
          "2020-02-14T00:00:00",
          "2020-02-15T00:00:00",
          "2020-02-16T00:00:00",
          "2020-02-17T00:00:00",
          "2020-02-18T00:00:00",
          "2020-02-19T00:00:00",
          "2020-02-20T00:00:00",
          "2020-02-21T00:00:00",
          "2020-02-22T00:00:00",
          "2020-02-23T00:00:00",
          "2020-02-24T00:00:00",
          "2020-02-25T00:00:00",
          "2020-02-26T00:00:00",
          "2020-02-27T00:00:00",
          "2020-02-28T00:00:00",
          "2020-02-29T00:00:00",
          "2020-03-01T00:00:00",
          "2020-03-02T00:00:00",
          "2020-03-03T00:00:00",
          "2020-03-04T00:00:00",
          "2020-03-05T00:00:00",
          "2020-03-06T00:00:00",
          "2020-03-07T00:00:00",
          "2020-03-08T00:00:00",
          "2020-03-09T00:00:00",
          "2020-03-10T00:00:00",
          "2020-03-11T00:00:00",
          "2020-03-12T00:00:00",
          "2020-03-13T00:00:00",
          "2020-03-14T00:00:00",
          "2020-03-15T00:00:00",
          "2020-03-16T00:00:00",
          "2020-03-17T00:00:00",
          "2020-03-18T00:00:00",
          "2020-03-19T00:00:00",
          "2020-03-20T00:00:00",
          "2020-03-21T00:00:00",
          "2020-03-22T00:00:00",
          "2020-03-23T00:00:00",
          "2020-03-24T00:00:00",
          "2020-03-25T00:00:00",
          "2020-03-26T00:00:00",
          "2020-03-27T00:00:00",
          "2020-03-28T00:00:00",
          "2020-03-29T00:00:00",
          "2020-03-30T00:00:00",
          "2020-03-31T00:00:00",
          "2020-04-01T00:00:00",
          "2020-04-02T00:00:00",
          "2020-04-03T00:00:00",
          "2020-04-04T00:00:00",
          "2020-04-05T00:00:00",
          "2020-04-06T00:00:00",
          "2020-04-07T00:00:00",
          "2020-04-08T00:00:00",
          "2020-04-09T00:00:00",
          "2020-04-10T00:00:00",
          "2020-04-11T00:00:00",
          "2020-04-12T00:00:00",
          "2020-04-13T00:00:00",
          "2020-04-14T00:00:00",
          "2020-04-15T00:00:00",
          "2020-04-16T00:00:00",
          "2020-04-17T00:00:00",
          "2020-04-18T00:00:00",
          "2020-04-19T00:00:00",
          "2020-04-20T00:00:00",
          "2020-04-21T00:00:00",
          "2020-04-22T00:00:00",
          "2020-04-23T00:00:00",
          "2020-04-24T00:00:00",
          "2020-04-25T00:00:00",
          "2020-04-26T00:00:00",
          "2020-04-27T00:00:00",
          "2020-04-28T00:00:00",
          "2020-04-29T00:00:00",
          "2020-04-30T00:00:00",
          "2020-05-01T00:00:00",
          "2020-05-02T00:00:00",
          "2020-05-03T00:00:00",
          "2020-05-04T00:00:00",
          "2020-05-05T00:00:00",
          "2020-05-06T00:00:00",
          "2020-05-07T00:00:00",
          "2020-05-08T00:00:00",
          "2020-05-09T00:00:00",
          "2020-05-10T00:00:00",
          "2020-05-11T00:00:00",
          "2020-05-12T00:00:00",
          "2020-05-13T00:00:00",
          "2020-05-14T00:00:00",
          "2020-05-15T00:00:00",
          "2020-05-16T00:00:00",
          "2020-05-17T00:00:00",
          "2020-05-18T00:00:00",
          "2020-05-19T00:00:00",
          "2020-05-20T00:00:00",
          "2020-05-21T00:00:00",
          "2020-05-22T00:00:00",
          "2020-05-23T00:00:00",
          "2020-05-24T00:00:00",
          "2020-05-25T00:00:00",
          "2020-05-26T00:00:00",
          "2020-05-27T00:00:00",
          "2020-05-28T00:00:00",
          "2020-05-29T00:00:00",
          "2020-05-30T00:00:00",
          "2020-05-31T00:00:00",
          "2020-06-01T00:00:00",
          "2020-06-02T00:00:00",
          "2020-06-03T00:00:00",
          "2020-06-04T00:00:00",
          "2020-06-05T00:00:00",
          "2020-06-06T00:00:00",
          "2020-06-07T00:00:00",
          "2020-06-08T00:00:00",
          "2020-06-09T00:00:00",
          "2020-06-10T00:00:00",
          "2020-06-11T00:00:00",
          "2020-06-12T00:00:00",
          "2020-06-13T00:00:00",
          "2020-06-14T00:00:00",
          "2020-06-15T00:00:00",
          "2020-06-16T00:00:00",
          "2020-06-17T00:00:00",
          "2020-06-18T00:00:00",
          "2020-06-19T00:00:00",
          "2020-06-20T00:00:00",
          "2020-06-21T00:00:00",
          "2020-06-22T00:00:00",
          "2020-06-23T00:00:00",
          "2020-06-24T00:00:00",
          "2020-06-25T00:00:00",
          "2020-06-26T00:00:00",
          "2020-06-27T00:00:00",
          "2020-06-28T00:00:00",
          "2020-06-29T00:00:00",
          "2020-06-30T00:00:00",
          "2020-07-01T00:00:00",
          "2020-07-02T00:00:00",
          "2020-07-03T00:00:00",
          "2020-07-04T00:00:00",
          "2020-07-05T00:00:00",
          "2020-07-06T00:00:00",
          "2020-07-07T00:00:00",
          "2020-07-08T00:00:00",
          "2020-07-09T00:00:00",
          "2020-07-10T00:00:00",
          "2020-07-11T00:00:00",
          "2020-07-12T00:00:00",
          "2020-07-13T00:00:00",
          "2020-07-14T00:00:00",
          "2020-07-15T00:00:00",
          "2020-07-16T00:00:00",
          "2020-07-17T00:00:00",
          "2020-07-18T00:00:00",
          "2020-07-19T00:00:00",
          "2020-07-20T00:00:00",
          "2020-07-21T00:00:00",
          "2020-07-22T00:00:00",
          "2020-07-23T00:00:00",
          "2020-07-24T00:00:00",
          "2020-07-25T00:00:00",
          "2020-07-26T00:00:00",
          "2020-07-27T00:00:00",
          "2020-07-28T00:00:00",
          "2020-07-29T00:00:00",
          "2020-07-30T00:00:00",
          "2020-07-31T00:00:00",
          "2020-08-01T00:00:00",
          "2020-08-02T00:00:00",
          "2020-08-03T00:00:00",
          "2020-08-04T00:00:00",
          "2020-08-05T00:00:00",
          "2020-08-06T00:00:00",
          "2020-08-07T00:00:00",
          "2020-08-08T00:00:00",
          "2020-08-09T00:00:00",
          "2020-08-10T00:00:00",
          "2020-08-11T00:00:00",
          "2020-08-12T00:00:00",
          "2020-08-13T00:00:00",
          "2020-08-14T00:00:00",
          "2020-08-15T00:00:00",
          "2020-08-16T00:00:00",
          "2020-08-17T00:00:00",
          "2020-08-18T00:00:00",
          "2020-08-19T00:00:00",
          "2020-08-20T00:00:00",
          "2020-08-21T00:00:00",
          "2020-08-22T00:00:00",
          "2020-08-23T00:00:00",
          "2020-08-24T00:00:00",
          "2020-08-25T00:00:00",
          "2020-08-26T00:00:00",
          "2020-08-27T00:00:00",
          "2020-08-28T00:00:00",
          "2020-08-29T00:00:00",
          "2020-08-30T00:00:00",
          "2020-08-31T00:00:00",
          "2020-09-01T00:00:00",
          "2020-09-02T00:00:00",
          "2020-09-03T00:00:00",
          "2020-09-04T00:00:00",
          "2020-09-05T00:00:00",
          "2020-09-06T00:00:00",
          "2020-09-07T00:00:00",
          "2020-09-08T00:00:00",
          "2020-09-09T00:00:00",
          "2020-09-10T00:00:00",
          "2020-09-11T00:00:00",
          "2020-09-12T00:00:00",
          "2020-09-13T00:00:00",
          "2020-09-14T00:00:00",
          "2020-09-15T00:00:00",
          "2020-09-16T00:00:00",
          "2020-09-17T00:00:00",
          "2020-09-18T00:00:00",
          "2020-09-19T00:00:00",
          "2020-09-20T00:00:00",
          "2020-09-21T00:00:00",
          "2020-09-22T00:00:00",
          "2020-09-23T00:00:00",
          "2020-09-24T00:00:00",
          "2020-09-25T00:00:00",
          "2020-09-26T00:00:00",
          "2020-09-27T00:00:00",
          "2020-09-28T00:00:00",
          "2020-09-29T00:00:00",
          "2020-09-30T00:00:00",
          "2020-10-01T00:00:00",
          "2020-10-02T00:00:00",
          "2020-10-03T00:00:00",
          "2020-10-04T00:00:00",
          "2020-10-05T00:00:00",
          "2020-10-06T00:00:00",
          "2020-10-07T00:00:00",
          "2020-10-08T00:00:00",
          "2020-10-09T00:00:00",
          "2020-10-10T00:00:00",
          "2020-10-11T00:00:00",
          "2020-10-12T00:00:00",
          "2020-10-13T00:00:00",
          "2020-10-14T00:00:00",
          "2020-10-15T00:00:00",
          "2020-10-16T00:00:00",
          "2020-10-17T00:00:00",
          "2020-10-18T00:00:00",
          "2020-10-19T00:00:00",
          "2020-10-20T00:00:00",
          "2020-10-21T00:00:00",
          "2020-10-22T00:00:00",
          "2020-10-23T00:00:00",
          "2020-10-24T00:00:00",
          "2020-10-25T00:00:00",
          "2020-10-26T00:00:00",
          "2020-10-27T00:00:00",
          "2020-10-28T00:00:00",
          "2020-10-29T00:00:00",
          "2020-10-30T00:00:00",
          "2020-10-31T00:00:00",
          "2020-11-01T00:00:00",
          "2020-11-02T00:00:00",
          "2020-11-03T00:00:00",
          "2020-11-04T00:00:00",
          "2020-11-05T00:00:00",
          "2020-11-06T00:00:00",
          "2020-11-07T00:00:00",
          "2020-11-08T00:00:00",
          "2020-11-09T00:00:00",
          "2020-11-10T00:00:00",
          "2020-11-11T00:00:00",
          "2020-11-12T00:00:00",
          "2020-11-13T00:00:00",
          "2020-11-14T00:00:00",
          "2020-11-15T00:00:00",
          "2020-11-16T00:00:00",
          "2020-11-17T00:00:00",
          "2020-11-18T00:00:00",
          "2020-11-19T00:00:00",
          "2020-11-20T00:00:00",
          "2020-11-21T00:00:00",
          "2020-11-22T00:00:00",
          "2020-11-23T00:00:00",
          "2020-11-24T00:00:00",
          "2020-11-25T00:00:00",
          "2020-11-26T00:00:00",
          "2020-11-27T00:00:00",
          "2020-11-28T00:00:00",
          "2020-11-29T00:00:00",
          "2020-11-30T00:00:00",
          "2020-12-01T00:00:00",
          "2020-12-02T00:00:00",
          "2020-12-03T00:00:00",
          "2020-12-04T00:00:00",
          "2020-12-05T00:00:00",
          "2020-12-06T00:00:00",
          "2020-12-07T00:00:00",
          "2020-12-08T00:00:00",
          "2020-12-09T00:00:00",
          "2020-12-10T00:00:00",
          "2020-12-11T00:00:00",
          "2020-12-12T00:00:00",
          "2020-12-13T00:00:00",
          "2020-12-14T00:00:00",
          "2020-12-15T00:00:00",
          "2020-12-16T00:00:00",
          "2020-12-17T00:00:00",
          "2020-12-18T00:00:00",
          "2020-12-19T00:00:00",
          "2020-12-20T00:00:00",
          "2020-12-21T00:00:00",
          "2020-12-22T00:00:00",
          "2020-12-23T00:00:00",
          "2020-12-24T00:00:00",
          "2020-12-25T00:00:00",
          "2020-12-26T00:00:00",
          "2020-12-27T00:00:00",
          "2020-12-28T00:00:00",
          "2020-12-29T00:00:00",
          "2020-12-30T00:00:00",
          "2020-12-31T00:00:00",
          "2021-01-01T00:00:00",
          "2021-01-02T00:00:00",
          "2021-01-03T00:00:00",
          "2021-01-04T00:00:00",
          "2021-01-05T00:00:00",
          "2021-01-06T00:00:00",
          "2021-01-07T00:00:00",
          "2021-01-08T00:00:00",
          "2021-01-09T00:00:00",
          "2021-01-10T00:00:00",
          "2021-01-11T00:00:00",
          "2021-01-12T00:00:00",
          "2021-01-13T00:00:00",
          "2021-01-14T00:00:00",
          "2021-01-15T00:00:00",
          "2021-01-16T00:00:00",
          "2021-01-17T00:00:00",
          "2021-01-18T00:00:00",
          "2021-01-19T00:00:00",
          "2021-01-20T00:00:00",
          "2021-01-21T00:00:00",
          "2021-01-22T00:00:00",
          "2021-01-23T00:00:00",
          "2021-01-24T00:00:00",
          "2021-01-25T00:00:00",
          "2021-01-26T00:00:00",
          "2021-01-27T00:00:00",
          "2021-01-28T00:00:00",
          "2021-01-29T00:00:00",
          "2021-01-30T00:00:00",
          "2021-01-31T00:00:00",
          "2021-02-01T00:00:00",
          "2021-02-02T00:00:00",
          "2021-02-03T00:00:00",
          "2021-02-04T00:00:00",
          "2021-02-05T00:00:00",
          "2021-02-06T00:00:00",
          "2021-02-07T00:00:00",
          "2021-02-08T00:00:00",
          "2021-02-09T00:00:00",
          "2021-02-10T00:00:00",
          "2021-02-11T00:00:00",
          "2021-02-12T00:00:00",
          "2021-02-13T00:00:00",
          "2021-02-14T00:00:00",
          "2021-02-15T00:00:00",
          "2021-02-16T00:00:00",
          "2021-02-17T00:00:00",
          "2021-02-18T00:00:00",
          "2021-02-19T00:00:00",
          "2021-02-20T00:00:00",
          "2021-02-21T00:00:00",
          "2021-02-22T00:00:00",
          "2021-02-23T00:00:00",
          "2021-02-24T00:00:00",
          "2021-02-25T00:00:00",
          "2021-02-26T00:00:00",
          "2021-02-27T00:00:00",
          "2021-02-28T00:00:00",
          "2021-03-01T00:00:00",
          "2021-03-02T00:00:00",
          "2021-03-03T00:00:00",
          "2021-03-04T00:00:00",
          "2021-03-05T00:00:00",
          "2021-03-06T00:00:00",
          "2021-03-07T00:00:00",
          "2021-03-08T00:00:00",
          "2021-03-09T00:00:00",
          "2021-03-10T00:00:00",
          "2021-03-11T00:00:00",
          "2021-03-12T00:00:00",
          "2021-03-13T00:00:00",
          "2021-03-14T00:00:00",
          "2021-03-15T00:00:00",
          "2021-03-16T00:00:00",
          "2021-03-17T00:00:00",
          "2021-03-18T00:00:00",
          "2021-03-19T00:00:00",
          "2021-03-20T00:00:00",
          "2021-03-21T00:00:00",
          "2021-03-22T00:00:00",
          "2021-03-23T00:00:00",
          "2021-03-24T00:00:00",
          "2021-03-25T00:00:00",
          "2021-03-26T00:00:00",
          "2021-03-27T00:00:00",
          "2021-03-28T00:00:00",
          "2021-03-29T00:00:00",
          "2021-03-30T00:00:00",
          "2021-03-31T00:00:00",
          "2021-04-01T00:00:00",
          "2021-04-02T00:00:00",
          "2021-04-03T00:00:00",
          "2021-04-04T00:00:00",
          "2021-04-05T00:00:00",
          "2021-04-06T00:00:00",
          "2021-04-07T00:00:00",
          "2021-04-08T00:00:00",
          "2021-04-09T00:00:00",
          "2021-04-10T00:00:00",
          "2021-04-11T00:00:00",
          "2021-04-12T00:00:00",
          "2021-04-13T00:00:00",
          "2021-04-14T00:00:00",
          "2021-04-15T00:00:00",
          "2021-04-16T00:00:00",
          "2021-04-17T00:00:00",
          "2021-04-18T00:00:00",
          "2021-04-19T00:00:00",
          "2021-04-20T00:00:00",
          "2021-04-21T00:00:00",
          "2021-04-22T00:00:00",
          "2021-04-23T00:00:00",
          "2021-04-24T00:00:00",
          "2021-04-25T00:00:00",
          "2021-04-26T00:00:00",
          "2021-04-27T00:00:00",
          "2021-04-28T00:00:00",
          "2021-04-29T00:00:00",
          "2021-04-30T00:00:00",
          "2021-05-01T00:00:00",
          "2021-05-02T00:00:00",
          "2021-05-03T00:00:00",
          "2021-05-04T00:00:00",
          "2021-05-05T00:00:00",
          "2021-05-06T00:00:00",
          "2021-05-07T00:00:00",
          "2021-05-08T00:00:00",
          "2021-05-09T00:00:00",
          "2021-05-10T00:00:00",
          "2021-05-11T00:00:00",
          "2021-05-12T00:00:00",
          "2021-05-13T00:00:00",
          "2021-05-14T00:00:00",
          "2021-05-15T00:00:00",
          "2021-05-16T00:00:00",
          "2021-05-17T00:00:00",
          "2021-05-18T00:00:00",
          "2021-05-19T00:00:00",
          "2021-05-20T00:00:00",
          "2021-05-21T00:00:00",
          "2021-05-22T00:00:00",
          "2021-05-23T00:00:00",
          "2021-05-24T00:00:00",
          "2021-05-25T00:00:00",
          "2021-05-26T00:00:00",
          "2021-05-27T00:00:00",
          "2021-05-28T00:00:00",
          "2021-05-29T00:00:00",
          "2021-05-30T00:00:00",
          "2021-05-31T00:00:00",
          "2021-06-01T00:00:00",
          "2021-06-02T00:00:00",
          "2021-06-03T00:00:00",
          "2021-06-04T00:00:00",
          "2021-06-05T00:00:00",
          "2021-06-06T00:00:00",
          "2021-06-07T00:00:00",
          "2021-06-08T00:00:00",
          "2021-06-09T00:00:00",
          "2021-06-10T00:00:00",
          "2021-06-11T00:00:00",
          "2021-06-12T00:00:00",
          "2021-06-13T00:00:00",
          "2021-06-14T00:00:00",
          "2021-06-15T00:00:00",
          "2021-06-16T00:00:00",
          "2021-06-17T00:00:00",
          "2021-06-18T00:00:00",
          "2021-06-19T00:00:00",
          "2021-06-20T00:00:00",
          "2021-06-21T00:00:00",
          "2021-06-22T00:00:00",
          "2021-06-23T00:00:00",
          "2021-06-24T00:00:00",
          "2021-06-25T00:00:00",
          "2021-06-26T00:00:00",
          "2021-06-27T00:00:00",
          "2021-06-28T00:00:00",
          "2021-06-29T00:00:00",
          "2021-06-30T00:00:00",
          "2021-07-01T00:00:00",
          "2021-07-02T00:00:00",
          "2021-07-03T00:00:00",
          "2021-07-04T00:00:00",
          "2021-07-05T00:00:00",
          "2021-07-06T00:00:00",
          "2021-07-07T00:00:00",
          "2021-07-08T00:00:00",
          "2021-07-09T00:00:00",
          "2021-07-10T00:00:00",
          "2021-07-11T00:00:00",
          "2021-07-12T00:00:00",
          "2021-07-13T00:00:00",
          "2021-07-14T00:00:00",
          "2021-07-15T00:00:00",
          "2021-07-16T00:00:00",
          "2021-07-17T00:00:00",
          "2021-07-18T00:00:00",
          "2021-07-19T00:00:00",
          "2021-07-20T00:00:00",
          "2021-07-21T00:00:00",
          "2021-07-22T00:00:00",
          "2021-07-23T00:00:00",
          "2021-07-24T00:00:00",
          "2021-07-25T00:00:00",
          "2021-07-26T00:00:00",
          "2021-07-27T00:00:00",
          "2021-07-28T00:00:00",
          "2021-07-29T00:00:00",
          "2021-07-30T00:00:00",
          "2021-07-31T00:00:00",
          "2021-08-01T00:00:00",
          "2021-08-02T00:00:00",
          "2021-08-03T00:00:00",
          "2021-08-04T00:00:00",
          "2021-08-05T00:00:00",
          "2021-08-06T00:00:00",
          "2021-08-07T00:00:00",
          "2021-08-08T00:00:00",
          "2021-08-09T00:00:00",
          "2021-08-10T00:00:00",
          "2021-08-11T00:00:00",
          "2021-08-12T00:00:00",
          "2021-08-13T00:00:00",
          "2021-08-14T00:00:00",
          "2021-08-15T00:00:00",
          "2021-08-16T00:00:00",
          "2021-08-17T00:00:00",
          "2021-08-18T00:00:00",
          "2021-08-19T00:00:00",
          "2021-08-20T00:00:00",
          "2021-08-21T00:00:00",
          "2021-08-22T00:00:00",
          "2021-08-23T00:00:00",
          "2021-08-24T00:00:00",
          "2021-08-25T00:00:00",
          "2021-08-26T00:00:00",
          "2021-08-27T00:00:00",
          "2021-08-28T00:00:00",
          "2021-08-29T00:00:00",
          "2021-08-30T00:00:00",
          "2021-08-31T00:00:00",
          "2021-09-01T00:00:00",
          "2021-09-02T00:00:00",
          "2021-09-03T00:00:00",
          "2021-09-04T00:00:00",
          "2021-09-05T00:00:00",
          "2021-09-06T00:00:00",
          "2021-09-07T00:00:00",
          "2021-09-08T00:00:00",
          "2021-09-09T00:00:00",
          "2021-09-10T00:00:00",
          "2021-09-11T00:00:00",
          "2021-09-12T00:00:00",
          "2021-09-13T00:00:00",
          "2021-09-14T00:00:00",
          "2021-09-15T00:00:00",
          "2021-09-16T00:00:00",
          "2021-09-17T00:00:00",
          "2021-09-18T00:00:00",
          "2021-09-19T00:00:00",
          "2021-09-20T00:00:00",
          "2021-09-21T00:00:00",
          "2021-09-22T00:00:00",
          "2021-09-23T00:00:00",
          "2021-09-24T00:00:00",
          "2021-09-25T00:00:00",
          "2021-09-26T00:00:00",
          "2021-09-27T00:00:00",
          "2021-09-28T00:00:00",
          "2021-09-29T00:00:00",
          "2021-09-30T00:00:00",
          "2021-10-01T00:00:00",
          "2021-10-02T00:00:00",
          "2021-10-03T00:00:00",
          "2021-10-04T00:00:00",
          "2021-10-05T00:00:00",
          "2021-10-06T00:00:00",
          "2021-10-07T00:00:00",
          "2021-10-08T00:00:00",
          "2021-10-09T00:00:00",
          "2021-10-10T00:00:00",
          "2021-10-11T00:00:00",
          "2021-10-12T00:00:00",
          "2021-10-13T00:00:00",
          "2021-10-14T00:00:00",
          "2021-10-15T00:00:00",
          "2021-10-16T00:00:00",
          "2021-10-17T00:00:00",
          "2021-10-18T00:00:00",
          "2021-10-19T00:00:00",
          "2021-10-20T00:00:00",
          "2021-10-21T00:00:00",
          "2021-10-22T00:00:00",
          "2021-10-23T00:00:00",
          "2021-10-24T00:00:00",
          "2021-10-25T00:00:00",
          "2021-10-26T00:00:00",
          "2021-10-27T00:00:00",
          "2021-10-28T00:00:00",
          "2021-10-29T00:00:00",
          "2021-10-30T00:00:00",
          "2021-10-31T00:00:00",
          "2021-11-01T00:00:00",
          "2021-11-02T00:00:00",
          "2021-11-03T00:00:00",
          "2021-11-04T00:00:00",
          "2021-11-05T00:00:00",
          "2021-11-06T00:00:00",
          "2021-11-07T00:00:00",
          "2021-11-08T00:00:00",
          "2021-11-09T00:00:00",
          "2021-11-10T00:00:00",
          "2021-11-11T00:00:00",
          "2021-11-12T00:00:00",
          "2021-11-13T00:00:00",
          "2021-11-14T00:00:00",
          "2021-11-15T00:00:00",
          "2021-11-16T00:00:00",
          "2021-11-17T00:00:00",
          "2021-11-18T00:00:00",
          "2021-11-19T00:00:00",
          "2021-11-20T00:00:00",
          "2021-11-21T00:00:00",
          "2021-11-22T00:00:00",
          "2021-11-23T00:00:00",
          "2021-11-24T00:00:00",
          "2021-11-25T00:00:00",
          "2021-11-26T00:00:00",
          "2021-11-27T00:00:00",
          "2021-11-28T00:00:00",
          "2021-11-29T00:00:00",
          "2021-11-30T00:00:00",
          "2021-12-01T00:00:00",
          "2021-12-02T00:00:00",
          "2021-12-03T00:00:00",
          "2021-12-04T00:00:00",
          "2021-12-05T00:00:00",
          "2021-12-06T00:00:00",
          "2021-12-07T00:00:00",
          "2021-12-08T00:00:00",
          "2021-12-09T00:00:00",
          "2021-12-10T00:00:00",
          "2021-12-11T00:00:00",
          "2021-12-12T00:00:00",
          "2021-12-13T00:00:00",
          "2021-12-14T00:00:00",
          "2021-12-15T00:00:00",
          "2021-12-16T00:00:00",
          "2021-12-17T00:00:00",
          "2021-12-18T00:00:00",
          "2021-12-19T00:00:00",
          "2021-12-20T00:00:00",
          "2021-12-21T00:00:00",
          "2021-12-22T00:00:00",
          "2021-12-23T00:00:00",
          "2021-12-24T00:00:00",
          "2021-12-25T00:00:00",
          "2021-12-26T00:00:00",
          "2021-12-27T00:00:00",
          "2021-12-28T00:00:00",
          "2021-12-29T00:00:00",
          "2021-12-30T00:00:00",
          "2021-12-31T00:00:00",
          "2022-01-01T00:00:00",
          "2022-01-02T00:00:00",
          "2022-01-03T00:00:00",
          "2022-01-04T00:00:00",
          "2022-01-05T00:00:00",
          "2022-01-06T00:00:00",
          "2022-01-07T00:00:00",
          "2022-01-08T00:00:00",
          "2022-01-09T00:00:00",
          "2022-01-10T00:00:00",
          "2022-01-11T00:00:00",
          "2022-01-12T00:00:00",
          "2022-01-13T00:00:00",
          "2022-01-14T00:00:00",
          "2022-01-15T00:00:00",
          "2022-01-16T00:00:00",
          "2022-01-17T00:00:00",
          "2022-01-18T00:00:00",
          "2022-01-19T00:00:00",
          "2022-01-20T00:00:00",
          "2022-01-21T00:00:00",
          "2022-01-22T00:00:00",
          "2022-01-23T00:00:00",
          "2022-01-24T00:00:00",
          "2022-01-25T00:00:00",
          "2022-01-26T00:00:00",
          "2022-01-27T00:00:00",
          "2022-01-28T00:00:00",
          "2022-01-29T00:00:00",
          "2022-01-30T00:00:00",
          "2022-01-31T00:00:00",
          "2022-02-01T00:00:00",
          "2022-02-02T00:00:00",
          "2022-02-03T00:00:00",
          "2022-02-04T00:00:00",
          "2022-02-05T00:00:00",
          "2022-02-06T00:00:00",
          "2022-02-07T00:00:00",
          "2022-02-08T00:00:00",
          "2022-02-09T00:00:00",
          "2022-02-10T00:00:00",
          "2022-02-11T00:00:00",
          "2022-02-12T00:00:00",
          "2022-02-13T00:00:00",
          "2022-02-14T00:00:00",
          "2022-02-15T00:00:00",
          "2022-02-16T00:00:00",
          "2022-02-17T00:00:00",
          "2022-02-18T00:00:00",
          "2022-02-19T00:00:00",
          "2022-02-20T00:00:00",
          "2022-02-21T00:00:00",
          "2022-02-22T00:00:00",
          "2022-02-23T00:00:00",
          "2022-02-24T00:00:00",
          "2022-02-25T00:00:00",
          "2022-02-26T00:00:00",
          "2022-02-27T00:00:00",
          "2022-02-28T00:00:00",
          "2022-03-01T00:00:00",
          "2022-03-02T00:00:00",
          "2022-03-03T00:00:00",
          "2022-03-04T00:00:00",
          "2022-03-05T00:00:00",
          "2022-03-06T00:00:00",
          "2022-03-07T00:00:00",
          "2022-03-08T00:00:00",
          "2022-03-09T00:00:00",
          "2022-03-10T00:00:00",
          "2022-03-11T00:00:00",
          "2022-03-12T00:00:00",
          "2022-03-13T00:00:00",
          "2022-03-14T00:00:00",
          "2022-03-15T00:00:00",
          "2022-03-16T00:00:00",
          "2022-03-17T00:00:00",
          "2022-03-18T00:00:00",
          "2022-03-19T00:00:00",
          "2022-03-20T00:00:00",
          "2022-03-21T00:00:00",
          "2022-03-22T00:00:00",
          "2022-03-23T00:00:00",
          "2022-03-24T00:00:00",
          "2022-03-25T00:00:00",
          "2022-03-26T00:00:00",
          "2022-03-27T00:00:00",
          "2022-03-28T00:00:00",
          "2022-03-29T00:00:00",
          "2022-03-30T00:00:00",
          "2022-03-31T00:00:00",
          "2022-04-01T00:00:00",
          "2022-04-02T00:00:00",
          "2022-04-03T00:00:00",
          "2022-04-04T00:00:00",
          "2022-04-05T00:00:00",
          "2022-04-06T00:00:00",
          "2022-04-07T00:00:00",
          "2022-04-08T00:00:00",
          "2022-04-09T00:00:00",
          "2022-04-10T00:00:00",
          "2022-04-11T00:00:00",
          "2022-04-12T00:00:00",
          "2022-04-13T00:00:00",
          "2022-04-14T00:00:00",
          "2022-04-15T00:00:00",
          "2022-04-16T00:00:00",
          "2022-04-17T00:00:00",
          "2022-04-18T00:00:00",
          "2022-04-19T00:00:00",
          "2022-04-20T00:00:00",
          "2022-04-21T00:00:00",
          "2022-04-22T00:00:00",
          "2022-04-23T00:00:00",
          "2022-04-24T00:00:00",
          "2022-04-25T00:00:00",
          "2022-04-26T00:00:00",
          "2022-04-27T00:00:00",
          "2022-04-28T00:00:00",
          "2022-04-29T00:00:00",
          "2022-04-30T00:00:00",
          "2022-05-01T00:00:00",
          "2022-05-02T00:00:00",
          "2022-05-03T00:00:00",
          "2022-05-04T00:00:00",
          "2022-05-05T00:00:00",
          "2022-05-06T00:00:00",
          "2022-05-07T00:00:00",
          "2022-05-08T00:00:00",
          "2022-05-09T00:00:00",
          "2022-05-10T00:00:00",
          "2022-05-11T00:00:00",
          "2022-05-12T00:00:00",
          "2022-05-13T00:00:00",
          "2022-05-14T00:00:00",
          "2022-05-15T00:00:00",
          "2022-05-16T00:00:00",
          "2022-05-17T00:00:00",
          "2022-05-18T00:00:00",
          "2022-05-19T00:00:00",
          "2022-05-20T00:00:00",
          "2022-05-21T00:00:00",
          "2022-05-22T00:00:00",
          "2022-05-23T00:00:00",
          "2022-05-24T00:00:00",
          "2022-05-25T00:00:00",
          "2022-05-26T00:00:00",
          "2022-05-27T00:00:00",
          "2022-05-28T00:00:00",
          "2022-05-29T00:00:00",
          "2022-05-30T00:00:00",
          "2022-05-31T00:00:00",
          "2022-06-01T00:00:00",
          "2022-06-02T00:00:00",
          "2022-06-03T00:00:00",
          "2022-06-04T00:00:00",
          "2022-06-05T00:00:00",
          "2022-06-06T00:00:00",
          "2022-06-07T00:00:00",
          "2022-06-08T00:00:00",
          "2022-06-09T00:00:00",
          "2022-06-10T00:00:00",
          "2022-06-11T00:00:00",
          "2022-06-12T00:00:00",
          "2022-06-13T00:00:00",
          "2022-06-14T00:00:00",
          "2022-06-15T00:00:00",
          "2022-06-16T00:00:00",
          "2022-06-17T00:00:00",
          "2022-06-18T00:00:00"
         ],
         "xaxis": "x",
         "y": {
          "bdata": "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",
          "dtype": "f8"
         },
         "yaxis": "y"
        }
       ],
       "layout": {
        "legend": {
         "title": {
          "text": "Country"
         },
         "tracegroupgap": 0
        },
        "template": {
         "data": {
          "bar": [
           {
            "error_x": {
             "color": "#2a3f5f"
            },
            "error_y": {
             "color": "#2a3f5f"
            },
            "marker": {
             "line": {
              "color": "#E5ECF6",
              "width": 0.5
             },
             "pattern": {
              "fillmode": "overlay",
              "size": 10,
              "solidity": 0.2
             }
            },
            "type": "bar"
           }
          ],
          "barpolar": [
           {
            "marker": {
             "line": {
              "color": "#E5ECF6",
              "width": 0.5
             },
             "pattern": {
              "fillmode": "overlay",
              "size": 10,
              "solidity": 0.2
             }
            },
            "type": "barpolar"
           }
          ],
          "carpet": [
           {
            "aaxis": {
             "endlinecolor": "#2a3f5f",
             "gridcolor": "white",
             "linecolor": "white",
             "minorgridcolor": "white",
             "startlinecolor": "#2a3f5f"
            },
            "baxis": {
             "endlinecolor": "#2a3f5f",
             "gridcolor": "white",
             "linecolor": "white",
             "minorgridcolor": "white",
             "startlinecolor": "#2a3f5f"
            },
            "type": "carpet"
           }
          ],
          "choropleth": [
           {
            "colorbar": {
             "outlinewidth": 0,
             "ticks": ""
            },
            "type": "choropleth"
           }
          ],
          "contour": [
           {
            "colorbar": {
             "outlinewidth": 0,
             "ticks": ""
            },
            "colorscale": [
             [
              0,
              "#0d0887"
             ],
             [
              0.1111111111111111,
              "#46039f"
             ],
             [
              0.2222222222222222,
              "#7201a8"
             ],
             [
              0.3333333333333333,
              "#9c179e"
             ],
             [
              0.4444444444444444,
              "#bd3786"
             ],
             [
              0.5555555555555556,
              "#d8576b"
             ],
             [
              0.6666666666666666,
              "#ed7953"
             ],
             [
              0.7777777777777778,
              "#fb9f3a"
             ],
             [
              0.8888888888888888,
              "#fdca26"
             ],
             [
              1,
              "#f0f921"
             ]
            ],
            "type": "contour"
           }
          ],
          "contourcarpet": [
           {
            "colorbar": {
             "outlinewidth": 0,
             "ticks": ""
            },
            "type": "contourcarpet"
           }
          ],
          "heatmap": [
           {
            "colorbar": {
             "outlinewidth": 0,
             "ticks": ""
            },
            "colorscale": [
             [
              0,
              "#0d0887"
             ],
             [
              0.1111111111111111,
              "#46039f"
             ],
             [
              0.2222222222222222,
              "#7201a8"
             ],
             [
              0.3333333333333333,
              "#9c179e"
             ],
             [
              0.4444444444444444,
              "#bd3786"
             ],
             [
              0.5555555555555556,
              "#d8576b"
             ],
             [
              0.6666666666666666,
              "#ed7953"
             ],
             [
              0.7777777777777778,
              "#fb9f3a"
             ],
             [
              0.8888888888888888,
              "#fdca26"
             ],
             [
              1,
              "#f0f921"
             ]
            ],
            "type": "heatmap"
           }
          ],
          "histogram": [
           {
            "marker": {
             "pattern": {
              "fillmode": "overlay",
              "size": 10,
              "solidity": 0.2
             }
            },
            "type": "histogram"
           }
          ],
          "histogram2d": [
           {
            "colorbar": {
             "outlinewidth": 0,
             "ticks": ""
            },
            "colorscale": [
             [
              0,
              "#0d0887"
             ],
             [
              0.1111111111111111,
              "#46039f"
             ],
             [
              0.2222222222222222,
              "#7201a8"
             ],
             [
              0.3333333333333333,
              "#9c179e"
             ],
             [
              0.4444444444444444,
              "#bd3786"
             ],
             [
              0.5555555555555556,
              "#d8576b"
             ],
             [
              0.6666666666666666,
              "#ed7953"
             ],
             [
              0.7777777777777778,
              "#fb9f3a"
             ],
             [
              0.8888888888888888,
              "#fdca26"
             ],
             [
              1,
              "#f0f921"
             ]
            ],
            "type": "histogram2d"
           }
          ],
          "histogram2dcontour": [
           {
            "colorbar": {
             "outlinewidth": 0,
             "ticks": ""
            },
            "colorscale": [
             [
              0,
              "#0d0887"
             ],
             [
              0.1111111111111111,
              "#46039f"
             ],
             [
              0.2222222222222222,
              "#7201a8"
             ],
             [
              0.3333333333333333,
              "#9c179e"
             ],
             [
              0.4444444444444444,
              "#bd3786"
             ],
             [
              0.5555555555555556,
              "#d8576b"
             ],
             [
              0.6666666666666666,
              "#ed7953"
             ],
             [
              0.7777777777777778,
              "#fb9f3a"
             ],
             [
              0.8888888888888888,
              "#fdca26"
             ],
             [
              1,
              "#f0f921"
             ]
            ],
            "type": "histogram2dcontour"
           }
          ],
          "mesh3d": [
           {
            "colorbar": {
             "outlinewidth": 0,
             "ticks": ""
            },
            "type": "mesh3d"
           }
          ],
          "parcoords": [
           {
            "line": {
             "colorbar": {
              "outlinewidth": 0,
              "ticks": ""
             }
            },
            "type": "parcoords"
           }
          ],
          "pie": [
           {
            "automargin": true,
            "type": "pie"
           }
          ],
          "scatter": [
           {
            "fillpattern": {
             "fillmode": "overlay",
             "size": 10,
             "solidity": 0.2
            },
            "type": "scatter"
           }
          ],
          "scatter3d": [
           {
            "line": {
             "colorbar": {
              "outlinewidth": 0,
              "ticks": ""
             }
            },
            "marker": {
             "colorbar": {
              "outlinewidth": 0,
              "ticks": ""
             }
            },
            "type": "scatter3d"
           }
          ],
          "scattercarpet": [
           {
            "marker": {
             "colorbar": {
              "outlinewidth": 0,
              "ticks": ""
             }
            },
            "type": "scattercarpet"
           }
          ],
          "scattergeo": [
           {
            "marker": {
             "colorbar": {
              "outlinewidth": 0,
              "ticks": ""
             }
            },
            "type": "scattergeo"
           }
          ],
          "scattergl": [
           {
            "marker": {
             "colorbar": {
              "outlinewidth": 0,
              "ticks": ""
             }
            },
            "type": "scattergl"
           }
          ],
          "scattermap": [
           {
            "marker": {
             "colorbar": {
              "outlinewidth": 0,
              "ticks": ""
             }
            },
            "type": "scattermap"
           }
          ],
          "scattermapbox": [
           {
            "marker": {
             "colorbar": {
              "outlinewidth": 0,
              "ticks": ""
             }
            },
            "type": "scattermapbox"
           }
          ],
          "scatterpolar": [
           {
            "marker": {
             "colorbar": {
              "outlinewidth": 0,
              "ticks": ""
             }
            },
            "type": "scatterpolar"
           }
          ],
          "scatterpolargl": [
           {
            "marker": {
             "colorbar": {
              "outlinewidth": 0,
              "ticks": ""
             }
            },
            "type": "scatterpolargl"
           }
          ],
          "scatterternary": [
           {
            "marker": {
             "colorbar": {
              "outlinewidth": 0,
              "ticks": ""
             }
            },
            "type": "scatterternary"
           }
          ],
          "surface": [
           {
            "colorbar": {
             "outlinewidth": 0,
             "ticks": ""
            },
            "colorscale": [
             [
              0,
              "#0d0887"
             ],
             [
              0.1111111111111111,
              "#46039f"
             ],
             [
              0.2222222222222222,
              "#7201a8"
             ],
             [
              0.3333333333333333,
              "#9c179e"
             ],
             [
              0.4444444444444444,
              "#bd3786"
             ],
             [
              0.5555555555555556,
              "#d8576b"
             ],
             [
              0.6666666666666666,
              "#ed7953"
             ],
             [
              0.7777777777777778,
              "#fb9f3a"
             ],
             [
              0.8888888888888888,
              "#fdca26"
             ],
             [
              1,
              "#f0f921"
             ]
            ],
            "type": "surface"
           }
          ],
          "table": [
           {
            "cells": {
             "fill": {
              "color": "#EBF0F8"
             },
             "line": {
              "color": "white"
             }
            },
            "header": {
             "fill": {
              "color": "#C8D4E3"
             },
             "line": {
              "color": "white"
             }
            },
            "type": "table"
           }
          ]
         },
         "layout": {
          "annotationdefaults": {
           "arrowcolor": "#2a3f5f",
           "arrowhead": 0,
           "arrowwidth": 1
          },
          "autotypenumbers": "strict",
          "coloraxis": {
           "colorbar": {
            "outlinewidth": 0,
            "ticks": ""
           }
          },
          "colorscale": {
           "diverging": [
            [
             0,
             "#8e0152"
            ],
            [
             0.1,
             "#c51b7d"
            ],
            [
             0.2,
             "#de77ae"
            ],
            [
             0.3,
             "#f1b6da"
            ],
            [
             0.4,
             "#fde0ef"
            ],
            [
             0.5,
             "#f7f7f7"
            ],
            [
             0.6,
             "#e6f5d0"
            ],
            [
             0.7,
             "#b8e186"
            ],
            [
             0.8,
             "#7fbc41"
            ],
            [
             0.9,
             "#4d9221"
            ],
            [
             1,
             "#276419"
            ]
           ],
           "sequential": [
            [
             0,
             "#0d0887"
            ],
            [
             0.1111111111111111,
             "#46039f"
            ],
            [
             0.2222222222222222,
             "#7201a8"
            ],
            [
             0.3333333333333333,
             "#9c179e"
            ],
            [
             0.4444444444444444,
             "#bd3786"
            ],
            [
             0.5555555555555556,
             "#d8576b"
            ],
            [
             0.6666666666666666,
             "#ed7953"
            ],
            [
             0.7777777777777778,
             "#fb9f3a"
            ],
            [
             0.8888888888888888,
             "#fdca26"
            ],
            [
             1,
             "#f0f921"
            ]
           ],
           "sequentialminus": [
            [
             0,
             "#0d0887"
            ],
            [
             0.1111111111111111,
             "#46039f"
            ],
            [
             0.2222222222222222,
             "#7201a8"
            ],
            [
             0.3333333333333333,
             "#9c179e"
            ],
            [
             0.4444444444444444,
             "#bd3786"
            ],
            [
             0.5555555555555556,
             "#d8576b"
            ],
            [
             0.6666666666666666,
             "#ed7953"
            ],
            [
             0.7777777777777778,
             "#fb9f3a"
            ],
            [
             0.8888888888888888,
             "#fdca26"
            ],
            [
             1,
             "#f0f921"
            ]
           ]
          },
          "colorway": [
           "#636efa",
           "#EF553B",
           "#00cc96",
           "#ab63fa",
           "#FFA15A",
           "#19d3f3",
           "#FF6692",
           "#B6E880",
           "#FF97FF",
           "#FECB52"
          ],
          "font": {
           "color": "#2a3f5f"
          },
          "geo": {
           "bgcolor": "white",
           "lakecolor": "white",
           "landcolor": "#E5ECF6",
           "showlakes": true,
           "showland": true,
           "subunitcolor": "white"
          },
          "hoverlabel": {
           "align": "left"
          },
          "hovermode": "closest",
          "mapbox": {
           "style": "light"
          },
          "paper_bgcolor": "white",
          "plot_bgcolor": "#E5ECF6",
          "polar": {
           "angularaxis": {
            "gridcolor": "white",
            "linecolor": "white",
            "ticks": ""
           },
           "bgcolor": "#E5ECF6",
           "radialaxis": {
            "gridcolor": "white",
            "linecolor": "white",
            "ticks": ""
           }
          },
          "scene": {
           "xaxis": {
            "backgroundcolor": "#E5ECF6",
            "gridcolor": "white",
            "gridwidth": 2,
            "linecolor": "white",
            "showbackground": true,
            "ticks": "",
            "zerolinecolor": "white"
           },
           "yaxis": {
            "backgroundcolor": "#E5ECF6",
            "gridcolor": "white",
            "gridwidth": 2,
            "linecolor": "white",
            "showbackground": true,
            "ticks": "",
            "zerolinecolor": "white"
           },
           "zaxis": {
            "backgroundcolor": "#E5ECF6",
            "gridcolor": "white",
            "gridwidth": 2,
            "linecolor": "white",
            "showbackground": true,
            "ticks": "",
            "zerolinecolor": "white"
           }
          },
          "shapedefaults": {
           "line": {
            "color": "#2a3f5f"
           }
          },
          "ternary": {
           "aaxis": {
            "gridcolor": "white",
            "linecolor": "white",
            "ticks": ""
           },
           "baxis": {
            "gridcolor": "white",
            "linecolor": "white",
            "ticks": ""
           },
           "bgcolor": "#E5ECF6",
           "caxis": {
            "gridcolor": "white",
            "linecolor": "white",
            "ticks": ""
           }
          },
          "title": {
           "x": 0.05
          },
          "xaxis": {
           "automargin": true,
           "gridcolor": "white",
           "linecolor": "white",
           "ticks": "",
           "title": {
            "standoff": 15
           },
           "zerolinecolor": "white",
           "zerolinewidth": 2
          },
          "yaxis": {
           "automargin": true,
           "gridcolor": "white",
           "linecolor": "white",
           "ticks": "",
           "title": {
            "standoff": 15
           },
           "zerolinecolor": "white",
           "zerolinewidth": 2
          }
         }
        },
        "title": {
         "text": "Development of new cases of COVID-19 in selected countries"
        },
        "xaxis": {
         "anchor": "y",
         "domain": [
          0,
          1
         ],
         "title": {
          "text": "Date"
         }
        },
        "yaxis": {
         "anchor": "x",
         "domain": [
          0,
          1
         ],
         "title": {
          "text": "New cases"
         }
        }
       }
      }
     },
     "metadata": {},
     "output_type": "display_data"
    }
   ],
   "source": [
    "import plotly.express as px\n",
    "import pandas as pd\n",
    "\n",
    "# Načtení dat\n",
    "file_path = r\"C:\\Users\\MartinPC\\Desktop\\project_1_python.csv\"\n",
    "df = pd.read_csv(file_path)\n",
    "\n",
    "# Výběr zemí\n",
    "countries = [\"Germany\", \"Belgium\", \"Czechia\"]\n",
    "df_filtered = df[df[\"location\"].isin(countries)].copy()  # Vytvoření kopie\n",
    "\n",
    "# Konverze sloupce 'date' na datetime\n",
    "df_filtered.loc[:, \"date\"] = pd.to_datetime(df_filtered[\"date\"])\n",
    "\n",
    "# Vykreslení grafu\n",
    "fig = px.line(\n",
    "    df_filtered,\n",
    "    x=\"date\",\n",
    "    y=\"new_cases\",\n",
    "    color=\"location\",\n",
    "    title=\"Development of new cases of COVID-19 in selected countries\",\n",
    "    labels={\"new_cases\": \"New cases\", \"date\": \"Date\", \"location\": \"Country\"},\n",
    "    color_discrete_sequence=px.colors.qualitative.Set2\n",
    ")\n",
    "\n",
    "fig.show()\n",
    "\n"
   ]
  },
  {
   "cell_type": "markdown",
   "metadata": {},
   "source": [
    "<h4><b><span style=\"color:rgb(42, 194, 240)  ;\"> <<<< 4 >>>> <br>Using your data frame and the plotly library, create a visualization that shows on a world map how many disease cases were reported in each country throughout the pandemic.<br>\n",
    "Adjust the visualization appearance:<br><br>\n",
    "Make the color of the markers dependent on the continents. Hint: Remember the best practices we discussed during prework and the first day of the course.<br>\n",
    "Make the size of the marker dependent on the ratio of cases to population in the country.<br>\n",
    "Set the initial zoom so that when the chart is generated, it is possible to see the entire world map.<br>\n",
    "Adjust the maximum size of the marker so that the chart is readable.<br>\n",
    "Adjust the tooltip so that when you hover over the marker, it shows the name of the country and information about the number of cases in that country.<br>\n",
    "Set the Mapbox dark style. <br>\n",
    "*Hint: Mapbox was mentioned during the second day.<br>\n",
    "Set an appropriate title for the chart.</span>\n",
    "\n"
   ]
  },
  {
   "cell_type": "code",
   "execution_count": 22,
   "metadata": {},
   "outputs": [
    {
     "name": "stderr",
     "output_type": "stream",
     "text": [
      "C:\\Users\\MartinPC\\AppData\\Local\\Temp\\ipykernel_17396\\1815444383.py:21: DeprecationWarning:\n",
      "\n",
      "*scatter_mapbox* is deprecated! Use *scatter_map* instead. Learn more at: https://plotly.com/python/mapbox-to-maplibre/\n",
      "\n"
     ]
    },
    {
     "data": {
      "application/vnd.plotly.v1+json": {
       "config": {
        "plotlyServerURL": "https://plot.ly"
       },
       "data": [
        {
         "customdata": {
          "bdata": "AAAAAICF40C/Xes/qd7XPwAAAAAAXKpAaFSxh7ONzD8AAAAAgMLAQKMyezkZQLY/AAAAAGBi4UDlfe1rjPa2PwAAAADAO+5AqiM9wMCSwz8AAAAAAMnOQEBIwWgQP9A/AAAAAKA49EBU279JqWzSPwAAAADA801B9MYHqqFmuj8AAAAAzJ0rQcUzh/kaisY/AAAAAEHfMEGkQlQB7AK5PwAAAABAK9pAL9YWqlXK2T8AAAAAgN7MQJR5ZTD3Nso/AAAAAK4vIkEIUFDS2tqrPwAAAADAsNFAI0H7CFWExD8AAAAAgGHHQLkWAizU8co/AAAAAFLcKkE/wmePcbGoPwAAAAC8ARpBdGI2dvOtpT8AAAAAgFPeQNZFqXGWCmY/AAAAANA/AUH5SaCR2lSoPwAAAAAAC7dA6RYU3+YzvD8AAAAAgBjaQEfZs7R9jMI/AAAAAG1TVkFCvh2Y+gCnPwAAAAAAuI9ASGhnFEcVyj8AAAAAgI3MQCUE6Hs83mE/AAAAAOSJK0Fqc/Pdj1zKPwAAAAAwCQRBx4L8WrbImT8AAAAAAJ6lQGIrSmiTr94/AAAAAAAtuEBEN27UETLEPwAAAABQOgRBnohrCkk6vj8AAAAYH4+UQfw3jwzAk9A/AAAAAIBzwkDNhLsgKby1PwAAAAAAHbtABw9q3AI0zT8=",
          "dtype": "f8",
          "shape": "32, 2"
         },
         "hovertemplate": "<b>%{hovertext}</b><br><br>continent=North America<br>cases_per_population=%{customdata[1]:.2%}<br>latitude=%{lat}<br>longitude=%{lon}<br>total_cases=%{customdata[0]}<extra></extra>",
         "hovertext": [
          "Aruba",
          "Anguilla",
          "Antigua and Barbuda",
          "Bahamas",
          "Belize",
          "Bermuda",
          "Barbados",
          "Canada",
          "Costa Rica",
          "Cuba",
          "Cayman Islands",
          "Dominica",
          "Dominican Republic",
          "Grenada",
          "Greenland",
          "Guatemala",
          "Honduras",
          "Haiti",
          "Jamaica",
          "Saint Kitts and Nevis",
          "Saint Lucia",
          "Mexico",
          "Montserrat",
          "Nicaragua",
          "Panama",
          "El Salvador",
          "Saint Pierre and Miquelon",
          "Turks and Caicos Islands",
          "Trinidad and Tobago",
          "United States",
          "Saint Vincent and the Grenadines",
          "British Virgin Islands"
         ],
         "lat": {
          "bdata": "AAAAAAAAKUAAAAAAAEAyQM3MzMzMDDFAAAAAAABAOEAAAAAAAEAxQN/gC5OpKkBAhXzQs1lVKkAAAAAAAABOQAAAAAAAACRAAAAAAACANUAAAAAAAIAzQIV80LNZ1S5AAAAAAAAAM0Dr4jYawDsoQAAAAAAAAFJAAAAAAAAAL0AAAAAAAAAuQAAAAAAAADNAAAAAAABAMkC+wRcmU1UxQBUdyeU/xCtAAAAAAAAAN0AAAAAAAMAwQAAAAAAAACpAAAAAAAAAIkB7gy9MpqorQN/gC5OpakdAAAAAAADANUAAAAAAAAAmQAAAAAAAAENAAAAAAACAKkAAAAAAAIAyQA==",
          "dtype": "f8"
         },
         "legendgroup": "North America",
         "lon": {
          "bdata": "xEKtad59UcAhH/RsVpVPwGZmZmZm5k7AAAAAAAAAU8AAAAAAADBWwAAAAAAAMFDAeHqlLEPETcAAAAAAAMBXwAAAAAAAAFXAAAAAAAAAVMAAAAAAACBUwN/gC5Opqk7AkQ96NquqUcAhH/RsVtVOwAAAAAAAAETAAAAAAACQVsAAAAAAAKBVwJEPejarGlLAAAAAAABgU8AAAAAAAGBPwEVHcvkPkU7AAAAAAACAWcCamZmZmRlPwAAAAAAAQFXAAAAAAAAAVMCRD3o2qzpWwN/gC5OpKkzAb/CFyVTlUcAAAAAAAIBOwAAAAAAAQFjAmpmZmZmZTsAAAAAAACBQwA==",
          "dtype": "f8"
         },
         "marker": {
          "color": "#636efa",
          "size": {
           "bdata": "v13rP6ne1z9oVLGHs43MP6MyezkZQLY/5X3ta4z2tj+qIz3AwJLDP0BIwWgQP9A/VNu/Sals0j/0xgeqoWa6P8Uzh/kaisY/pEJUAewCuT8v1haqVcrZP5R5ZTD3Nso/CFBQ0traqz8jQfsIVYTEP7kWAizU8co/P8Jnj3GxqD90YjZ2862lP9ZFqXGWCmY/+UmgkdpUqD/pFhTf5jO8P0fZs7R9jMI/Qr4dmPoApz9IaGcURxXKPyUE6Hs83mE/anPz3Y9cyj/HgvxatsiZP2IrSmiTr94/RDdu1BEyxD+eiGsKSTq+P/w3jwzAk9A/zYS7ICm8tT8HD2rcAjTNPw==",
           "dtype": "f8"
          },
          "sizemode": "area",
          "sizeref": 0.0017663547591380752
         },
         "mode": "markers",
         "name": "North America",
         "showlegend": true,
         "subplot": "mapbox",
         "type": "scattermapbox"
        },
        {
         "customdata": {
          "bdata": "AAAAADAqBkH7muOQhKtyPwAAAACUQSxBzKHoeWG5tz8AAAAAENIZQZaOcQRjPsI/AAAAADIzKEFfYxxXX9uzPwAAAACT1z1BIyXyBaIViD8AAAAAkG0iQYTdvjDpGtY/AAAAACAZA0G/GE5qfa3WPwAAAACAH+1Ap1VUR/aTsz8AAAAAQhMrQRn1foc7IUQ/AAAAAINPOUGfvMu+yqzaPwAAAADAsjJBUkKNG3bExD8AAAAAtyRXQaS/XcHJepY/AAAAoD2lhEG0lLuvd9GfPwAAAEAJmVtB+2u7nRLItT8AAAAAcMpBQRVYxRA+/qw/AAAAQDEfUEEHEhmnrBzdPwAAAACJ5zlBBpudRTMpxT8AAADATGdhQVeLxlX2h7I/AAAAAMxJNUEBCBGMgs2yPwAAAADAiQhBdFxjffcNnz8AAAAAMKIAQdAlMh+qd4A/AAAAgAxucUE8JL6agczWPwAAAADofSNBNzBIQiXjwj8AAAAAkKgJQZ2lnTfsKp0/AAAAAKDVMEH/a96+qdzEPwAAAABgQyRB72XmNc2gnz8AAAAAAMBUQBfXlU0JhiA/AAAAAFj4BUFRdCtDVTDVPwAAAADauCJBKdayIsDshj8AAAAAlEQsQcV1I81mztE/AAAAgIpQUUEsXtyBybnBPwAAAAAg4y1BhNYCQ7HloD8AAAAA+MkXQaOzSLgqGrM/AAAAAE5gN0HQIKcXN917PwAAAAASMkxBs3VexRYKoT8AAAAAAADwPwvAVs0tvWQ+AAAAAGgVJEEvukQz+SDAPwAAAAAs4hZBpkRB6z5gwD8AAAAARuwnQQZ/bOm6tpY/AAAAAFLSNEG7nXSufQPQPwAAAAAgTetAFrRwAhAQaT8AAAAAmSlRQYSPWu8Xd7A/AAAAAIBe0UAbYSGukONdPwAAAAAAaNZAsbBrvZZ7kT8AAADAFcZsQb/IoEO4tMY/AAAAgNLASEHIbgwkr2jBPwAAAAAoPQ1BXpQ+1wvpfD8AAABgunpkQakJhG3t/7s/AAAAAIAXx0CnJlBzgWk5Pw==",
          "dtype": "f8",
          "shape": "49, 2"
         },
         "hovertemplate": "<b>%{hovertext}</b><br><br>continent=Asia<br>cases_per_population=%{customdata[1]:.2%}<br>latitude=%{lat}<br>longitude=%{lon}<br>total_cases=%{customdata[0]}<extra></extra>",
         "hovertext": [
          "Afghanistan",
          "United Arab Emirates",
          "Armenia",
          "Azerbaijan",
          "Bangladesh",
          "Bahrain",
          "Brunei",
          "Bhutan",
          "China",
          "Georgia",
          "Hong Kong",
          "Indonesia",
          "India",
          "Iran",
          "Iraq",
          "Israel",
          "Jordan",
          "Japan",
          "Kazakhstan",
          "Kyrgyzstan",
          "Cambodia",
          "South Korea",
          "Kuwait",
          "Laos",
          "Lebanon",
          "Sri Lanka",
          "Macao",
          "Maldives",
          "Myanmar",
          "Mongolia",
          "Malaysia",
          "Nepal",
          "Oman",
          "Pakistan",
          "Philippines",
          "North Korea",
          "Palestine",
          "Qatar",
          "Saudi Arabia",
          "Singapore",
          "Syria",
          "Thailand",
          "Tajikistan",
          "Timor",
          "Turkey",
          "Taiwan",
          "Uzbekistan",
          "Vietnam",
          "Yemen"
         ],
         "lat": {
          "bdata": "AAAAAACAQEAAAAAAAAA4QAAAAAAAAERAAAAAAABAREAAAAAAAAA4QAAAAAAAADpAAAAAAAAAEkAAAAAAAIA7QAAAAAAAgEFAAAAAAAAARUAAAAAAAEA2QAAAAAAAABTAAAAAAAAANEAAAAAAAABAQAAAAAAAgEBAAAAAAACAP0AAAAAAAAA/QAAAAAAAAEJAAAAAAAAASEAAAAAAAIBEQAAAAAAAACpAAAAAAACAQkBmZmZmZlY9QAAAAAAAADJA3+ALk6nqQEAAAAAAAAAcQEI+6NmsKjZAAAAAAAAACkAAAAAAAAA2QAAAAAAAAEdAAAAAAAAABEAAAAAAAAA8QAAAAAAAADVAAAAAAAAAPkAAAAAAAAAqQAAAAAAAAERAAAAAAAAAQEAAAAAAAIA5QAAAAAAAADlAWRe30QDe9T8AAAAAAIBBQAAAAAAAAC5AAAAAAACAQ0CamZmZmRkhwAAAAAAAgENAAAAAAACAN0AAAAAAAIBEQAAAAAAAADBAAAAAAAAALkA=",
          "dtype": "f8"
         },
         "legendgroup": "Asia",
         "lon": {
          "bdata": "AAAAAABAUEAAAAAAAABLQAAAAAAAgEZAAAAAAADAR0AAAAAAAIBWQGZmZmZmRklAkQ96NquqXEAAAAAAAKBWQAAAAAAAQFpAAAAAAADARUCRD3o2q4pcQAAAAAAAAF5AAAAAAABAU0AAAAAAAIBKQAAAAAAAAEZAAAAAAABgQUAAAAAAAABCQAAAAAAAQGFAAAAAAAAAUUAAAAAAAMBSQAAAAAAAQFpAAAAAAADgX0Cxv+yePNRHQAAAAAAAQFpA3+ALk6nqQUAAAAAAAEBUQDMzMzMzY1xAAAAAAABAUkAAAAAAAIBYQAAAAAAAQFpAAAAAAAAgXEAAAAAAAABVQAAAAAAAgExAAAAAAACAUUAAAAAAAIBeQAAAAAAAwF9AAAAAAACgQUAAAAAAAKBJQAAAAAAAgEZAMzMzMzPzWUAAAAAAAABDQAAAAAAAAFlAAAAAAADAUUD3deCcEWFfQAAAAAAAgEFAAAAAAABAXkAAAAAAAABQQAAAAAAAgFpAAAAAAAAASEA=",
          "dtype": "f8"
         },
         "marker": {
          "color": "#EF553B",
          "size": {
           "bdata": "+5rjkISrcj/Moeh5Ybm3P5aOcQRjPsI/X2McV1/bsz8jJfIFohWIP4TdvjDpGtY/vxhOan2t1j+nVVRH9pOzPxn1foc7IUQ/n7zLvsqs2j9SQo0bdsTEP6S/XcHJepY/tJS7r3fRnz/7a7udEsi1PxVYxRA+/qw/BxIZp6wc3T8Gm51FMynFP1eLxlX2h7I/AQgRjILNsj90XGN99w2fP9AlMh+qd4A/PCS+moHM1j83MEhCJePCP52lnTfsKp0//2vevqncxD/vZeY1zaCfPxfXlU0JhiA/UXQrQ1Uw1T8p1rIiwOyGP8V1I81mztE/LF7cgcm5wT+E1gJDseWgP6OzSLgqGrM/0CCnFzfdez+zdV7FFgqhPwvAVs0tvWQ+L7pEM/kgwD+mREHrPmDAPwZ/bOm6tpY/u510rn0D0D8WtHACEBBpP4SPWu8Xd7A/G2EhrpDjXT+xsGu9lnuRP7/IoEO4tMY/yG4MJK9owT9elD7XC+l8P6kJhG3t/7s/pyZQc4FpOT8=",
           "dtype": "f8"
          },
          "sizemode": "area",
          "sizeref": 0.0017663547591380752
         },
         "mode": "markers",
         "name": "Asia",
         "showlegend": true,
         "subplot": "mapbox",
         "type": "scattermapbox"
        },
        {
         "customdata": {
          "bdata": "AAAAABBb+ECUcyYaZBVoPwAAAADAs+RAdHpS9idXbD8AAAAAgHzaQDq0JWw22GE/AAAAAACN1EC/hfJu5glQPwAAAAAILhNBWGf/9WPHwD8AAAAAgJzMQEzGzaAoZGg/AAAAADAu9EDnL2dTlgdpPwAAAACwSP1Aer2WEegLcj8AAAAAwPT1QLj8aIl+5k8/AAAAAACQ10DOmKk/VHhxPwAAAAAAw79AM9EeFzK+gj8AAAAAoFXsQJViwGUTcLo/AAAAAAClzkDvR6fXBQiQPwAAAADMOxBBXL6jsdNqeD8AAAAA9HgfQcRVLc4WQnQ/AAAAAIAYw0ASmR0HND1mPwAAAABshh1BndWoGyLPcD8AAAAAwE/nQMVKfmH6c5U/AAAAACDwA0Eg+eJIPhV1PwAAAAAg+uFA3krxHn5YZj8AAAAAAHHHQLtLVAxyxHM/AAAAAIA5wECMHkrFyeFwPwAAAACAQM9AkTLsHQuahj8AAAAATBYUQWZeIv8PhHg/AAAAAABBvUAvqfwEr69XPwAAAADwpB5ByMd+SZZ4sj8AAAAAQHrgQOUQ/cpIAZA/AAAAANwTMkGpVdsrJj6gPwAAAACgle9AGs8mZPejYj8AAAAAQGjeQBHtstz5dVg/AAAAAFi4C0FHxi2oVet8PwAAAACg8+xAV/IGbyJuiT8AAAAAkMMLQRJLfoCQ3MY/AAAAAKAL9UDc0yGAgvhxPwAAAACYnARB0UB1Jue0sD8AAAAAgKPBQAq3uRkOjTc/AAAAAOhRD0FMw8r1i+JTPwAAAAAw3v9ACWDPJKcihD8AAAAAIIPuQFtr3UYnzFY/AAAAAJAL9UArMoIQQ4h0PwAAAAAAABBAkqVGMj2BRT8AAAAAAAi+QAxHVAx/8U4/AAAAAMAM2kC+kG3dBrdaPwAAAABASNFA6ZPbTcJ5WT8AAAAAAHq3QLjYd6JxjZs/AAAAALDS8UD/zxKHzuGvPwAAAAAgveVAKKTgdbTO3D8AAAAAAPy8QGLL/s6Qvzw/AAAAAEAv4kBGUgOZCP5xPwAAAACU3y9BaJjx+Kdmtj8AAAAAQEPhQNIea6Vp1kI/AAAAAMhcBEGsQuRjjP9sPwAAAACDZk5BAAskd0D9sD8AAAAA5MYTQTfPtlNWiZE/AAAAAAgZD0FTupf38EiRPw==",
          "dtype": "f8",
          "shape": "55, 2"
         },
         "hovertemplate": "<b>%{hovertext}</b><br><br>continent=Africa<br>cases_per_population=%{customdata[1]:.2%}<br>latitude=%{lat}<br>longitude=%{lon}<br>total_cases=%{customdata[0]}<extra></extra>",
         "hovertext": [
          "Angola",
          "Burundi",
          "Benin",
          "Burkina Faso",
          "Botswana",
          "Central African Republic",
          "Cote d'Ivoire",
          "Cameroon",
          "Democratic Republic of Congo",
          "Congo",
          "Comoros",
          "Cape Verde",
          "Djibouti",
          "Algeria",
          "Egypt",
          "Eritrea",
          "Ethiopia",
          "Gabon",
          "Ghana",
          "Guinea",
          "Gambia",
          "Guinea-Bissau",
          "Equatorial Guinea",
          "Kenya",
          "Liberia",
          "Libya",
          "Lesotho",
          "Morocco",
          "Madagascar",
          "Mali",
          "Mozambique",
          "Mauritania",
          "Mauritius",
          "Malawi",
          "Namibia",
          "Niger",
          "Nigeria",
          "Rwanda",
          "Sudan",
          "Senegal",
          "Saint Helena",
          "Sierra Leone",
          "Somalia",
          "South Sudan",
          "Sao Tome and Principe",
          "Eswatini",
          "Seychelles",
          "Chad",
          "Togo",
          "Tunisia",
          "Tanzania",
          "Uganda",
          "South Africa",
          "Zambia",
          "Zimbabwe"
         ],
         "lat": {
          "bdata": "AAAAAAAAKcAAAAAAAAAMwAAAAAAAACNAAAAAAAAAKkAAAAAAAAA2wAAAAAAAABxAAAAAAAAAIEAAAAAAAAAYQAAAAAAAAAAAAAAAAAAA8L+FfNCzWVUowAAAAAAAADBAAAAAAAAAJ0AAAAAAAAA8QAAAAAAAADtAAAAAAAAALkAAAAAAAAAgQAAAAAAAAPC/AAAAAAAAIEAAAAAAAAAmQB4Wak3z7ipAAAAAAAAAKEAAAAAAAAAAQAAAAAAAAPA/AAAAAAAAGkAAAAAAAAA5QAAAAAAAgD3AAAAAAAAAQEAAAAAAAAA0wAAAAAAAADFAAAAAAABAMsAAAAAAAAA0QPH0SlmGSDTAAAAAAAAAK8AAAAAAAAA2wAAAAAAAADBAAAAAAAAAJEAAAAAAAAAAwAAAAAAAAC5AAAAAAAAALECutmJ/2d0vwAAAAAAAACFAAAAAAAAAJEAAAAAAAAAgQAAAAAAAAPA/AAAAAACAOsD3Bl+YTFUSwAAAAAAAAC5AAAAAAAAAIEAAAAAAAABBQAAAAAAAABjAAAAAAAAA8D8AAAAAAAA9wAAAAAAAAC7AAAAAAAAANMA=",
          "dtype": "f8"
         },
         "legendgroup": "Africa",
         "lon": {
          "bdata": "AAAAAACAMkAAAAAAAAA+QAAAAAAAAAJAAAAAAAAAAMAAAAAAAAA4QAAAAAAAADVAAAAAAAAAFMAAAAAAAAAoQAAAAAAAADlAAAAAAAAALkAAAAAAACBGQAAAAAAAADjAAAAAAACARUAAAAAAAAAIQAAAAAAAAD5AAAAAAACAQ0AAAAAAAABDQAAAAAAAgCdAAAAAAAAAAMAAAAAAAAAkwKmkTkATkTDAAAAAAAAALsAAAAAAAAAkQAAAAAAAAENAAAAAAAAAI8AAAAAAAAAxQAAAAAAAgDxAAAAAAAAAFMAAAAAAAIBHQAAAAAAAABDAAAAAAACAQUAAAAAAAAAowGZmZmZmxkxAAAAAAAAAQUAAAAAAAAAxQAAAAAAAACBAAAAAAAAAIEAAAAAAAAA+QAAAAAAAAD5AAAAAAAAALMDNzMzMzMwWwAAAAAAAACfAAAAAAACASEAAAAAAAAA+QAAAAAAAABxAAAAAAACAP0AhH/RsVtVLQAAAAAAAADNAJuSDns2q8j8AAAAAAAAiQAAAAAAAgEFAAAAAAAAAQEAAAAAAAAA4QAAAAAAAAD5AAAAAAAAAPkA=",
          "dtype": "f8"
         },
         "marker": {
          "color": "#00cc96",
          "size": {
           "bdata": "lHMmGmQVaD90elL2J1dsPzq0JWw22GE/v4XybuYJUD9YZ//1Y8fAP0zGzaAoZGg/5y9nU5YHaT96vZYR6AtyP7j8aIl+5k8/zpipP1R4cT8z0R4XMr6CP5ViwGUTcLo/70en1wUIkD9cvqOx02p4P8RVLc4WQnQ/EpkdBzQ9Zj+d1agbIs9wP8VKfmH6c5U/IPniSD4VdT/eSvEeflhmP7tLVAxyxHM/jB5KxcnhcD+RMuwdC5qGP2ZeIv8PhHg/L6n8BK+vVz/Ix35JlniyP+UQ/cpIAZA/qVXbKyY+oD8azyZk96NiPxHtstz5dVg/R8YtqFXrfD9X8gZvIm6JPxJLfoCQ3MY/3NMhgIL4cT/RQHUm57SwPwq3uRkOjTc/TMPK9YviUz8JYM8kpyKEP1tr3UYnzFY/KzKCEEOIdD+SpUYyPYFFPwxHVAx/8U4/vpBt3Qa3Wj/pk9tNwnlZP7jYd6JxjZs//88Sh87hrz8opOB1tM7cP2LL/s6Qvzw/RlIDmQj+cT9omPH4p2a2P9Iea6Vp1kI/rELkY4z/bD8ACyR3QP2wPzfPtlNWiZE/U7qX9/BIkT8=",
           "dtype": "f8"
          },
          "sizemode": "area",
          "sizeref": 0.0017663547591380752
         },
         "mode": "markers",
         "name": "Africa",
         "showlegend": true,
         "subplot": "mapbox",
         "type": "scattermapbox"
        },
        {
         "customdata": {
          "bdata": "AAAAAFTqEEFvj40fArK4PwAAAAAgN+VAJdTZKl754T8AAAAA95dQQU+u2DoQyd4/AAAAAJLzT0EpgnuGqQrXPwAAAACj0jFBPeyl8qutxT8AAAAAhBUXQYhhrjEaq70/AAAAAKb+LUHn8KyFW6W6PwAAAIBDPkxB/M0gSxUv2z8AAAAAuFweQXteQh8gxOE/AAAAgJXyTUHaBVUstGzXPwAAALDV8XlBKzgYb47A1D8AAACAgwlIQc1AL2HEV+E/AAAA4Hj2Z0HZwg4mazPRPwAAAAB8pyFBzYefKzrw2z8AAAAA3isxQfO57OIk9sk/AAAAMF6+fEF/N8xMMZzcPwAAAABA7OBATn0uxP2b5j8AAABgUIF1QVDjgEmrKNU/AAAAAICQ0kAQHZ3hTA7iPwAAAIDvAEtBM2IRRq7X1T8AAAAAKmsxQZ2hVsk65tE/AAAAADJYPUEaiEvm+ozJPwAAAACgg+BAfZXnmM1X2T8AAAAALBU4QdNQDv92RdQ/AAAAADhTB0FBR7ssc5TgPwAAAJCqBHFB2BmmwS/r0j8AAAAAQD3RQA0w1muxiN0/AAAAAK5AMEFTlo9PwFfZPwAAAACIHA9BuHCLWNix2T8AAAAA3mEpQSg/5S8kg9w/AAAAAACkyEDkRm7kRm7UPwAAAABwtB9BxdN31vGFwD8AAAAAvBgTQSCkffS/OsM/AAAAAFDR90CbUVcXDDLIPwAAAACAGg1B1yapKJJL2D8AAACAEQZfQTNlImz8Tt4/AAAAAKj3NUFavanTktvQPwAAAIBJ7lZBWqVntF5bxD8AAADAdRhTQV4QAhgHgt8/AAAAgOA4RkHeTvSYyX3DPwAAAABvSXFBWXR0+oDNvz8AAAAAQAHRQAiiqWxGYuA/AAAAAGzbPkFWVlKjtNXSPwAAAADrbENBXHNewE/n3T8AAAAApHEvQTFfjUkBud8/AAAAgOorQ0GxMraZUajPPwAAAIBhOlNBYRBtnravvT8AAAAAAAA9QJIkSZIkSaI/",
          "dtype": "f8",
          "shape": "48, 2"
         },
         "hovertemplate": "<b>%{hovertext}</b><br><br>continent=Europe<br>cases_per_population=%{customdata[1]:.2%}<br>latitude=%{lat}<br>longitude=%{lon}<br>total_cases=%{customdata[0]}<extra></extra>",
         "hovertext": [
          "Albania",
          "Andorra",
          "Austria",
          "Belgium",
          "Bulgaria",
          "Bosnia and Herzegovina",
          "Belarus",
          "Switzerland",
          "Cyprus",
          "Czechia",
          "Germany",
          "Denmark",
          "Spain",
          "Estonia",
          "Finland",
          "France",
          "Faeroe Islands",
          "United Kingdom",
          "Gibraltar",
          "Greece",
          "Croatia",
          "Hungary",
          "Isle of Man",
          "Ireland",
          "Iceland",
          "Italy",
          "Liechtenstein",
          "Lithuania",
          "Luxembourg",
          "Latvia",
          "Monaco",
          "Moldova",
          "North Macedonia",
          "Malta",
          "Montenegro",
          "Netherlands",
          "Norway",
          "Poland",
          "Portugal",
          "Romania",
          "Russia",
          "San Marino",
          "Serbia",
          "Slovakia",
          "Slovenia",
          "Sweden",
          "Ukraine",
          "Vatican"
         ],
         "lat": {
          "bdata": "AAAAAACAREAAAAAAAEBFQN/gC5OpqkdA3+ALk6lqSUAAAAAAAIBFQAAAAAAAAEZAAAAAAACASkAAAAAAAIBHQAAAAAAAgEFAAAAAAADgSEAAAAAAAIBJQAAAAAAAAExAAAAAAAAAREAAAAAAAIBNQAAAAAAAAFBAAAAAAAAAR0AAAAAAAABPQAAAAAAAAEtArK3YX3YXQkAAAAAAAIBDQCEf9GxWlUZAAAAAAACAR0A9CtejcB1LQAAAAAAAgEpAAAAAAABAUEDf4AuTqWpFQCEf9GxWlUdAAAAAAAAATEAAAAAAAOBIQAAAAAAAgExAEhQ/xtzdRUAAAAAAAIBHQN/gC5Op6kRA3+ALk6nqQUAAAAAAAABFQAAAAAAAQEpAAAAAAAAAT0AAAAAAAABKQAAAAAAAwENAAAAAAAAAR0AAAAAAAABOQO7rwDkj4kVAAAAAAAAARkAhH/RsVlVIQAAAAAAAAEdAAAAAAAAAT0AAAAAAAIBIQDMzMzMz80RA",
          "dtype": "f8"
         },
         "legendgroup": "Europe",
         "lon": {
          "bdata": "AAAAAAAANECamZmZmZn5P3uDL0ymqipAAAAAAAAAEEAAAAAAAAA5QAAAAAAAADJAAAAAAAAAPEAAAAAAAAAgQAAAAAAAgEBAAAAAAAAAL0AAAAAAAAAiQAAAAAAAACRAAAAAAAAAEMAAAAAAAAA6QAAAAAAAADpAAAAAAAAAAEAAAAAAAAAcwAAAAAAAAADA1sVtNIB3FcAAAAAAAAA2QAAAAAAAAC9AAAAAAAAANEAzMzMzMzMSwAAAAAAAACDAAAAAAAAAMsB7gy9MpqopQOLplbIMESNAAAAAAAAAOEAJ+aBns6oYQAAAAAAAADlAmpmZmZmZHUAAAAAAAAA9QAAAAAAAADZAe4MvTKYqLUAAAAAAAAAzQAAAAAAAABdAAAAAAAAAJEAAAAAAAAA0QAAAAAAAACDAAAAAAAAAOUAAAAAAAABZQIV80LNZ1ShAAAAAAAAANUAAAAAAAIAzQAAAAAAAAC5AAAAAAAAALkAAAAAAAABAQGZmZmZm5ihA",
          "dtype": "f8"
         },
         "marker": {
          "color": "#ab63fa",
          "size": {
           "bdata": "b4+NHwKyuD8l1NkqXvnhP0+u2DoQyd4/KYJ7hqkK1z897KXyq63FP4hhrjEaq70/5/CshVuluj/8zSBLFS/bP3teQh8gxOE/2gVVLLRs1z8rOBhvjsDUP81AL2HEV+E/2cIOJmsz0T/Nh58rOvDbP/O57OIk9sk/fzfMTDGc3D9OfS7E/ZvmP1DjgEmrKNU/EB2d4UwO4j8zYhFGrtfVP52hVsk65tE/GohL5vqMyT99leeYzVfZP9NQDv92RdQ/QUe7LHOU4D/YGabBL+vSPw0w1muxiN0/U5aPT8BX2T+4cItY2LHZPyg/5S8kg9w/5EZu5EZu1D/F03fW8YXAPyCkffS/OsM/m1FXFwwyyD/XJqkokkvYPzNlImz8Tt4/Wr2p05Lb0D9apWe0XlvEP14QAhgHgt8/3k70mMl9wz9ZdHT6gM2/PwiiqWxGYuA/VlZSo7TV0j9cc17AT+fdPzFfjUkBud8/sTK2mVGozz9hEG2etq+9P5IkSZIkSaI/",
           "dtype": "f8"
          },
          "sizemode": "area",
          "sizeref": 0.0017663547591380752
         },
         "mode": "markers",
         "name": "Europe",
         "showlegend": true,
         "subplot": "mapbox",
         "type": "scattermapbox"
        },
        {
         "customdata": {
          "bdata": "AAAAoJXDYUE+gayXwiPKPwAAAAAW6ytBOd57x7bKsz8AAACQtyV+Qc+CpfaW6MI/AAAAgNyeTUFp8vnsvd3JPwAAAEDyY1dBhcdp6XCevj8AAAAAxlsrQe6ouViwqKk/AAAAAABwm0D3j0gb2drfPwAAAACAOfBAU1N6YrGGtT8AAAAAFXNLQTfSaHIpnLs/AAAAAOjwI0FY94Jgdyu3PwAAAADgt/NAGqoOfgh4wT8AAAAACs4sQdF0AkU/VdE/AAAAAC4EIEEUjP7M37iSPw==",
          "dtype": "f8",
          "shape": "13, 2"
         },
         "hovertemplate": "<b>%{hovertext}</b><br><br>continent=South America<br>cases_per_population=%{customdata[1]:.2%}<br>latitude=%{lat}<br>longitude=%{lon}<br>total_cases=%{customdata[0]}<extra></extra>",
         "hovertext": [
          "Argentina",
          "Bolivia",
          "Brazil",
          "Chile",
          "Colombia",
          "Ecuador",
          "Falkland Islands",
          "Guyana",
          "Peru",
          "Paraguay",
          "Suriname",
          "Uruguay",
          "Venezuela"
         ],
         "lat": {
          "bdata": "AAAAAAAAQcAAAAAAAAAxwAAAAAAAACTAAAAAAAAAPsAAAAAAAAAQQAAAAAAAAADAAAAAAADgScAAAAAAAAAUQAAAAAAAACTAAAAAAAAAN8AAAAAAAAAQQAAAAAAAgEDAAAAAAAAAIEA=",
          "dtype": "f8"
         },
         "legendgroup": "South America",
         "lon": {
          "bdata": "AAAAAAAAUMAAAAAAAEBQwAAAAAAAgEvAAAAAAADAUcAAAAAAAABSwAAAAAAAYFPAAAAAAACATcAAAAAAAIBNwAAAAAAAAFPAAAAAAAAATcAAAAAAAABMwAAAAAAAAEzAAAAAAACAUMA=",
          "dtype": "f8"
         },
         "marker": {
          "color": "#FFA15A",
          "size": {
           "bdata": "PoGsl8Ijyj853nvHtsqzP8+CpfaW6MI/afL57L3dyT+Fx2npcJ6+P+6ouViwqKk/949IG9na3z9TU3pisYa1PzfSaHIpnLs/WPeCYHcrtz8aqg5+CHjBP9F0AkU/VdE/FIz+zN+4kj8=",
           "dtype": "f8"
          },
          "sizemode": "area",
          "sizeref": 0.0017663547591380752
         },
         "mode": "markers",
         "name": "South America",
         "showlegend": true,
         "subplot": "mapbox",
         "type": "scattermapbox"
        },
        {
         "customdata": {
          "bdata": "AAAAQGbCXUGZkeefWlzTPwAAAAAAX7ZASziqv8/b1D8AAAAAgN7vQF4z0zZpgbI/AAAAAAAAQ0CGAK7q7Ws1PwAAAAAAHqlA3x96ufcemz8AAAAAAAAyQPXmoyNqyTM/AAAAAEDD7kCf9LCf1PrLPwAAAAAtbjNBh75QiqzLzz8AAAAAAD20QP/hVgy2PtI/AAAAACDR5UAEdhYyxxF0PwAAAABg2/FAO9/wc3eR0D8AAAAAAArVQKxDL1hCVp8/AAAAAICXx0Blro9H6/a8PwAAAACANMVAsmPPrVCtoT8AAAAAAGB8QOqulr3c86Q/AAAAAIBQzEBW3tCK9YqyPw==",
          "dtype": "f8",
          "shape": "16, 2"
         },
         "hovertemplate": "<b>%{hovertext}</b><br><br>continent=Oceania<br>cases_per_population=%{customdata[1]:.2%}<br>latitude=%{lat}<br>longitude=%{lon}<br>total_cases=%{customdata[0]}<extra></extra>",
         "hovertext": [
          "Australia",
          "Cook Islands",
          "Fiji",
          "Micronesia (country)",
          "Kiribati",
          "Marshall Islands",
          "New Caledonia",
          "New Zealand",
          "Palau",
          "Papua New Guinea",
          "French Polynesia",
          "Solomon Islands",
          "Tonga",
          "Vanuatu",
          "Wallis and Futuna",
          "Samoa"
         ],
         "lat": {
          "bdata": "AAAAAAAAO8AkKH6MuTs1wAAAAAAAADLACfmgZ7OqG0Am5IOezar2PwAAAAAAACJAAAAAAACANcAAAAAAAIBEwAAAAAAAAB5AAAAAAAAAGMAAAAAAAAAuwAAAAAAAACDAAAAAAAAANMAAAAAAAAAwwJqZmZmZmSrAe4MvTKYqK8A=",
          "dtype": "f8"
         },
         "legendgroup": "Oceania",
         "lon": {
          "bdata": "AAAAAACgYED7OnDOiPhjwAAAAAAA4GVAAAAAAADIY0AAAAAAAKBlQAAAAAAAAGVAAAAAAACwZEAAAAAAAMBlQAAAAAAA0GBAAAAAAABgYkAAAAAAAIBhwAAAAAAA4GNAAAAAAADgZcAAAAAAAOBkQGZmZmZmBmbAOPjCZKqKZcA=",
          "dtype": "f8"
         },
         "marker": {
          "color": "#19d3f3",
          "size": {
           "bdata": "mZHnn1pc0z9LOKq/z9vUP14z0zZpgbI/hgCu6u1rNT/fH3q59x6bP/XmoyNqyTM/n/Swn9T6yz+HvlCKrMvPP//hVgy2PtI/BHYWMscRdD873/Bzd5HQP6xDL1hCVp8/Za6PR+v2vD+yY8+tUK2hP+qulr3c86Q/Vt7QivWKsj8=",
           "dtype": "f8"
          },
          "sizemode": "area",
          "sizeref": 0.0017663547591380752
         },
         "mode": "markers",
         "name": "Oceania",
         "showlegend": true,
         "subplot": "mapbox",
         "type": "scattermapbox"
        }
       ],
       "layout": {
        "height": 600,
        "legend": {
         "itemsizing": "constant",
         "title": {
          "text": "continent"
         },
         "tracegroupgap": 0
        },
        "mapbox": {
         "center": {
          "lat": 18.929894835680752,
          "lon": 15.324138028169015
         },
         "domain": {
          "x": [
           0,
           1
          ],
          "y": [
           0,
           1
          ]
         },
         "style": "carto-darkmatter",
         "zoom": 1
        },
        "template": {
         "data": {
          "bar": [
           {
            "error_x": {
             "color": "#2a3f5f"
            },
            "error_y": {
             "color": "#2a3f5f"
            },
            "marker": {
             "line": {
              "color": "#E5ECF6",
              "width": 0.5
             },
             "pattern": {
              "fillmode": "overlay",
              "size": 10,
              "solidity": 0.2
             }
            },
            "type": "bar"
           }
          ],
          "barpolar": [
           {
            "marker": {
             "line": {
              "color": "#E5ECF6",
              "width": 0.5
             },
             "pattern": {
              "fillmode": "overlay",
              "size": 10,
              "solidity": 0.2
             }
            },
            "type": "barpolar"
           }
          ],
          "carpet": [
           {
            "aaxis": {
             "endlinecolor": "#2a3f5f",
             "gridcolor": "white",
             "linecolor": "white",
             "minorgridcolor": "white",
             "startlinecolor": "#2a3f5f"
            },
            "baxis": {
             "endlinecolor": "#2a3f5f",
             "gridcolor": "white",
             "linecolor": "white",
             "minorgridcolor": "white",
             "startlinecolor": "#2a3f5f"
            },
            "type": "carpet"
           }
          ],
          "choropleth": [
           {
            "colorbar": {
             "outlinewidth": 0,
             "ticks": ""
            },
            "type": "choropleth"
           }
          ],
          "contour": [
           {
            "colorbar": {
             "outlinewidth": 0,
             "ticks": ""
            },
            "colorscale": [
             [
              0,
              "#0d0887"
             ],
             [
              0.1111111111111111,
              "#46039f"
             ],
             [
              0.2222222222222222,
              "#7201a8"
             ],
             [
              0.3333333333333333,
              "#9c179e"
             ],
             [
              0.4444444444444444,
              "#bd3786"
             ],
             [
              0.5555555555555556,
              "#d8576b"
             ],
             [
              0.6666666666666666,
              "#ed7953"
             ],
             [
              0.7777777777777778,
              "#fb9f3a"
             ],
             [
              0.8888888888888888,
              "#fdca26"
             ],
             [
              1,
              "#f0f921"
             ]
            ],
            "type": "contour"
           }
          ],
          "contourcarpet": [
           {
            "colorbar": {
             "outlinewidth": 0,
             "ticks": ""
            },
            "type": "contourcarpet"
           }
          ],
          "heatmap": [
           {
            "colorbar": {
             "outlinewidth": 0,
             "ticks": ""
            },
            "colorscale": [
             [
              0,
              "#0d0887"
             ],
             [
              0.1111111111111111,
              "#46039f"
             ],
             [
              0.2222222222222222,
              "#7201a8"
             ],
             [
              0.3333333333333333,
              "#9c179e"
             ],
             [
              0.4444444444444444,
              "#bd3786"
             ],
             [
              0.5555555555555556,
              "#d8576b"
             ],
             [
              0.6666666666666666,
              "#ed7953"
             ],
             [
              0.7777777777777778,
              "#fb9f3a"
             ],
             [
              0.8888888888888888,
              "#fdca26"
             ],
             [
              1,
              "#f0f921"
             ]
            ],
            "type": "heatmap"
           }
          ],
          "histogram": [
           {
            "marker": {
             "pattern": {
              "fillmode": "overlay",
              "size": 10,
              "solidity": 0.2
             }
            },
            "type": "histogram"
           }
          ],
          "histogram2d": [
           {
            "colorbar": {
             "outlinewidth": 0,
             "ticks": ""
            },
            "colorscale": [
             [
              0,
              "#0d0887"
             ],
             [
              0.1111111111111111,
              "#46039f"
             ],
             [
              0.2222222222222222,
              "#7201a8"
             ],
             [
              0.3333333333333333,
              "#9c179e"
             ],
             [
              0.4444444444444444,
              "#bd3786"
             ],
             [
              0.5555555555555556,
              "#d8576b"
             ],
             [
              0.6666666666666666,
              "#ed7953"
             ],
             [
              0.7777777777777778,
              "#fb9f3a"
             ],
             [
              0.8888888888888888,
              "#fdca26"
             ],
             [
              1,
              "#f0f921"
             ]
            ],
            "type": "histogram2d"
           }
          ],
          "histogram2dcontour": [
           {
            "colorbar": {
             "outlinewidth": 0,
             "ticks": ""
            },
            "colorscale": [
             [
              0,
              "#0d0887"
             ],
             [
              0.1111111111111111,
              "#46039f"
             ],
             [
              0.2222222222222222,
              "#7201a8"
             ],
             [
              0.3333333333333333,
              "#9c179e"
             ],
             [
              0.4444444444444444,
              "#bd3786"
             ],
             [
              0.5555555555555556,
              "#d8576b"
             ],
             [
              0.6666666666666666,
              "#ed7953"
             ],
             [
              0.7777777777777778,
              "#fb9f3a"
             ],
             [
              0.8888888888888888,
              "#fdca26"
             ],
             [
              1,
              "#f0f921"
             ]
            ],
            "type": "histogram2dcontour"
           }
          ],
          "mesh3d": [
           {
            "colorbar": {
             "outlinewidth": 0,
             "ticks": ""
            },
            "type": "mesh3d"
           }
          ],
          "parcoords": [
           {
            "line": {
             "colorbar": {
              "outlinewidth": 0,
              "ticks": ""
             }
            },
            "type": "parcoords"
           }
          ],
          "pie": [
           {
            "automargin": true,
            "type": "pie"
           }
          ],
          "scatter": [
           {
            "fillpattern": {
             "fillmode": "overlay",
             "size": 10,
             "solidity": 0.2
            },
            "type": "scatter"
           }
          ],
          "scatter3d": [
           {
            "line": {
             "colorbar": {
              "outlinewidth": 0,
              "ticks": ""
             }
            },
            "marker": {
             "colorbar": {
              "outlinewidth": 0,
              "ticks": ""
             }
            },
            "type": "scatter3d"
           }
          ],
          "scattercarpet": [
           {
            "marker": {
             "colorbar": {
              "outlinewidth": 0,
              "ticks": ""
             }
            },
            "type": "scattercarpet"
           }
          ],
          "scattergeo": [
           {
            "marker": {
             "colorbar": {
              "outlinewidth": 0,
              "ticks": ""
             }
            },
            "type": "scattergeo"
           }
          ],
          "scattergl": [
           {
            "marker": {
             "colorbar": {
              "outlinewidth": 0,
              "ticks": ""
             }
            },
            "type": "scattergl"
           }
          ],
          "scattermap": [
           {
            "marker": {
             "colorbar": {
              "outlinewidth": 0,
              "ticks": ""
             }
            },
            "type": "scattermap"
           }
          ],
          "scattermapbox": [
           {
            "marker": {
             "colorbar": {
              "outlinewidth": 0,
              "ticks": ""
             }
            },
            "type": "scattermapbox"
           }
          ],
          "scatterpolar": [
           {
            "marker": {
             "colorbar": {
              "outlinewidth": 0,
              "ticks": ""
             }
            },
            "type": "scatterpolar"
           }
          ],
          "scatterpolargl": [
           {
            "marker": {
             "colorbar": {
              "outlinewidth": 0,
              "ticks": ""
             }
            },
            "type": "scatterpolargl"
           }
          ],
          "scatterternary": [
           {
            "marker": {
             "colorbar": {
              "outlinewidth": 0,
              "ticks": ""
             }
            },
            "type": "scatterternary"
           }
          ],
          "surface": [
           {
            "colorbar": {
             "outlinewidth": 0,
             "ticks": ""
            },
            "colorscale": [
             [
              0,
              "#0d0887"
             ],
             [
              0.1111111111111111,
              "#46039f"
             ],
             [
              0.2222222222222222,
              "#7201a8"
             ],
             [
              0.3333333333333333,
              "#9c179e"
             ],
             [
              0.4444444444444444,
              "#bd3786"
             ],
             [
              0.5555555555555556,
              "#d8576b"
             ],
             [
              0.6666666666666666,
              "#ed7953"
             ],
             [
              0.7777777777777778,
              "#fb9f3a"
             ],
             [
              0.8888888888888888,
              "#fdca26"
             ],
             [
              1,
              "#f0f921"
             ]
            ],
            "type": "surface"
           }
          ],
          "table": [
           {
            "cells": {
             "fill": {
              "color": "#EBF0F8"
             },
             "line": {
              "color": "white"
             }
            },
            "header": {
             "fill": {
              "color": "#C8D4E3"
             },
             "line": {
              "color": "white"
             }
            },
            "type": "table"
           }
          ]
         },
         "layout": {
          "annotationdefaults": {
           "arrowcolor": "#2a3f5f",
           "arrowhead": 0,
           "arrowwidth": 1
          },
          "autotypenumbers": "strict",
          "coloraxis": {
           "colorbar": {
            "outlinewidth": 0,
            "ticks": ""
           }
          },
          "colorscale": {
           "diverging": [
            [
             0,
             "#8e0152"
            ],
            [
             0.1,
             "#c51b7d"
            ],
            [
             0.2,
             "#de77ae"
            ],
            [
             0.3,
             "#f1b6da"
            ],
            [
             0.4,
             "#fde0ef"
            ],
            [
             0.5,
             "#f7f7f7"
            ],
            [
             0.6,
             "#e6f5d0"
            ],
            [
             0.7,
             "#b8e186"
            ],
            [
             0.8,
             "#7fbc41"
            ],
            [
             0.9,
             "#4d9221"
            ],
            [
             1,
             "#276419"
            ]
           ],
           "sequential": [
            [
             0,
             "#0d0887"
            ],
            [
             0.1111111111111111,
             "#46039f"
            ],
            [
             0.2222222222222222,
             "#7201a8"
            ],
            [
             0.3333333333333333,
             "#9c179e"
            ],
            [
             0.4444444444444444,
             "#bd3786"
            ],
            [
             0.5555555555555556,
             "#d8576b"
            ],
            [
             0.6666666666666666,
             "#ed7953"
            ],
            [
             0.7777777777777778,
             "#fb9f3a"
            ],
            [
             0.8888888888888888,
             "#fdca26"
            ],
            [
             1,
             "#f0f921"
            ]
           ],
           "sequentialminus": [
            [
             0,
             "#0d0887"
            ],
            [
             0.1111111111111111,
             "#46039f"
            ],
            [
             0.2222222222222222,
             "#7201a8"
            ],
            [
             0.3333333333333333,
             "#9c179e"
            ],
            [
             0.4444444444444444,
             "#bd3786"
            ],
            [
             0.5555555555555556,
             "#d8576b"
            ],
            [
             0.6666666666666666,
             "#ed7953"
            ],
            [
             0.7777777777777778,
             "#fb9f3a"
            ],
            [
             0.8888888888888888,
             "#fdca26"
            ],
            [
             1,
             "#f0f921"
            ]
           ]
          },
          "colorway": [
           "#636efa",
           "#EF553B",
           "#00cc96",
           "#ab63fa",
           "#FFA15A",
           "#19d3f3",
           "#FF6692",
           "#B6E880",
           "#FF97FF",
           "#FECB52"
          ],
          "font": {
           "color": "#2a3f5f"
          },
          "geo": {
           "bgcolor": "white",
           "lakecolor": "white",
           "landcolor": "#E5ECF6",
           "showlakes": true,
           "showland": true,
           "subunitcolor": "white"
          },
          "hoverlabel": {
           "align": "left"
          },
          "hovermode": "closest",
          "mapbox": {
           "style": "light"
          },
          "paper_bgcolor": "white",
          "plot_bgcolor": "#E5ECF6",
          "polar": {
           "angularaxis": {
            "gridcolor": "white",
            "linecolor": "white",
            "ticks": ""
           },
           "bgcolor": "#E5ECF6",
           "radialaxis": {
            "gridcolor": "white",
            "linecolor": "white",
            "ticks": ""
           }
          },
          "scene": {
           "xaxis": {
            "backgroundcolor": "#E5ECF6",
            "gridcolor": "white",
            "gridwidth": 2,
            "linecolor": "white",
            "showbackground": true,
            "ticks": "",
            "zerolinecolor": "white"
           },
           "yaxis": {
            "backgroundcolor": "#E5ECF6",
            "gridcolor": "white",
            "gridwidth": 2,
            "linecolor": "white",
            "showbackground": true,
            "ticks": "",
            "zerolinecolor": "white"
           },
           "zaxis": {
            "backgroundcolor": "#E5ECF6",
            "gridcolor": "white",
            "gridwidth": 2,
            "linecolor": "white",
            "showbackground": true,
            "ticks": "",
            "zerolinecolor": "white"
           }
          },
          "shapedefaults": {
           "line": {
            "color": "#2a3f5f"
           }
          },
          "ternary": {
           "aaxis": {
            "gridcolor": "white",
            "linecolor": "white",
            "ticks": ""
           },
           "baxis": {
            "gridcolor": "white",
            "linecolor": "white",
            "ticks": ""
           },
           "bgcolor": "#E5ECF6",
           "caxis": {
            "gridcolor": "white",
            "linecolor": "white",
            "ticks": ""
           }
          },
          "title": {
           "x": 0.05
          },
          "xaxis": {
           "automargin": true,
           "gridcolor": "white",
           "linecolor": "white",
           "ticks": "",
           "title": {
            "standoff": 15
           },
           "zerolinecolor": "white",
           "zerolinewidth": 2
          },
          "yaxis": {
           "automargin": true,
           "gridcolor": "white",
           "linecolor": "white",
           "ticks": "",
           "title": {
            "standoff": 15
           },
           "zerolinecolor": "white",
           "zerolinewidth": 2
          }
         }
        },
        "title": {
         "text": "Total number of COVID-19 cases reported by country"
        },
        "width": 1300
       }
      }
     },
     "metadata": {},
     "output_type": "display_data"
    }
   ],
   "source": [
    "import plotly.express as px\n",
    "import pandas as pd\n",
    "\n",
    "file_path = r\"C:\\Users\\MartinPC\\Desktop\\project_1_python.csv\"\n",
    "df = pd.read_csv(file_path)\n",
    "\n",
    "# Kontrola sloupců\n",
    "if all(col in df.columns for col in [\"location\", \"continent\", \"total_cases\", \"population\", \"latitude\", \"longitude\"]):\n",
    "    \n",
    "    df_agg = df.groupby([\"iso_code\", \"location\", \"continent\", \"latitude\", \"longitude\"], as_index=False).agg({\n",
    "        \"total_cases\": \"max\",\n",
    "        \"population\": \"max\"\n",
    "    })\n",
    "\n",
    "    # Přidání nového sloupce - poměr případů k populaci\n",
    "    df_agg[\"cases_per_population\"] = df_agg[\"total_cases\"] / df_agg[\"population\"]\n",
    "    #Oprava chyby s NaN\n",
    "    df_agg = df_agg.dropna(subset=[\"cases_per_population\"])\n",
    "\n",
    "    \n",
    "    fig = px.scatter_mapbox(\n",
    "        df_agg,\n",
    "        lat=\"latitude\",\n",
    "        lon=\"longitude\",\n",
    "        color=\"continent\",  \n",
    "        size=\"cases_per_population\",  \n",
    "        hover_name=\"location\",\n",
    "        hover_data={\"total_cases\": True, \"cases_per_population\": \":.2%\"},  \n",
    "        title=\"Total number of COVID-19 cases reported by country\",\n",
    "        size_max=20,  \n",
    "        zoom=1 \n",
    "    )\n",
    "\n",
    "    #background a velikost grafu\n",
    "    fig.update_layout(\n",
    "        mapbox_style=\"carto-darkmatter\",\n",
    "        width=1300,  \n",
    "        height=600  \n",
    "    )\n",
    "\n",
    "    fig.show()\n",
    "\n"
   ]
  },
  {
   "cell_type": "markdown",
   "metadata": {},
   "source": [
    "<h4><b><span style=\"color:rgb(101, 124, 93)  ;\"> <<<< 5 >>>> <br>Using the plotly and dash libraries, create a dashboard consisting of two visualizations:\n",
    "<ul>\n",
    "  <li>a line chart that shows the cumulative number of COVID-19 cases over time</li>\n",
    "  <li>a line chart that shows the cumulative number of COVID-19 deaths over time</li>\n",
    "</ul>\n",
    "We covered the topic of plotly on the first day of the course, and talked about dash during the third and fourth days.<br>\n",
    "\n",
    "The dashboard should consist of:<br>\n",
    "title that depends on the value of the filter (e.g. Cumulative number of positive cases in {country})\n",
    "title (label) of the filter\n",
    "filter by country, i.e. the user should be able to see charts only for the selected country\n",
    "two visualizations placed side-by-side (in one line).<br>\n",
    "\n",
    "To run the dash application in Google Colab, use the solution presented in the course, based on the threading and google.colab libraries. Use the function that displays the application in a new browser tab.\n",
    "*Hint: in case the application does not want to load, reset the runtime environment and restart all cells with code.</span>"
   ]
  },
  {
   "cell_type": "code",
   "execution_count": 25,
   "metadata": {},
   "outputs": [
    {
     "data": {
      "text/html": [
       "\n",
       "        <iframe\n",
       "            width=\"100%\"\n",
       "            height=\"650\"\n",
       "            src=\"http://127.0.0.1:8050/\"\n",
       "            frameborder=\"0\"\n",
       "            allowfullscreen\n",
       "            \n",
       "        ></iframe>\n",
       "        "
      ],
      "text/plain": [
       "<IPython.lib.display.IFrame at 0x18edc224810>"
      ]
     },
     "metadata": {},
     "output_type": "display_data"
    }
   ],
   "source": [
    "import dash\n",
    "from dash import dcc, html\n",
    "import pandas as pd\n",
    "import plotly.express as px\n",
    "\n",
    "# Načtení CSV souboru\n",
    "file_path = r\"C:\\Users\\MartinPC\\Desktop\\project_1_python.csv\"\n",
    "df = pd.read_csv(file_path)\n",
    "\n",
    "# Převod sloupce 'date' na datetime\n",
    "df[\"date\"] = pd.to_datetime(df[\"date\"])\n",
    "\n",
    "# Agregace dat - kumulativní součty pro celý svět\n",
    "df_world = df.groupby(\"date\", as_index=False).agg({\n",
    "    \"total_cases\": \"sum\",\n",
    "    \"total_deaths\": \"sum\"\n",
    "})\n",
    "\n",
    "# Vytvoření line chartů\n",
    "fig_cases = px.line(\n",
    "    df_world, x=\"date\", y=\"total_cases\",\n",
    "    title=\"Cumulative Number of COVID-19 Cases Over Time\",\n",
    "    labels={\"total_cases\": \"Total Cases\", \"date\": \"Date\"}\n",
    ")\n",
    "\n",
    "fig_deaths = px.line(\n",
    "    df_world, x=\"date\", y=\"total_deaths\",\n",
    "    title=\"Cumulative Number of COVID-19 Deaths Over Time\",\n",
    "    labels={\"total_deaths\": \"Total Deaths\", \"date\": \"Date\"}\n",
    ")\n",
    "\n",
    "# Inicializace Dash aplikace\n",
    "app = dash.Dash(__name__)\n",
    "\n",
    "# Layout dashboardu\n",
    "app.layout = html.Div(children=[\n",
    "    html.H1(\"COVID-19 Dashboard\", style={'textAlign': 'center'}),\n",
    "    \n",
    "    html.Div(children=\"This dashboard shows the cumulative number of COVID-19 cases and deaths over time.\", \n",
    "             style={'textAlign': 'center'}),\n",
    "\n",
    "    dcc.Graph(id=\"cases_chart\", figure=fig_cases),\n",
    "    dcc.Graph(id=\"deaths_chart\", figure=fig_deaths)\n",
    "])\n",
    "\n",
    "# Spuštění aplikace\n",
    "if __name__ == \"__main__\":\n",
    "    app.run_server(debug=True)\n"
   ]
  }
 ],
 "metadata": {
  "kernelspec": {
   "display_name": "Python 3",
   "language": "python",
   "name": "python3"
  },
  "language_info": {
   "codemirror_mode": {
    "name": "ipython",
    "version": 3
   },
   "file_extension": ".py",
   "mimetype": "text/x-python",
   "name": "python",
   "nbconvert_exporter": "python",
   "pygments_lexer": "ipython3",
   "version": "3.11.9"
  }
 },
 "nbformat": 4,
 "nbformat_minor": 2
}
