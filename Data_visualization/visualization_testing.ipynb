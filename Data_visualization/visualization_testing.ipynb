{
 "cells": [
  {
   "cell_type": "markdown",
   "metadata": {},
   "source": [
    "## testing & reapiting of last lection - visualization of data analyse ##"
   ]
  },
  {
   "cell_type": "code",
   "execution_count": 1,
   "metadata": {},
   "outputs": [
    {
     "name": "stdout",
     "output_type": "stream",
     "text": [
      "Requirement already satisfied: dash in c:\\users\\jpawlas\\appdata\\local\\programs\\python\\python313\\lib\\site-packages (2.18.2)\n",
      "Requirement already satisfied: Flask<3.1,>=1.0.4 in c:\\users\\jpawlas\\appdata\\local\\programs\\python\\python313\\lib\\site-packages (from dash) (3.0.3)\n",
      "Requirement already satisfied: Werkzeug<3.1 in c:\\users\\jpawlas\\appdata\\local\\programs\\python\\python313\\lib\\site-packages (from dash) (3.0.6)\n",
      "Requirement already satisfied: plotly>=5.0.0 in c:\\users\\jpawlas\\appdata\\local\\programs\\python\\python313\\lib\\site-packages (from dash) (5.24.1)\n",
      "Requirement already satisfied: dash-html-components==2.0.0 in c:\\users\\jpawlas\\appdata\\local\\programs\\python\\python313\\lib\\site-packages (from dash) (2.0.0)\n",
      "Requirement already satisfied: dash-core-components==2.0.0 in c:\\users\\jpawlas\\appdata\\local\\programs\\python\\python313\\lib\\site-packages (from dash) (2.0.0)\n",
      "Requirement already satisfied: dash-table==5.0.0 in c:\\users\\jpawlas\\appdata\\local\\programs\\python\\python313\\lib\\site-packages (from dash) (5.0.0)\n",
      "Requirement already satisfied: importlib-metadata in c:\\users\\jpawlas\\appdata\\local\\programs\\python\\python313\\lib\\site-packages (from dash) (8.6.1)\n",
      "Requirement already satisfied: typing-extensions>=4.1.1 in c:\\users\\jpawlas\\appdata\\local\\programs\\python\\python313\\lib\\site-packages (from dash) (4.12.2)\n",
      "Requirement already satisfied: requests in c:\\users\\jpawlas\\appdata\\local\\programs\\python\\python313\\lib\\site-packages (from dash) (2.32.3)\n",
      "Requirement already satisfied: retrying in c:\\users\\jpawlas\\appdata\\local\\programs\\python\\python313\\lib\\site-packages (from dash) (1.3.4)\n",
      "Requirement already satisfied: nest-asyncio in c:\\users\\jpawlas\\appdata\\roaming\\python\\python313\\site-packages (from dash) (1.6.0)\n",
      "Requirement already satisfied: setuptools in c:\\users\\jpawlas\\appdata\\local\\programs\\python\\python313\\lib\\site-packages (from dash) (75.8.0)\n",
      "Requirement already satisfied: Jinja2>=3.1.2 in c:\\users\\jpawlas\\appdata\\local\\programs\\python\\python313\\lib\\site-packages (from Flask<3.1,>=1.0.4->dash) (3.1.5)\n",
      "Requirement already satisfied: itsdangerous>=2.1.2 in c:\\users\\jpawlas\\appdata\\local\\programs\\python\\python313\\lib\\site-packages (from Flask<3.1,>=1.0.4->dash) (2.2.0)\n",
      "Requirement already satisfied: click>=8.1.3 in c:\\users\\jpawlas\\appdata\\local\\programs\\python\\python313\\lib\\site-packages (from Flask<3.1,>=1.0.4->dash) (8.1.8)\n",
      "Requirement already satisfied: blinker>=1.6.2 in c:\\users\\jpawlas\\appdata\\local\\programs\\python\\python313\\lib\\site-packages (from Flask<3.1,>=1.0.4->dash) (1.9.0)\n",
      "Requirement already satisfied: tenacity>=6.2.0 in c:\\users\\jpawlas\\appdata\\local\\programs\\python\\python313\\lib\\site-packages (from plotly>=5.0.0->dash) (9.0.0)\n",
      "Requirement already satisfied: packaging in c:\\users\\jpawlas\\appdata\\roaming\\python\\python313\\site-packages (from plotly>=5.0.0->dash) (24.2)\n",
      "Requirement already satisfied: MarkupSafe>=2.1.1 in c:\\users\\jpawlas\\appdata\\local\\programs\\python\\python313\\lib\\site-packages (from Werkzeug<3.1->dash) (3.0.2)\n",
      "Requirement already satisfied: zipp>=3.20 in c:\\users\\jpawlas\\appdata\\local\\programs\\python\\python313\\lib\\site-packages (from importlib-metadata->dash) (3.21.0)\n",
      "Requirement already satisfied: charset-normalizer<4,>=2 in c:\\users\\jpawlas\\appdata\\local\\programs\\python\\python313\\lib\\site-packages (from requests->dash) (3.4.1)\n",
      "Requirement already satisfied: idna<4,>=2.5 in c:\\users\\jpawlas\\appdata\\local\\programs\\python\\python313\\lib\\site-packages (from requests->dash) (3.10)\n",
      "Requirement already satisfied: urllib3<3,>=1.21.1 in c:\\users\\jpawlas\\appdata\\local\\programs\\python\\python313\\lib\\site-packages (from requests->dash) (2.3.0)\n",
      "Requirement already satisfied: certifi>=2017.4.17 in c:\\users\\jpawlas\\appdata\\local\\programs\\python\\python313\\lib\\site-packages (from requests->dash) (2024.12.14)\n",
      "Requirement already satisfied: six>=1.7.0 in c:\\users\\jpawlas\\appdata\\roaming\\python\\python313\\site-packages (from retrying->dash) (1.17.0)\n",
      "Requirement already satisfied: colorama in c:\\users\\jpawlas\\appdata\\roaming\\python\\python313\\site-packages (from click>=8.1.3->Flask<3.1,>=1.0.4->dash) (0.4.6)\n",
      "Note: you may need to restart the kernel to use updated packages.\n"
     ]
    }
   ],
   "source": [
    "pip install dash"
   ]
  },
  {
   "cell_type": "code",
   "execution_count": 4,
   "metadata": {},
   "outputs": [
    {
     "ename": "NameError",
     "evalue": "name 'Dash' is not defined",
     "output_type": "error",
     "traceback": [
      "\u001b[1;31m---------------------------------------------------------------------------\u001b[0m",
      "\u001b[1;31mNameError\u001b[0m                                 Traceback (most recent call last)",
      "Cell \u001b[1;32mIn[4], line 2\u001b[0m\n\u001b[0;32m      1\u001b[0m \u001b[38;5;28;01mfrom\u001b[39;00m\u001b[38;5;250m \u001b[39m\u001b[38;5;21;01mdash\u001b[39;00m\u001b[38;5;250m \u001b[39m\u001b[38;5;28;01mimport\u001b[39;00m dash, html, dcc\n\u001b[1;32m----> 2\u001b[0m app \u001b[38;5;241m=\u001b[39m \u001b[43mDash\u001b[49m()\n",
      "\u001b[1;31mNameError\u001b[0m: name 'Dash' is not defined"
     ]
    }
   ],
   "source": [
    "from dash import dash, html, dcc\n",
    "app = Dash()"
   ]
  },
  {
   "cell_type": "code",
   "execution_count": 35,
   "metadata": {},
   "outputs": [
    {
     "data": {
      "text/html": [
       "\n",
       "        <iframe\n",
       "            width=\"100%\"\n",
       "            height=\"650\"\n",
       "            src=\"http://127.0.0.1:8050/\"\n",
       "            frameborder=\"0\"\n",
       "            allowfullscreen\n",
       "            \n",
       "        ></iframe>\n",
       "        "
      ],
      "text/plain": [
       "<IPython.lib.display.IFrame at 0x288528acaa0>"
      ]
     },
     "metadata": {},
     "output_type": "display_data"
    }
   ],
   "source": [
    "from dash import Dash, html, dcc\n",
    "import plotly.graph_objs as go\n",
    "import numpy as np\n",
    "\n",
    "app = Dash()\n",
    "\n",
    "data = [\n",
    "    go.Scatter(\n",
    "        x=[865, 975, 1523, 2840, 7524, 21540],  # Souřadnice na ose X\n",
    "        y=[2000, 2001, 2002, 2003, 2004, 2005],  # Souřadnice na ose Y\n",
    "        mode='lines+markers',  # 'lines' pro spojnice, 'markers' pro body\n",
    "        name='Čára se značkami'\n",
    "    )\n",
    "]\n",
    "\n",
    "x = np.array([5,7,8,7,2,17,2,9,4,11,12,9,6])\n",
    "y = np.array([99,86,87,88,111,86,103,87,94,78,77,85,86])\n",
    "colors = np.array([\"red\",\"green\",\"blue\",\"yellow\",\"pink\",\"black\",\"orange\",\"purple\",\"beige\",\"brown\",\"gray\",\"cyan\",\"magenta\"])\n",
    "\n",
    "\n",
    "# Layout aplikace\n",
    "app.layout = html.Div([\n",
    "    html.H1(\"Carbon emission\"),\n",
    "    dcc.Graph(\n",
    "        id='graf',\n",
    "        figure={\n",
    "            'data': data,\n",
    "            'layout': go.Layout(\n",
    "                title='Carbon emission',\n",
    "                xaxis={'title': 'množství CO2'},\n",
    "                yaxis={'title': 'rok'}\n",
    "            )\n",
    "        }\n",
    "    )\n",
    "])\n",
    "\n",
    "# Spuštění aplikace\n",
    "if __name__ == \"__main__\":\n",
    "    app.run_server(debug=True)"
   ]
  },
  {
   "cell_type": "code",
   "execution_count": 40,
   "metadata": {},
   "outputs": [
    {
     "data": {
      "text/html": [
       "\n",
       "        <iframe\n",
       "            width=\"100%\"\n",
       "            height=\"650\"\n",
       "            src=\"http://127.0.0.1:8050/\"\n",
       "            frameborder=\"0\"\n",
       "            allowfullscreen\n",
       "            \n",
       "        ></iframe>\n",
       "        "
      ],
      "text/plain": [
       "<IPython.lib.display.IFrame at 0x28854fe3af0>"
      ]
     },
     "metadata": {},
     "output_type": "display_data"
    }
   ],
   "source": [
    "import dash\n",
    "from dash import dcc, html\n",
    "from dash.dependencies import Input, Output\n",
    "import plotly.express as px\n",
    "import pandas as pd\n",
    "import numpy as np\n",
    "\n",
    "# Generate sample data\n",
    "np.random.seed(42)\n",
    "df = pd.DataFrame({\n",
    "    \"x\": np.random.rand(100),\n",
    "    \"y\": np.random.rand(100),\n",
    "    \"category\": np.random.choice(['A', 'B', 'C'], size=100)\n",
    "})\n",
    "\n",
    "# Create the scatter plot\n",
    "scatter_fig = px.scatter(\n",
    "    df,\n",
    "    x=\"x\",\n",
    "    y=\"y\",\n",
    "    color=\"category\",\n",
    "    title=\"Scatter Plot with Rectangular Selection\"\n",
    ")\n",
    "\n",
    "# Set default selection mode to 'rect'\n",
    "scatter_fig.update_layout(dragmode='select')  # Enables rectangular selection mode\n",
    "scatter_fig.update_traces(marker=dict(size=10), selector=dict(mode='markers'))\n",
    "\n",
    "# Initialize the Dash app\n",
    "app = dash.Dash(__name__)\n",
    "\n",
    "# Define the layout\n",
    "app.layout = html.Div([\n",
    "    html.H1(\"Scatter Plot with Rectangular Selection\"),\n",
    "    dcc.Graph(\n",
    "        id=\"scatter-plot\",\n",
    "        figure=scatter_fig,\n",
    "        config={'scrollZoom': True}  # Enables zooming functionality\n",
    "    ),\n",
    "    html.Div(id=\"selected-data\")\n",
    "])\n",
    "\n",
    "# Callback to display selected points\n",
    "@app.callback(\n",
    "    Output(\"selected-data\", \"children\"),\n",
    "    Input(\"scatter-plot\", \"selectedData\")\n",
    ")\n",
    "def display_selected_data(selected_data):\n",
    "    if not selected_data:\n",
    "        return \"No points selected.\"\n",
    "    else:\n",
    "        points = selected_data[\"points\"]\n",
    "        num_points = len(points)\n",
    "        return f\"{num_points} points selected. Here are the indices: {[point['pointIndex'] for point in points]}\"\n",
    "\n",
    "# Run the app\n",
    "if __name__ == \"__main__\":\n",
    "    app.run_server(debug=True)"
   ]
  },
  {
   "cell_type": "code",
   "execution_count": 54,
   "metadata": {},
   "outputs": [
    {
     "data": {
      "text/html": [
       "\n",
       "        <iframe\n",
       "            width=\"100%\"\n",
       "            height=\"650\"\n",
       "            src=\"http://127.0.0.1:8050/\"\n",
       "            frameborder=\"0\"\n",
       "            allowfullscreen\n",
       "            \n",
       "        ></iframe>\n",
       "        "
      ],
      "text/plain": [
       "<IPython.lib.display.IFrame at 0x2885535d270>"
      ]
     },
     "metadata": {},
     "output_type": "display_data"
    }
   ],
   "source": [
    "from dash import Dash, html, dcc\n",
    "\n",
    "# Inicializace aplikace\n",
    "app = Dash()\n",
    "\n",
    "# Layout aplikace\n",
    "app.layout = html.Div([\n",
    "    html.H1(\"Zjednodušený posuvník\"),\n",
    "    dcc.Slider(\n",
    "        id='my-slider',\n",
    "        min=0,\n",
    "        max=200,\n",
    "        step=5,\n",
    "        value=50,\n",
    "        marks={i: str(i) for i in range(0, 101, 20)},  # Popisky na slideru\n",
    "        tooltip={\"placement\": \"bottom\", \"always_visible\": True}  # Viditelný tooltip\n",
    "    )\n",
    "])\n",
    "\n",
    "app.layout = html.Div([\n",
    "    html.H1(\"Zjednodušený posuvník\"),\n",
    "    dcc.Slider(\n",
    "        id='my-slider',\n",
    "        min=0,\n",
    "        max=100,\n",
    "        step=5,\n",
    "        value=50,\n",
    "        marks={i: str(i) for i in range(0, 101, 20)},  # Popisky na slideru\n",
    "        tooltip={\"placement\": \"bottom\", \"always_visible\": True}  # Viditelný tooltip\n",
    "    )\n",
    "])\n",
    "\n",
    "# Spuštění aplikace\n",
    "if __name__ == \"__main__\":\n",
    "    app.run_server(debug=True)\n"
   ]
  },
  {
   "cell_type": "code",
   "execution_count": 56,
   "metadata": {},
   "outputs": [
    {
     "data": {
      "text/html": [
       "\n",
       "        <iframe\n",
       "            width=\"100%\"\n",
       "            height=\"650\"\n",
       "            src=\"http://127.0.0.1:8050/\"\n",
       "            frameborder=\"0\"\n",
       "            allowfullscreen\n",
       "            \n",
       "        ></iframe>\n",
       "        "
      ],
      "text/plain": [
       "<IPython.lib.display.IFrame at 0x288553192e0>"
      ]
     },
     "metadata": {},
     "output_type": "display_data"
    }
   ],
   "source": [
    "from dash import Dash, html, dcc, callback, Output, Input\n",
    "import plotly.express as px\n",
    "import pandas as pd\n",
    "\n",
    "df = pd.read_csv('https://raw.githubusercontent.com/plotly/datasets/master/gapminder_unfiltered.csv')\n",
    "\n",
    "app = Dash()\n",
    "\n",
    "app.layout = [\n",
    "    html.H1(children='vývoj populace', style={'textAlign':'center'}),\n",
    "    dcc.Dropdown(df.country.unique(), 'Canada', id='dropdown-selection'),\n",
    "    dcc.Graph(id='graph-content')\n",
    "]\n",
    "\n",
    "@callback(\n",
    "    Output('graph-content', 'figure'),\n",
    "    Input('dropdown-selection', 'value')\n",
    ")\n",
    "def update_graph(value):\n",
    "    dff = df[df.country==value]\n",
    "    return px.line(dff, x='year', y='pop')\n",
    "\n",
    "if __name__ == '__main__':\n",
    "    app.run(debug=True)"
   ]
  }
 ],
 "metadata": {
  "kernelspec": {
   "display_name": "Python 3",
   "language": "python",
   "name": "python3"
  },
  "language_info": {
   "codemirror_mode": {
    "name": "ipython",
    "version": 3
   },
   "file_extension": ".py",
   "mimetype": "text/x-python",
   "name": "python",
   "nbconvert_exporter": "python",
   "pygments_lexer": "ipython3",
   "version": "3.13.1"
  }
 },
 "nbformat": 4,
 "nbformat_minor": 2
}
