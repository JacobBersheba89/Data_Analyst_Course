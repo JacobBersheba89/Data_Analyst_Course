{
 "cells": [
  {
   "cell_type": "markdown",
   "metadata": {},
   "source": [
    "<h1>visualization of <big><big><span style=\"color: lightblue;\"> dash </span>"
   ]
  },
  {
   "cell_type": "code",
   "execution_count": null,
   "metadata": {},
   "outputs": [],
   "source": [
    "import dash\n",
    "from dash import dcc, html\n",
    "from dash.dependencies import Input, Output"
   ]
  },
  {
   "cell_type": "code",
   "execution_count": 1,
   "metadata": {},
   "outputs": [
    {
     "name": "stdout",
     "output_type": "stream",
     "text": [
      "['__all__', '__builtins__', '__cached__', '__doc__', '__file__', '__loader__', '__name__', '__package__', '__path__', '__spec__', 'carshare', 'election', 'election_geojson', 'experiment', 'gapminder', 'iris', 'medals_long', 'medals_wide', 'stocks', 'tips', 'wind']\n"
     ]
    }
   ],
   "source": [
    "import plotly.express as px\n",
    "\n",
    "# Zobrazení dostupných datových sad\n",
    "datasets = dir(px.data)\n",
    "print(datasets)"
   ]
  },
  {
   "cell_type": "markdown",
   "metadata": {},
   "source": [
    "## First application in Dash ##\n",
    "Install the dash library. Import the necessary modules from the library (dcc, html).\n",
    "Import the plotly.express library.\n",
    "Import modules and libraries needed to display a chart in Colab.\n",
    "Assign the iris dataset from the plotly.express library to the df variable.\n",
    "Use the plotly.express library to create a scatter plot. Visualize the relationship between the sepal length and sepal width. Adjust the appearance of the chart to give a different color to each of the species.\n",
    "Create an app object based on the Dash class.\n",
    "Create an application template consisting of:\n",
    "H1 header with the content: \"Hello dash\"\n",
    "H3 header with the content: \"Dash: A web application framework for Python.\"\n",
    "a Graph object to which you will pass the chart created in step 5. Pass any object identifier to the argument named id.\n",
    "Use the threading library and output class from colab.google to display the chart in the Colab notebook.\n",
    "Good luck!"
   ]
  },
  {
   "cell_type": "code",
   "execution_count": 3,
   "metadata": {},
   "outputs": [
    {
     "name": "stdout",
     "output_type": "stream",
     "text": [
      "Requirement already satisfied: dash in c:\\users\\martinpc\\anaconda3\\lib\\site-packages (2.18.2)\n",
      "Requirement already satisfied: Flask<3.1,>=1.0.4 in c:\\users\\martinpc\\anaconda3\\lib\\site-packages (from dash) (3.0.3)\n",
      "Requirement already satisfied: Werkzeug<3.1 in c:\\users\\martinpc\\anaconda3\\lib\\site-packages (from dash) (3.0.3)\n",
      "Requirement already satisfied: plotly>=5.0.0 in c:\\users\\martinpc\\anaconda3\\lib\\site-packages (from dash) (5.22.0)\n",
      "Requirement already satisfied: dash-html-components==2.0.0 in c:\\users\\martinpc\\anaconda3\\lib\\site-packages (from dash) (2.0.0)\n",
      "Requirement already satisfied: dash-core-components==2.0.0 in c:\\users\\martinpc\\anaconda3\\lib\\site-packages (from dash) (2.0.0)\n",
      "Requirement already satisfied: dash-table==5.0.0 in c:\\users\\martinpc\\anaconda3\\lib\\site-packages (from dash) (5.0.0)\n",
      "Requirement already satisfied: importlib-metadata in c:\\users\\martinpc\\anaconda3\\lib\\site-packages (from dash) (7.0.1)\n",
      "Requirement already satisfied: typing-extensions>=4.1.1 in c:\\users\\martinpc\\anaconda3\\lib\\site-packages (from dash) (4.12.1)\n",
      "Requirement already satisfied: requests in c:\\users\\martinpc\\anaconda3\\lib\\site-packages (from dash) (2.32.3)\n",
      "Requirement already satisfied: retrying in c:\\users\\martinpc\\anaconda3\\lib\\site-packages (from dash) (1.3.4)\n",
      "Requirement already satisfied: nest-asyncio in c:\\users\\martinpc\\anaconda3\\lib\\site-packages (from dash) (1.6.0)\n",
      "Requirement already satisfied: setuptools in c:\\users\\martinpc\\anaconda3\\lib\\site-packages (from dash) (69.5.1)\n",
      "Requirement already satisfied: Jinja2>=3.1.2 in c:\\users\\martinpc\\anaconda3\\lib\\site-packages (from Flask<3.1,>=1.0.4->dash) (3.1.4)\n",
      "Requirement already satisfied: itsdangerous>=2.1.2 in c:\\users\\martinpc\\anaconda3\\lib\\site-packages (from Flask<3.1,>=1.0.4->dash) (2.2.0)\n",
      "Requirement already satisfied: click>=8.1.3 in c:\\users\\martinpc\\anaconda3\\lib\\site-packages (from Flask<3.1,>=1.0.4->dash) (8.1.7)\n",
      "Requirement already satisfied: blinker>=1.6.2 in c:\\users\\martinpc\\anaconda3\\lib\\site-packages (from Flask<3.1,>=1.0.4->dash) (1.6.2)\n",
      "Requirement already satisfied: tenacity>=6.2.0 in c:\\users\\martinpc\\anaconda3\\lib\\site-packages (from plotly>=5.0.0->dash) (8.2.2)\n",
      "Requirement already satisfied: packaging in c:\\users\\martinpc\\anaconda3\\lib\\site-packages (from plotly>=5.0.0->dash) (24.0)\n",
      "Requirement already satisfied: MarkupSafe>=2.1.1 in c:\\users\\martinpc\\anaconda3\\lib\\site-packages (from Werkzeug<3.1->dash) (2.1.5)\n",
      "Requirement already satisfied: zipp>=0.5 in c:\\users\\martinpc\\anaconda3\\lib\\site-packages (from importlib-metadata->dash) (3.17.0)\n",
      "Requirement already satisfied: charset-normalizer<4,>=2 in c:\\users\\martinpc\\anaconda3\\lib\\site-packages (from requests->dash) (3.3.2)\n",
      "Requirement already satisfied: idna<4,>=2.5 in c:\\users\\martinpc\\anaconda3\\lib\\site-packages (from requests->dash) (3.7)\n",
      "Requirement already satisfied: urllib3<3,>=1.21.1 in c:\\users\\martinpc\\anaconda3\\lib\\site-packages (from requests->dash) (2.2.1)\n",
      "Requirement already satisfied: certifi>=2017.4.17 in c:\\users\\martinpc\\anaconda3\\lib\\site-packages (from requests->dash) (2024.6.2)\n",
      "Requirement already satisfied: six>=1.7.0 in c:\\users\\martinpc\\anaconda3\\lib\\site-packages (from retrying->dash) (1.16.0)\n",
      "Requirement already satisfied: colorama in c:\\users\\martinpc\\anaconda3\\lib\\site-packages (from click>=8.1.3->Flask<3.1,>=1.0.4->dash) (0.4.6)\n",
      "Note: you may need to restart the kernel to use updated packages.\n"
     ]
    }
   ],
   "source": [
    "pip install dash"
   ]
  },
  {
   "cell_type": "code",
   "execution_count": 6,
   "metadata": {},
   "outputs": [
    {
     "ename": "SyntaxError",
     "evalue": "invalid syntax. Perhaps you forgot a comma? (1506485910.py, line 13)",
     "output_type": "error",
     "traceback": [
      "\u001b[1;36m  Cell \u001b[1;32mIn[6], line 13\u001b[1;36m\u001b[0m\n\u001b[1;33m    x = \"osa_x\"\u001b[0m\n\u001b[1;37m        ^\u001b[0m\n\u001b[1;31mSyntaxError\u001b[0m\u001b[1;31m:\u001b[0m invalid syntax. Perhaps you forgot a comma?\n"
     ]
    }
   ],
   "source": [
    "import plotly.express as px\n",
    "import threading\n",
    "from dash import Dash, dcc, html\n",
    "from dash.dependencies import Input, Output\n",
    "\n",
    "# load dataset IRIS\n",
    "df = px.data.iris()\n",
    "\n",
    "#creat scatter plot\n",
    "fig = px.data.scatter(\n",
    "    df,\n",
    "    x = \"osa_x\"\n",
    "    y = \"osa_y\"\n",
    "    color = \"species\"\n",
    "    title = \"Scatter plot of...\"\n",
    "    label = {}\n",
    ")\n",
    "\n",
    "# initialize Dash app\n",
    "app = dash.Dash()\n",
    "\n",
    "# tvoření divu\n",
    "app.layout = html.Div([\n",
    "    html.H1(\"Hello dash\"),\n",
    "    html.H3(\"Dash: A web application framework for Python.\"),\n",
    "    dcc.Dropdown(\n",
    "        id=\"template-dropdown\",\n",
    "        options=[\n",
    "            {\"label\": \"Plotly\", \"value\": \"Plotly\"}\n",
    "            {\"label\": \"Plotly\", \"value\": \"Plotly\"}\n",
    "            {\"label\": \"Plotly\", \"value\": \"Plotly\"}\n",
    "            ],\n",
    "        value=\"setosa\",  \n",
    "        clearable=False\n",
    "    ),\n",
    "    dcc.Graph(id=\"scatter-plot\")  \n",
    "])\n",
    "\n",
    "\n",
    "@app.callback(\n",
    "    Output(\"scatter-plot\", \"figure\"),  \n",
    "    [Input(\"species-dropdown\", \"value\")]  \n",
    ")\n",
    "def update_graph(selected_species):\n",
    "   \n",
    "    filtered_df = df[df[\"species\"] == selected_species]\n",
    "    \n",
    "    # Create a scatter plot \n",
    "    fig = px.scatter(\n",
    "        filtered_df,\n",
    "        x=\"sepal_width\",\n",
    "        y=\"sepal_length\",\n",
    "        color=\"species\",\n",
    "        title=f\"Sepal Width vs Sepal Length for {selected_species}\",\n",
    "        labels={\"sepal_width\": \"Sepal Width\", \"sepal_length\": \"Sepal Length\"},\n",
    "    )\n",
    "    return fig\n",
    "\n",
    "\n",
    "if __name__ == \"__main__\":\n",
    "    app.run_server(debug=True)"
   ]
  },
  {
   "cell_type": "code",
   "execution_count": 8,
   "metadata": {},
   "outputs": [
    {
     "name": "stdout",
     "output_type": "stream",
     "text": [
      "['setosa' 'versicolor' 'virginica']\n"
     ]
    }
   ],
   "source": [
    "import pandas as pd\n",
    "\n",
    "# Příklad datasetu\n",
    "df = pd.DataFrame({\n",
    "    \"species\": [\"setosa\", \"versicolor\", \"virginica\", \"setosa\"],\n",
    "    \"sepal_length\": [5.1, 7.0, 6.3, 4.9]\n",
    "})\n",
    "\n",
    "# Unikátní hodnoty ve sloupci \"species\"\n",
    "unique_values = df[\"species\"].unique()\n",
    "print(unique_values)"
   ]
  },
  {
   "cell_type": "code",
   "execution_count": 10,
   "metadata": {},
   "outputs": [
    {
     "ename": "TypeError",
     "evalue": "scatter() got an unexpected keyword argument 'label'",
     "output_type": "error",
     "traceback": [
      "\u001b[1;31m---------------------------------------------------------------------------\u001b[0m",
      "\u001b[1;31mTypeError\u001b[0m                                 Traceback (most recent call last)",
      "Cell \u001b[1;32mIn[10], line 10\u001b[0m\n\u001b[0;32m      7\u001b[0m df \u001b[38;5;241m=\u001b[39m px\u001b[38;5;241m.\u001b[39mdata\u001b[38;5;241m.\u001b[39miris()\n\u001b[0;32m      9\u001b[0m \u001b[38;5;66;03m#create a scatter plot\u001b[39;00m\n\u001b[1;32m---> 10\u001b[0m fig \u001b[38;5;241m=\u001b[39m \u001b[43mpx\u001b[49m\u001b[38;5;241;43m.\u001b[39;49m\u001b[43mscatter\u001b[49m\u001b[43m(\u001b[49m\n\u001b[0;32m     11\u001b[0m \u001b[43m    \u001b[49m\u001b[43mdf\u001b[49m\u001b[43m,\u001b[49m\u001b[43m \u001b[49m\n\u001b[0;32m     12\u001b[0m \u001b[43m    \u001b[49m\u001b[43mx\u001b[49m\u001b[43m \u001b[49m\u001b[38;5;241;43m=\u001b[39;49m\u001b[43m \u001b[49m\u001b[38;5;124;43m\"\u001b[39;49m\u001b[38;5;124;43msepal_width\u001b[39;49m\u001b[38;5;124;43m\"\u001b[39;49m\u001b[43m,\u001b[49m\n\u001b[0;32m     13\u001b[0m \u001b[43m    \u001b[49m\u001b[43my\u001b[49m\u001b[43m \u001b[49m\u001b[38;5;241;43m=\u001b[39;49m\u001b[43m \u001b[49m\u001b[38;5;124;43m\"\u001b[39;49m\u001b[38;5;124;43msepal_length\u001b[39;49m\u001b[38;5;124;43m\"\u001b[39;49m\u001b[43m,\u001b[49m\n\u001b[0;32m     14\u001b[0m \u001b[43m    \u001b[49m\u001b[43mcolor\u001b[49m\u001b[43m \u001b[49m\u001b[38;5;241;43m=\u001b[39;49m\u001b[43m \u001b[49m\u001b[38;5;124;43m\"\u001b[39;49m\u001b[38;5;124;43mspecies\u001b[39;49m\u001b[38;5;124;43m\"\u001b[39;49m\u001b[43m,\u001b[49m\n\u001b[0;32m     15\u001b[0m \u001b[43m    \u001b[49m\u001b[43mtitle\u001b[49m\u001b[43m \u001b[49m\u001b[38;5;241;43m=\u001b[39;49m\u001b[43m \u001b[49m\u001b[38;5;124;43m\"\u001b[39;49m\u001b[38;5;124;43mScatter plot of Sepal Width and Sepal Length\u001b[39;49m\u001b[38;5;124;43m\"\u001b[39;49m\u001b[43m,\u001b[49m\n\u001b[0;32m     16\u001b[0m \u001b[43m    \u001b[49m\u001b[43mlabel\u001b[49m\u001b[43m \u001b[49m\u001b[38;5;241;43m=\u001b[39;49m\u001b[43m \u001b[49m\u001b[43m{\u001b[49m\u001b[38;5;124;43m\"\u001b[39;49m\u001b[38;5;124;43msepal_width\u001b[39;49m\u001b[38;5;124;43m\"\u001b[39;49m\u001b[43m:\u001b[49m\u001b[43m \u001b[49m\u001b[38;5;124;43m\"\u001b[39;49m\u001b[38;5;124;43mSepal Width\u001b[39;49m\u001b[38;5;124;43m\"\u001b[39;49m\u001b[43m,\u001b[49m\u001b[43m \u001b[49m\u001b[38;5;124;43m\"\u001b[39;49m\u001b[38;5;124;43msepal_length\u001b[39;49m\u001b[38;5;124;43m\"\u001b[39;49m\u001b[43m:\u001b[49m\u001b[43m \u001b[49m\u001b[38;5;124;43m\"\u001b[39;49m\u001b[38;5;124;43mSepal Length\u001b[39;49m\u001b[38;5;124;43m\"\u001b[39;49m\u001b[43m}\u001b[49m\n\u001b[0;32m     17\u001b[0m \u001b[43m)\u001b[49m\n\u001b[0;32m     19\u001b[0m \u001b[38;5;66;03m#initialize the Dash app\u001b[39;00m\n\u001b[0;32m     20\u001b[0m app \u001b[38;5;241m=\u001b[39m dash\u001b[38;5;241m.\u001b[39mDash(\u001b[38;5;18m__name__\u001b[39m)\n",
      "\u001b[1;31mTypeError\u001b[0m: scatter() got an unexpected keyword argument 'label'"
     ]
    }
   ],
   "source": [
    "import dash\n",
    "from dash import dcc, html, Input, Output\n",
    "import plotly.express as px\n",
    "import threading \n",
    "\n",
    "#load the iris dataset\n",
    "df = px.data.iris()\n",
    "\n",
    "#create a scatter plot\n",
    "fig = px.scatter(\n",
    "    df, \n",
    "    x = \"sepal_width\",\n",
    "    y = \"sepal_length\",\n",
    "    color = \"species\",\n",
    "    title = \"Scatter plot of Sepal Width and Sepal Length\",\n",
    "    label = {\"sepal_width\": \"Sepal Width\", \"sepal_length\": \"Sepal Length\"}\n",
    ")\n",
    "\n",
    "#initialize the Dash app\n",
    "app = dash.Dash(__name__)\n",
    "\n",
    "#define the layout dashboard\n",
    "app.layout = html.Div(\n",
    "    [ \n",
    "    html.H1(\"Hello dash\"),\n",
    "    html.H3(\"Dash: A web application framework for Python.\"),\n",
    "    dcc.Dropdown(id = \"template-dropdown\", options = [\n",
    "        {\"label\": \"Plotly\", \"value\": \"plotly\"}, \n",
    "        {\"label\": \"Seaborn\", \"value\": \"seaborn\"},\n",
    "        {\"label\": \"Simple White\", \"value\": \"simple_white\"},\n",
    "        {\"label\": \"GGplot2\", \"value\": \"ggplot2\"}, \n",
    "    ]),\n",
    "    dcc.Graph(id = \"scatter-plot\", figure = fig)\n",
    "    ])\n",
    "\n",
    "#update the figure dynamically (callback)\n",
    "@app.callback(\n",
    "    Output(\"scatter-plot\", \"figure\"),\n",
    "    [Input(\"template-dropdown\", \"value\")]\n",
    ")\n",
    "\n",
    "def changes(template):\n",
    "  chart = px.scatter(\n",
    "      df, \n",
    "      x = \"sepal_width\",\n",
    "      y = \"sepal_length\",\n",
    "      color = \"special\", \n",
    "      template = template, \n",
    "      title = \"Scatter plot of sepal width and length\", \n",
    "      labels = {\"sepal_width\": \"Sepal Width\", \"sepal_length\": \"Sepal Length\"}\n",
    "  )\n",
    "  return chart\n",
    "\n",
    "if __name__ == \"__main__\":\n",
    "    app.run_server(debug=True)"
   ]
  },
  {
   "cell_type": "code",
   "execution_count": 17,
   "metadata": {},
   "outputs": [
    {
     "data": {
      "text/html": [
       "\n",
       "        <iframe\n",
       "            width=\"100%\"\n",
       "            height=\"650\"\n",
       "            src=\"http://127.0.0.1:8051/\"\n",
       "            frameborder=\"0\"\n",
       "            allowfullscreen\n",
       "            \n",
       "        ></iframe>\n",
       "        "
      ],
      "text/plain": [
       "<IPython.lib.display.IFrame at 0x14f1ac47710>"
      ]
     },
     "metadata": {},
     "output_type": "display_data"
    }
   ],
   "source": [
    "import dash\n",
    "from dash import dcc, html, Input, Output\n",
    "import plotly.express as px\n",
    "\n",
    "df = px.data.iris()\n",
    "\n",
    "fig = px.scatter(\n",
    "    df, \n",
    "    x=\"sepal_width\",\n",
    "    y=\"sepal_length\",\n",
    "    color=\"species\",\n",
    "    title=\"Scatter plot of Sepal Width and Sepal Length\",\n",
    "    labels={\"sepal_width\": \"Sepal Width\", \"sepal_length\": \"Sepal Length\"}  \n",
    ")\n",
    "\n",
    "app = dash.Dash(__name__)\n",
    "\n",
    "app.layout = html.Div([\n",
    "    html.H1(\"Hello dash\"),\n",
    "    html.H3(\"Dash: A web application framework for Python.\"),\n",
    "    dcc.Dropdown(\n",
    "        id=\"template-dropdown\",\n",
    "        options=[\n",
    "            {\"label\": \"Plotly\", \"value\": \"plotly\"}, \n",
    "            {\"label\": \"Seaborn\", \"value\": \"seaborn\"},\n",
    "            {\"label\": \"Simple White\", \"value\": \"simple_white\"},\n",
    "            {\"label\": \"GGplot2\", \"value\": \"ggplot2\"}, \n",
    "        ],\n",
    "        value=\"plotly\"  \n",
    "    ),\n",
    "    dcc.Graph(id=\"scatter-plot\", figure=fig)\n",
    "])\n",
    "\n",
    "@app.callback(\n",
    "    Output(\"scatter-plot\", \"figure\"),\n",
    "    [Input(\"template-dropdown\", \"value\")]\n",
    ")\n",
    "def changes(template):\n",
    "    chart = px.scatter(\n",
    "        df, \n",
    "        x=\"sepal_width\",\n",
    "        y=\"sepal_length\",\n",
    "        color=\"species\",  \n",
    "        template=template, \n",
    "        title=\"Scatter plot of Sepal Width and Sepal Length\", \n",
    "        labels={\"sepal_width\": \"Sepal Width\", \"sepal_length\": \"Sepal Length\"}\n",
    "    )\n",
    "    return chart\n",
    "\n",
    "if __name__ == \"__main__\":\n",
    "    app.run_server(debug=True, port=8051)\n"
   ]
  },
  {
   "cell_type": "code",
   "execution_count": null,
   "metadata": {},
   "outputs": [],
   "source": []
  },
  {
   "cell_type": "code",
   "execution_count": null,
   "metadata": {},
   "outputs": [],
   "source": []
  },
  {
   "cell_type": "code",
   "execution_count": null,
   "metadata": {},
   "outputs": [],
   "source": []
  },
  {
   "cell_type": "code",
   "execution_count": null,
   "metadata": {},
   "outputs": [],
   "source": []
  }
 ],
 "metadata": {
  "kernelspec": {
   "display_name": "base",
   "language": "python",
   "name": "python3"
  },
  "language_info": {
   "codemirror_mode": {
    "name": "ipython",
    "version": 3
   },
   "file_extension": ".py",
   "mimetype": "text/x-python",
   "name": "python",
   "nbconvert_exporter": "python",
   "pygments_lexer": "ipython3",
   "version": "3.12.4"
  }
 },
 "nbformat": 4,
 "nbformat_minor": 2
}
