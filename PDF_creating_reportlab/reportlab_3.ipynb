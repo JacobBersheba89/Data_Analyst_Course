{
 "cells": [
  {
   "cell_type": "code",
   "execution_count": 2,
   "metadata": {},
   "outputs": [
    {
     "name": "stdout",
     "output_type": "stream",
     "text": [
      "Requirement already satisfied: reportlab in c:\\users\\martinpc\\anaconda3\\lib\\site-packages (4.2.5)\n",
      "Requirement already satisfied: pillow>=9.0.0 in c:\\users\\martinpc\\anaconda3\\lib\\site-packages (from reportlab) (10.3.0)\n",
      "Requirement already satisfied: chardet in c:\\users\\martinpc\\anaconda3\\lib\\site-packages (from reportlab) (4.0.0)\n",
      "Note: you may need to restart the kernel to use updated packages.\n"
     ]
    }
   ],
   "source": [
    "pip install reportlab\n"
   ]
  },
  {
   "cell_type": "code",
   "execution_count": 8,
   "metadata": {},
   "outputs": [
    {
     "name": "stdout",
     "output_type": "stream",
     "text": [
      "PDF 'story_example.pdf' was successfully created.\n"
     ]
    }
   ],
   "source": [
    "# Import potřebných modulů\n",
    "from reportlab.lib.pagesizes import A2                                          # Používáme k nastavení velikosti stránky na A2\n",
    "from reportlab.platypus import SimpleDocTemplate, Paragraph, Spacer, Image      # SimpleDocTemplate vytváří PDF dokument, Paragraph pro formátovaný text, Spacer pro mezery mezi prvky a Image pro přidání obrázků\n",
    "from reportlab.lib.styles import getSampleStyleSheet, ParagraphStyle            # getSampleStyleSheet nám poskytuje předdefinované styly textu, ParagraphStyle pro vlastní nastavení stylů (pokud bychom potřebovali další styly)\n",
    "from datetime import datetime                                                   # datetime se používá k získání aktuálního roku nebo data pro text v PDF\n",
    "\n",
    "# Vytvoření PDF dokumentu s nastavením formátu stránky a okrajů\n",
    "doc = SimpleDocTemplate(\"story_example.pdf\", pagesize=A2, rightMargin=72,\n",
    "                        leftMargin=72, topMargin=72, bottomMargin=18)\n",
    "\n",
    "Story = []                           # Pole pro ukládání jednotlivých elementů (obrázky, texty, mezery), které budou součástí PDF\n",
    "\n",
    "# Nastavení loga a obrázku\n",
    "logo = \"https://upload.wikimedia.org/wikipedia/commons/thumb/c/c3/Python-logo-notext.svg/600px-Python-logo-notext.svg.png\"\n",
    "im = Image(logo, 200, 200)           # Použití třídy Image k načtení obrázku, zde s nastavením šířky 300 px a výšky 200 px\n",
    "Story.append(im)                     # Přidání obrázku do PDF dokumentu\n",
    "Story.append(Spacer(1, 20))          # Použití Spacer pro vložení mezery pod obrázkem (20 bodů)\n",
    "\n",
    "# Získání stylů pro text\n",
    "styles = getSampleStyleSheet()       # Použití getSampleStyleSheet k získání sady přednastavených stylů, např. \"Title\", \"Normal\"\n",
    "\n",
    "# Titul\n",
    "ptext = '<font size=24><b>PDF Story with ReportLab</b></font>'\n",
    "Story.append(Paragraph(ptext, styles[\"Title\"]))  # Vytvoření nadpisu pomocí Paragraph s použitím stylu \"Title\"\n",
    "Story.append(Spacer(1, 20))          # Mezera pod nadpisem\n",
    "\n",
    "# Textový blok 1\n",
    "ptext = '<font size=12>Lorem ipsum dolor sit amet, consectetur adipiscing elit. Sed do eiusmod tempor incididunt ut labore et dolore magna aliqua.</font>'\n",
    "Story.append(Paragraph(ptext, styles[\"Normal\"]))  # Přidání odstavce s textem pomocí stylu \"Normal\"\n",
    "Story.append(Spacer(1, 12))          # Mezera mezi odstavci\n",
    "\n",
    "# Textový blok 2 s aktuálním rokem\n",
    "current_year = datetime.now().year  # Použití datetime k získání aktuálního roku\n",
    "ptext = f'<font size=12>Report generated in {current_year}. Thank you for using this report.</font>'\n",
    "Story.append(Paragraph(ptext, styles[\"Normal\"]))  # Přidání odstavce s aktuálním rokem pomocí stylu \"Normal\"\n",
    "Story.append(Spacer(1, 12))         # Mezera pod odstavcem\n",
    "\n",
    "# Další obrázek (můžeš přidat svůj vlastní obrázek)\n",
    "second_logo = \"https://upload.wikimedia.org/wikipedia/commons/thumb/6/6a/JavaScript-logo.png/768px-JavaScript-logo.png\"\n",
    "im2 = Image(second_logo, 80, 80)    # Vložení dalšího obrázku s nastavením velikosti\n",
    "Story.append(im2)                   # Přidání obrázku do PDF\n",
    "Story.append(Spacer(1, 20))         # Mezera pod obrázkem\n",
    "\n",
    "# Přidání více textu\n",
    "ptext = '<font size=12>Thank you for viewing this document. This is a sample of generating PDF content with ReportLab.</font>'\n",
    "Story.append(Paragraph(ptext, styles[\"Normal\"]))  # Přidání dalšího textu\n",
    "Story.append(Spacer(1, 12))          # Mezera pod textem\n",
    "\n",
    "# Generování PDF\n",
    "doc.build(Story)                     # Vytvoření PDF souboru s obsahem, který je uložen v proměnné Story\n",
    "\n",
    "print(\"PDF 'story_example.pdf' was successfully created.\")\n",
    "\n"
   ]
  }
 ],
 "metadata": {
  "kernelspec": {
   "display_name": "base",
   "language": "python",
   "name": "python3"
  },
  "language_info": {
   "codemirror_mode": {
    "name": "ipython",
    "version": 3
   },
   "file_extension": ".py",
   "mimetype": "text/x-python",
   "name": "python",
   "nbconvert_exporter": "python",
   "pygments_lexer": "ipython3",
   "version": "3.12.4"
  }
 },
 "nbformat": 4,
 "nbformat_minor": 2
}
