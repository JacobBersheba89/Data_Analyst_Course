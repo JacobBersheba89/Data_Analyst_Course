{
 "cells": [
  {
   "cell_type": "markdown",
   "metadata": {},
   "source": [
    "**Cvičení 1**<br>\n",
    "V souboru marks.csv naleznete údaje několika studentů: Jméno, Příjmení, Vyznamenání, Rok narození a seznam známek.\n",
    "\n",
    "Vytvořte jeden soubor data.pdf, kde bude každý ze studentů prezentován na samostatné stránce:"
   ]
  },
  {
   "cell_type": "code",
   "execution_count": 1,
   "metadata": {},
   "outputs": [],
   "source": [
    "from reportlab.lib.pagesizes import A2                                         \n",
    "from reportlab.platypus import SimpleDocTemplate, Paragraph, Spacer, Image     \n",
    "from reportlab.lib.styles import getSampleStyleSheet, ParagraphStyle   \n",
    "import pandas as pd        \n",
    "from datetime import datetime      "
   ]
  },
  {
   "cell_type": "code",
   "execution_count": null,
   "metadata": {},
   "outputs": [],
   "source": [
    "file_path = \"marks.csv\"\n",
    "data = pd.read_csv(file_path)\n",
    "\n",
    "doc = SimpleDocTemplate (\"data.pdf\", pagesize = letter)\n",
    "\n",
    "styles = getSampleStyleSheet()\n",
    "header_style = styles [\"Heading1\"]\n",
    "subheader_style = styles[\"Heading3\"]\n",
    "normal_style = styles[\"BodyText\"]"
   ]
  },
  {
   "cell_type": "code",
   "execution_count": 3,
   "metadata": {},
   "outputs": [
    {
     "ename": "ModuleNotFoundError",
     "evalue": "No module named 'repotlab'",
     "output_type": "error",
     "traceback": [
      "\u001b[1;31m---------------------------------------------------------------------------\u001b[0m",
      "\u001b[1;31mModuleNotFoundError\u001b[0m                       Traceback (most recent call last)",
      "Cell \u001b[1;32mIn[3], line 1\u001b[0m\n\u001b[1;32m----> 1\u001b[0m \u001b[38;5;28;01mfrom\u001b[39;00m \u001b[38;5;21;01mrepotlab\u001b[39;00m\u001b[38;5;21;01m.\u001b[39;00m\u001b[38;5;21;01mplatypus\u001b[39;00m \u001b[38;5;28;01mimport\u001b[39;00m SimpleDocTemplate, Paragraph, PageBreak\n\u001b[0;32m      2\u001b[0m \u001b[38;5;28;01mfrom\u001b[39;00m \u001b[38;5;21;01mreportlab\u001b[39;00m\u001b[38;5;21;01m.\u001b[39;00m\u001b[38;5;21;01mlib\u001b[39;00m\u001b[38;5;21;01m.\u001b[39;00m\u001b[38;5;21;01mpagesizes\u001b[39;00m \u001b[38;5;28;01mimport\u001b[39;00m letter\n\u001b[0;32m      3\u001b[0m \u001b[38;5;28;01mfrom\u001b[39;00m \u001b[38;5;21;01mreportlab\u001b[39;00m\u001b[38;5;21;01m.\u001b[39;00m\u001b[38;5;21;01mlib\u001b[39;00m\u001b[38;5;21;01m.\u001b[39;00m\u001b[38;5;21;01mstyles\u001b[39;00m \u001b[38;5;28;01mimport\u001b[39;00m getSampleStyleSheet\n",
      "\u001b[1;31mModuleNotFoundError\u001b[0m: No module named 'repotlab'"
     ]
    }
   ],
   "source": [
    "from repotlab.platypus import SimpleDocTemplate, Paragraph, PageBreak\n",
    "from reportlab.lib.pagesizes import letter\n",
    "from reportlab.lib.styles import getSampleStyleSheet\n",
    "import pandas as pd\n",
    "\n",
    "file_path = \"marks.csv\"\n",
    "data = pd.read_csv(file_path)\n",
    "\n",
    "doc = SimpleDocTemplate(\"data.pdf\", pagesize = letter)\n",
    "\n",
    "styles = getSampleStyleSheet()\n",
    "header_style = styles[\"Heading1\"]\n",
    "subheader_style = styles[\"Heading3\"]\n",
    "normal_style = styles[\"BodyText\"]\n",
    "\n",
    "elements = []\n",
    "\n",
    "# iterrate over each students and create a page for each\n",
    "for _, student in data.iterrows():\n",
    "    student_type = \"Honors student\" if student[\"Honors\"] == \"Y\" else \"Student\"\n",
    "    elements.append(Paragraph(f\"{student_type} {student[\"Name\"]} {student[\"Surname\"]}\", header_style))\n",
    "    elements.append(Paragraph(f\"Year of birth: {student[\"Birth Year\"]}\", normal_style))\n",
    "    elements.append(Paragraph(\"Marks:\", subheader_style))\n",
    "    for subject, grade in student.items():\n",
    "        if subject not in [\"Name\", \"Surname\", \"Honors\", \"Birth Year\"]:\n",
    "            elements.append(Paragraph(f\"{subject}: {grade}\", normal_style))\n",
    "    \n",
    "    elements.append(PageBreak())\n",
    "\n",
    "doc.build(elements)\n",
    "print(\"PDF generated successfully\")"
   ]
  }
 ],
 "metadata": {
  "kernelspec": {
   "display_name": "base",
   "language": "python",
   "name": "python3"
  },
  "language_info": {
   "codemirror_mode": {
    "name": "ipython",
    "version": 3
   },
   "file_extension": ".py",
   "mimetype": "text/x-python",
   "name": "python",
   "nbconvert_exporter": "python",
   "pygments_lexer": "ipython3",
   "version": "3.12.4"
  }
 },
 "nbformat": 4,
 "nbformat_minor": 2
}
