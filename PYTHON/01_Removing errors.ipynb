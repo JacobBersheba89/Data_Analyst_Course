{
 "cells": [
  {
   "cell_type": "markdown",
   "id": "younger-religion",
   "metadata": {},
   "source": [
    "# Removing errors\n",
    "Using the solutions from the previous class and the **product_prices_renamed.csv** file, modify `loc` so that it corrects the errors present in the dataset:\n",
    "\n",
    "1. In the **date** column, data from 1888 appeared - '1888-0', change the value to 1999-1,\n",
    "1. In the **date** column, data from 2099 appeared - '2099-13', change the value to 2019-1,\n",
    "1. There is a spelling error in the **product_types** column - correct it. Number of pieces should be '10pcs.`. Check whether the task was done correctly.\n",
    "1. Use `loc` to convert the values given in `EUR` to `PLN` with 4.15 exchange rate.\n",
    "1. Filter from the set those rows where the price for the product is 3000.\n",
    "Hint: Instead of writing `loc` twice, first query the data for rows where **currency** = `EUR` and save it to a variable.\n",
    "\n",
    "> Remember that `loc` modifies data irrevocably."
   ]
  },
  {
   "cell_type": "code",
   "execution_count": 13,
   "id": "conventional-destiny",
   "metadata": {},
   "outputs": [],
   "source": [
    "import pandas as pd\n",
    "data = pd.read_csv(\n",
    "                    '/Users/jeladobos/Documents/Learning/Data Analyst/5th session/1st Day/01_Data/product_prices_renamed.csv', # path to the file with data (if we want to enter the name: filepath_or_buffer)\n",
    "                    sep=';',  # column separator\n",
    "                    decimal='.'  # sign separating the whole and fractional parts of a number\n",
    ")\n",
    "data_filter = data[data[\"value\"] != 3000]\n",
    "data_filter.loc[data_filter[\"date\"] == \"1888-0\", \"date\"] = \"1999-1\"\n",
    "data_filter.loc[data_filter[\"date\"] == \"2099-13\", \"date\"] = \"2019-1\"\n",
    "data_filter.loc[data_filter[\"product_types\"] == \"fresh chichen egges - per 666pcs.\", \"product_types\"] = \"fresh chicken eggs - per 10pcs.\"\n",
    "data_filter.loc[data_filter[\"currency\"] == \"EUR\", \"value\"] = data_filter.loc[data_filter[\"currency\"] == \"EUR\", \"value\"] * 4.15\n",
    "data_filter.loc[data_filter[\"currency\"] == \"EUR\", \"currency\"] = \"PLN\"\n",
    "\n",
    "data_filter.to_csv('/Users/jeladobos/Documents/Learning/Data Analyst/5th session/1st Day/01_Data/no_errors.csv', sep=';', index=False)"
   ]
  }
 ],
 "metadata": {
  "kernelspec": {
   "display_name": "Python 3 (ipykernel)",
   "language": "python",
   "name": "python3"
  },
  "language_info": {
   "codemirror_mode": {
    "name": "ipython",
    "version": 3
   },
   "file_extension": ".py",
   "mimetype": "text/x-python",
   "name": "python",
   "nbconvert_exporter": "python",
   "pygments_lexer": "ipython3",
   "version": "3.12.4"
  }
 },
 "nbformat": 4,
 "nbformat_minor": 5
}
