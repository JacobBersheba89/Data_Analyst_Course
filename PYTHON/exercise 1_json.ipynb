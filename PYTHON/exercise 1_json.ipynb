{
 "cells": [
  {
   "cell_type": "markdown",
   "metadata": {},
   "source": [
    "# Exercise 1\n",
    "\n",
    "Look at the contents of the `clients.json` file. Your task is to display several lists:\n",
    "\n",
    "1. List of names and surnames of women\n",
    "2. List of men's names\n",
    "3. List of active clients\n",
    "4. List of clients with the `adipisicing` tag.\n",
    "5. List of clients with green eyes\n",
    "6. List of clients with a Polish phone number\n",
    "\n",
    "## Hint:\n",
    "\n",
    "**Re 1.** \n",
    "First, create a variable to hold the names of women. At first, this list should be empty.\n",
    "\n",
    "Next, load the `clients.json` file and deserialize it into a dictionary. Notice that this dictionary holds only one element - a list of dictionaries representing people. The list is stored at the `clients` key.\n",
    "\n",
    "Once you have the list of clients - iterate it using a `for` loop. Inside the loop use `if` to check if each person is a man or a woman (the information is available at the `gender` key). If so add the name to the list (the information is available at the `name` key).\n",
    "\n",
    "The next subsections will be analogous to the first one.\n",
    "\n",
    "**Re 4.**\n",
    "Use the `in` keyword to check if the element is in the list.\n",
    "\n",
    "**Re 6.**\n",
    "You can use a regular expression to check the number. An example of a regular expression that should check whether a number is a Polish phone is as follows: `\\+48[0-9 ]{9,12}`. The expression:\n",
    "1. Checks if the number starts form +48 (remember that the `+` character means \"one of more repetition\", if you want to find the character literal you need to use `\\+`),\n",
    "2. It then checks that the area code to Poland is followed by 9 to 12 characters from the range we specified: spaces and digits from 0 to 9. The different number of characters (from 9 to 12) is due to the fact that the number is written differently: sometimes with spaces, sometimes without."
   ]
  },
  {
   "cell_type": "code",
   "execution_count": 47,
   "metadata": {},
   "outputs": [
    {
     "name": "stdout",
     "output_type": "stream",
     "text": [
      "Top-level keys in JSON file: dict_keys(['clients'])\n",
      "Number of clients found: 5\n"
     ]
    }
   ],
   "source": [
    "import json\n",
    "import re\n",
    "\n",
    "with open(\"clients.json\", \"r\") as file:\n",
    "    data = json.load(file)\n",
    "\n",
    "print(\"Top-level keys in JSON file:\", data.keys())\n",
    "\n",
    "clients = data.get(\"clients\", [])\n",
    "print(f\"Number of clients found: {len(clients)}\")"
   ]
  },
  {
   "cell_type": "code",
   "execution_count": 49,
   "metadata": {},
   "outputs": [
    {
     "name": "stdout",
     "output_type": "stream",
     "text": [
      "clients\n",
      "clients[0].guid\n",
      "clients[0].isActive\n",
      "clients[0].balance\n",
      "clients[0].picture\n",
      "clients[0].age\n",
      "clients[0].eyeColor\n",
      "clients[0].name\n",
      "clients[0].gender\n",
      "clients[0].company\n",
      "clients[0].email\n",
      "clients[0].phone\n",
      "clients[0].address\n",
      "clients[0].about\n",
      "clients[0].registered\n",
      "clients[0].latitude\n",
      "clients[0].longitude\n",
      "clients[0].tags\n",
      "clients[0].friends\n",
      "clients[0].friends[0].id\n",
      "clients[0].friends[0].name\n",
      "clients[0].friends[1].id\n",
      "clients[0].friends[1].name\n",
      "clients[0].friends[2].id\n",
      "clients[0].friends[2].name\n",
      "clients[1].guid\n",
      "clients[1].isActive\n",
      "clients[1].balance\n",
      "clients[1].picture\n",
      "clients[1].age\n",
      "clients[1].eyeColor\n",
      "clients[1].name\n",
      "clients[1].gender\n",
      "clients[1].company\n",
      "clients[1].email\n",
      "clients[1].phone\n",
      "clients[1].address\n",
      "clients[1].about\n",
      "clients[1].registered\n",
      "clients[1].latitude\n",
      "clients[1].longitude\n",
      "clients[1].tags\n",
      "clients[1].friends\n",
      "clients[1].friends[0].id\n",
      "clients[1].friends[0].name\n",
      "clients[1].friends[1].id\n",
      "clients[1].friends[1].name\n",
      "clients[1].friends[2].id\n",
      "clients[1].friends[2].name\n",
      "clients[2].guid\n",
      "clients[2].isActive\n",
      "clients[2].balance\n",
      "clients[2].picture\n",
      "clients[2].age\n",
      "clients[2].eyeColor\n",
      "clients[2].name\n",
      "clients[2].gender\n",
      "clients[2].company\n",
      "clients[2].email\n",
      "clients[2].phone\n",
      "clients[2].address\n",
      "clients[2].about\n",
      "clients[2].registered\n",
      "clients[2].latitude\n",
      "clients[2].longitude\n",
      "clients[2].tags\n",
      "clients[2].friends\n",
      "clients[2].friends[0].id\n",
      "clients[2].friends[0].name\n",
      "clients[2].friends[1].id\n",
      "clients[2].friends[1].name\n",
      "clients[2].friends[2].id\n",
      "clients[2].friends[2].name\n",
      "clients[3].guid\n",
      "clients[3].isActive\n",
      "clients[3].balance\n",
      "clients[3].picture\n",
      "clients[3].age\n",
      "clients[3].eyeColor\n",
      "clients[3].name\n",
      "clients[3].gender\n",
      "clients[3].company\n",
      "clients[3].email\n",
      "clients[3].phone\n",
      "clients[3].address\n",
      "clients[3].about\n",
      "clients[3].registered\n",
      "clients[3].latitude\n",
      "clients[3].longitude\n",
      "clients[3].tags\n",
      "clients[3].friends\n",
      "clients[3].friends[0].id\n",
      "clients[3].friends[0].name\n",
      "clients[3].friends[1].id\n",
      "clients[3].friends[1].name\n",
      "clients[3].friends[2].id\n",
      "clients[3].friends[2].name\n",
      "clients[4].guid\n",
      "clients[4].isActive\n",
      "clients[4].balance\n",
      "clients[4].picture\n",
      "clients[4].age\n",
      "clients[4].eyeColor\n",
      "clients[4].name\n",
      "clients[4].gender\n",
      "clients[4].company\n",
      "clients[4].email\n",
      "clients[4].phone\n",
      "clients[4].address\n",
      "clients[4].about\n",
      "clients[4].registered\n",
      "clients[4].latitude\n",
      "clients[4].longitude\n",
      "clients[4].tags\n",
      "clients[4].friends\n",
      "clients[4].friends[0].id\n",
      "clients[4].friends[0].name\n",
      "clients[4].friends[1].id\n",
      "clients[4].friends[1].name\n",
      "clients[4].friends[2].id\n",
      "clients[4].friends[2].name\n"
     ]
    }
   ],
   "source": [
    "import json\n",
    "\n",
    "with open(\"clients.json\", \"r\") as file:\n",
    "    data = json.load(file)\n",
    "\n",
    "def print_keys(d, parent_key=\"\"):\n",
    "    if isinstance(d, dict):\n",
    "        for key, value in d.items():\n",
    "            full_key = f\"{parent_key}.{key}\" if parent_key else key\n",
    "            print(full_key)\n",
    "            print_keys(value, full_key)\n",
    "    elif isinstance(d, list):\n",
    "        for i, item in enumerate(d):\n",
    "            print_keys(item, f\"{parent_key}[{i}]\")\n",
    "\n",
    "print_keys(data)"
   ]
  },
  {
   "cell_type": "code",
   "execution_count": 57,
   "metadata": {},
   "outputs": [
    {
     "name": "stdout",
     "output_type": "stream",
     "text": [
      "List of names and surnames of women: ['Alexandra Garrison', 'Jane Nash', 'Edwina Whitley']\n"
     ]
    }
   ],
   "source": [
    "import json\n",
    "\n",
    "women_names_surnames = []\n",
    "with open(\"clients.json\", \"r\") as file:\n",
    "    data = json.load(file)\n",
    "\n",
    "clients = data[\"clients\"]\n",
    "for client in clients:\n",
    "    if client.get(\"gender\") == \"female\":\n",
    "        women_names_surnames.append(client.get(\"name\"))\n",
    "        \n",
    "print(\"List of names and surnames of women:\", women_names_surnames)"
   ]
  },
  {
   "cell_type": "code",
   "execution_count": 15,
   "metadata": {},
   "outputs": [
    {
     "name": "stdout",
     "output_type": "stream",
     "text": [
      "List of names and surnames of men: ['Bennett Walter', 'Burris Rodriquez']\n"
     ]
    }
   ],
   "source": [
    "import json\n",
    "import re\n",
    "\n",
    "men_names = []\n",
    "with open(\"clients.json\", \"r\") as file:\n",
    "    data = json.load(file)\n",
    "\n",
    "clients = data[\"clients\"]\n",
    "for client in clients:\n",
    "    if client.get(\"gender\") == \"male\":\n",
    "        men_names.append(client.get(\"name\"))\n",
    "        \n",
    "print(\"List of names and surnames of men:\", men_names)"
   ]
  },
  {
   "cell_type": "code",
   "execution_count": 23,
   "metadata": {},
   "outputs": [
    {
     "name": "stdout",
     "output_type": "stream",
     "text": [
      "List of active clients: ['Burris Rodriquez']\n"
     ]
    }
   ],
   "source": [
    "import json\n",
    "import re\n",
    "\n",
    "active_clients = []\n",
    "with open(\"clients.json\", \"r\") as file:\n",
    "    data = json.load(file)\n",
    "\n",
    "clients = data[\"clients\"]\n",
    "for client in clients:\n",
    "    if client.get(\"isActive\"):\n",
    "        active_clients.append(client.get(\"name\"))\n",
    "        \n",
    "print(\"List of active clients:\", active_clients)"
   ]
  },
  {
   "cell_type": "code",
   "execution_count": 31,
   "metadata": {},
   "outputs": [
    {
     "name": "stdout",
     "output_type": "stream",
     "text": [
      "List of clients with the `adipisicing` tag: ['Bennett Walter', 'Alexandra Garrison', 'Burris Rodriquez']\n"
     ]
    }
   ],
   "source": [
    "import json\n",
    "import re\n",
    "\n",
    "clients_with_adipisicing_tag = []\n",
    "with open(\"clients.json\", \"r\") as file:\n",
    "    data = json.load(file)\n",
    "\n",
    "clients = data[\"clients\"]\n",
    "for client in clients:\n",
    "    if \"adipisicing\" in client.get(\"tags\", []):\n",
    "        clients_with_adipisicing_tag.append(client.get(\"name\"))\n",
    "        \n",
    "print(\"List of clients with the `adipisicing` tag:\", clients_with_adipisicing_tag)"
   ]
  },
  {
   "cell_type": "code",
   "execution_count": 37,
   "metadata": {},
   "outputs": [
    {
     "name": "stdout",
     "output_type": "stream",
     "text": [
      "List of clients with green eyes: ['Alexandra Garrison', 'Jane Nash', 'Burris Rodriquez']\n"
     ]
    }
   ],
   "source": [
    "import json\n",
    "import re\n",
    "\n",
    "clients_with_green_eyes = []\n",
    "with open(\"clients.json\", \"r\") as file:\n",
    "    data = json.load(file)\n",
    "\n",
    "clients = data[\"clients\"]\n",
    "for client in clients:\n",
    "    if client.get(\"eyeColor\") == \"green\":\n",
    "        clients_with_green_eyes.append(client.get(\"name\"))\n",
    "print(\"List of clients with green eyes:\", clients_with_green_eyes)"
   ]
  },
  {
   "cell_type": "code",
   "execution_count": 43,
   "metadata": {},
   "outputs": [
    {
     "name": "stdout",
     "output_type": "stream",
     "text": [
      "List of clients with a Polish phone number: ['Bennett Walter']\n"
     ]
    }
   ],
   "source": [
    "import json\n",
    "import re\n",
    "\n",
    "clients_with_polish_number = []\n",
    "with open(\"clients.json\", \"r\") as file:\n",
    "    data = json.load(file)\n",
    "\n",
    "clients = data[\"clients\"]\n",
    "for client in clients:\n",
    "    if re.match(r\"\\+48[0-9 ]{9,12}\", client.get(\"phone\", \"\")):\n",
    "        clients_with_polish_number.append(client.get(\"name\"))\n",
    "        \n",
    "print(\"List of clients with a Polish phone number:\", clients_with_polish_number)"
   ]
  },
  {
   "cell_type": "code",
   "execution_count": 55,
   "metadata": {},
   "outputs": [
    {
     "name": "stdout",
     "output_type": "stream",
     "text": [
      "['Alexandra Garrison None', 'Jane Nash None', 'Edwina Whitley None']\n",
      "['Bennett Walter None', 'Burris Rodriquez None']\n"
     ]
    }
   ],
   "source": [
    "import json\n",
    "import re\n",
    "\n",
    "#load json file\n",
    "with open('clients.json', 'r') as file: \n",
    "    data = json.load(file)\n",
    "\n",
    "clients = data['clients']\n",
    "\n",
    "#initialize the list\n",
    "women_names = []\n",
    "men_names = []\n",
    "active_clients = []\n",
    "clients_with_tag_adipisicing = []\n",
    "clients_with_green_eyes = []\n",
    "clients_with_polish_phone = []\n",
    "\n",
    "#iterate\n",
    "for client in clients:\n",
    "    #get client attributes\n",
    "    name = client.get('name')\n",
    "    surname = client.get('surname')\n",
    "    gender = client.get('gender')\n",
    "    is_active = client.get('isActive')\n",
    "    eye_colour = client.get('eyeColor')\n",
    "    tags = client.get('tags')\n",
    "    phone = client.get('phone')\n",
    "\n",
    "    if gender == 'female':\n",
    "        women_names.append(f\"{name} {surname}\")\n",
    "    \n",
    "    if gender == 'male':\n",
    "        men_names.append(f\"{name} {surname}\")\n",
    "\n",
    "    if is_active:\n",
    "        active_clients.append(f\"{name} {surname}\") \n",
    "\n",
    "    if 'adipisicing' in tags: \n",
    "        clients_with_tag_adipisicing.append(f\"{name} {surname}\")\n",
    "    \n",
    "    if eye_colour == 'green':\n",
    "        clients_with_green_eyes.append(f\"{name} {surname}\")\n",
    "\n",
    "    if re.match(r'\\+48[0-9 ]{9,12}', phone): \n",
    "        clients_with_polish_phone.append(f\"{name} {surname}\")\n",
    "\n",
    "print(women_names)\n",
    "print(men_names)"
   ]
  },
  {
   "cell_type": "code",
   "execution_count": null,
   "metadata": {},
   "outputs": [],
   "source": []
  }
 ],
 "metadata": {
  "kernelspec": {
   "display_name": "Python 3 (ipykernel)",
   "language": "python",
   "name": "python3"
  },
  "language_info": {
   "codemirror_mode": {
    "name": "ipython",
    "version": 3
   },
   "file_extension": ".py",
   "mimetype": "text/x-python",
   "name": "python",
   "nbconvert_exporter": "python",
   "pygments_lexer": "ipython3",
   "version": "3.12.4"
  }
 },
 "nbformat": 4,
 "nbformat_minor": 4
}
