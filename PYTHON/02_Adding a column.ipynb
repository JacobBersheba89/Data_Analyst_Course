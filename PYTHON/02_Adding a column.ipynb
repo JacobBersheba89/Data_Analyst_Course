{
 "cells": [
  {
   "cell_type": "markdown",
   "id": "ready-craft",
   "metadata": {},
   "source": [
    "# Adding a column\n",
    "\n",
    "Following on the solution of the previous exercise, create a new column: **product** using **product_types** and **product_line**:\n",
    "\n",
    "1. check that the **product_types** and **product_line** columns are complementary (an empty value in one column entails a non-empty value in the other).\n",
    "1. create a new column: **product** using the values from the **product_types** column e.g. `df['product'] = df['product_types']`.\n",
    "1. find non-empty values in the **product_line** column and enter them into the **product** column,\n",
    "1. use a method of your choice to check if all values in the **product** column are non-empty.\n",
    "1. remove duplicates from the table.\n",
    "1. using the `to_csv` method save the data (we are going to use it later in the course), set separator=';' and `index=False`.<br>\n",
    "Save the file as `product_prices_cleaned.csv`\n",
    "\n",
    "The `read_csv` method is one of many that can be used to save a `DataFrame` as a **csv** file. Within the scope of this exercise we are interested in the following parameters.\n",
    "- `sep`- row separator (default ','),\n",
    "- `index`- is the index (row number by default) of the table to be saved as well (default: `True`).\n",
    "\n",
    "Sample call:\n",
    "```\n",
    "df.to_csv(\n",
    "    'filepath',\n",
    "    sep=';', # separator setting    index=False\n",
    ")\n",
    "```"
   ]
  },
  {
   "cell_type": "code",
   "execution_count": 9,
   "id": "raised-writer",
   "metadata": {},
   "outputs": [
    {
     "name": "stdout",
     "output_type": "stream",
     "text": [
      "All values in the 'product' column are non-empty.\n"
     ]
    }
   ],
   "source": [
    "import pandas as pd\n",
    "data = pd.read_csv(\n",
    "                    '/Users/jeladobos/Documents/Learning/Data Analyst/5th session/1st Day/01_Data/no_errors.csv', # path to the file with data (if we want to enter the name: filepath_or_buffer)\n",
    "                    sep=';',  # column separator\n",
    "                    decimal='.'  # sign separating the whole and fractional parts of a number\n",
    ")\n",
    "data_check = data[(data['product_types'].notna() & data['product_line'].notna()) |\n",
    "                  (data['product_types'].isna() & data['product_line'].isna())]\n",
    "if not data_check.empty:\n",
    "    print(data_check)\n",
    "\n",
    "data['product'] = data['product_types']\n",
    "data.loc[data['product_line'].notna(), 'product'] = data['product_line']\n",
    "if data['product'].isna().sum() == 0:\n",
    "    print(\"All values in the 'product' column are non-empty.\")\n",
    "else:\n",
    "    print(\"There are some empty values in the 'product' column.\")\n",
    "data_cleaned = data.drop_duplicates()\n",
    "data_cleaned.to_csv('/Users/jeladobos/Documents/Learning/Data Analyst/5th session/1st Day/01_Data/product_prices_cleaned.csv', sep=';', index=False)  # Do not save the index in the CSV"
   ]
  },
  {
   "cell_type": "code",
   "execution_count": 13,
   "id": "99b7b31f-de9f-44a5-878d-51c50dc08a2d",
   "metadata": {},
   "outputs": [
    {
     "name": "stdout",
     "output_type": "stream",
     "text": [
      "All values in the 'product' column are non-empty.\n"
     ]
    }
   ],
   "source": [
    "import pandas as pd\n",
    "data = pd.read_csv(\n",
    "                    '/Users/jeladobos/Documents/Learning/Data Analyst/5th session/1st Day/01_Data/no_errors.csv', # path to the file with data (if we want to enter the name: filepath_or_buffer)\n",
    "                    sep=';',  # column separator\n",
    "                    decimal='.'  # sign separating the whole and fractional parts of a number\n",
    ")\n",
    "(data['product_types'].notna() == data['product_line'].isna()).unique()\n",
    "\n",
    "data['product'] = data['product_types']\n",
    "data.loc[data['product_line'].notna(), 'product'] = data['product_line']\n",
    "if data['product'].isna().sum() == 0:\n",
    "    print(\"All values in the 'product' column are non-empty.\")\n",
    "else:\n",
    "    print(\"There are some empty values in the 'product' column.\")\n",
    "data_cleaned = data.drop_duplicates()\n",
    "data_cleaned.to_csv('/Users/jeladobos/Documents/Learning/Data Analyst/5th session/1st Day/01_Data/product_prices_cleaned.csv', sep=';', index=False)  # Do not save the index in the CSV"
   ]
  },
  {
   "cell_type": "code",
   "execution_count": null,
   "id": "2df00322-d765-4e96-80e0-88f4fd3258ec",
   "metadata": {},
   "outputs": [],
   "source": []
  }
 ],
 "metadata": {
  "kernelspec": {
   "display_name": "Python 3 (ipykernel)",
   "language": "python",
   "name": "python3"
  },
  "language_info": {
   "codemirror_mode": {
    "name": "ipython",
    "version": 3
   },
   "file_extension": ".py",
   "mimetype": "text/x-python",
   "name": "python",
   "nbconvert_exporter": "python",
   "pygments_lexer": "ipython3",
   "version": "3.12.4"
  }
 },
 "nbformat": 4,
 "nbformat_minor": 5
}
